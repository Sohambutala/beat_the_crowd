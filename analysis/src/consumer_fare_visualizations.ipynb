{
 "cells": [
  {
   "cell_type": "code",
   "execution_count": 1,
   "metadata": {},
   "outputs": [],
   "source": [
    "import pandas as pd\n",
    "import plotly as p\n",
    "import plotly.express as px \n",
    "import plotly.io as pio\n",
    "import plotly.graph_objects as go\n",
    "import numpy as np\n",
    "pio.templates.default = \"plotly_dark\""
   ]
  },
  {
   "cell_type": "code",
   "execution_count": 7,
   "metadata": {},
   "outputs": [
    {
     "data": {
      "text/html": [
       "<div>\n",
       "<style scoped>\n",
       "    .dataframe tbody tr th:only-of-type {\n",
       "        vertical-align: middle;\n",
       "    }\n",
       "\n",
       "    .dataframe tbody tr th {\n",
       "        vertical-align: top;\n",
       "    }\n",
       "\n",
       "    .dataframe thead th {\n",
       "        text-align: right;\n",
       "    }\n",
       "</style>\n",
       "<table border=\"1\" class=\"dataframe\">\n",
       "  <thead>\n",
       "    <tr style=\"text-align: right;\">\n",
       "      <th></th>\n",
       "      <th>year</th>\n",
       "      <th>quarter</th>\n",
       "      <th>citymarketid</th>\n",
       "      <th>cityname</th>\n",
       "      <th>airportid</th>\n",
       "      <th>apt</th>\n",
       "      <th>TotalMkts</th>\n",
       "      <th>TotalFaredPax</th>\n",
       "      <th>TotalPerLFMkts</th>\n",
       "      <th>Total_avg_hub_fare</th>\n",
       "      <th>...</th>\n",
       "      <th>SHPerLFMkts</th>\n",
       "      <th>Short_haul_avg_fare</th>\n",
       "      <th>Short_haul_percent_premium</th>\n",
       "      <th>LHMkts</th>\n",
       "      <th>LHPax</th>\n",
       "      <th>LHPerLFMkts</th>\n",
       "      <th>Long_haul_avg_fare</th>\n",
       "      <th>Long_haul_percent_premium</th>\n",
       "      <th>perc_sh_passengers</th>\n",
       "      <th>perc_lh_passengers</th>\n",
       "    </tr>\n",
       "  </thead>\n",
       "  <tbody>\n",
       "    <tr>\n",
       "      <td>6</td>\n",
       "      <td>2021</td>\n",
       "      <td>4</td>\n",
       "      <td>30559</td>\n",
       "      <td>Seattle, WA</td>\n",
       "      <td>14747</td>\n",
       "      <td>SEA</td>\n",
       "      <td>149</td>\n",
       "      <td>49198600</td>\n",
       "      <td>0.4446</td>\n",
       "      <td>205.67</td>\n",
       "      <td>...</td>\n",
       "      <td>0.3204</td>\n",
       "      <td>154.68</td>\n",
       "      <td>-0.0836</td>\n",
       "      <td>120.0</td>\n",
       "      <td>39096600.0</td>\n",
       "      <td>0.4767</td>\n",
       "      <td>218.84</td>\n",
       "      <td>-0.0822</td>\n",
       "      <td>0.2053</td>\n",
       "      <td>0.7947</td>\n",
       "    </tr>\n",
       "    <tr>\n",
       "      <td>293</td>\n",
       "      <td>2022</td>\n",
       "      <td>1</td>\n",
       "      <td>30559</td>\n",
       "      <td>Seattle, WA</td>\n",
       "      <td>14747</td>\n",
       "      <td>SEA</td>\n",
       "      <td>134</td>\n",
       "      <td>38896100</td>\n",
       "      <td>0.4265</td>\n",
       "      <td>201.32</td>\n",
       "      <td>...</td>\n",
       "      <td>0.2919</td>\n",
       "      <td>161.23</td>\n",
       "      <td>-0.0664</td>\n",
       "      <td>104.0</td>\n",
       "      <td>30743700.0</td>\n",
       "      <td>0.4622</td>\n",
       "      <td>211.96</td>\n",
       "      <td>-0.0996</td>\n",
       "      <td>0.2096</td>\n",
       "      <td>0.7904</td>\n",
       "    </tr>\n",
       "    <tr>\n",
       "      <td>474</td>\n",
       "      <td>2018</td>\n",
       "      <td>3</td>\n",
       "      <td>30559</td>\n",
       "      <td>Seattle, WA</td>\n",
       "      <td>14747</td>\n",
       "      <td>SEA</td>\n",
       "      <td>162</td>\n",
       "      <td>69610000</td>\n",
       "      <td>0.6915</td>\n",
       "      <td>213.08</td>\n",
       "      <td>...</td>\n",
       "      <td>0.3851</td>\n",
       "      <td>164.73</td>\n",
       "      <td>-0.1363</td>\n",
       "      <td>132.0</td>\n",
       "      <td>54017600.0</td>\n",
       "      <td>0.7799</td>\n",
       "      <td>227.04</td>\n",
       "      <td>-0.0581</td>\n",
       "      <td>0.2240</td>\n",
       "      <td>0.7760</td>\n",
       "    </tr>\n",
       "    <tr>\n",
       "      <td>865</td>\n",
       "      <td>2003</td>\n",
       "      <td>3</td>\n",
       "      <td>30559</td>\n",
       "      <td>Seattle, WA</td>\n",
       "      <td>14747</td>\n",
       "      <td>SEA</td>\n",
       "      <td>152</td>\n",
       "      <td>41996700</td>\n",
       "      <td>0.6481</td>\n",
       "      <td>171.32</td>\n",
       "      <td>...</td>\n",
       "      <td>0.7259</td>\n",
       "      <td>116.97</td>\n",
       "      <td>-0.2108</td>\n",
       "      <td>121.0</td>\n",
       "      <td>31428900.0</td>\n",
       "      <td>0.6219</td>\n",
       "      <td>189.59</td>\n",
       "      <td>-0.0386</td>\n",
       "      <td>0.2516</td>\n",
       "      <td>0.7484</td>\n",
       "    </tr>\n",
       "    <tr>\n",
       "      <td>942</td>\n",
       "      <td>2012</td>\n",
       "      <td>3</td>\n",
       "      <td>30559</td>\n",
       "      <td>Seattle, WA</td>\n",
       "      <td>14747</td>\n",
       "      <td>SEA</td>\n",
       "      <td>165</td>\n",
       "      <td>47197400</td>\n",
       "      <td>0.8220</td>\n",
       "      <td>227.69</td>\n",
       "      <td>...</td>\n",
       "      <td>0.7070</td>\n",
       "      <td>159.54</td>\n",
       "      <td>-0.1218</td>\n",
       "      <td>136.0</td>\n",
       "      <td>36779900.0</td>\n",
       "      <td>0.8546</td>\n",
       "      <td>246.99</td>\n",
       "      <td>-0.0189</td>\n",
       "      <td>0.2207</td>\n",
       "      <td>0.7793</td>\n",
       "    </tr>\n",
       "    <tr>\n",
       "      <td>1077</td>\n",
       "      <td>2021</td>\n",
       "      <td>1</td>\n",
       "      <td>30559</td>\n",
       "      <td>Seattle, WA</td>\n",
       "      <td>14747</td>\n",
       "      <td>SEA</td>\n",
       "      <td>107</td>\n",
       "      <td>17364300</td>\n",
       "      <td>0.4496</td>\n",
       "      <td>154.59</td>\n",
       "      <td>...</td>\n",
       "      <td>0.2709</td>\n",
       "      <td>136.69</td>\n",
       "      <td>-0.0889</td>\n",
       "      <td>82.0</td>\n",
       "      <td>13760800.0</td>\n",
       "      <td>0.4964</td>\n",
       "      <td>159.28</td>\n",
       "      <td>-0.1284</td>\n",
       "      <td>0.2075</td>\n",
       "      <td>0.7925</td>\n",
       "    </tr>\n",
       "    <tr>\n",
       "      <td>1316</td>\n",
       "      <td>2014</td>\n",
       "      <td>2</td>\n",
       "      <td>30559</td>\n",
       "      <td>Seattle, WA</td>\n",
       "      <td>14747</td>\n",
       "      <td>SEA</td>\n",
       "      <td>151</td>\n",
       "      <td>48443800</td>\n",
       "      <td>0.7806</td>\n",
       "      <td>220.10</td>\n",
       "      <td>...</td>\n",
       "      <td>0.6942</td>\n",
       "      <td>153.41</td>\n",
       "      <td>-0.2422</td>\n",
       "      <td>123.0</td>\n",
       "      <td>36838600.0</td>\n",
       "      <td>0.8078</td>\n",
       "      <td>241.11</td>\n",
       "      <td>-0.1082</td>\n",
       "      <td>0.2396</td>\n",
       "      <td>0.7604</td>\n",
       "    </tr>\n",
       "    <tr>\n",
       "      <td>1490</td>\n",
       "      <td>1997</td>\n",
       "      <td>1</td>\n",
       "      <td>30559</td>\n",
       "      <td>Seattle, WA</td>\n",
       "      <td>14747</td>\n",
       "      <td>SEA</td>\n",
       "      <td>120</td>\n",
       "      <td>24479300</td>\n",
       "      <td>0.5438</td>\n",
       "      <td>157.20</td>\n",
       "      <td>...</td>\n",
       "      <td>0.6087</td>\n",
       "      <td>89.54</td>\n",
       "      <td>-0.3564</td>\n",
       "      <td>91.0</td>\n",
       "      <td>16878500.0</td>\n",
       "      <td>0.5145</td>\n",
       "      <td>187.68</td>\n",
       "      <td>-0.1207</td>\n",
       "      <td>0.3105</td>\n",
       "      <td>0.6895</td>\n",
       "    </tr>\n",
       "    <tr>\n",
       "      <td>1649</td>\n",
       "      <td>2003</td>\n",
       "      <td>4</td>\n",
       "      <td>30559</td>\n",
       "      <td>Seattle, WA</td>\n",
       "      <td>14747</td>\n",
       "      <td>SEA</td>\n",
       "      <td>147</td>\n",
       "      <td>37014900</td>\n",
       "      <td>0.6241</td>\n",
       "      <td>168.53</td>\n",
       "      <td>...</td>\n",
       "      <td>0.6908</td>\n",
       "      <td>116.50</td>\n",
       "      <td>-0.1945</td>\n",
       "      <td>115.0</td>\n",
       "      <td>27039500.0</td>\n",
       "      <td>0.5995</td>\n",
       "      <td>187.72</td>\n",
       "      <td>-0.0504</td>\n",
       "      <td>0.2695</td>\n",
       "      <td>0.7305</td>\n",
       "    </tr>\n",
       "    <tr>\n",
       "      <td>1670</td>\n",
       "      <td>2001</td>\n",
       "      <td>4</td>\n",
       "      <td>30559</td>\n",
       "      <td>Seattle, WA</td>\n",
       "      <td>14747</td>\n",
       "      <td>SEA</td>\n",
       "      <td>138</td>\n",
       "      <td>33590000</td>\n",
       "      <td>0.6355</td>\n",
       "      <td>157.28</td>\n",
       "      <td>...</td>\n",
       "      <td>0.6816</td>\n",
       "      <td>103.48</td>\n",
       "      <td>-0.2717</td>\n",
       "      <td>107.0</td>\n",
       "      <td>24108700.0</td>\n",
       "      <td>0.6173</td>\n",
       "      <td>178.43</td>\n",
       "      <td>-0.0739</td>\n",
       "      <td>0.2823</td>\n",
       "      <td>0.7177</td>\n",
       "    </tr>\n",
       "  </tbody>\n",
       "</table>\n",
       "<p>10 rows × 23 columns</p>\n",
       "</div>"
      ],
      "text/plain": [
       "      year  quarter  citymarketid     cityname  airportid  apt  TotalMkts  \\\n",
       "6     2021        4         30559  Seattle, WA      14747  SEA        149   \n",
       "293   2022        1         30559  Seattle, WA      14747  SEA        134   \n",
       "474   2018        3         30559  Seattle, WA      14747  SEA        162   \n",
       "865   2003        3         30559  Seattle, WA      14747  SEA        152   \n",
       "942   2012        3         30559  Seattle, WA      14747  SEA        165   \n",
       "1077  2021        1         30559  Seattle, WA      14747  SEA        107   \n",
       "1316  2014        2         30559  Seattle, WA      14747  SEA        151   \n",
       "1490  1997        1         30559  Seattle, WA      14747  SEA        120   \n",
       "1649  2003        4         30559  Seattle, WA      14747  SEA        147   \n",
       "1670  2001        4         30559  Seattle, WA      14747  SEA        138   \n",
       "\n",
       "      TotalFaredPax  TotalPerLFMkts  Total_avg_hub_fare  ...  SHPerLFMkts  \\\n",
       "6          49198600          0.4446              205.67  ...       0.3204   \n",
       "293        38896100          0.4265              201.32  ...       0.2919   \n",
       "474        69610000          0.6915              213.08  ...       0.3851   \n",
       "865        41996700          0.6481              171.32  ...       0.7259   \n",
       "942        47197400          0.8220              227.69  ...       0.7070   \n",
       "1077       17364300          0.4496              154.59  ...       0.2709   \n",
       "1316       48443800          0.7806              220.10  ...       0.6942   \n",
       "1490       24479300          0.5438              157.20  ...       0.6087   \n",
       "1649       37014900          0.6241              168.53  ...       0.6908   \n",
       "1670       33590000          0.6355              157.28  ...       0.6816   \n",
       "\n",
       "      Short_haul_avg_fare  Short_haul_percent_premium  LHMkts       LHPax  \\\n",
       "6                  154.68                     -0.0836   120.0  39096600.0   \n",
       "293                161.23                     -0.0664   104.0  30743700.0   \n",
       "474                164.73                     -0.1363   132.0  54017600.0   \n",
       "865                116.97                     -0.2108   121.0  31428900.0   \n",
       "942                159.54                     -0.1218   136.0  36779900.0   \n",
       "1077               136.69                     -0.0889    82.0  13760800.0   \n",
       "1316               153.41                     -0.2422   123.0  36838600.0   \n",
       "1490                89.54                     -0.3564    91.0  16878500.0   \n",
       "1649               116.50                     -0.1945   115.0  27039500.0   \n",
       "1670               103.48                     -0.2717   107.0  24108700.0   \n",
       "\n",
       "      LHPerLFMkts  Long_haul_avg_fare  Long_haul_percent_premium  \\\n",
       "6          0.4767              218.84                    -0.0822   \n",
       "293        0.4622              211.96                    -0.0996   \n",
       "474        0.7799              227.04                    -0.0581   \n",
       "865        0.6219              189.59                    -0.0386   \n",
       "942        0.8546              246.99                    -0.0189   \n",
       "1077       0.4964              159.28                    -0.1284   \n",
       "1316       0.8078              241.11                    -0.1082   \n",
       "1490       0.5145              187.68                    -0.1207   \n",
       "1649       0.5995              187.72                    -0.0504   \n",
       "1670       0.6173              178.43                    -0.0739   \n",
       "\n",
       "      perc_sh_passengers  perc_lh_passengers  \n",
       "6                 0.2053              0.7947  \n",
       "293               0.2096              0.7904  \n",
       "474               0.2240              0.7760  \n",
       "865               0.2516              0.7484  \n",
       "942               0.2207              0.7793  \n",
       "1077              0.2075              0.7925  \n",
       "1316              0.2396              0.7604  \n",
       "1490              0.3105              0.6895  \n",
       "1649              0.2695              0.7305  \n",
       "1670              0.2823              0.7177  \n",
       "\n",
       "[10 rows x 23 columns]"
      ]
     },
     "execution_count": 7,
     "metadata": {},
     "output_type": "execute_result"
    }
   ],
   "source": [
    "consumer_fares = pd.read_csv(\"..\\\\raw_data\\\\Consumer_Airfare_Report__Table_7_-_Fare_Premiums_for_Select_Cities_with_More_Than_20_Passengers_per_Day.csv\")\n",
    "consumer_fares = consumer_fares.drop(['tbl', 'tbl7pk'], axis = 1) # dropping unncessary columns from data source\n",
    "\n",
    "# We'll subset the dataframe to look only at flights leaving Seattle\n",
    "consumer_fares = consumer_fares[consumer_fares['cityname'] == 'Seattle, WA']\n",
    "\n",
    "# We'll subset this dataframe further to only look at the year 2021\n",
    "# consumer_fares = consumer_fares[consumer_fares['year'] == 2021]\n",
    "\n",
    "# Renaming columns for more practical use and interpretation \n",
    "consumer_fares = consumer_fares.rename(columns={'SHAvgHubFare' : 'Short_haul_avg_fare', \n",
    "                                               'LHAvgHubFare' : 'Long_haul_avg_fare',\n",
    "                                               'TotalAvgHubFare' : 'Total_avg_hub_fare',\n",
    "                                               'TotalPerPrem' : 'Total_percent_premium',\n",
    "                                               'SHPerPrem' : 'Short_haul_percent_premium',\n",
    "                                               'LHPerPrem' : 'Long_haul_percent_premium'})\n",
    "\n",
    "consumer_fares['perc_sh_passengers'] = round((consumer_fares['SHPax']/consumer_fares['TotalFaredPax']), 4)\n",
    "consumer_fares['perc_lh_passengers'] = round((consumer_fares['LHPax']/consumer_fares['TotalFaredPax']), 4)\n",
    "\n",
    "\n",
    "#list(consumer_fares.columns)\n",
    "consumer_fares.head(10)"
   ]
  },
  {
   "cell_type": "code",
   "execution_count": 6,
   "metadata": {},
   "outputs": [
    {
     "data": {
      "application/vnd.plotly.v1+json": {
       "config": {
        "plotlyServerURL": "https://plot.ly"
       },
       "data": [
        {
         "alignmentgroup": "True",
         "hovertemplate": "Flight Fares=Short Haul Average Fare<br>Year=%{x}<br>Average Fare=%{y}<extra></extra>",
         "legendgroup": "Short Haul Average Fare",
         "marker": {
          "color": "#2E91E5",
          "pattern": {
           "shape": ""
          }
         },
         "name": "Short Haul Average Fare",
         "offsetgroup": "Short Haul Average Fare",
         "orientation": "v",
         "showlegend": true,
         "textposition": "auto",
         "type": "bar",
         "x": [
          2021,
          2022,
          2018,
          2003,
          2012,
          2021,
          2014,
          1997,
          2003,
          2001,
          1996,
          1996,
          2005,
          2017,
          2019,
          1997,
          2006,
          1999,
          2010,
          2006,
          2011,
          2015,
          2002,
          2018,
          2002,
          2004,
          2015,
          2010,
          2003,
          2012,
          2012,
          2001,
          2015,
          2008,
          2008,
          2006,
          2009,
          2013,
          1997,
          1999,
          2007,
          2002,
          2014,
          1997,
          2001,
          2008,
          2009,
          2003,
          2005,
          2014,
          2021,
          2000,
          1998,
          2012,
          1996,
          2010,
          2010,
          2006,
          2000,
          2011,
          2013,
          1998,
          2018,
          2007,
          1999,
          2018,
          2015,
          2002,
          2005,
          2004,
          2000,
          2019,
          2016,
          2020,
          2004,
          2016,
          2013,
          2016,
          2021,
          1996,
          2011,
          2014,
          1998,
          1999,
          2000,
          2017,
          2009,
          2005,
          2008,
          2013,
          2007,
          2017,
          2001,
          1998,
          2004,
          2011,
          2007,
          2020,
          2017,
          2019,
          2009,
          2016,
          2022,
          2022
         ],
         "xaxis": "x",
         "y": [
          154.68,
          161.23,
          164.73,
          116.97,
          159.54,
          136.69,
          153.41,
          89.54,
          116.5,
          103.48,
          86.23,
          85.21,
          126.25,
          158.59,
          157.83,
          91.31,
          129.36,
          98.96,
          132.27,
          129.73,
          134.88,
          152.8,
          104.6,
          160.36,
          108.67,
          116.38,
          160.86,
          128.69,
          114.67,
          159.75,
          142.69,
          106.13,
          155.62,
          137.1,
          126.89,
          137.58,
          113.69,
          158.64,
          93.51,
          99.41,
          129.12,
          107.45,
          151.77,
          91.72,
          105.48,
          127.58,
          129.1,
          112.42,
          127.01,
          152.64,
          132.51,
          107.59,
          94.66,
          160.23,
          84.68,
          139.19,
          140.83,
          136.48,
          106.23,
          148.75,
          154.02,
          94.75,
          154.1,
          132.15,
          100.13,
          155.04,
          147.5,
          106.77,
          123.19,
          119.64,
          106.98,
          161.56,
          154.22,
          143.17,
          120.04,
          151.19,
          156.18,
          153.03,
          137.37,
          90.61,
          150.47,
          147.4,
          97.61,
          99.08,
          106.41,
          163.47,
          114.08,
          114.59,
          127.42,
          162.63,
          131.54,
          155.15,
          106.85,
          95.69,
          116.33,
          144.88,
          138.05,
          146.22,
          156.47,
          156.05,
          122.99,
          152.4,
          186.87,
          181.61
         ],
         "yaxis": "y"
        },
        {
         "alignmentgroup": "True",
         "hovertemplate": "Flight Fares=Long Haul Average Fare<br>Year=%{x}<br>Average Fare=%{y}<extra></extra>",
         "legendgroup": "Long Haul Average Fare",
         "marker": {
          "color": "#E15F99",
          "pattern": {
           "shape": ""
          }
         },
         "name": "Long Haul Average Fare",
         "offsetgroup": "Long Haul Average Fare",
         "orientation": "v",
         "showlegend": true,
         "textposition": "auto",
         "type": "bar",
         "x": [
          2021,
          2022,
          2018,
          2003,
          2012,
          2021,
          2014,
          1997,
          2003,
          2001,
          1996,
          1996,
          2005,
          2017,
          2019,
          1997,
          2006,
          1999,
          2010,
          2006,
          2011,
          2015,
          2002,
          2018,
          2002,
          2004,
          2015,
          2010,
          2003,
          2012,
          2012,
          2001,
          2015,
          2008,
          2008,
          2006,
          2009,
          2013,
          1997,
          1999,
          2007,
          2002,
          2014,
          1997,
          2001,
          2008,
          2009,
          2003,
          2005,
          2014,
          2021,
          2000,
          1998,
          2012,
          1996,
          2010,
          2010,
          2006,
          2000,
          2011,
          2013,
          1998,
          2018,
          2007,
          1999,
          2018,
          2015,
          2002,
          2005,
          2004,
          2000,
          2019,
          2016,
          2020,
          2004,
          2016,
          2013,
          2016,
          2021,
          1996,
          2011,
          2014,
          1998,
          1999,
          2000,
          2017,
          2009,
          2005,
          2008,
          2013,
          2007,
          2017,
          2001,
          1998,
          2004,
          2011,
          2007,
          2020,
          2017,
          2019,
          2009,
          2016,
          2022,
          2022
         ],
         "xaxis": "x",
         "y": [
          218.84,
          211.96,
          227.04,
          189.59,
          246.99,
          159.28,
          241.11,
          187.68,
          187.72,
          178.43,
          179.34,
          187.16,
          191.99,
          224.58,
          232.04,
          201.03,
          196.01,
          205.87,
          197.46,
          207.42,
          211.35,
          244.31,
          191.2,
          223.1,
          191.8,
          179.93,
          243.39,
          209.84,
          181.98,
          237.94,
          217.59,
          201.74,
          227.88,
          227.26,
          207.13,
          224.14,
          180.56,
          237.21,
          203.16,
          209.59,
          214.24,
          182.01,
          225.72,
          197.51,
          219.35,
          211.4,
          202.87,
          188.38,
          202.45,
          247.34,
          182.62,
          222.75,
          205.89,
          241.23,
          186.72,
          215.56,
          227.27,
          214.26,
          217.4,
          230.18,
          232.25,
          201.81,
          227.33,
          201.79,
          214.83,
          210.02,
          232.63,
          178.73,
          196.93,
          183.99,
          220.09,
          231.22,
          217.05,
          171.32,
          184.57,
          217.45,
          225.21,
          215.29,
          206.18,
          184.8,
          237.08,
          240.35,
          210.57,
          205.85,
          217.63,
          229.43,
          183.46,
          181.18,
          214.56,
          247.73,
          214.25,
          220.47,
          185.88,
          205.4,
          183.15,
          223.78,
          226.65,
          199.73,
          207.96,
          227.13,
          194.18,
          213.63,
          306.36,
          308.77
         ],
         "yaxis": "y"
        }
       ],
       "layout": {
        "barmode": "relative",
        "legend": {
         "title": {
          "text": "Flight Fares"
         },
         "tracegroupgap": 0
        },
        "template": {
         "data": {
          "bar": [
           {
            "error_x": {
             "color": "#f2f5fa"
            },
            "error_y": {
             "color": "#f2f5fa"
            },
            "marker": {
             "line": {
              "color": "rgb(17,17,17)",
              "width": 0.5
             },
             "pattern": {
              "fillmode": "overlay",
              "size": 10,
              "solidity": 0.2
             }
            },
            "type": "bar"
           }
          ],
          "barpolar": [
           {
            "marker": {
             "line": {
              "color": "rgb(17,17,17)",
              "width": 0.5
             },
             "pattern": {
              "fillmode": "overlay",
              "size": 10,
              "solidity": 0.2
             }
            },
            "type": "barpolar"
           }
          ],
          "carpet": [
           {
            "aaxis": {
             "endlinecolor": "#A2B1C6",
             "gridcolor": "#506784",
             "linecolor": "#506784",
             "minorgridcolor": "#506784",
             "startlinecolor": "#A2B1C6"
            },
            "baxis": {
             "endlinecolor": "#A2B1C6",
             "gridcolor": "#506784",
             "linecolor": "#506784",
             "minorgridcolor": "#506784",
             "startlinecolor": "#A2B1C6"
            },
            "type": "carpet"
           }
          ],
          "choropleth": [
           {
            "colorbar": {
             "outlinewidth": 0,
             "ticks": ""
            },
            "type": "choropleth"
           }
          ],
          "contour": [
           {
            "colorbar": {
             "outlinewidth": 0,
             "ticks": ""
            },
            "colorscale": [
             [
              0,
              "#0d0887"
             ],
             [
              0.1111111111111111,
              "#46039f"
             ],
             [
              0.2222222222222222,
              "#7201a8"
             ],
             [
              0.3333333333333333,
              "#9c179e"
             ],
             [
              0.4444444444444444,
              "#bd3786"
             ],
             [
              0.5555555555555556,
              "#d8576b"
             ],
             [
              0.6666666666666666,
              "#ed7953"
             ],
             [
              0.7777777777777778,
              "#fb9f3a"
             ],
             [
              0.8888888888888888,
              "#fdca26"
             ],
             [
              1,
              "#f0f921"
             ]
            ],
            "type": "contour"
           }
          ],
          "contourcarpet": [
           {
            "colorbar": {
             "outlinewidth": 0,
             "ticks": ""
            },
            "type": "contourcarpet"
           }
          ],
          "heatmap": [
           {
            "colorbar": {
             "outlinewidth": 0,
             "ticks": ""
            },
            "colorscale": [
             [
              0,
              "#0d0887"
             ],
             [
              0.1111111111111111,
              "#46039f"
             ],
             [
              0.2222222222222222,
              "#7201a8"
             ],
             [
              0.3333333333333333,
              "#9c179e"
             ],
             [
              0.4444444444444444,
              "#bd3786"
             ],
             [
              0.5555555555555556,
              "#d8576b"
             ],
             [
              0.6666666666666666,
              "#ed7953"
             ],
             [
              0.7777777777777778,
              "#fb9f3a"
             ],
             [
              0.8888888888888888,
              "#fdca26"
             ],
             [
              1,
              "#f0f921"
             ]
            ],
            "type": "heatmap"
           }
          ],
          "heatmapgl": [
           {
            "colorbar": {
             "outlinewidth": 0,
             "ticks": ""
            },
            "colorscale": [
             [
              0,
              "#0d0887"
             ],
             [
              0.1111111111111111,
              "#46039f"
             ],
             [
              0.2222222222222222,
              "#7201a8"
             ],
             [
              0.3333333333333333,
              "#9c179e"
             ],
             [
              0.4444444444444444,
              "#bd3786"
             ],
             [
              0.5555555555555556,
              "#d8576b"
             ],
             [
              0.6666666666666666,
              "#ed7953"
             ],
             [
              0.7777777777777778,
              "#fb9f3a"
             ],
             [
              0.8888888888888888,
              "#fdca26"
             ],
             [
              1,
              "#f0f921"
             ]
            ],
            "type": "heatmapgl"
           }
          ],
          "histogram": [
           {
            "marker": {
             "pattern": {
              "fillmode": "overlay",
              "size": 10,
              "solidity": 0.2
             }
            },
            "type": "histogram"
           }
          ],
          "histogram2d": [
           {
            "colorbar": {
             "outlinewidth": 0,
             "ticks": ""
            },
            "colorscale": [
             [
              0,
              "#0d0887"
             ],
             [
              0.1111111111111111,
              "#46039f"
             ],
             [
              0.2222222222222222,
              "#7201a8"
             ],
             [
              0.3333333333333333,
              "#9c179e"
             ],
             [
              0.4444444444444444,
              "#bd3786"
             ],
             [
              0.5555555555555556,
              "#d8576b"
             ],
             [
              0.6666666666666666,
              "#ed7953"
             ],
             [
              0.7777777777777778,
              "#fb9f3a"
             ],
             [
              0.8888888888888888,
              "#fdca26"
             ],
             [
              1,
              "#f0f921"
             ]
            ],
            "type": "histogram2d"
           }
          ],
          "histogram2dcontour": [
           {
            "colorbar": {
             "outlinewidth": 0,
             "ticks": ""
            },
            "colorscale": [
             [
              0,
              "#0d0887"
             ],
             [
              0.1111111111111111,
              "#46039f"
             ],
             [
              0.2222222222222222,
              "#7201a8"
             ],
             [
              0.3333333333333333,
              "#9c179e"
             ],
             [
              0.4444444444444444,
              "#bd3786"
             ],
             [
              0.5555555555555556,
              "#d8576b"
             ],
             [
              0.6666666666666666,
              "#ed7953"
             ],
             [
              0.7777777777777778,
              "#fb9f3a"
             ],
             [
              0.8888888888888888,
              "#fdca26"
             ],
             [
              1,
              "#f0f921"
             ]
            ],
            "type": "histogram2dcontour"
           }
          ],
          "mesh3d": [
           {
            "colorbar": {
             "outlinewidth": 0,
             "ticks": ""
            },
            "type": "mesh3d"
           }
          ],
          "parcoords": [
           {
            "line": {
             "colorbar": {
              "outlinewidth": 0,
              "ticks": ""
             }
            },
            "type": "parcoords"
           }
          ],
          "pie": [
           {
            "automargin": true,
            "type": "pie"
           }
          ],
          "scatter": [
           {
            "marker": {
             "line": {
              "color": "#283442"
             }
            },
            "type": "scatter"
           }
          ],
          "scatter3d": [
           {
            "line": {
             "colorbar": {
              "outlinewidth": 0,
              "ticks": ""
             }
            },
            "marker": {
             "colorbar": {
              "outlinewidth": 0,
              "ticks": ""
             }
            },
            "type": "scatter3d"
           }
          ],
          "scattercarpet": [
           {
            "marker": {
             "colorbar": {
              "outlinewidth": 0,
              "ticks": ""
             }
            },
            "type": "scattercarpet"
           }
          ],
          "scattergeo": [
           {
            "marker": {
             "colorbar": {
              "outlinewidth": 0,
              "ticks": ""
             }
            },
            "type": "scattergeo"
           }
          ],
          "scattergl": [
           {
            "marker": {
             "line": {
              "color": "#283442"
             }
            },
            "type": "scattergl"
           }
          ],
          "scattermapbox": [
           {
            "marker": {
             "colorbar": {
              "outlinewidth": 0,
              "ticks": ""
             }
            },
            "type": "scattermapbox"
           }
          ],
          "scatterpolar": [
           {
            "marker": {
             "colorbar": {
              "outlinewidth": 0,
              "ticks": ""
             }
            },
            "type": "scatterpolar"
           }
          ],
          "scatterpolargl": [
           {
            "marker": {
             "colorbar": {
              "outlinewidth": 0,
              "ticks": ""
             }
            },
            "type": "scatterpolargl"
           }
          ],
          "scatterternary": [
           {
            "marker": {
             "colorbar": {
              "outlinewidth": 0,
              "ticks": ""
             }
            },
            "type": "scatterternary"
           }
          ],
          "surface": [
           {
            "colorbar": {
             "outlinewidth": 0,
             "ticks": ""
            },
            "colorscale": [
             [
              0,
              "#0d0887"
             ],
             [
              0.1111111111111111,
              "#46039f"
             ],
             [
              0.2222222222222222,
              "#7201a8"
             ],
             [
              0.3333333333333333,
              "#9c179e"
             ],
             [
              0.4444444444444444,
              "#bd3786"
             ],
             [
              0.5555555555555556,
              "#d8576b"
             ],
             [
              0.6666666666666666,
              "#ed7953"
             ],
             [
              0.7777777777777778,
              "#fb9f3a"
             ],
             [
              0.8888888888888888,
              "#fdca26"
             ],
             [
              1,
              "#f0f921"
             ]
            ],
            "type": "surface"
           }
          ],
          "table": [
           {
            "cells": {
             "fill": {
              "color": "#506784"
             },
             "line": {
              "color": "rgb(17,17,17)"
             }
            },
            "header": {
             "fill": {
              "color": "#2a3f5f"
             },
             "line": {
              "color": "rgb(17,17,17)"
             }
            },
            "type": "table"
           }
          ]
         },
         "layout": {
          "annotationdefaults": {
           "arrowcolor": "#f2f5fa",
           "arrowhead": 0,
           "arrowwidth": 1
          },
          "autotypenumbers": "strict",
          "coloraxis": {
           "colorbar": {
            "outlinewidth": 0,
            "ticks": ""
           }
          },
          "colorscale": {
           "diverging": [
            [
             0,
             "#8e0152"
            ],
            [
             0.1,
             "#c51b7d"
            ],
            [
             0.2,
             "#de77ae"
            ],
            [
             0.3,
             "#f1b6da"
            ],
            [
             0.4,
             "#fde0ef"
            ],
            [
             0.5,
             "#f7f7f7"
            ],
            [
             0.6,
             "#e6f5d0"
            ],
            [
             0.7,
             "#b8e186"
            ],
            [
             0.8,
             "#7fbc41"
            ],
            [
             0.9,
             "#4d9221"
            ],
            [
             1,
             "#276419"
            ]
           ],
           "sequential": [
            [
             0,
             "#0d0887"
            ],
            [
             0.1111111111111111,
             "#46039f"
            ],
            [
             0.2222222222222222,
             "#7201a8"
            ],
            [
             0.3333333333333333,
             "#9c179e"
            ],
            [
             0.4444444444444444,
             "#bd3786"
            ],
            [
             0.5555555555555556,
             "#d8576b"
            ],
            [
             0.6666666666666666,
             "#ed7953"
            ],
            [
             0.7777777777777778,
             "#fb9f3a"
            ],
            [
             0.8888888888888888,
             "#fdca26"
            ],
            [
             1,
             "#f0f921"
            ]
           ],
           "sequentialminus": [
            [
             0,
             "#0d0887"
            ],
            [
             0.1111111111111111,
             "#46039f"
            ],
            [
             0.2222222222222222,
             "#7201a8"
            ],
            [
             0.3333333333333333,
             "#9c179e"
            ],
            [
             0.4444444444444444,
             "#bd3786"
            ],
            [
             0.5555555555555556,
             "#d8576b"
            ],
            [
             0.6666666666666666,
             "#ed7953"
            ],
            [
             0.7777777777777778,
             "#fb9f3a"
            ],
            [
             0.8888888888888888,
             "#fdca26"
            ],
            [
             1,
             "#f0f921"
            ]
           ]
          },
          "colorway": [
           "#636efa",
           "#EF553B",
           "#00cc96",
           "#ab63fa",
           "#FFA15A",
           "#19d3f3",
           "#FF6692",
           "#B6E880",
           "#FF97FF",
           "#FECB52"
          ],
          "font": {
           "color": "#f2f5fa"
          },
          "geo": {
           "bgcolor": "rgb(17,17,17)",
           "lakecolor": "rgb(17,17,17)",
           "landcolor": "rgb(17,17,17)",
           "showlakes": true,
           "showland": true,
           "subunitcolor": "#506784"
          },
          "hoverlabel": {
           "align": "left"
          },
          "hovermode": "closest",
          "mapbox": {
           "style": "dark"
          },
          "paper_bgcolor": "rgb(17,17,17)",
          "plot_bgcolor": "rgb(17,17,17)",
          "polar": {
           "angularaxis": {
            "gridcolor": "#506784",
            "linecolor": "#506784",
            "ticks": ""
           },
           "bgcolor": "rgb(17,17,17)",
           "radialaxis": {
            "gridcolor": "#506784",
            "linecolor": "#506784",
            "ticks": ""
           }
          },
          "scene": {
           "xaxis": {
            "backgroundcolor": "rgb(17,17,17)",
            "gridcolor": "#506784",
            "gridwidth": 2,
            "linecolor": "#506784",
            "showbackground": true,
            "ticks": "",
            "zerolinecolor": "#C8D4E3"
           },
           "yaxis": {
            "backgroundcolor": "rgb(17,17,17)",
            "gridcolor": "#506784",
            "gridwidth": 2,
            "linecolor": "#506784",
            "showbackground": true,
            "ticks": "",
            "zerolinecolor": "#C8D4E3"
           },
           "zaxis": {
            "backgroundcolor": "rgb(17,17,17)",
            "gridcolor": "#506784",
            "gridwidth": 2,
            "linecolor": "#506784",
            "showbackground": true,
            "ticks": "",
            "zerolinecolor": "#C8D4E3"
           }
          },
          "shapedefaults": {
           "line": {
            "color": "#f2f5fa"
           }
          },
          "sliderdefaults": {
           "bgcolor": "#C8D4E3",
           "bordercolor": "rgb(17,17,17)",
           "borderwidth": 1,
           "tickwidth": 0
          },
          "ternary": {
           "aaxis": {
            "gridcolor": "#506784",
            "linecolor": "#506784",
            "ticks": ""
           },
           "baxis": {
            "gridcolor": "#506784",
            "linecolor": "#506784",
            "ticks": ""
           },
           "bgcolor": "rgb(17,17,17)",
           "caxis": {
            "gridcolor": "#506784",
            "linecolor": "#506784",
            "ticks": ""
           }
          },
          "title": {
           "x": 0.05
          },
          "updatemenudefaults": {
           "bgcolor": "#506784",
           "borderwidth": 0
          },
          "xaxis": {
           "automargin": true,
           "gridcolor": "#283442",
           "linecolor": "#506784",
           "ticks": "",
           "title": {
            "standoff": 15
           },
           "zerolinecolor": "#283442",
           "zerolinewidth": 2
          },
          "yaxis": {
           "automargin": true,
           "gridcolor": "#283442",
           "linecolor": "#506784",
           "ticks": "",
           "title": {
            "standoff": 15
           },
           "zerolinecolor": "#283442",
           "zerolinewidth": 2
          }
         }
        },
        "title": {
         "text": "Average Fare for Flights from Seattle by Year"
        },
        "xaxis": {
         "anchor": "y",
         "domain": [
          0,
          1
         ],
         "tickangle": 45,
         "title": {
          "text": "Year"
         }
        },
        "yaxis": {
         "anchor": "x",
         "domain": [
          0,
          1
         ],
         "title": {
          "text": "Average Fare"
         }
        }
       }
      },
      "text/html": [
       "<div>                            <div id=\"dd91e3c4-313b-4600-846b-3a9c35e1f3ee\" class=\"plotly-graph-div\" style=\"height:525px; width:100%;\"></div>            <script type=\"text/javascript\">                require([\"plotly\"], function(Plotly) {                    window.PLOTLYENV=window.PLOTLYENV || {};                                    if (document.getElementById(\"dd91e3c4-313b-4600-846b-3a9c35e1f3ee\")) {                    Plotly.newPlot(                        \"dd91e3c4-313b-4600-846b-3a9c35e1f3ee\",                        [{\"alignmentgroup\":\"True\",\"hovertemplate\":\"Flight Fares=Short Haul Average Fare<br>Year=%{x}<br>Average Fare=%{y}<extra></extra>\",\"legendgroup\":\"Short Haul Average Fare\",\"marker\":{\"color\":\"#2E91E5\",\"pattern\":{\"shape\":\"\"}},\"name\":\"Short Haul Average Fare\",\"offsetgroup\":\"Short Haul Average Fare\",\"orientation\":\"v\",\"showlegend\":true,\"textposition\":\"auto\",\"type\":\"bar\",\"x\":[2021,2022,2018,2003,2012,2021,2014,1997,2003,2001,1996,1996,2005,2017,2019,1997,2006,1999,2010,2006,2011,2015,2002,2018,2002,2004,2015,2010,2003,2012,2012,2001,2015,2008,2008,2006,2009,2013,1997,1999,2007,2002,2014,1997,2001,2008,2009,2003,2005,2014,2021,2000,1998,2012,1996,2010,2010,2006,2000,2011,2013,1998,2018,2007,1999,2018,2015,2002,2005,2004,2000,2019,2016,2020,2004,2016,2013,2016,2021,1996,2011,2014,1998,1999,2000,2017,2009,2005,2008,2013,2007,2017,2001,1998,2004,2011,2007,2020,2017,2019,2009,2016,2022,2022],\"xaxis\":\"x\",\"y\":[154.68,161.23,164.73,116.97,159.54,136.69,153.41,89.54,116.5,103.48,86.23,85.21,126.25,158.59,157.83,91.31,129.36,98.96,132.27,129.73,134.88,152.8,104.6,160.36,108.67,116.38,160.86,128.69,114.67,159.75,142.69,106.13,155.62,137.1,126.89,137.58,113.69,158.64,93.51,99.41,129.12,107.45,151.77,91.72,105.48,127.58,129.1,112.42,127.01,152.64,132.51,107.59,94.66,160.23,84.68,139.19,140.83,136.48,106.23,148.75,154.02,94.75,154.1,132.15,100.13,155.04,147.5,106.77,123.19,119.64,106.98,161.56,154.22,143.17,120.04,151.19,156.18,153.03,137.37,90.61,150.47,147.4,97.61,99.08,106.41,163.47,114.08,114.59,127.42,162.63,131.54,155.15,106.85,95.69,116.33,144.88,138.05,146.22,156.47,156.05,122.99,152.4,186.87,181.61],\"yaxis\":\"y\"},{\"alignmentgroup\":\"True\",\"hovertemplate\":\"Flight Fares=Long Haul Average Fare<br>Year=%{x}<br>Average Fare=%{y}<extra></extra>\",\"legendgroup\":\"Long Haul Average Fare\",\"marker\":{\"color\":\"#E15F99\",\"pattern\":{\"shape\":\"\"}},\"name\":\"Long Haul Average Fare\",\"offsetgroup\":\"Long Haul Average Fare\",\"orientation\":\"v\",\"showlegend\":true,\"textposition\":\"auto\",\"type\":\"bar\",\"x\":[2021,2022,2018,2003,2012,2021,2014,1997,2003,2001,1996,1996,2005,2017,2019,1997,2006,1999,2010,2006,2011,2015,2002,2018,2002,2004,2015,2010,2003,2012,2012,2001,2015,2008,2008,2006,2009,2013,1997,1999,2007,2002,2014,1997,2001,2008,2009,2003,2005,2014,2021,2000,1998,2012,1996,2010,2010,2006,2000,2011,2013,1998,2018,2007,1999,2018,2015,2002,2005,2004,2000,2019,2016,2020,2004,2016,2013,2016,2021,1996,2011,2014,1998,1999,2000,2017,2009,2005,2008,2013,2007,2017,2001,1998,2004,2011,2007,2020,2017,2019,2009,2016,2022,2022],\"xaxis\":\"x\",\"y\":[218.84,211.96,227.04,189.59,246.99,159.28,241.11,187.68,187.72,178.43,179.34,187.16,191.99,224.58,232.04,201.03,196.01,205.87,197.46,207.42,211.35,244.31,191.2,223.1,191.8,179.93,243.39,209.84,181.98,237.94,217.59,201.74,227.88,227.26,207.13,224.14,180.56,237.21,203.16,209.59,214.24,182.01,225.72,197.51,219.35,211.4,202.87,188.38,202.45,247.34,182.62,222.75,205.89,241.23,186.72,215.56,227.27,214.26,217.4,230.18,232.25,201.81,227.33,201.79,214.83,210.02,232.63,178.73,196.93,183.99,220.09,231.22,217.05,171.32,184.57,217.45,225.21,215.29,206.18,184.8,237.08,240.35,210.57,205.85,217.63,229.43,183.46,181.18,214.56,247.73,214.25,220.47,185.88,205.4,183.15,223.78,226.65,199.73,207.96,227.13,194.18,213.63,306.36,308.77],\"yaxis\":\"y\"}],                        {\"barmode\":\"relative\",\"legend\":{\"title\":{\"text\":\"Flight Fares\"},\"tracegroupgap\":0},\"template\":{\"data\":{\"bar\":[{\"error_x\":{\"color\":\"#f2f5fa\"},\"error_y\":{\"color\":\"#f2f5fa\"},\"marker\":{\"line\":{\"color\":\"rgb(17,17,17)\",\"width\":0.5},\"pattern\":{\"fillmode\":\"overlay\",\"size\":10,\"solidity\":0.2}},\"type\":\"bar\"}],\"barpolar\":[{\"marker\":{\"line\":{\"color\":\"rgb(17,17,17)\",\"width\":0.5},\"pattern\":{\"fillmode\":\"overlay\",\"size\":10,\"solidity\":0.2}},\"type\":\"barpolar\"}],\"carpet\":[{\"aaxis\":{\"endlinecolor\":\"#A2B1C6\",\"gridcolor\":\"#506784\",\"linecolor\":\"#506784\",\"minorgridcolor\":\"#506784\",\"startlinecolor\":\"#A2B1C6\"},\"baxis\":{\"endlinecolor\":\"#A2B1C6\",\"gridcolor\":\"#506784\",\"linecolor\":\"#506784\",\"minorgridcolor\":\"#506784\",\"startlinecolor\":\"#A2B1C6\"},\"type\":\"carpet\"}],\"choropleth\":[{\"colorbar\":{\"outlinewidth\":0,\"ticks\":\"\"},\"type\":\"choropleth\"}],\"contour\":[{\"colorbar\":{\"outlinewidth\":0,\"ticks\":\"\"},\"colorscale\":[[0.0,\"#0d0887\"],[0.1111111111111111,\"#46039f\"],[0.2222222222222222,\"#7201a8\"],[0.3333333333333333,\"#9c179e\"],[0.4444444444444444,\"#bd3786\"],[0.5555555555555556,\"#d8576b\"],[0.6666666666666666,\"#ed7953\"],[0.7777777777777778,\"#fb9f3a\"],[0.8888888888888888,\"#fdca26\"],[1.0,\"#f0f921\"]],\"type\":\"contour\"}],\"contourcarpet\":[{\"colorbar\":{\"outlinewidth\":0,\"ticks\":\"\"},\"type\":\"contourcarpet\"}],\"heatmap\":[{\"colorbar\":{\"outlinewidth\":0,\"ticks\":\"\"},\"colorscale\":[[0.0,\"#0d0887\"],[0.1111111111111111,\"#46039f\"],[0.2222222222222222,\"#7201a8\"],[0.3333333333333333,\"#9c179e\"],[0.4444444444444444,\"#bd3786\"],[0.5555555555555556,\"#d8576b\"],[0.6666666666666666,\"#ed7953\"],[0.7777777777777778,\"#fb9f3a\"],[0.8888888888888888,\"#fdca26\"],[1.0,\"#f0f921\"]],\"type\":\"heatmap\"}],\"heatmapgl\":[{\"colorbar\":{\"outlinewidth\":0,\"ticks\":\"\"},\"colorscale\":[[0.0,\"#0d0887\"],[0.1111111111111111,\"#46039f\"],[0.2222222222222222,\"#7201a8\"],[0.3333333333333333,\"#9c179e\"],[0.4444444444444444,\"#bd3786\"],[0.5555555555555556,\"#d8576b\"],[0.6666666666666666,\"#ed7953\"],[0.7777777777777778,\"#fb9f3a\"],[0.8888888888888888,\"#fdca26\"],[1.0,\"#f0f921\"]],\"type\":\"heatmapgl\"}],\"histogram\":[{\"marker\":{\"pattern\":{\"fillmode\":\"overlay\",\"size\":10,\"solidity\":0.2}},\"type\":\"histogram\"}],\"histogram2d\":[{\"colorbar\":{\"outlinewidth\":0,\"ticks\":\"\"},\"colorscale\":[[0.0,\"#0d0887\"],[0.1111111111111111,\"#46039f\"],[0.2222222222222222,\"#7201a8\"],[0.3333333333333333,\"#9c179e\"],[0.4444444444444444,\"#bd3786\"],[0.5555555555555556,\"#d8576b\"],[0.6666666666666666,\"#ed7953\"],[0.7777777777777778,\"#fb9f3a\"],[0.8888888888888888,\"#fdca26\"],[1.0,\"#f0f921\"]],\"type\":\"histogram2d\"}],\"histogram2dcontour\":[{\"colorbar\":{\"outlinewidth\":0,\"ticks\":\"\"},\"colorscale\":[[0.0,\"#0d0887\"],[0.1111111111111111,\"#46039f\"],[0.2222222222222222,\"#7201a8\"],[0.3333333333333333,\"#9c179e\"],[0.4444444444444444,\"#bd3786\"],[0.5555555555555556,\"#d8576b\"],[0.6666666666666666,\"#ed7953\"],[0.7777777777777778,\"#fb9f3a\"],[0.8888888888888888,\"#fdca26\"],[1.0,\"#f0f921\"]],\"type\":\"histogram2dcontour\"}],\"mesh3d\":[{\"colorbar\":{\"outlinewidth\":0,\"ticks\":\"\"},\"type\":\"mesh3d\"}],\"parcoords\":[{\"line\":{\"colorbar\":{\"outlinewidth\":0,\"ticks\":\"\"}},\"type\":\"parcoords\"}],\"pie\":[{\"automargin\":true,\"type\":\"pie\"}],\"scatter\":[{\"marker\":{\"line\":{\"color\":\"#283442\"}},\"type\":\"scatter\"}],\"scatter3d\":[{\"line\":{\"colorbar\":{\"outlinewidth\":0,\"ticks\":\"\"}},\"marker\":{\"colorbar\":{\"outlinewidth\":0,\"ticks\":\"\"}},\"type\":\"scatter3d\"}],\"scattercarpet\":[{\"marker\":{\"colorbar\":{\"outlinewidth\":0,\"ticks\":\"\"}},\"type\":\"scattercarpet\"}],\"scattergeo\":[{\"marker\":{\"colorbar\":{\"outlinewidth\":0,\"ticks\":\"\"}},\"type\":\"scattergeo\"}],\"scattergl\":[{\"marker\":{\"line\":{\"color\":\"#283442\"}},\"type\":\"scattergl\"}],\"scattermapbox\":[{\"marker\":{\"colorbar\":{\"outlinewidth\":0,\"ticks\":\"\"}},\"type\":\"scattermapbox\"}],\"scatterpolar\":[{\"marker\":{\"colorbar\":{\"outlinewidth\":0,\"ticks\":\"\"}},\"type\":\"scatterpolar\"}],\"scatterpolargl\":[{\"marker\":{\"colorbar\":{\"outlinewidth\":0,\"ticks\":\"\"}},\"type\":\"scatterpolargl\"}],\"scatterternary\":[{\"marker\":{\"colorbar\":{\"outlinewidth\":0,\"ticks\":\"\"}},\"type\":\"scatterternary\"}],\"surface\":[{\"colorbar\":{\"outlinewidth\":0,\"ticks\":\"\"},\"colorscale\":[[0.0,\"#0d0887\"],[0.1111111111111111,\"#46039f\"],[0.2222222222222222,\"#7201a8\"],[0.3333333333333333,\"#9c179e\"],[0.4444444444444444,\"#bd3786\"],[0.5555555555555556,\"#d8576b\"],[0.6666666666666666,\"#ed7953\"],[0.7777777777777778,\"#fb9f3a\"],[0.8888888888888888,\"#fdca26\"],[1.0,\"#f0f921\"]],\"type\":\"surface\"}],\"table\":[{\"cells\":{\"fill\":{\"color\":\"#506784\"},\"line\":{\"color\":\"rgb(17,17,17)\"}},\"header\":{\"fill\":{\"color\":\"#2a3f5f\"},\"line\":{\"color\":\"rgb(17,17,17)\"}},\"type\":\"table\"}]},\"layout\":{\"annotationdefaults\":{\"arrowcolor\":\"#f2f5fa\",\"arrowhead\":0,\"arrowwidth\":1},\"autotypenumbers\":\"strict\",\"coloraxis\":{\"colorbar\":{\"outlinewidth\":0,\"ticks\":\"\"}},\"colorscale\":{\"diverging\":[[0,\"#8e0152\"],[0.1,\"#c51b7d\"],[0.2,\"#de77ae\"],[0.3,\"#f1b6da\"],[0.4,\"#fde0ef\"],[0.5,\"#f7f7f7\"],[0.6,\"#e6f5d0\"],[0.7,\"#b8e186\"],[0.8,\"#7fbc41\"],[0.9,\"#4d9221\"],[1,\"#276419\"]],\"sequential\":[[0.0,\"#0d0887\"],[0.1111111111111111,\"#46039f\"],[0.2222222222222222,\"#7201a8\"],[0.3333333333333333,\"#9c179e\"],[0.4444444444444444,\"#bd3786\"],[0.5555555555555556,\"#d8576b\"],[0.6666666666666666,\"#ed7953\"],[0.7777777777777778,\"#fb9f3a\"],[0.8888888888888888,\"#fdca26\"],[1.0,\"#f0f921\"]],\"sequentialminus\":[[0.0,\"#0d0887\"],[0.1111111111111111,\"#46039f\"],[0.2222222222222222,\"#7201a8\"],[0.3333333333333333,\"#9c179e\"],[0.4444444444444444,\"#bd3786\"],[0.5555555555555556,\"#d8576b\"],[0.6666666666666666,\"#ed7953\"],[0.7777777777777778,\"#fb9f3a\"],[0.8888888888888888,\"#fdca26\"],[1.0,\"#f0f921\"]]},\"colorway\":[\"#636efa\",\"#EF553B\",\"#00cc96\",\"#ab63fa\",\"#FFA15A\",\"#19d3f3\",\"#FF6692\",\"#B6E880\",\"#FF97FF\",\"#FECB52\"],\"font\":{\"color\":\"#f2f5fa\"},\"geo\":{\"bgcolor\":\"rgb(17,17,17)\",\"lakecolor\":\"rgb(17,17,17)\",\"landcolor\":\"rgb(17,17,17)\",\"showlakes\":true,\"showland\":true,\"subunitcolor\":\"#506784\"},\"hoverlabel\":{\"align\":\"left\"},\"hovermode\":\"closest\",\"mapbox\":{\"style\":\"dark\"},\"paper_bgcolor\":\"rgb(17,17,17)\",\"plot_bgcolor\":\"rgb(17,17,17)\",\"polar\":{\"angularaxis\":{\"gridcolor\":\"#506784\",\"linecolor\":\"#506784\",\"ticks\":\"\"},\"bgcolor\":\"rgb(17,17,17)\",\"radialaxis\":{\"gridcolor\":\"#506784\",\"linecolor\":\"#506784\",\"ticks\":\"\"}},\"scene\":{\"xaxis\":{\"backgroundcolor\":\"rgb(17,17,17)\",\"gridcolor\":\"#506784\",\"gridwidth\":2,\"linecolor\":\"#506784\",\"showbackground\":true,\"ticks\":\"\",\"zerolinecolor\":\"#C8D4E3\"},\"yaxis\":{\"backgroundcolor\":\"rgb(17,17,17)\",\"gridcolor\":\"#506784\",\"gridwidth\":2,\"linecolor\":\"#506784\",\"showbackground\":true,\"ticks\":\"\",\"zerolinecolor\":\"#C8D4E3\"},\"zaxis\":{\"backgroundcolor\":\"rgb(17,17,17)\",\"gridcolor\":\"#506784\",\"gridwidth\":2,\"linecolor\":\"#506784\",\"showbackground\":true,\"ticks\":\"\",\"zerolinecolor\":\"#C8D4E3\"}},\"shapedefaults\":{\"line\":{\"color\":\"#f2f5fa\"}},\"sliderdefaults\":{\"bgcolor\":\"#C8D4E3\",\"bordercolor\":\"rgb(17,17,17)\",\"borderwidth\":1,\"tickwidth\":0},\"ternary\":{\"aaxis\":{\"gridcolor\":\"#506784\",\"linecolor\":\"#506784\",\"ticks\":\"\"},\"baxis\":{\"gridcolor\":\"#506784\",\"linecolor\":\"#506784\",\"ticks\":\"\"},\"bgcolor\":\"rgb(17,17,17)\",\"caxis\":{\"gridcolor\":\"#506784\",\"linecolor\":\"#506784\",\"ticks\":\"\"}},\"title\":{\"x\":0.05},\"updatemenudefaults\":{\"bgcolor\":\"#506784\",\"borderwidth\":0},\"xaxis\":{\"automargin\":true,\"gridcolor\":\"#283442\",\"linecolor\":\"#506784\",\"ticks\":\"\",\"title\":{\"standoff\":15},\"zerolinecolor\":\"#283442\",\"zerolinewidth\":2},\"yaxis\":{\"automargin\":true,\"gridcolor\":\"#283442\",\"linecolor\":\"#506784\",\"ticks\":\"\",\"title\":{\"standoff\":15},\"zerolinecolor\":\"#283442\",\"zerolinewidth\":2}}},\"title\":{\"text\":\"Average Fare for Flights from Seattle by Year\"},\"xaxis\":{\"anchor\":\"y\",\"domain\":[0.0,1.0],\"tickangle\":45,\"title\":{\"text\":\"Year\"}},\"yaxis\":{\"anchor\":\"x\",\"domain\":[0.0,1.0],\"title\":{\"text\":\"Average Fare\"}}},                        {\"responsive\": true}                    ).then(function(){\n",
       "                            \n",
       "var gd = document.getElementById('dd91e3c4-313b-4600-846b-3a9c35e1f3ee');\n",
       "var x = new MutationObserver(function (mutations, observer) {{\n",
       "        var display = window.getComputedStyle(gd).display;\n",
       "        if (!display || display === 'none') {{\n",
       "            console.log([gd, 'removed!']);\n",
       "            Plotly.purge(gd);\n",
       "            observer.disconnect();\n",
       "        }}\n",
       "}});\n",
       "\n",
       "// Listen for the removal of the full notebook cells\n",
       "var notebookContainer = gd.closest('#notebook-container');\n",
       "if (notebookContainer) {{\n",
       "    x.observe(notebookContainer, {childList: true});\n",
       "}}\n",
       "\n",
       "// Listen for the clearing of the current output cell\n",
       "var outputEl = gd.closest('.output');\n",
       "if (outputEl) {{\n",
       "    x.observe(outputEl, {childList: true});\n",
       "}}\n",
       "\n",
       "                        })                };                });            </script>        </div>"
      ]
     },
     "metadata": {},
     "output_type": "display_data"
    }
   ],
   "source": [
    "# First we'll visualize the average fare for long vs. short haul flights\n",
    "fig = px.bar(consumer_fares.rename(columns = { \"Short_haul_avg_fare\":\"Short Haul Average Fare\", 'Long_haul_avg_fare':\"Long Haul Average Fare\"}), \n",
    "             x=\"year\", y=['Short Haul Average Fare', \"Long Haul Average Fare\"], \n",
    "                labels={\n",
    "                    \"year\": \"Year\",\n",
    "                     \"value\":\"Average Fare\", \n",
    "                     \"variable\":\"Flight Fares\"\n",
    "                 },\n",
    "                title=\"Average Fare for Flights from Seattle by Year\", \n",
    "                color_discrete_sequence=px.colors.qualitative.Dark24)\n",
    "fig.update_xaxes(tickangle = 45)\n",
    "fig.show()"
   ]
  },
  {
   "cell_type": "code",
   "execution_count": 13,
   "metadata": {},
   "outputs": [
    {
     "ename": "ValueError",
     "evalue": "Value of 'x' is not the name of a column in 'data_frame'. Expected one of ['quarter', 'value'] but received: Average Fare Across all Flights",
     "output_type": "error",
     "traceback": [
      "\u001b[1;31m---------------------------------------------------------------------------\u001b[0m",
      "\u001b[1;31mValueError\u001b[0m                                Traceback (most recent call last)",
      "\u001b[1;32m<ipython-input-13-dd4cdd1519b4>\u001b[0m in \u001b[0;36m<module>\u001b[1;34m\u001b[0m\n\u001b[0;32m     26\u001b[0m         \u001b[0mname\u001b[0m\u001b[1;33m=\u001b[0m\u001b[0mc\u001b[0m\u001b[1;33m,\u001b[0m \u001b[0mvisible\u001b[0m\u001b[1;33m=\u001b[0m\u001b[1;32mFalse\u001b[0m\u001b[1;33m,\u001b[0m\u001b[1;33m\u001b[0m\u001b[1;33m\u001b[0m\u001b[0m\n\u001b[0;32m     27\u001b[0m     )\n\u001b[1;32m---> 28\u001b[1;33m     \u001b[1;32mfor\u001b[0m \u001b[0mc\u001b[0m \u001b[1;32min\u001b[0m \u001b[0mdf\u001b[0m\u001b[1;33m.\u001b[0m\u001b[0mindex\u001b[0m\u001b[1;33m.\u001b[0m\u001b[0mget_level_values\u001b[0m\u001b[1;33m(\u001b[0m\u001b[1;34m\"year\"\u001b[0m\u001b[1;33m)\u001b[0m\u001b[1;33m.\u001b[0m\u001b[0munique\u001b[0m\u001b[1;33m(\u001b[0m\u001b[1;33m)\u001b[0m\u001b[1;33m\u001b[0m\u001b[1;33m\u001b[0m\u001b[0m\n\u001b[0m\u001b[0;32m     29\u001b[0m }\n",
      "\u001b[1;32m<ipython-input-13-dd4cdd1519b4>\u001b[0m in \u001b[0;36m<dictcomp>\u001b[1;34m(.0)\u001b[0m\n\u001b[0;32m     26\u001b[0m         \u001b[0mname\u001b[0m\u001b[1;33m=\u001b[0m\u001b[0mc\u001b[0m\u001b[1;33m,\u001b[0m \u001b[0mvisible\u001b[0m\u001b[1;33m=\u001b[0m\u001b[1;32mFalse\u001b[0m\u001b[1;33m,\u001b[0m\u001b[1;33m\u001b[0m\u001b[1;33m\u001b[0m\u001b[0m\n\u001b[0;32m     27\u001b[0m     )\n\u001b[1;32m---> 28\u001b[1;33m     \u001b[1;32mfor\u001b[0m \u001b[0mc\u001b[0m \u001b[1;32min\u001b[0m \u001b[0mdf\u001b[0m\u001b[1;33m.\u001b[0m\u001b[0mindex\u001b[0m\u001b[1;33m.\u001b[0m\u001b[0mget_level_values\u001b[0m\u001b[1;33m(\u001b[0m\u001b[1;34m\"year\"\u001b[0m\u001b[1;33m)\u001b[0m\u001b[1;33m.\u001b[0m\u001b[0munique\u001b[0m\u001b[1;33m(\u001b[0m\u001b[1;33m)\u001b[0m\u001b[1;33m\u001b[0m\u001b[1;33m\u001b[0m\u001b[0m\n\u001b[0m\u001b[0;32m     29\u001b[0m }\n",
      "\u001b[1;32m~\\Anaconda3\\lib\\site-packages\\plotly\\express\\_chart_types.py\u001b[0m in \u001b[0;36mbar\u001b[1;34m(data_frame, x, y, color, pattern_shape, facet_row, facet_col, facet_col_wrap, facet_row_spacing, facet_col_spacing, hover_name, hover_data, custom_data, text, base, error_x, error_x_minus, error_y, error_y_minus, animation_frame, animation_group, category_orders, labels, color_discrete_sequence, color_discrete_map, color_continuous_scale, pattern_shape_sequence, pattern_shape_map, range_color, color_continuous_midpoint, opacity, orientation, barmode, log_x, log_y, range_x, range_y, title, template, width, height)\u001b[0m\n\u001b[0;32m    367\u001b[0m         \u001b[0mconstructor\u001b[0m\u001b[1;33m=\u001b[0m\u001b[0mgo\u001b[0m\u001b[1;33m.\u001b[0m\u001b[0mBar\u001b[0m\u001b[1;33m,\u001b[0m\u001b[1;33m\u001b[0m\u001b[1;33m\u001b[0m\u001b[0m\n\u001b[0;32m    368\u001b[0m         \u001b[0mtrace_patch\u001b[0m\u001b[1;33m=\u001b[0m\u001b[0mdict\u001b[0m\u001b[1;33m(\u001b[0m\u001b[0mtextposition\u001b[0m\u001b[1;33m=\u001b[0m\u001b[1;34m\"auto\"\u001b[0m\u001b[1;33m)\u001b[0m\u001b[1;33m,\u001b[0m\u001b[1;33m\u001b[0m\u001b[1;33m\u001b[0m\u001b[0m\n\u001b[1;32m--> 369\u001b[1;33m         \u001b[0mlayout_patch\u001b[0m\u001b[1;33m=\u001b[0m\u001b[0mdict\u001b[0m\u001b[1;33m(\u001b[0m\u001b[0mbarmode\u001b[0m\u001b[1;33m=\u001b[0m\u001b[0mbarmode\u001b[0m\u001b[1;33m)\u001b[0m\u001b[1;33m,\u001b[0m\u001b[1;33m\u001b[0m\u001b[1;33m\u001b[0m\u001b[0m\n\u001b[0m\u001b[0;32m    370\u001b[0m     )\n\u001b[0;32m    371\u001b[0m \u001b[1;33m\u001b[0m\u001b[0m\n",
      "\u001b[1;32m~\\Anaconda3\\lib\\site-packages\\plotly\\express\\_core.py\u001b[0m in \u001b[0;36mmake_figure\u001b[1;34m(args, constructor, trace_patch, layout_patch)\u001b[0m\n\u001b[0;32m   1931\u001b[0m     \u001b[0mapply_default_cascade\u001b[0m\u001b[1;33m(\u001b[0m\u001b[0margs\u001b[0m\u001b[1;33m)\u001b[0m\u001b[1;33m\u001b[0m\u001b[1;33m\u001b[0m\u001b[0m\n\u001b[0;32m   1932\u001b[0m \u001b[1;33m\u001b[0m\u001b[0m\n\u001b[1;32m-> 1933\u001b[1;33m     \u001b[0margs\u001b[0m \u001b[1;33m=\u001b[0m \u001b[0mbuild_dataframe\u001b[0m\u001b[1;33m(\u001b[0m\u001b[0margs\u001b[0m\u001b[1;33m,\u001b[0m \u001b[0mconstructor\u001b[0m\u001b[1;33m)\u001b[0m\u001b[1;33m\u001b[0m\u001b[1;33m\u001b[0m\u001b[0m\n\u001b[0m\u001b[0;32m   1934\u001b[0m     \u001b[1;32mif\u001b[0m \u001b[0mconstructor\u001b[0m \u001b[1;32min\u001b[0m \u001b[1;33m[\u001b[0m\u001b[0mgo\u001b[0m\u001b[1;33m.\u001b[0m\u001b[0mTreemap\u001b[0m\u001b[1;33m,\u001b[0m \u001b[0mgo\u001b[0m\u001b[1;33m.\u001b[0m\u001b[0mSunburst\u001b[0m\u001b[1;33m,\u001b[0m \u001b[0mgo\u001b[0m\u001b[1;33m.\u001b[0m\u001b[0mIcicle\u001b[0m\u001b[1;33m]\u001b[0m \u001b[1;32mand\u001b[0m \u001b[0margs\u001b[0m\u001b[1;33m[\u001b[0m\u001b[1;34m\"path\"\u001b[0m\u001b[1;33m]\u001b[0m \u001b[1;32mis\u001b[0m \u001b[1;32mnot\u001b[0m \u001b[1;32mNone\u001b[0m\u001b[1;33m:\u001b[0m\u001b[1;33m\u001b[0m\u001b[1;33m\u001b[0m\u001b[0m\n\u001b[0;32m   1935\u001b[0m         \u001b[0margs\u001b[0m \u001b[1;33m=\u001b[0m \u001b[0mprocess_dataframe_hierarchy\u001b[0m\u001b[1;33m(\u001b[0m\u001b[0margs\u001b[0m\u001b[1;33m)\u001b[0m\u001b[1;33m\u001b[0m\u001b[1;33m\u001b[0m\u001b[0m\n",
      "\u001b[1;32m~\\Anaconda3\\lib\\site-packages\\plotly\\express\\_core.py\u001b[0m in \u001b[0;36mbuild_dataframe\u001b[1;34m(args, constructor)\u001b[0m\n\u001b[0;32m   1404\u001b[0m \u001b[1;33m\u001b[0m\u001b[0m\n\u001b[0;32m   1405\u001b[0m     df_output, wide_id_vars = process_args_into_dataframe(\n\u001b[1;32m-> 1406\u001b[1;33m         \u001b[0margs\u001b[0m\u001b[1;33m,\u001b[0m \u001b[0mwide_mode\u001b[0m\u001b[1;33m,\u001b[0m \u001b[0mvar_name\u001b[0m\u001b[1;33m,\u001b[0m \u001b[0mvalue_name\u001b[0m\u001b[1;33m\u001b[0m\u001b[1;33m\u001b[0m\u001b[0m\n\u001b[0m\u001b[0;32m   1407\u001b[0m     )\n\u001b[0;32m   1408\u001b[0m \u001b[1;33m\u001b[0m\u001b[0m\n",
      "\u001b[1;32m~\\Anaconda3\\lib\\site-packages\\plotly\\express\\_core.py\u001b[0m in \u001b[0;36mprocess_args_into_dataframe\u001b[1;34m(args, wide_mode, var_name, value_name)\u001b[0m\n\u001b[0;32m   1205\u001b[0m                         \u001b[1;32mif\u001b[0m \u001b[0margument\u001b[0m \u001b[1;33m==\u001b[0m \u001b[1;34m\"index\"\u001b[0m\u001b[1;33m:\u001b[0m\u001b[1;33m\u001b[0m\u001b[1;33m\u001b[0m\u001b[0m\n\u001b[0;32m   1206\u001b[0m                             \u001b[0merr_msg\u001b[0m \u001b[1;33m+=\u001b[0m \u001b[1;34m\"\\n To use the index, pass it in directly as `df.index`.\"\u001b[0m\u001b[1;33m\u001b[0m\u001b[1;33m\u001b[0m\u001b[0m\n\u001b[1;32m-> 1207\u001b[1;33m                         \u001b[1;32mraise\u001b[0m \u001b[0mValueError\u001b[0m\u001b[1;33m(\u001b[0m\u001b[0merr_msg\u001b[0m\u001b[1;33m)\u001b[0m\u001b[1;33m\u001b[0m\u001b[1;33m\u001b[0m\u001b[0m\n\u001b[0m\u001b[0;32m   1208\u001b[0m                 \u001b[1;32melif\u001b[0m \u001b[0mlength\u001b[0m \u001b[1;32mand\u001b[0m \u001b[0mlen\u001b[0m\u001b[1;33m(\u001b[0m\u001b[0mdf_input\u001b[0m\u001b[1;33m[\u001b[0m\u001b[0margument\u001b[0m\u001b[1;33m]\u001b[0m\u001b[1;33m)\u001b[0m \u001b[1;33m!=\u001b[0m \u001b[0mlength\u001b[0m\u001b[1;33m:\u001b[0m\u001b[1;33m\u001b[0m\u001b[1;33m\u001b[0m\u001b[0m\n\u001b[0;32m   1209\u001b[0m                     raise ValueError(\n",
      "\u001b[1;31mValueError\u001b[0m: Value of 'x' is not the name of a column in 'data_frame'. Expected one of ['quarter', 'value'] but received: Average Fare Across all Flights"
     ]
    }
   ],
   "source": [
    "# This visualization will serve to observe the s\n",
    "# percent of short and long haul passenger based on the average fare price\n",
    "\n",
    "consumer_fares_reshape = pd.melt(consumer_fares.rename(columns = {\n",
    "    'perc_sh_passengers':'Percent of Short Haul Passengers', \n",
    "    'perc_lh_passengers':'Percent of Long Haul Passengers', \n",
    "    'Total_avg_hub_fare':'Average Fare Across all Flights'\n",
    "    }), \n",
    "                                  id_vars = ['year', 'quarter'], \n",
    "                                  value_vars=['Percent of Short Haul Passengers', \n",
    "                                              'Percent of Long Haul Passengers',\n",
    "                                              'Average Fare Across all Flights'\n",
    "                                              ])\n",
    "\n",
    "df = consumer_fares_reshape[['year', 'quarter','value']].set_index(['year', 'quarter'])['value']\n",
    "\n",
    "figs = {\n",
    "    c: px.bar(df.loc[c].reset_index(), x=\"Average Fare Across all Flights\", \n",
    "              y=[\"Percent of Short Haul Passengers\", \"Percent of Long Haul Passengers\"], \n",
    "              labels = {\n",
    "                 'value':'Percent of Passengers Flying', \n",
    "                 'variable':'Type of Flight'\n",
    "             }, \n",
    "             title=\"Percent of Passengers Flying based on the Average Fare Price\",\n",
    "        color_discrete_sequence=px.colors.qualitative.Dark24).update_traces(\n",
    "        name=c, visible=False, \n",
    "    )\n",
    "    for c in df.index.get_level_values(\"year\").unique()\n",
    "}\n"
   ]
  },
  {
   "cell_type": "code",
   "execution_count": null,
   "metadata": {},
   "outputs": [],
   "source": []
  }
 ],
 "metadata": {
  "kernelspec": {
   "display_name": "Python 3",
   "language": "python",
   "name": "python3"
  },
  "language_info": {
   "codemirror_mode": {
    "name": "ipython",
    "version": 3
   },
   "file_extension": ".py",
   "mimetype": "text/x-python",
   "name": "python",
   "nbconvert_exporter": "python",
   "pygments_lexer": "ipython3",
   "version": "3.7.4"
  }
 },
 "nbformat": 4,
 "nbformat_minor": 2
}
