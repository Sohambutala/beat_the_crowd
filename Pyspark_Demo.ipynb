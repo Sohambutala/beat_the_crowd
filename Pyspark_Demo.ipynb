{
 "cells": [
  {
   "cell_type": "code",
   "execution_count": 36,
   "id": "0f399b9e",
   "metadata": {},
   "outputs": [],
   "source": [
    "# import pyspark\n",
    "# from pyspark.storagelevel import StorageLevel"
   ]
  },
  {
   "cell_type": "code",
   "execution_count": 11,
   "id": "42debab5",
   "metadata": {},
   "outputs": [
    {
     "data": {
      "text/plain": [
       "'C:\\\\Users\\\\aadit\\\\anaconda3\\\\envs\\\\beat_the_crowd\\\\lib\\\\site-packages\\\\pyspark'"
      ]
     },
     "execution_count": 11,
     "metadata": {},
     "output_type": "execute_result"
    }
   ],
   "source": [
    "# import findspark\n",
    "# findspark.init()\n",
    "# findspark.find()"
   ]
  },
  {
   "cell_type": "code",
   "execution_count": 10,
   "id": "b881193c",
   "metadata": {},
   "outputs": [
    {
     "name": "stdout",
     "output_type": "stream",
     "text": [
      "+--------+-----------+\n",
      "|language|users_count|\n",
      "+--------+-----------+\n",
      "|    Java|      20000|\n",
      "|  Python|     100000|\n",
      "|   Scala|       3000|\n",
      "+--------+-----------+\n",
      "\n"
     ]
    }
   ],
   "source": [
    "# # Import PySpark\n",
    "# from pyspark.sql import SparkSession\n",
    "\n",
    "# # #Create SparkSession\n",
    "# # spark = SparkSession.builder.appName('SparkByExamples.com').getOrCreate()\n",
    "\n",
    "# # # Data\n",
    "# # data = [(\"Java\", \"20000\"), (\"Python\", \"100000\"), (\"Scala\", \"3000\")]\n",
    "\n",
    "# # # Columns\n",
    "# # columns = [\"language\",\"users_count\"]\n",
    "\n",
    "# # # Create DataFrame\n",
    "# # df = spark.createDataFrame(data).toDF(*columns)\n",
    "\n",
    "# # # Print DataFrame\n",
    "# # df.show()"
   ]
  },
  {
   "cell_type": "code",
   "execution_count": 31,
   "id": "a63cee02",
   "metadata": {},
   "outputs": [],
   "source": [
    "# spark = SparkSession.builder \\\n",
    "#     .appName(\"Read CSV and Persist\") \\\n",
    "#     .master(\"local[*]\") \\\n",
    "#     .getOrCreate()"
   ]
  },
  {
   "cell_type": "code",
   "execution_count": 32,
   "id": "880594af",
   "metadata": {},
   "outputs": [],
   "source": [
    "# df = spark.read \\\n",
    "#     .format(\"csv\") \\\n",
    "#     .option(\"header\", \"true\") \\\n",
    "#     .load(\"data/pipeline_data/Detailed_Statistics_Departures.csv\")"
   ]
  },
  {
   "cell_type": "code",
   "execution_count": 42,
   "id": "12c6efe7",
   "metadata": {},
   "outputs": [
    {
     "data": {
      "text/plain": [
       "DataFrame[Carrier Code: string, Date (MM/DD/YYYY): string, Flight Number: string, Tail Number: string, Destination Airport: string, Scheduled departure time: string, Actual departure time: string, Scheduled elapsed time (Minutes): string, Actual elapsed time (Minutes): string, Departure delay (Minutes): string, Wheels-off time: string, Taxi-Out time (Minutes): string, Delay Carrier (Minutes): string, Delay Weather (Minutes): string, Delay National Aviation System (Minutes): string, Delay Security (Minutes): string, Delay Late Aircraft Arrival (Minutes): string]"
      ]
     },
     "execution_count": 42,
     "metadata": {},
     "output_type": "execute_result"
    }
   ],
   "source": [
    "# df.persist(StorageLevel.MEMORY_AND_DISK)"
   ]
  },
  {
   "cell_type": "code",
   "execution_count": 43,
   "id": "e5f2afbd",
   "metadata": {},
   "outputs": [
    {
     "name": "stdout",
     "output_type": "stream",
     "text": [
      "Disk Serialized 1x Replicated\n"
     ]
    }
   ],
   "source": [
    "# print(df.storageLevel)"
   ]
  },
  {
   "cell_type": "code",
   "execution_count": 38,
   "id": "7487a7e9",
   "metadata": {},
   "outputs": [],
   "source": [
    "#df.show()"
   ]
  },
  {
   "cell_type": "code",
   "execution_count": 39,
   "id": "509a0f97",
   "metadata": {},
   "outputs": [],
   "source": [
    "#result = df.select(\"`Departure delay (Minutes)`\").filter(\"`Departure delay (Minutes)` > 10\")"
   ]
  },
  {
   "cell_type": "code",
   "execution_count": 40,
   "id": "50fb30ea",
   "metadata": {},
   "outputs": [],
   "source": [
    "#result.show()"
   ]
  },
  {
   "cell_type": "code",
   "execution_count": 5,
   "id": "f353d421",
   "metadata": {},
   "outputs": [],
   "source": [
    "import pyodbc\n",
    "\n",
    "# Connect to the database\n",
    "DRIVER_NAME = 'SQL SERVER'\n",
    "SERVER_NAME = 'Sniperwolf'\n",
    "DATABASE_NAME = 'DEMODB'\n",
    "connection_string=f\"\"\"\n",
    "    DRIVER={{{DRIVER_NAME}}};\n",
    "    SERVER={SERVER_NAME};\n",
    "    DATABASE={DATABASE_NAME};\n",
    "    Trust_Connection=yes;\n",
    "\"\"\"\n",
    "cnxn = pyodbc.connect(connection_string)\n",
    "\n"
   ]
  },
  {
   "cell_type": "code",
   "execution_count": 6,
   "id": "00d1e2bb",
   "metadata": {},
   "outputs": [],
   "source": [
    "# Execute a SQL query\n",
    "cursor = cnxn.cursor()\n"
   ]
  },
  {
   "cell_type": "code",
   "execution_count": 7,
   "id": "a782266c",
   "metadata": {},
   "outputs": [
    {
     "data": {
      "text/plain": [
       "<pyodbc.Cursor at 0x247fe532cb0>"
      ]
     },
     "execution_count": 7,
     "metadata": {},
     "output_type": "execute_result"
    }
   ],
   "source": [
    "cursor.execute(\"\"\"CREATE TABLE airline_stats (\n",
    "    source VARCHAR(255),\n",
    "    destination VARCHAR(255),\n",
    "    carrier VARCHAR(255),\n",
    "    date DATE,\n",
    "    flightNumber VARCHAR(255),\n",
    "    tailNumber VARCHAR(255),\n",
    "    scheduledDepartureTime VARCHAR(255),\n",
    "    actualDepartureTime VARCHAR(255),\n",
    "    scheduledElapsedMinutes INT,\n",
    "    actualElapsedMinutes INT,\n",
    "    departureDelayMinutes INT,\n",
    "    wheelsOffTime VARCHAR(255),\n",
    "    taxiOutMinutes INT,\n",
    "    delayCarrierMinutes INT,\n",
    "    delayWeatherMinutes INT,\n",
    "    delayNationalAviationSystemMinutes INT,\n",
    "    delaySecurityMinutes INT,\n",
    "    delayLateAircraftArrivalMinutes INT\n",
    ");\"\"\")\n",
    "\n"
   ]
  },
  {
   "cell_type": "code",
   "execution_count": null,
   "id": "c7596e17",
   "metadata": {},
   "outputs": [],
   "source": [
    "\n",
    "# Retrieve the results\n",
    "rows = cursor.fetchall()\n",
    "for row in rows:\n",
    "    print(row)\n",
    "    \n",
    "# Close the connection\n",
    "cnxn.close()"
   ]
  },
  {
   "cell_type": "code",
   "execution_count": null,
   "id": "ae288770",
   "metadata": {},
   "outputs": [],
   "source": []
  },
  {
   "cell_type": "code",
   "execution_count": null,
   "id": "114e0bff",
   "metadata": {},
   "outputs": [],
   "source": []
  },
  {
   "cell_type": "code",
   "execution_count": null,
   "id": "628e1e96",
   "metadata": {},
   "outputs": [],
   "source": []
  }
 ],
 "metadata": {
  "kernelspec": {
   "display_name": "Python 3 (ipykernel)",
   "language": "python",
   "name": "python3"
  },
  "language_info": {
   "codemirror_mode": {
    "name": "ipython",
    "version": 3
   },
   "file_extension": ".py",
   "mimetype": "text/x-python",
   "name": "python",
   "nbconvert_exporter": "python",
   "pygments_lexer": "ipython3",
   "version": "3.10.9"
  }
 },
 "nbformat": 4,
 "nbformat_minor": 5
}
