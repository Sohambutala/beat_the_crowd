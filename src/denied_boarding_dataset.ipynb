{
 "cells": [
  {
   "cell_type": "code",
   "execution_count": 2,
   "metadata": {},
   "outputs": [],
   "source": [
    "import pandas as pd\n",
    "import plotly as p\n",
    "import plotly.express as px \n",
    "import plotly.io as pio\n",
    "import plotly.graph_objects as go\n",
    "import numpy as np\n",
    "pio.templates.default = \"plotly_dark\""
   ]
  },
  {
   "cell_type": "code",
   "execution_count": 201,
   "metadata": {},
   "outputs": [],
   "source": [
    "\n",
    "years = list(map(str, list(range(2018, 2022, 1)))) # years with data available on BTS\n",
    "quarters = (\"Q1\", \"Q2\", \"Q3\", \"Q4\")\n",
    "denied_board_dfs = list()\n",
    "\n",
    "# read in data that uses new reporting method - excel sheet with sheet for each quarter \n",
    "for year in years: \n",
    "    for quarter in quarters:\n",
    "        file_path = \"..\\\\raw_data\\\\denied_boarding\\\\Denied-Confirmed-Space-\" + year + \"-Operating-Carrier.xlsx\"\n",
    "        sheet = quarter + year\n",
    "        df = pd.read_excel(file_path, sheet_name=sheet, header = 2)\n",
    "        # column definitions changed in 2021\n",
    "        if (year != \"2021\"):\n",
    "            df[6] = df[7]\n",
    "            df[7] = df['8(c)']\n",
    "            df = df[['CARRIER',    \n",
    "                     '1(a)',    \n",
    "                     '1(b)',    \n",
    "                     '2(a)',    \n",
    "                     '2(b)',    \n",
    "                     '2(c)',\n",
    "                     3,         \n",
    "                     4,         \n",
    "                     5,\n",
    "                     6,\n",
    "                     7]]\n",
    "        df['year'] = year\n",
    "        df['quarter'] = quarter + \" \" + year\n",
    "        df = df[pd.isna(df[6]) != True ]\n",
    "        denied_board_dfs.append(df)\n",
    "        \n",
    "denied_boarding = pd.concat(denied_board_dfs)\n",
    "\n",
    "denied_boarding[1] = denied_boarding['1(a)']+denied_boarding['1(b)']\n",
    "denied_boarding[2] = denied_boarding['2(a)']+denied_boarding['2(b)']+denied_boarding['2(c)']\n",
    "denied_boarding['perc_denied_boarding'] = round((denied_boarding[3] + denied_boarding[5])/denied_boarding[6], 6)*100\n",
    "denied_boarding['perc_denied_boarding_involuntary'] = round(denied_boarding[3]/denied_boarding[6], 6)*100\n",
    "denied_boarding['perc_denied_boarding_voluntary'] = round(denied_boarding[5]/denied_boarding[6], 6)*100\n",
    "\n",
    "denied_boarding['date'] = pd.to_datetime([\n",
    "    '-'.join(x.split()[::-1]) for x in denied_boarding['quarter']])\n",
    "\n",
    "denied_boarding.to_csv(\"..\\\\clean_data\\\\denied_boarding.csv\")"
   ]
  },
  {
   "cell_type": "code",
   "execution_count": 142,
   "metadata": {},
   "outputs": [
    {
     "data": {
      "text/plain": [
       "array(['Alaska Airlines', 'Allegiant Airlines', 'American Airlines',\n",
       "       'Delta Air Lines', 'Endeavor Air', 'Envoy Air',\n",
       "       'ExpressJet Airlines', 'Frontier Airlines', 'Hawaiian Airlines',\n",
       "       'JetBlue Airways', 'Mesa Airlines', 'PSA Airlines',\n",
       "       'Republic Airline', 'SkyWest Airlines', 'Southwest Airlines',\n",
       "       'Spirit Airlines', 'United Air Lines', 'Virgin America ',\n",
       "       'Alaska Airlines Codeshare', 'Allegiant Air', 'Republic Airways',\n",
       "       'United Airlines', 'Horizon Air'], dtype=object)"
      ]
     },
     "execution_count": 142,
     "metadata": {},
     "output_type": "execute_result"
    }
   ],
   "source": [
    "denied_boarding.CARRIER.unique()"
   ]
  },
  {
   "cell_type": "code",
   "execution_count": 199,
   "metadata": {},
   "outputs": [
    {
     "data": {
      "application/vnd.plotly.v1+json": {
       "config": {
        "plotlyServerURL": "https://plot.ly"
       },
       "data": [
        {
         "fillpattern": {
          "shape": ""
         },
         "hovertemplate": "Denial Type=Voluntary<br>Date=%{x}<br>Percent of Passengers Denied Boarding=%{y}<extra></extra>",
         "legendgroup": "Voluntary",
         "line": {
          "color": "#2E91E5"
         },
         "marker": {
          "symbol": "circle"
         },
         "mode": "lines",
         "name": "Voluntary",
         "orientation": "v",
         "showlegend": true,
         "stackgroup": "1",
         "type": "scatter",
         "visible": true,
         "x": [
          "2018-01-01T00:00:00",
          "2019-01-01T00:00:00",
          "2020-01-01T00:00:00",
          "2021-01-01T00:00:00"
         ],
         "xaxis": "x",
         "y": [
          0.0206,
          0.0328,
          0.0236,
          0.0039
         ],
         "yaxis": "y"
        },
        {
         "fillpattern": {
          "shape": ""
         },
         "hovertemplate": "Denial Type=Involuntary<br>Date=%{x}<br>Percent of Passengers Denied Boarding=%{y}<extra></extra>",
         "legendgroup": "Involuntary",
         "line": {
          "color": "#E15F99"
         },
         "marker": {
          "symbol": "circle"
         },
         "mode": "lines",
         "name": "Involuntary",
         "orientation": "v",
         "showlegend": true,
         "stackgroup": "1",
         "type": "scatter",
         "visible": true,
         "x": [
          "2018-01-01T00:00:00",
          "2019-01-01T00:00:00",
          "2020-01-01T00:00:00",
          "2021-01-01T00:00:00"
         ],
         "xaxis": "x",
         "y": [
          0.0021,
          0.0021,
          0.0005,
          0.00009999999999999999
         ],
         "yaxis": "y"
        },
        {
         "fillpattern": {
          "shape": ""
         },
         "hovertemplate": "Denial Type=Voluntary<br>Date=%{x}<br>Percent of Passengers Denied Boarding=%{y}<extra></extra>",
         "legendgroup": "Voluntary",
         "line": {
          "color": "#2E91E5"
         },
         "marker": {
          "symbol": "circle"
         },
         "mode": "lines",
         "name": "Voluntary",
         "orientation": "v",
         "showlegend": true,
         "stackgroup": "1",
         "type": "scatter",
         "x": [
          "2018-01-01T00:00:00",
          "2018-07-01T00:00:00",
          "2018-10-01T00:00:00",
          "2019-01-01T00:00:00",
          "2019-07-01T00:00:00",
          "2019-10-01T00:00:00",
          "2020-01-01T00:00:00",
          "2020-04-01T00:00:00",
          "2020-07-01T00:00:00",
          "2020-10-01T00:00:00",
          "2021-01-01T00:00:00",
          "2021-04-01T00:00:00",
          "2021-07-01T00:00:00",
          "2021-10-01T00:00:00"
         ],
         "xaxis": "x",
         "y": [
          0,
          0.004,
          0.0014,
          0.001,
          0.0034999999999999996,
          0.009600000000000001,
          0.0085,
          0.0012000000000000001,
          0.0005,
          0.00030000000000000003,
          0.00009999999999999999,
          0.0055000000000000005,
          0.0134,
          0.0116
         ],
         "yaxis": "y"
        },
        {
         "fillpattern": {
          "shape": ""
         },
         "hovertemplate": "Denial Type=Involuntary<br>Date=%{x}<br>Percent of Passengers Denied Boarding=%{y}<extra></extra>",
         "legendgroup": "Involuntary",
         "line": {
          "color": "#E15F99"
         },
         "marker": {
          "symbol": "circle"
         },
         "mode": "lines",
         "name": "Involuntary",
         "orientation": "v",
         "showlegend": true,
         "stackgroup": "1",
         "type": "scatter",
         "x": [
          "2018-01-01T00:00:00",
          "2018-07-01T00:00:00",
          "2018-10-01T00:00:00",
          "2019-01-01T00:00:00",
          "2019-07-01T00:00:00",
          "2019-10-01T00:00:00",
          "2020-01-01T00:00:00",
          "2020-04-01T00:00:00",
          "2020-07-01T00:00:00",
          "2020-10-01T00:00:00",
          "2021-01-01T00:00:00",
          "2021-04-01T00:00:00",
          "2021-07-01T00:00:00",
          "2021-10-01T00:00:00"
         ],
         "xaxis": "x",
         "y": [
          0.0018,
          0.0022,
          0.002,
          0.0147,
          0.00009999999999999999,
          0.00009999999999999999,
          0,
          0,
          0,
          0,
          0,
          0,
          0,
          0
         ],
         "yaxis": "y"
        },
        {
         "fillpattern": {
          "shape": ""
         },
         "hovertemplate": "Denial Type=Voluntary<br>Date=%{x}<br>Percent of Passengers Denied Boarding=%{y}<extra></extra>",
         "legendgroup": "Voluntary",
         "line": {
          "color": "#2E91E5"
         },
         "marker": {
          "symbol": "circle"
         },
         "mode": "lines",
         "name": "Voluntary",
         "orientation": "v",
         "showlegend": true,
         "stackgroup": "1",
         "type": "scatter",
         "x": [
          "2018-01-01T00:00:00",
          "2018-04-01T00:00:00",
          "2018-07-01T00:00:00",
          "2018-10-01T00:00:00",
          "2019-01-01T00:00:00",
          "2019-04-01T00:00:00",
          "2019-07-01T00:00:00",
          "2019-10-01T00:00:00",
          "2020-01-01T00:00:00",
          "2020-04-01T00:00:00",
          "2020-07-01T00:00:00",
          "2020-10-01T00:00:00",
          "2021-01-01T00:00:00",
          "2021-04-01T00:00:00",
          "2021-07-01T00:00:00",
          "2021-10-01T00:00:00"
         ],
         "xaxis": "x",
         "y": [
          0.04970000000000001,
          0.036699999999999997,
          0.0371,
          0.0605,
          0.0857,
          0.1151,
          0.0709,
          0.043800000000000006,
          0.0223,
          0.012,
          0.0212,
          0.004,
          0.009899999999999999,
          0.0183,
          0.019,
          0.026699999999999998
         ],
         "yaxis": "y"
        },
        {
         "fillpattern": {
          "shape": ""
         },
         "hovertemplate": "Denial Type=Involuntary<br>Date=%{x}<br>Percent of Passengers Denied Boarding=%{y}<extra></extra>",
         "legendgroup": "Involuntary",
         "line": {
          "color": "#E15F99"
         },
         "marker": {
          "symbol": "circle"
         },
         "mode": "lines",
         "name": "Involuntary",
         "orientation": "v",
         "showlegend": true,
         "stackgroup": "1",
         "type": "scatter",
         "x": [
          "2018-01-01T00:00:00",
          "2018-04-01T00:00:00",
          "2018-07-01T00:00:00",
          "2018-10-01T00:00:00",
          "2019-01-01T00:00:00",
          "2019-04-01T00:00:00",
          "2019-07-01T00:00:00",
          "2019-10-01T00:00:00",
          "2020-01-01T00:00:00",
          "2020-04-01T00:00:00",
          "2020-07-01T00:00:00",
          "2020-10-01T00:00:00",
          "2021-01-01T00:00:00",
          "2021-04-01T00:00:00",
          "2021-07-01T00:00:00",
          "2021-10-01T00:00:00"
         ],
         "xaxis": "x",
         "y": [
          0.0015,
          0.0006000000000000001,
          0.0011,
          0.004699999999999999,
          0.0052,
          0.0091,
          0.0052,
          0.003,
          0.0017,
          0.0015999999999999999,
          0.004699999999999999,
          0.00019999999999999998,
          0.0005,
          0.0014,
          0.0015,
          0.0036
         ],
         "yaxis": "y"
        },
        {
         "fillpattern": {
          "shape": ""
         },
         "hovertemplate": "Denial Type=Voluntary<br>Date=%{x}<br>Percent of Passengers Denied Boarding=%{y}<extra></extra>",
         "legendgroup": "Voluntary",
         "line": {
          "color": "#2E91E5"
         },
         "marker": {
          "symbol": "circle"
         },
         "mode": "lines",
         "name": "Voluntary",
         "orientation": "v",
         "showlegend": true,
         "stackgroup": "1",
         "type": "scatter",
         "x": [
          "2018-01-01T00:00:00",
          "2018-04-01T00:00:00",
          "2018-07-01T00:00:00",
          "2018-10-01T00:00:00",
          "2019-01-01T00:00:00",
          "2019-04-01T00:00:00",
          "2019-07-01T00:00:00",
          "2019-10-01T00:00:00",
          "2020-01-01T00:00:00",
          "2020-04-01T00:00:00",
          "2020-07-01T00:00:00",
          "2020-10-01T00:00:00",
          "2021-01-01T00:00:00",
          "2021-04-01T00:00:00",
          "2021-07-01T00:00:00",
          "2021-10-01T00:00:00"
         ],
         "xaxis": "x",
         "y": [
          0.077,
          0.0486,
          0.0477,
          0.0654,
          0.0867,
          0.0838,
          0.0615,
          0.0713,
          0.0588,
          0.0523,
          0.0068,
          0.005,
          0.010799999999999999,
          0.0134,
          0.04,
          0.0349
         ],
         "yaxis": "y"
        },
        {
         "fillpattern": {
          "shape": ""
         },
         "hovertemplate": "Denial Type=Involuntary<br>Date=%{x}<br>Percent of Passengers Denied Boarding=%{y}<extra></extra>",
         "legendgroup": "Involuntary",
         "line": {
          "color": "#E15F99"
         },
         "marker": {
          "symbol": "circle"
         },
         "mode": "lines",
         "name": "Involuntary",
         "orientation": "v",
         "showlegend": true,
         "stackgroup": "1",
         "type": "scatter",
         "x": [
          "2018-01-01T00:00:00",
          "2018-04-01T00:00:00",
          "2018-07-01T00:00:00",
          "2018-10-01T00:00:00",
          "2019-01-01T00:00:00",
          "2019-04-01T00:00:00",
          "2019-07-01T00:00:00",
          "2019-10-01T00:00:00",
          "2020-01-01T00:00:00",
          "2020-04-01T00:00:00",
          "2020-07-01T00:00:00",
          "2020-10-01T00:00:00",
          "2021-01-01T00:00:00",
          "2021-04-01T00:00:00",
          "2021-07-01T00:00:00",
          "2021-10-01T00:00:00"
         ],
         "xaxis": "x",
         "y": [
          0,
          0,
          0,
          0,
          0,
          0,
          0,
          0,
          0,
          0,
          0,
          0,
          0,
          0,
          0,
          0
         ],
         "yaxis": "y"
        },
        {
         "fillpattern": {
          "shape": ""
         },
         "hovertemplate": "Denial Type=Voluntary<br>Date=%{x}<br>Percent of Passengers Denied Boarding=%{y}<extra></extra>",
         "legendgroup": "Voluntary",
         "line": {
          "color": "#2E91E5"
         },
         "marker": {
          "symbol": "circle"
         },
         "mode": "lines",
         "name": "Voluntary",
         "orientation": "v",
         "showlegend": true,
         "stackgroup": "1",
         "type": "scatter",
         "x": [
          "2018-01-01T00:00:00",
          "2018-04-01T00:00:00",
          "2018-07-01T00:00:00",
          "2018-10-01T00:00:00",
          "2019-01-01T00:00:00",
          "2019-04-01T00:00:00",
          "2019-07-01T00:00:00",
          "2019-10-01T00:00:00",
          "2020-01-01T00:00:00",
          "2020-04-01T00:00:00",
          "2020-07-01T00:00:00",
          "2020-10-01T00:00:00",
          "2021-01-01T00:00:00",
          "2021-04-01T00:00:00",
          "2021-07-01T00:00:00",
          "2021-10-01T00:00:00"
         ],
         "xaxis": "x",
         "y": [
          0.1151,
          0.11329999999999998,
          0.1458,
          0.1323,
          0.1423,
          0.21259999999999998,
          0.1675,
          0.1791,
          0.12739999999999999,
          0.0686,
          0.005,
          0.0116,
          0.019799999999999998,
          0.0336,
          0.0952,
          0.078
         ],
         "yaxis": "y"
        },
        {
         "fillpattern": {
          "shape": ""
         },
         "hovertemplate": "Denial Type=Involuntary<br>Date=%{x}<br>Percent of Passengers Denied Boarding=%{y}<extra></extra>",
         "legendgroup": "Involuntary",
         "line": {
          "color": "#E15F99"
         },
         "marker": {
          "symbol": "circle"
         },
         "mode": "lines",
         "name": "Involuntary",
         "orientation": "v",
         "showlegend": true,
         "stackgroup": "1",
         "type": "scatter",
         "x": [
          "2018-01-01T00:00:00",
          "2018-04-01T00:00:00",
          "2018-07-01T00:00:00",
          "2018-10-01T00:00:00",
          "2019-01-01T00:00:00",
          "2019-04-01T00:00:00",
          "2019-07-01T00:00:00",
          "2019-10-01T00:00:00",
          "2020-01-01T00:00:00",
          "2020-04-01T00:00:00",
          "2020-07-01T00:00:00",
          "2020-10-01T00:00:00",
          "2021-01-01T00:00:00",
          "2021-04-01T00:00:00",
          "2021-07-01T00:00:00",
          "2021-10-01T00:00:00"
         ],
         "xaxis": "x",
         "y": [
          0.00009999999999999999,
          0,
          0,
          0.00009999999999999999,
          0,
          0,
          0,
          0,
          0,
          0,
          0,
          0,
          0,
          0,
          0,
          0
         ],
         "yaxis": "y"
        },
        {
         "fillpattern": {
          "shape": ""
         },
         "hovertemplate": "Denial Type=Voluntary<br>Date=%{x}<br>Percent of Passengers Denied Boarding=%{y}<extra></extra>",
         "legendgroup": "Voluntary",
         "line": {
          "color": "#2E91E5"
         },
         "marker": {
          "symbol": "circle"
         },
         "mode": "lines",
         "name": "Voluntary",
         "orientation": "v",
         "showlegend": true,
         "stackgroup": "1",
         "type": "scatter",
         "x": [
          "2018-01-01T00:00:00",
          "2018-04-01T00:00:00",
          "2018-07-01T00:00:00",
          "2018-10-01T00:00:00",
          "2019-01-01T00:00:00",
          "2019-04-01T00:00:00",
          "2019-07-01T00:00:00",
          "2019-10-01T00:00:00",
          "2020-01-01T00:00:00",
          "2020-04-01T00:00:00",
          "2020-07-01T00:00:00",
          "2020-10-01T00:00:00",
          "2021-01-01T00:00:00",
          "2021-04-01T00:00:00",
          "2021-07-01T00:00:00",
          "2021-10-01T00:00:00"
         ],
         "xaxis": "x",
         "y": [
          0.13040000000000002,
          0.1251,
          0.10139999999999999,
          0.0939,
          0.1213,
          0.1183,
          0.0851,
          0.0655,
          0.06620000000000001,
          0.0224,
          0.0375,
          0.0189,
          0.0391,
          0.0417,
          0.0317,
          0.0535
         ],
         "yaxis": "y"
        },
        {
         "fillpattern": {
          "shape": ""
         },
         "hovertemplate": "Denial Type=Involuntary<br>Date=%{x}<br>Percent of Passengers Denied Boarding=%{y}<extra></extra>",
         "legendgroup": "Involuntary",
         "line": {
          "color": "#E15F99"
         },
         "marker": {
          "symbol": "circle"
         },
         "mode": "lines",
         "name": "Involuntary",
         "orientation": "v",
         "showlegend": true,
         "stackgroup": "1",
         "type": "scatter",
         "x": [
          "2018-01-01T00:00:00",
          "2018-04-01T00:00:00",
          "2018-07-01T00:00:00",
          "2018-10-01T00:00:00",
          "2019-01-01T00:00:00",
          "2019-04-01T00:00:00",
          "2019-07-01T00:00:00",
          "2019-10-01T00:00:00",
          "2020-01-01T00:00:00",
          "2020-04-01T00:00:00",
          "2020-07-01T00:00:00",
          "2020-10-01T00:00:00",
          "2021-01-01T00:00:00",
          "2021-04-01T00:00:00",
          "2021-07-01T00:00:00",
          "2021-10-01T00:00:00"
         ],
         "xaxis": "x",
         "y": [
          0.002,
          0.0018,
          0.0048000000000000004,
          0.0137,
          0.0156,
          0.0143,
          0.0145,
          0.0147,
          0.0098,
          0.0031000000000000003,
          0.006600000000000001,
          0.0014,
          0.0015,
          0.0034,
          0.0021,
          0.0045000000000000005
         ],
         "yaxis": "y"
        },
        {
         "fillpattern": {
          "shape": ""
         },
         "hovertemplate": "Denial Type=Voluntary<br>Date=%{x}<br>Percent of Passengers Denied Boarding=%{y}<extra></extra>",
         "legendgroup": "Voluntary",
         "line": {
          "color": "#2E91E5"
         },
         "marker": {
          "symbol": "circle"
         },
         "mode": "lines",
         "name": "Voluntary",
         "orientation": "v",
         "showlegend": true,
         "stackgroup": "1",
         "type": "scatter",
         "x": [
          "2018-01-01T00:00:00",
          "2018-04-01T00:00:00",
          "2018-07-01T00:00:00",
          "2018-10-01T00:00:00",
          "2019-01-01T00:00:00",
          "2019-04-01T00:00:00",
          "2019-07-01T00:00:00",
          "2019-10-01T00:00:00",
          "2020-01-01T00:00:00",
          "2020-04-01T00:00:00",
          "2020-07-01T00:00:00"
         ],
         "xaxis": "x",
         "y": [
          0.0925,
          0.0946,
          0.0858,
          0.0903,
          0.101,
          0.121,
          0.0947,
          0.0675,
          0.054,
          0.0043,
          0.0053
         ],
         "yaxis": "y"
        },
        {
         "fillpattern": {
          "shape": ""
         },
         "hovertemplate": "Denial Type=Involuntary<br>Date=%{x}<br>Percent of Passengers Denied Boarding=%{y}<extra></extra>",
         "legendgroup": "Involuntary",
         "line": {
          "color": "#E15F99"
         },
         "marker": {
          "symbol": "circle"
         },
         "mode": "lines",
         "name": "Involuntary",
         "orientation": "v",
         "showlegend": true,
         "stackgroup": "1",
         "type": "scatter",
         "x": [
          "2018-01-01T00:00:00",
          "2018-04-01T00:00:00",
          "2018-07-01T00:00:00",
          "2018-10-01T00:00:00",
          "2019-01-01T00:00:00",
          "2019-04-01T00:00:00",
          "2019-07-01T00:00:00",
          "2019-10-01T00:00:00",
          "2020-01-01T00:00:00",
          "2020-04-01T00:00:00",
          "2020-07-01T00:00:00"
         ],
         "xaxis": "x",
         "y": [
          0.00009999999999999999,
          0.0005,
          0.00009999999999999999,
          0.0012000000000000001,
          0.00009999999999999999,
          0.00009999999999999999,
          0,
          0.00009999999999999999,
          0,
          0,
          0
         ],
         "yaxis": "y"
        },
        {
         "fillpattern": {
          "shape": ""
         },
         "hovertemplate": "Denial Type=Voluntary<br>Date=%{x}<br>Percent of Passengers Denied Boarding=%{y}<extra></extra>",
         "legendgroup": "Voluntary",
         "line": {
          "color": "#2E91E5"
         },
         "marker": {
          "symbol": "circle"
         },
         "mode": "lines",
         "name": "Voluntary",
         "orientation": "v",
         "showlegend": true,
         "stackgroup": "1",
         "type": "scatter",
         "x": [
          "2018-01-01T00:00:00",
          "2018-04-01T00:00:00",
          "2018-07-01T00:00:00",
          "2018-10-01T00:00:00",
          "2019-01-01T00:00:00",
          "2019-04-01T00:00:00",
          "2019-07-01T00:00:00",
          "2019-10-01T00:00:00",
          "2020-01-01T00:00:00",
          "2020-04-01T00:00:00",
          "2020-07-01T00:00:00",
          "2020-10-01T00:00:00",
          "2021-01-01T00:00:00",
          "2021-04-01T00:00:00",
          "2021-07-01T00:00:00",
          "2021-10-01T00:00:00"
         ],
         "xaxis": "x",
         "y": [
          0.0215,
          0.02,
          0.0349,
          0.0181,
          0.0114,
          0.016300000000000002,
          0.0156,
          0.0142,
          0.0103,
          0.0246,
          0.0102,
          0.0063999999999999994,
          0.013,
          0.0162,
          0.025799999999999997,
          0.0294
         ],
         "yaxis": "y"
        },
        {
         "fillpattern": {
          "shape": ""
         },
         "hovertemplate": "Denial Type=Involuntary<br>Date=%{x}<br>Percent of Passengers Denied Boarding=%{y}<extra></extra>",
         "legendgroup": "Involuntary",
         "line": {
          "color": "#E15F99"
         },
         "marker": {
          "symbol": "circle"
         },
         "mode": "lines",
         "name": "Involuntary",
         "orientation": "v",
         "showlegend": true,
         "stackgroup": "1",
         "type": "scatter",
         "x": [
          "2018-01-01T00:00:00",
          "2018-04-01T00:00:00",
          "2018-07-01T00:00:00",
          "2018-10-01T00:00:00",
          "2019-01-01T00:00:00",
          "2019-04-01T00:00:00",
          "2019-07-01T00:00:00",
          "2019-10-01T00:00:00",
          "2020-01-01T00:00:00",
          "2020-04-01T00:00:00",
          "2020-07-01T00:00:00",
          "2020-10-01T00:00:00",
          "2021-01-01T00:00:00",
          "2021-04-01T00:00:00",
          "2021-07-01T00:00:00",
          "2021-10-01T00:00:00"
         ],
         "xaxis": "x",
         "y": [
          0.0043,
          0.0052,
          0.0101,
          0.0052,
          0.0033000000000000004,
          0.0036,
          0.004,
          0.0043,
          0.002,
          0.0065,
          0.0026,
          0.0019000000000000002,
          0.0046,
          0.0060999999999999995,
          0.0107,
          0.0155
         ],
         "yaxis": "y"
        },
        {
         "fillpattern": {
          "shape": ""
         },
         "hovertemplate": "Denial Type=Voluntary<br>Date=%{x}<br>Percent of Passengers Denied Boarding=%{y}<extra></extra>",
         "legendgroup": "Voluntary",
         "line": {
          "color": "#2E91E5"
         },
         "marker": {
          "symbol": "circle"
         },
         "mode": "lines",
         "name": "Voluntary",
         "orientation": "v",
         "showlegend": true,
         "stackgroup": "1",
         "type": "scatter",
         "x": [
          "2018-01-01T00:00:00",
          "2018-04-01T00:00:00",
          "2018-07-01T00:00:00",
          "2018-10-01T00:00:00",
          "2019-01-01T00:00:00",
          "2019-04-01T00:00:00",
          "2019-07-01T00:00:00",
          "2019-10-01T00:00:00",
          "2020-01-01T00:00:00",
          "2020-04-01T00:00:00",
          "2020-07-01T00:00:00",
          "2020-10-01T00:00:00",
          "2021-01-01T00:00:00",
          "2021-04-01T00:00:00",
          "2021-07-01T00:00:00",
          "2021-10-01T00:00:00"
         ],
         "xaxis": "x",
         "y": [
          0.006,
          0.0123,
          0.0098,
          0.012199999999999999,
          0.0028,
          0.0014,
          0.0012000000000000001,
          0.0038000000000000004,
          0.0057,
          0.017,
          0.0044,
          0.0017,
          0.00039999999999999996,
          0.0006000000000000001,
          0.00009999999999999999,
          0.0007999999999999999
         ],
         "yaxis": "y"
        },
        {
         "fillpattern": {
          "shape": ""
         },
         "hovertemplate": "Denial Type=Involuntary<br>Date=%{x}<br>Percent of Passengers Denied Boarding=%{y}<extra></extra>",
         "legendgroup": "Involuntary",
         "line": {
          "color": "#E15F99"
         },
         "marker": {
          "symbol": "circle"
         },
         "mode": "lines",
         "name": "Involuntary",
         "orientation": "v",
         "showlegend": true,
         "stackgroup": "1",
         "type": "scatter",
         "x": [
          "2018-01-01T00:00:00",
          "2018-04-01T00:00:00",
          "2018-07-01T00:00:00",
          "2018-10-01T00:00:00",
          "2019-01-01T00:00:00",
          "2019-04-01T00:00:00",
          "2019-07-01T00:00:00",
          "2019-10-01T00:00:00",
          "2020-01-01T00:00:00",
          "2020-04-01T00:00:00",
          "2020-07-01T00:00:00",
          "2020-10-01T00:00:00",
          "2021-01-01T00:00:00",
          "2021-04-01T00:00:00",
          "2021-07-01T00:00:00",
          "2021-10-01T00:00:00"
         ],
         "xaxis": "x",
         "y": [
          0.00009999999999999999,
          0.00009999999999999999,
          0.00009999999999999999,
          0.00019999999999999998,
          0,
          0,
          0,
          0,
          0,
          0,
          0,
          0,
          0,
          0,
          0,
          0
         ],
         "yaxis": "y"
        },
        {
         "fillpattern": {
          "shape": ""
         },
         "hovertemplate": "Denial Type=Voluntary<br>Date=%{x}<br>Percent of Passengers Denied Boarding=%{y}<extra></extra>",
         "legendgroup": "Voluntary",
         "line": {
          "color": "#2E91E5"
         },
         "marker": {
          "symbol": "circle"
         },
         "mode": "lines",
         "name": "Voluntary",
         "orientation": "v",
         "showlegend": true,
         "stackgroup": "1",
         "type": "scatter",
         "x": [
          "2018-01-01T00:00:00",
          "2018-04-01T00:00:00",
          "2018-07-01T00:00:00",
          "2018-10-01T00:00:00",
          "2019-01-01T00:00:00",
          "2019-04-01T00:00:00",
          "2019-07-01T00:00:00",
          "2019-10-01T00:00:00",
          "2020-01-01T00:00:00",
          "2020-04-01T00:00:00",
          "2020-07-01T00:00:00",
          "2020-10-01T00:00:00",
          "2021-01-01T00:00:00",
          "2021-04-01T00:00:00",
          "2021-07-01T00:00:00",
          "2021-10-01T00:00:00"
         ],
         "xaxis": "x",
         "y": [
          0.0095,
          0.0056,
          0.006200000000000001,
          0.0052,
          0.008,
          0.0065,
          0.008,
          0.0067,
          0.0034,
          0.005,
          0.0006000000000000001,
          0.0024000000000000002,
          0.0021,
          0.006600000000000001,
          0.0115,
          0.0112
         ],
         "yaxis": "y"
        },
        {
         "fillpattern": {
          "shape": ""
         },
         "hovertemplate": "Denial Type=Involuntary<br>Date=%{x}<br>Percent of Passengers Denied Boarding=%{y}<extra></extra>",
         "legendgroup": "Involuntary",
         "line": {
          "color": "#E15F99"
         },
         "marker": {
          "symbol": "circle"
         },
         "mode": "lines",
         "name": "Involuntary",
         "orientation": "v",
         "showlegend": true,
         "stackgroup": "1",
         "type": "scatter",
         "x": [
          "2018-01-01T00:00:00",
          "2018-04-01T00:00:00",
          "2018-07-01T00:00:00",
          "2018-10-01T00:00:00",
          "2019-01-01T00:00:00",
          "2019-04-01T00:00:00",
          "2019-07-01T00:00:00",
          "2019-10-01T00:00:00",
          "2020-01-01T00:00:00",
          "2020-04-01T00:00:00",
          "2020-07-01T00:00:00",
          "2020-10-01T00:00:00",
          "2021-01-01T00:00:00",
          "2021-04-01T00:00:00",
          "2021-07-01T00:00:00",
          "2021-10-01T00:00:00"
         ],
         "xaxis": "x",
         "y": [
          0.00009999999999999999,
          0.00009999999999999999,
          0.00009999999999999999,
          0.00009999999999999999,
          0.00030000000000000003,
          0.00009999999999999999,
          0.00009999999999999999,
          0.00019999999999999998,
          0,
          0,
          0,
          0,
          0.00039999999999999996,
          0,
          0.00030000000000000003,
          0.00019999999999999998
         ],
         "yaxis": "y"
        },
        {
         "fillpattern": {
          "shape": ""
         },
         "hovertemplate": "Denial Type=Voluntary<br>Date=%{x}<br>Percent of Passengers Denied Boarding=%{y}<extra></extra>",
         "legendgroup": "Voluntary",
         "line": {
          "color": "#2E91E5"
         },
         "marker": {
          "symbol": "circle"
         },
         "mode": "lines",
         "name": "Voluntary",
         "orientation": "v",
         "showlegend": true,
         "stackgroup": "1",
         "type": "scatter",
         "x": [
          "2018-01-01T00:00:00",
          "2018-04-01T00:00:00",
          "2018-07-01T00:00:00",
          "2018-10-01T00:00:00",
          "2019-01-01T00:00:00",
          "2019-04-01T00:00:00",
          "2019-07-01T00:00:00",
          "2019-10-01T00:00:00",
          "2020-01-01T00:00:00",
          "2020-04-01T00:00:00",
          "2020-07-01T00:00:00",
          "2020-10-01T00:00:00",
          "2021-01-01T00:00:00",
          "2021-04-01T00:00:00",
          "2021-07-01T00:00:00",
          "2021-10-01T00:00:00"
         ],
         "xaxis": "x",
         "y": [
          0.0842,
          0.051000000000000004,
          0.0716,
          0.0579,
          0.11750000000000001,
          0.079,
          0.051699999999999996,
          0.040499999999999994,
          0.0359,
          0.0177,
          0.016300000000000002,
          0.009600000000000001,
          0.0221,
          0.0324,
          0.0321,
          0.027999999999999997
         ],
         "yaxis": "y"
        },
        {
         "fillpattern": {
          "shape": ""
         },
         "hovertemplate": "Denial Type=Involuntary<br>Date=%{x}<br>Percent of Passengers Denied Boarding=%{y}<extra></extra>",
         "legendgroup": "Involuntary",
         "line": {
          "color": "#E15F99"
         },
         "marker": {
          "symbol": "circle"
         },
         "mode": "lines",
         "name": "Involuntary",
         "orientation": "v",
         "showlegend": true,
         "stackgroup": "1",
         "type": "scatter",
         "x": [
          "2018-01-01T00:00:00",
          "2018-04-01T00:00:00",
          "2018-07-01T00:00:00",
          "2018-10-01T00:00:00",
          "2019-01-01T00:00:00",
          "2019-04-01T00:00:00",
          "2019-07-01T00:00:00",
          "2019-10-01T00:00:00",
          "2020-01-01T00:00:00",
          "2020-04-01T00:00:00",
          "2020-07-01T00:00:00",
          "2020-10-01T00:00:00",
          "2021-01-01T00:00:00",
          "2021-04-01T00:00:00",
          "2021-07-01T00:00:00",
          "2021-10-01T00:00:00"
         ],
         "xaxis": "x",
         "y": [
          0.0015999999999999999,
          0.00030000000000000003,
          0.0014,
          0.0029,
          0.0147,
          0.0087,
          0.0024000000000000002,
          0.0029,
          0.0007,
          0.0022,
          0.0009,
          0.00019999999999999998,
          0.00039999999999999996,
          0.0015999999999999999,
          0.001,
          0.0018
         ],
         "yaxis": "y"
        },
        {
         "fillpattern": {
          "shape": ""
         },
         "hovertemplate": "Denial Type=Voluntary<br>Date=%{x}<br>Percent of Passengers Denied Boarding=%{y}<extra></extra>",
         "legendgroup": "Voluntary",
         "line": {
          "color": "#2E91E5"
         },
         "marker": {
          "symbol": "circle"
         },
         "mode": "lines",
         "name": "Voluntary",
         "orientation": "v",
         "showlegend": true,
         "stackgroup": "1",
         "type": "scatter",
         "x": [
          "2018-01-01T00:00:00",
          "2018-04-01T00:00:00",
          "2018-07-01T00:00:00",
          "2018-10-01T00:00:00",
          "2019-01-01T00:00:00",
          "2019-04-01T00:00:00",
          "2019-07-01T00:00:00",
          "2019-10-01T00:00:00",
          "2020-01-01T00:00:00",
          "2020-04-01T00:00:00",
          "2020-07-01T00:00:00",
          "2020-10-01T00:00:00",
          "2021-01-01T00:00:00",
          "2021-04-01T00:00:00",
          "2021-07-01T00:00:00",
          "2021-10-01T00:00:00"
         ],
         "xaxis": "x",
         "y": [
          0.07519999999999999,
          0.0733,
          0.0589,
          0.0689,
          0.0928,
          0.1092,
          0.0794,
          0.0703,
          0.042499999999999996,
          0.0265,
          0.0319,
          0.0173,
          0.0312,
          0.0392,
          0.0521,
          0.045899999999999996
         ],
         "yaxis": "y"
        },
        {
         "fillpattern": {
          "shape": ""
         },
         "hovertemplate": "Denial Type=Involuntary<br>Date=%{x}<br>Percent of Passengers Denied Boarding=%{y}<extra></extra>",
         "legendgroup": "Involuntary",
         "line": {
          "color": "#E15F99"
         },
         "marker": {
          "symbol": "circle"
         },
         "mode": "lines",
         "name": "Involuntary",
         "orientation": "v",
         "showlegend": true,
         "stackgroup": "1",
         "type": "scatter",
         "x": [
          "2018-01-01T00:00:00",
          "2018-04-01T00:00:00",
          "2018-07-01T00:00:00",
          "2018-10-01T00:00:00",
          "2019-01-01T00:00:00",
          "2019-04-01T00:00:00",
          "2019-07-01T00:00:00",
          "2019-10-01T00:00:00",
          "2020-01-01T00:00:00",
          "2020-04-01T00:00:00",
          "2020-07-01T00:00:00",
          "2020-10-01T00:00:00",
          "2021-01-01T00:00:00",
          "2021-04-01T00:00:00",
          "2021-07-01T00:00:00",
          "2021-10-01T00:00:00"
         ],
         "xaxis": "x",
         "y": [
          0.0007,
          0.0009,
          0.0012000000000000001,
          0.006200000000000001,
          0.0078,
          0.0125,
          0.0089,
          0.012,
          0.0067,
          0.0046,
          0.0036999999999999997,
          0.0009,
          0.00039999999999999996,
          0.0034,
          0.0048000000000000004,
          0.0046
         ],
         "yaxis": "y"
        },
        {
         "fillpattern": {
          "shape": ""
         },
         "hovertemplate": "Denial Type=Voluntary<br>Date=%{x}<br>Percent of Passengers Denied Boarding=%{y}<extra></extra>",
         "legendgroup": "Voluntary",
         "line": {
          "color": "#2E91E5"
         },
         "marker": {
          "symbol": "circle"
         },
         "mode": "lines",
         "name": "Voluntary",
         "orientation": "v",
         "showlegend": true,
         "stackgroup": "1",
         "type": "scatter",
         "x": [
          "2018-01-01T00:00:00",
          "2018-04-01T00:00:00",
          "2018-07-01T00:00:00",
          "2018-10-01T00:00:00"
         ],
         "xaxis": "x",
         "y": [
          0.0645,
          0.0793,
          0.1072,
          0.094
         ],
         "yaxis": "y"
        },
        {
         "fillpattern": {
          "shape": ""
         },
         "hovertemplate": "Denial Type=Involuntary<br>Date=%{x}<br>Percent of Passengers Denied Boarding=%{y}<extra></extra>",
         "legendgroup": "Involuntary",
         "line": {
          "color": "#E15F99"
         },
         "marker": {
          "symbol": "circle"
         },
         "mode": "lines",
         "name": "Involuntary",
         "orientation": "v",
         "showlegend": true,
         "stackgroup": "1",
         "type": "scatter",
         "x": [
          "2018-01-01T00:00:00",
          "2018-04-01T00:00:00",
          "2018-07-01T00:00:00",
          "2018-10-01T00:00:00"
         ],
         "xaxis": "x",
         "y": [
          0.0007999999999999999,
          0.0006000000000000001,
          0.0007,
          0.0023
         ],
         "yaxis": "y"
        },
        {
         "fillpattern": {
          "shape": ""
         },
         "hovertemplate": "Denial Type=Voluntary<br>Date=%{x}<br>Percent of Passengers Denied Boarding=%{y}<extra></extra>",
         "legendgroup": "Voluntary",
         "line": {
          "color": "#2E91E5"
         },
         "marker": {
          "symbol": "circle"
         },
         "mode": "lines",
         "name": "Voluntary",
         "orientation": "v",
         "showlegend": true,
         "stackgroup": "1",
         "type": "scatter",
         "x": [
          "2018-01-01T00:00:00",
          "2018-04-01T00:00:00",
          "2018-07-01T00:00:00",
          "2018-10-01T00:00:00",
          "2019-01-01T00:00:00",
          "2019-04-01T00:00:00",
          "2019-07-01T00:00:00",
          "2019-10-01T00:00:00",
          "2020-01-01T00:00:00",
          "2020-04-01T00:00:00",
          "2020-07-01T00:00:00",
          "2020-10-01T00:00:00",
          "2021-01-01T00:00:00",
          "2021-04-01T00:00:00",
          "2021-07-01T00:00:00",
          "2021-10-01T00:00:00"
         ],
         "xaxis": "x",
         "y": [
          0.097,
          0.0812,
          0.0751,
          0.0649,
          0.0824,
          0.1669,
          0.1413,
          0.1341,
          0.1196,
          0.028200000000000003,
          0.023,
          0.014100000000000001,
          0.0423,
          0.0402,
          0.0643,
          0.0939
         ],
         "yaxis": "y"
        },
        {
         "fillpattern": {
          "shape": ""
         },
         "hovertemplate": "Denial Type=Involuntary<br>Date=%{x}<br>Percent of Passengers Denied Boarding=%{y}<extra></extra>",
         "legendgroup": "Involuntary",
         "line": {
          "color": "#E15F99"
         },
         "marker": {
          "symbol": "circle"
         },
         "mode": "lines",
         "name": "Involuntary",
         "orientation": "v",
         "showlegend": true,
         "stackgroup": "1",
         "type": "scatter",
         "x": [
          "2018-01-01T00:00:00",
          "2018-04-01T00:00:00",
          "2018-07-01T00:00:00",
          "2018-10-01T00:00:00",
          "2019-01-01T00:00:00",
          "2019-04-01T00:00:00",
          "2019-07-01T00:00:00",
          "2019-10-01T00:00:00",
          "2020-01-01T00:00:00",
          "2020-04-01T00:00:00",
          "2020-07-01T00:00:00",
          "2020-10-01T00:00:00",
          "2021-01-01T00:00:00",
          "2021-04-01T00:00:00",
          "2021-07-01T00:00:00",
          "2021-10-01T00:00:00"
         ],
         "xaxis": "x",
         "y": [
          0.0011,
          0.0023,
          0.001,
          0.0017,
          0.0026999999999999997,
          0.0021,
          0.0019000000000000002,
          0.0012000000000000001,
          0.0025,
          0.0022,
          0.0007,
          0.00009999999999999999,
          0.0005,
          0.001,
          0.00039999999999999996,
          0.0015999999999999999
         ],
         "yaxis": "y"
        },
        {
         "fillpattern": {
          "shape": ""
         },
         "hovertemplate": "Denial Type=Voluntary<br>Date=%{x}<br>Percent of Passengers Denied Boarding=%{y}<extra></extra>",
         "legendgroup": "Voluntary",
         "line": {
          "color": "#2E91E5"
         },
         "marker": {
          "symbol": "circle"
         },
         "mode": "lines",
         "name": "Voluntary",
         "orientation": "v",
         "showlegend": true,
         "stackgroup": "1",
         "type": "scatter",
         "x": [
          "2018-01-01T00:00:00",
          "2018-04-01T00:00:00",
          "2018-07-01T00:00:00",
          "2018-10-01T00:00:00",
          "2019-01-01T00:00:00",
          "2019-04-01T00:00:00",
          "2019-07-01T00:00:00",
          "2019-10-01T00:00:00",
          "2020-01-01T00:00:00",
          "2020-04-01T00:00:00",
          "2020-07-01T00:00:00",
          "2020-10-01T00:00:00",
          "2021-01-01T00:00:00",
          "2021-04-01T00:00:00",
          "2021-07-01T00:00:00",
          "2021-10-01T00:00:00"
         ],
         "xaxis": "x",
         "y": [
          0.0117,
          0.0143,
          0.0161,
          0.0113,
          0.026699999999999998,
          0.029300000000000003,
          0.0118,
          0.0106,
          0.008,
          0.0157,
          0.006200000000000001,
          0.003,
          0.0081,
          0.027700000000000002,
          0.028200000000000003,
          0.027
         ],
         "yaxis": "y"
        },
        {
         "fillpattern": {
          "shape": ""
         },
         "hovertemplate": "Denial Type=Involuntary<br>Date=%{x}<br>Percent of Passengers Denied Boarding=%{y}<extra></extra>",
         "legendgroup": "Involuntary",
         "line": {
          "color": "#E15F99"
         },
         "marker": {
          "symbol": "circle"
         },
         "mode": "lines",
         "name": "Involuntary",
         "orientation": "v",
         "showlegend": true,
         "stackgroup": "1",
         "type": "scatter",
         "x": [
          "2018-01-01T00:00:00",
          "2018-04-01T00:00:00",
          "2018-07-01T00:00:00",
          "2018-10-01T00:00:00",
          "2019-01-01T00:00:00",
          "2019-04-01T00:00:00",
          "2019-07-01T00:00:00",
          "2019-10-01T00:00:00",
          "2020-01-01T00:00:00",
          "2020-04-01T00:00:00",
          "2020-07-01T00:00:00",
          "2020-10-01T00:00:00",
          "2021-01-01T00:00:00",
          "2021-04-01T00:00:00",
          "2021-07-01T00:00:00",
          "2021-10-01T00:00:00"
         ],
         "xaxis": "x",
         "y": [
          0.0018,
          0.0009,
          0.0024000000000000002,
          0.001,
          0.0043,
          0.0022,
          0.0007999999999999999,
          0.0007,
          0.00039999999999999996,
          0.0015999999999999999,
          0.001,
          0.00019999999999999998,
          0.0011,
          0.004,
          0.0033000000000000004,
          0.0036
         ],
         "yaxis": "y"
        },
        {
         "fillpattern": {
          "shape": ""
         },
         "hovertemplate": "Denial Type=Voluntary<br>Date=%{x}<br>Percent of Passengers Denied Boarding=%{y}<extra></extra>",
         "legendgroup": "Voluntary",
         "line": {
          "color": "#2E91E5"
         },
         "marker": {
          "symbol": "circle"
         },
         "mode": "lines",
         "name": "Voluntary",
         "orientation": "v",
         "showlegend": true,
         "stackgroup": "1",
         "type": "scatter",
         "x": [
          "2018-01-01T00:00:00",
          "2018-04-01T00:00:00",
          "2018-07-01T00:00:00",
          "2018-10-01T00:00:00",
          "2019-01-01T00:00:00",
          "2019-04-01T00:00:00",
          "2019-07-01T00:00:00",
          "2019-10-01T00:00:00",
          "2020-01-01T00:00:00",
          "2020-04-01T00:00:00",
          "2020-07-01T00:00:00",
          "2020-10-01T00:00:00",
          "2021-01-01T00:00:00",
          "2021-04-01T00:00:00",
          "2021-07-01T00:00:00",
          "2021-10-01T00:00:00"
         ],
         "xaxis": "x",
         "y": [
          0.0886,
          0.0687,
          0.078,
          0.0785,
          0.0932,
          0.0677,
          0.05550000000000001,
          0.0674,
          0.0498,
          0.0092,
          0.0051,
          0.0137,
          0.0321,
          0.0393,
          0.0226,
          0.022699999999999998
         ],
         "yaxis": "y"
        },
        {
         "fillpattern": {
          "shape": ""
         },
         "hovertemplate": "Denial Type=Involuntary<br>Date=%{x}<br>Percent of Passengers Denied Boarding=%{y}<extra></extra>",
         "legendgroup": "Involuntary",
         "line": {
          "color": "#E15F99"
         },
         "marker": {
          "symbol": "circle"
         },
         "mode": "lines",
         "name": "Involuntary",
         "orientation": "v",
         "showlegend": true,
         "stackgroup": "1",
         "type": "scatter",
         "x": [
          "2018-01-01T00:00:00",
          "2018-04-01T00:00:00",
          "2018-07-01T00:00:00",
          "2018-10-01T00:00:00",
          "2019-01-01T00:00:00",
          "2019-04-01T00:00:00",
          "2019-07-01T00:00:00",
          "2019-10-01T00:00:00",
          "2020-01-01T00:00:00",
          "2020-04-01T00:00:00",
          "2020-07-01T00:00:00",
          "2020-10-01T00:00:00",
          "2021-01-01T00:00:00",
          "2021-04-01T00:00:00",
          "2021-07-01T00:00:00",
          "2021-10-01T00:00:00"
         ],
         "xaxis": "x",
         "y": [
          0.014100000000000001,
          0.0063,
          0.0022,
          0.0006000000000000001,
          0.0006000000000000001,
          0.0018,
          0.0007999999999999999,
          0.0015,
          0.0009,
          0.00019999999999999998,
          0,
          0.002,
          0.0021,
          0.0011,
          0.0011,
          0.0012000000000000001
         ],
         "yaxis": "y"
        },
        {
         "fillpattern": {
          "shape": ""
         },
         "hovertemplate": "Denial Type=Voluntary<br>Date=%{x}<br>Percent of Passengers Denied Boarding=%{y}<extra></extra>",
         "legendgroup": "Voluntary",
         "line": {
          "color": "#2E91E5"
         },
         "marker": {
          "symbol": "circle"
         },
         "mode": "lines",
         "name": "Voluntary",
         "orientation": "v",
         "showlegend": true,
         "stackgroup": "1",
         "type": "scatter",
         "x": [
          "2018-01-01T00:00:00",
          "2018-04-01T00:00:00",
          "2018-07-01T00:00:00",
          "2018-10-01T00:00:00",
          "2019-01-01T00:00:00",
          "2019-07-01T00:00:00",
          "2019-10-01T00:00:00",
          "2020-01-01T00:00:00",
          "2020-04-01T00:00:00",
          "2020-07-01T00:00:00",
          "2020-10-01T00:00:00",
          "2021-01-01T00:00:00",
          "2021-04-01T00:00:00",
          "2021-07-01T00:00:00",
          "2021-10-01T00:00:00"
         ],
         "xaxis": "x",
         "y": [
          0.0385,
          0.0332,
          0.0419,
          0.0299,
          0.0391,
          0.0338,
          0.0225,
          0.0154,
          0.0006000000000000001,
          0.0015,
          0.0033000000000000004,
          0.0068,
          0.0092,
          0.0142,
          0.012
         ],
         "yaxis": "y"
        },
        {
         "fillpattern": {
          "shape": ""
         },
         "hovertemplate": "Denial Type=Involuntary<br>Date=%{x}<br>Percent of Passengers Denied Boarding=%{y}<extra></extra>",
         "legendgroup": "Involuntary",
         "line": {
          "color": "#E15F99"
         },
         "marker": {
          "symbol": "circle"
         },
         "mode": "lines",
         "name": "Involuntary",
         "orientation": "v",
         "showlegend": true,
         "stackgroup": "1",
         "type": "scatter",
         "x": [
          "2018-01-01T00:00:00",
          "2018-04-01T00:00:00",
          "2018-07-01T00:00:00",
          "2018-10-01T00:00:00",
          "2019-01-01T00:00:00",
          "2019-07-01T00:00:00",
          "2019-10-01T00:00:00",
          "2020-01-01T00:00:00",
          "2020-04-01T00:00:00",
          "2020-07-01T00:00:00",
          "2020-10-01T00:00:00",
          "2021-01-01T00:00:00",
          "2021-04-01T00:00:00",
          "2021-07-01T00:00:00",
          "2021-10-01T00:00:00"
         ],
         "xaxis": "x",
         "y": [
          0.00009999999999999999,
          0.00009999999999999999,
          0.00009999999999999999,
          0.00009999999999999999,
          0.00009999999999999999,
          0,
          0.00009999999999999999,
          0,
          0,
          0.00019999999999999998,
          0.00009999999999999999,
          0,
          0,
          0,
          0.00009999999999999999
         ],
         "yaxis": "y"
        },
        {
         "fillpattern": {
          "shape": ""
         },
         "hovertemplate": "Denial Type=Voluntary<br>Date=%{x}<br>Percent of Passengers Denied Boarding=%{y}<extra></extra>",
         "legendgroup": "Voluntary",
         "line": {
          "color": "#2E91E5"
         },
         "marker": {
          "symbol": "circle"
         },
         "mode": "lines",
         "name": "Voluntary",
         "orientation": "v",
         "showlegend": true,
         "stackgroup": "1",
         "type": "scatter",
         "x": [
          "2018-01-01T00:00:00"
         ],
         "xaxis": "x",
         "y": [
          0.0044
         ],
         "yaxis": "y"
        },
        {
         "fillpattern": {
          "shape": ""
         },
         "hovertemplate": "Denial Type=Involuntary<br>Date=%{x}<br>Percent of Passengers Denied Boarding=%{y}<extra></extra>",
         "legendgroup": "Involuntary",
         "line": {
          "color": "#E15F99"
         },
         "marker": {
          "symbol": "circle"
         },
         "mode": "lines",
         "name": "Involuntary",
         "orientation": "v",
         "showlegend": true,
         "stackgroup": "1",
         "type": "scatter",
         "x": [
          "2018-01-01T00:00:00"
         ],
         "xaxis": "x",
         "y": [
          0.0011
         ],
         "yaxis": "y"
        },
        {
         "fillpattern": {
          "shape": ""
         },
         "hovertemplate": "Denial Type=Voluntary<br>Date=%{x}<br>Percent of Passengers Denied Boarding=%{y}<extra></extra>",
         "legendgroup": "Voluntary",
         "line": {
          "color": "#2E91E5"
         },
         "marker": {
          "symbol": "circle"
         },
         "mode": "lines",
         "name": "Voluntary",
         "orientation": "v",
         "showlegend": true,
         "stackgroup": "1",
         "type": "scatter",
         "x": [
          "2018-04-01T00:00:00",
          "2018-07-01T00:00:00",
          "2018-10-01T00:00:00",
          "2019-04-01T00:00:00",
          "2019-07-01T00:00:00",
          "2019-10-01T00:00:00",
          "2020-04-01T00:00:00",
          "2020-07-01T00:00:00",
          "2020-10-01T00:00:00",
          "2021-04-01T00:00:00",
          "2021-07-01T00:00:00",
          "2021-10-01T00:00:00"
         ],
         "xaxis": "x",
         "y": [
          0.0313,
          0.026899999999999997,
          0.026899999999999997,
          0.0353,
          0.028499999999999998,
          0.0368,
          0.004699999999999999,
          0,
          0,
          0.0155,
          0.0154,
          0.0365
         ],
         "yaxis": "y"
        },
        {
         "fillpattern": {
          "shape": ""
         },
         "hovertemplate": "Denial Type=Involuntary<br>Date=%{x}<br>Percent of Passengers Denied Boarding=%{y}<extra></extra>",
         "legendgroup": "Involuntary",
         "line": {
          "color": "#E15F99"
         },
         "marker": {
          "symbol": "circle"
         },
         "mode": "lines",
         "name": "Involuntary",
         "orientation": "v",
         "showlegend": true,
         "stackgroup": "1",
         "type": "scatter",
         "x": [
          "2018-04-01T00:00:00",
          "2018-07-01T00:00:00",
          "2018-10-01T00:00:00",
          "2019-04-01T00:00:00",
          "2019-07-01T00:00:00",
          "2019-10-01T00:00:00",
          "2020-04-01T00:00:00",
          "2020-07-01T00:00:00",
          "2020-10-01T00:00:00",
          "2021-04-01T00:00:00",
          "2021-07-01T00:00:00",
          "2021-10-01T00:00:00"
         ],
         "xaxis": "x",
         "y": [
          0.0036999999999999997,
          0.0021,
          0.0013,
          0.0017,
          0.001,
          0.0013,
          0,
          0,
          0,
          0.0006000000000000001,
          0.0005,
          0.0007999999999999999
         ],
         "yaxis": "y"
        },
        {
         "fillpattern": {
          "shape": ""
         },
         "hovertemplate": "Denial Type=Voluntary<br>Date=%{x}<br>Percent of Passengers Denied Boarding=%{y}<extra></extra>",
         "legendgroup": "Voluntary",
         "line": {
          "color": "#2E91E5"
         },
         "marker": {
          "symbol": "circle"
         },
         "mode": "lines",
         "name": "Voluntary",
         "orientation": "v",
         "showlegend": true,
         "stackgroup": "1",
         "type": "scatter",
         "x": [
          "2018-04-01T00:00:00",
          "2019-04-01T00:00:00"
         ],
         "xaxis": "x",
         "y": [
          0.0058,
          0.0006000000000000001
         ],
         "yaxis": "y"
        },
        {
         "fillpattern": {
          "shape": ""
         },
         "hovertemplate": "Denial Type=Involuntary<br>Date=%{x}<br>Percent of Passengers Denied Boarding=%{y}<extra></extra>",
         "legendgroup": "Involuntary",
         "line": {
          "color": "#E15F99"
         },
         "marker": {
          "symbol": "circle"
         },
         "mode": "lines",
         "name": "Involuntary",
         "orientation": "v",
         "showlegend": true,
         "stackgroup": "1",
         "type": "scatter",
         "x": [
          "2018-04-01T00:00:00",
          "2019-04-01T00:00:00"
         ],
         "xaxis": "x",
         "y": [
          0,
          0.0029
         ],
         "yaxis": "y"
        },
        {
         "fillpattern": {
          "shape": ""
         },
         "hovertemplate": "Denial Type=Voluntary<br>Date=%{x}<br>Percent of Passengers Denied Boarding=%{y}<extra></extra>",
         "legendgroup": "Voluntary",
         "line": {
          "color": "#2E91E5"
         },
         "marker": {
          "symbol": "circle"
         },
         "mode": "lines",
         "name": "Voluntary",
         "orientation": "v",
         "showlegend": true,
         "stackgroup": "1",
         "type": "scatter",
         "x": [
          "2019-01-01T00:00:00",
          "2019-04-01T00:00:00",
          "2019-07-01T00:00:00",
          "2019-10-01T00:00:00",
          "2020-01-01T00:00:00",
          "2020-04-01T00:00:00",
          "2020-07-01T00:00:00",
          "2020-10-01T00:00:00",
          "2021-01-01T00:00:00",
          "2021-04-01T00:00:00",
          "2021-07-01T00:00:00",
          "2021-10-01T00:00:00"
         ],
         "xaxis": "x",
         "y": [
          0.0888,
          0.1262,
          0.1097,
          0.1097,
          0.035500000000000004,
          0.0137,
          0.0162,
          0.0083,
          0.0242,
          0.0553,
          0.0935,
          0.0494
         ],
         "yaxis": "y"
        },
        {
         "fillpattern": {
          "shape": ""
         },
         "hovertemplate": "Denial Type=Involuntary<br>Date=%{x}<br>Percent of Passengers Denied Boarding=%{y}<extra></extra>",
         "legendgroup": "Involuntary",
         "line": {
          "color": "#E15F99"
         },
         "marker": {
          "symbol": "circle"
         },
         "mode": "lines",
         "name": "Involuntary",
         "orientation": "v",
         "showlegend": true,
         "stackgroup": "1",
         "type": "scatter",
         "x": [
          "2019-01-01T00:00:00",
          "2019-04-01T00:00:00",
          "2019-07-01T00:00:00",
          "2019-10-01T00:00:00",
          "2020-01-01T00:00:00",
          "2020-04-01T00:00:00",
          "2020-07-01T00:00:00",
          "2020-10-01T00:00:00",
          "2021-01-01T00:00:00",
          "2021-04-01T00:00:00",
          "2021-07-01T00:00:00",
          "2021-10-01T00:00:00"
         ],
         "xaxis": "x",
         "y": [
          0.0019000000000000002,
          0.0031999999999999997,
          0.0045000000000000005,
          0.0036999999999999997,
          0.0026999999999999997,
          0.0034999999999999996,
          0.0033000000000000004,
          0.0007999999999999999,
          0.001,
          0.0022,
          0.0031999999999999997,
          0.0022
         ],
         "yaxis": "y"
        },
        {
         "fillpattern": {
          "shape": ""
         },
         "hovertemplate": "Denial Type=Voluntary<br>Date=%{x}<br>Percent of Passengers Denied Boarding=%{y}<extra></extra>",
         "legendgroup": "Voluntary",
         "line": {
          "color": "#2E91E5"
         },
         "marker": {
          "symbol": "circle"
         },
         "mode": "lines",
         "name": "Voluntary",
         "orientation": "v",
         "showlegend": true,
         "stackgroup": "1",
         "type": "scatter",
         "x": [
          "2019-04-01T00:00:00"
         ],
         "xaxis": "x",
         "y": [
          0.0422
         ],
         "yaxis": "y"
        },
        {
         "fillpattern": {
          "shape": ""
         },
         "hovertemplate": "Denial Type=Involuntary<br>Date=%{x}<br>Percent of Passengers Denied Boarding=%{y}<extra></extra>",
         "legendgroup": "Involuntary",
         "line": {
          "color": "#E15F99"
         },
         "marker": {
          "symbol": "circle"
         },
         "mode": "lines",
         "name": "Involuntary",
         "orientation": "v",
         "showlegend": true,
         "stackgroup": "1",
         "type": "scatter",
         "x": [
          "2019-04-01T00:00:00"
         ],
         "xaxis": "x",
         "y": [
          0.00009999999999999999
         ],
         "yaxis": "y"
        },
        {
         "fillpattern": {
          "shape": ""
         },
         "hovertemplate": "Denial Type=Voluntary<br>Date=%{x}<br>Percent of Passengers Denied Boarding=%{y}<extra></extra>",
         "legendgroup": "Voluntary",
         "line": {
          "color": "#2E91E5"
         },
         "marker": {
          "symbol": "circle"
         },
         "mode": "lines",
         "name": "Voluntary",
         "orientation": "v",
         "showlegend": true,
         "stackgroup": "1",
         "type": "scatter",
         "x": [
          "2021-01-01T00:00:00",
          "2021-04-01T00:00:00",
          "2021-07-01T00:00:00",
          "2021-10-01T00:00:00"
         ],
         "xaxis": "x",
         "y": [
          0.0113,
          0.0408,
          0.0242,
          0.039
         ],
         "yaxis": "y"
        },
        {
         "fillpattern": {
          "shape": ""
         },
         "hovertemplate": "Denial Type=Involuntary<br>Date=%{x}<br>Percent of Passengers Denied Boarding=%{y}<extra></extra>",
         "legendgroup": "Involuntary",
         "line": {
          "color": "#E15F99"
         },
         "marker": {
          "symbol": "circle"
         },
         "mode": "lines",
         "name": "Involuntary",
         "orientation": "v",
         "showlegend": true,
         "stackgroup": "1",
         "type": "scatter",
         "x": [
          "2021-01-01T00:00:00",
          "2021-04-01T00:00:00",
          "2021-07-01T00:00:00",
          "2021-10-01T00:00:00"
         ],
         "xaxis": "x",
         "y": [
          0.0014,
          0.0033000000000000004,
          0.0026,
          0.0026999999999999997
         ],
         "yaxis": "y"
        }
       ],
       "layout": {
        "legend": {
         "title": {
          "text": "Denial Type"
         },
         "tracegroupgap": 0
        },
        "template": {
         "data": {
          "bar": [
           {
            "error_x": {
             "color": "#f2f5fa"
            },
            "error_y": {
             "color": "#f2f5fa"
            },
            "marker": {
             "line": {
              "color": "rgb(17,17,17)",
              "width": 0.5
             },
             "pattern": {
              "fillmode": "overlay",
              "size": 10,
              "solidity": 0.2
             }
            },
            "type": "bar"
           }
          ],
          "barpolar": [
           {
            "marker": {
             "line": {
              "color": "rgb(17,17,17)",
              "width": 0.5
             },
             "pattern": {
              "fillmode": "overlay",
              "size": 10,
              "solidity": 0.2
             }
            },
            "type": "barpolar"
           }
          ],
          "carpet": [
           {
            "aaxis": {
             "endlinecolor": "#A2B1C6",
             "gridcolor": "#506784",
             "linecolor": "#506784",
             "minorgridcolor": "#506784",
             "startlinecolor": "#A2B1C6"
            },
            "baxis": {
             "endlinecolor": "#A2B1C6",
             "gridcolor": "#506784",
             "linecolor": "#506784",
             "minorgridcolor": "#506784",
             "startlinecolor": "#A2B1C6"
            },
            "type": "carpet"
           }
          ],
          "choropleth": [
           {
            "colorbar": {
             "outlinewidth": 0,
             "ticks": ""
            },
            "type": "choropleth"
           }
          ],
          "contour": [
           {
            "colorbar": {
             "outlinewidth": 0,
             "ticks": ""
            },
            "colorscale": [
             [
              0,
              "#0d0887"
             ],
             [
              0.1111111111111111,
              "#46039f"
             ],
             [
              0.2222222222222222,
              "#7201a8"
             ],
             [
              0.3333333333333333,
              "#9c179e"
             ],
             [
              0.4444444444444444,
              "#bd3786"
             ],
             [
              0.5555555555555556,
              "#d8576b"
             ],
             [
              0.6666666666666666,
              "#ed7953"
             ],
             [
              0.7777777777777778,
              "#fb9f3a"
             ],
             [
              0.8888888888888888,
              "#fdca26"
             ],
             [
              1,
              "#f0f921"
             ]
            ],
            "type": "contour"
           }
          ],
          "contourcarpet": [
           {
            "colorbar": {
             "outlinewidth": 0,
             "ticks": ""
            },
            "type": "contourcarpet"
           }
          ],
          "heatmap": [
           {
            "colorbar": {
             "outlinewidth": 0,
             "ticks": ""
            },
            "colorscale": [
             [
              0,
              "#0d0887"
             ],
             [
              0.1111111111111111,
              "#46039f"
             ],
             [
              0.2222222222222222,
              "#7201a8"
             ],
             [
              0.3333333333333333,
              "#9c179e"
             ],
             [
              0.4444444444444444,
              "#bd3786"
             ],
             [
              0.5555555555555556,
              "#d8576b"
             ],
             [
              0.6666666666666666,
              "#ed7953"
             ],
             [
              0.7777777777777778,
              "#fb9f3a"
             ],
             [
              0.8888888888888888,
              "#fdca26"
             ],
             [
              1,
              "#f0f921"
             ]
            ],
            "type": "heatmap"
           }
          ],
          "heatmapgl": [
           {
            "colorbar": {
             "outlinewidth": 0,
             "ticks": ""
            },
            "colorscale": [
             [
              0,
              "#0d0887"
             ],
             [
              0.1111111111111111,
              "#46039f"
             ],
             [
              0.2222222222222222,
              "#7201a8"
             ],
             [
              0.3333333333333333,
              "#9c179e"
             ],
             [
              0.4444444444444444,
              "#bd3786"
             ],
             [
              0.5555555555555556,
              "#d8576b"
             ],
             [
              0.6666666666666666,
              "#ed7953"
             ],
             [
              0.7777777777777778,
              "#fb9f3a"
             ],
             [
              0.8888888888888888,
              "#fdca26"
             ],
             [
              1,
              "#f0f921"
             ]
            ],
            "type": "heatmapgl"
           }
          ],
          "histogram": [
           {
            "marker": {
             "pattern": {
              "fillmode": "overlay",
              "size": 10,
              "solidity": 0.2
             }
            },
            "type": "histogram"
           }
          ],
          "histogram2d": [
           {
            "colorbar": {
             "outlinewidth": 0,
             "ticks": ""
            },
            "colorscale": [
             [
              0,
              "#0d0887"
             ],
             [
              0.1111111111111111,
              "#46039f"
             ],
             [
              0.2222222222222222,
              "#7201a8"
             ],
             [
              0.3333333333333333,
              "#9c179e"
             ],
             [
              0.4444444444444444,
              "#bd3786"
             ],
             [
              0.5555555555555556,
              "#d8576b"
             ],
             [
              0.6666666666666666,
              "#ed7953"
             ],
             [
              0.7777777777777778,
              "#fb9f3a"
             ],
             [
              0.8888888888888888,
              "#fdca26"
             ],
             [
              1,
              "#f0f921"
             ]
            ],
            "type": "histogram2d"
           }
          ],
          "histogram2dcontour": [
           {
            "colorbar": {
             "outlinewidth": 0,
             "ticks": ""
            },
            "colorscale": [
             [
              0,
              "#0d0887"
             ],
             [
              0.1111111111111111,
              "#46039f"
             ],
             [
              0.2222222222222222,
              "#7201a8"
             ],
             [
              0.3333333333333333,
              "#9c179e"
             ],
             [
              0.4444444444444444,
              "#bd3786"
             ],
             [
              0.5555555555555556,
              "#d8576b"
             ],
             [
              0.6666666666666666,
              "#ed7953"
             ],
             [
              0.7777777777777778,
              "#fb9f3a"
             ],
             [
              0.8888888888888888,
              "#fdca26"
             ],
             [
              1,
              "#f0f921"
             ]
            ],
            "type": "histogram2dcontour"
           }
          ],
          "mesh3d": [
           {
            "colorbar": {
             "outlinewidth": 0,
             "ticks": ""
            },
            "type": "mesh3d"
           }
          ],
          "parcoords": [
           {
            "line": {
             "colorbar": {
              "outlinewidth": 0,
              "ticks": ""
             }
            },
            "type": "parcoords"
           }
          ],
          "pie": [
           {
            "automargin": true,
            "type": "pie"
           }
          ],
          "scatter": [
           {
            "marker": {
             "line": {
              "color": "#283442"
             }
            },
            "type": "scatter"
           }
          ],
          "scatter3d": [
           {
            "line": {
             "colorbar": {
              "outlinewidth": 0,
              "ticks": ""
             }
            },
            "marker": {
             "colorbar": {
              "outlinewidth": 0,
              "ticks": ""
             }
            },
            "type": "scatter3d"
           }
          ],
          "scattercarpet": [
           {
            "marker": {
             "colorbar": {
              "outlinewidth": 0,
              "ticks": ""
             }
            },
            "type": "scattercarpet"
           }
          ],
          "scattergeo": [
           {
            "marker": {
             "colorbar": {
              "outlinewidth": 0,
              "ticks": ""
             }
            },
            "type": "scattergeo"
           }
          ],
          "scattergl": [
           {
            "marker": {
             "line": {
              "color": "#283442"
             }
            },
            "type": "scattergl"
           }
          ],
          "scattermapbox": [
           {
            "marker": {
             "colorbar": {
              "outlinewidth": 0,
              "ticks": ""
             }
            },
            "type": "scattermapbox"
           }
          ],
          "scatterpolar": [
           {
            "marker": {
             "colorbar": {
              "outlinewidth": 0,
              "ticks": ""
             }
            },
            "type": "scatterpolar"
           }
          ],
          "scatterpolargl": [
           {
            "marker": {
             "colorbar": {
              "outlinewidth": 0,
              "ticks": ""
             }
            },
            "type": "scatterpolargl"
           }
          ],
          "scatterternary": [
           {
            "marker": {
             "colorbar": {
              "outlinewidth": 0,
              "ticks": ""
             }
            },
            "type": "scatterternary"
           }
          ],
          "surface": [
           {
            "colorbar": {
             "outlinewidth": 0,
             "ticks": ""
            },
            "colorscale": [
             [
              0,
              "#0d0887"
             ],
             [
              0.1111111111111111,
              "#46039f"
             ],
             [
              0.2222222222222222,
              "#7201a8"
             ],
             [
              0.3333333333333333,
              "#9c179e"
             ],
             [
              0.4444444444444444,
              "#bd3786"
             ],
             [
              0.5555555555555556,
              "#d8576b"
             ],
             [
              0.6666666666666666,
              "#ed7953"
             ],
             [
              0.7777777777777778,
              "#fb9f3a"
             ],
             [
              0.8888888888888888,
              "#fdca26"
             ],
             [
              1,
              "#f0f921"
             ]
            ],
            "type": "surface"
           }
          ],
          "table": [
           {
            "cells": {
             "fill": {
              "color": "#506784"
             },
             "line": {
              "color": "rgb(17,17,17)"
             }
            },
            "header": {
             "fill": {
              "color": "#2a3f5f"
             },
             "line": {
              "color": "rgb(17,17,17)"
             }
            },
            "type": "table"
           }
          ]
         },
         "layout": {
          "annotationdefaults": {
           "arrowcolor": "#f2f5fa",
           "arrowhead": 0,
           "arrowwidth": 1
          },
          "autotypenumbers": "strict",
          "coloraxis": {
           "colorbar": {
            "outlinewidth": 0,
            "ticks": ""
           }
          },
          "colorscale": {
           "diverging": [
            [
             0,
             "#8e0152"
            ],
            [
             0.1,
             "#c51b7d"
            ],
            [
             0.2,
             "#de77ae"
            ],
            [
             0.3,
             "#f1b6da"
            ],
            [
             0.4,
             "#fde0ef"
            ],
            [
             0.5,
             "#f7f7f7"
            ],
            [
             0.6,
             "#e6f5d0"
            ],
            [
             0.7,
             "#b8e186"
            ],
            [
             0.8,
             "#7fbc41"
            ],
            [
             0.9,
             "#4d9221"
            ],
            [
             1,
             "#276419"
            ]
           ],
           "sequential": [
            [
             0,
             "#0d0887"
            ],
            [
             0.1111111111111111,
             "#46039f"
            ],
            [
             0.2222222222222222,
             "#7201a8"
            ],
            [
             0.3333333333333333,
             "#9c179e"
            ],
            [
             0.4444444444444444,
             "#bd3786"
            ],
            [
             0.5555555555555556,
             "#d8576b"
            ],
            [
             0.6666666666666666,
             "#ed7953"
            ],
            [
             0.7777777777777778,
             "#fb9f3a"
            ],
            [
             0.8888888888888888,
             "#fdca26"
            ],
            [
             1,
             "#f0f921"
            ]
           ],
           "sequentialminus": [
            [
             0,
             "#0d0887"
            ],
            [
             0.1111111111111111,
             "#46039f"
            ],
            [
             0.2222222222222222,
             "#7201a8"
            ],
            [
             0.3333333333333333,
             "#9c179e"
            ],
            [
             0.4444444444444444,
             "#bd3786"
            ],
            [
             0.5555555555555556,
             "#d8576b"
            ],
            [
             0.6666666666666666,
             "#ed7953"
            ],
            [
             0.7777777777777778,
             "#fb9f3a"
            ],
            [
             0.8888888888888888,
             "#fdca26"
            ],
            [
             1,
             "#f0f921"
            ]
           ]
          },
          "colorway": [
           "#636efa",
           "#EF553B",
           "#00cc96",
           "#ab63fa",
           "#FFA15A",
           "#19d3f3",
           "#FF6692",
           "#B6E880",
           "#FF97FF",
           "#FECB52"
          ],
          "font": {
           "color": "#f2f5fa"
          },
          "geo": {
           "bgcolor": "rgb(17,17,17)",
           "lakecolor": "rgb(17,17,17)",
           "landcolor": "rgb(17,17,17)",
           "showlakes": true,
           "showland": true,
           "subunitcolor": "#506784"
          },
          "hoverlabel": {
           "align": "left"
          },
          "hovermode": "closest",
          "mapbox": {
           "style": "dark"
          },
          "paper_bgcolor": "rgb(17,17,17)",
          "plot_bgcolor": "rgb(17,17,17)",
          "polar": {
           "angularaxis": {
            "gridcolor": "#506784",
            "linecolor": "#506784",
            "ticks": ""
           },
           "bgcolor": "rgb(17,17,17)",
           "radialaxis": {
            "gridcolor": "#506784",
            "linecolor": "#506784",
            "ticks": ""
           }
          },
          "scene": {
           "xaxis": {
            "backgroundcolor": "rgb(17,17,17)",
            "gridcolor": "#506784",
            "gridwidth": 2,
            "linecolor": "#506784",
            "showbackground": true,
            "ticks": "",
            "zerolinecolor": "#C8D4E3"
           },
           "yaxis": {
            "backgroundcolor": "rgb(17,17,17)",
            "gridcolor": "#506784",
            "gridwidth": 2,
            "linecolor": "#506784",
            "showbackground": true,
            "ticks": "",
            "zerolinecolor": "#C8D4E3"
           },
           "zaxis": {
            "backgroundcolor": "rgb(17,17,17)",
            "gridcolor": "#506784",
            "gridwidth": 2,
            "linecolor": "#506784",
            "showbackground": true,
            "ticks": "",
            "zerolinecolor": "#C8D4E3"
           }
          },
          "shapedefaults": {
           "line": {
            "color": "#f2f5fa"
           }
          },
          "sliderdefaults": {
           "bgcolor": "#C8D4E3",
           "bordercolor": "rgb(17,17,17)",
           "borderwidth": 1,
           "tickwidth": 0
          },
          "ternary": {
           "aaxis": {
            "gridcolor": "#506784",
            "linecolor": "#506784",
            "ticks": ""
           },
           "baxis": {
            "gridcolor": "#506784",
            "linecolor": "#506784",
            "ticks": ""
           },
           "bgcolor": "rgb(17,17,17)",
           "caxis": {
            "gridcolor": "#506784",
            "linecolor": "#506784",
            "ticks": ""
           }
          },
          "title": {
           "x": 0.05
          },
          "updatemenudefaults": {
           "bgcolor": "#506784",
           "borderwidth": 0
          },
          "xaxis": {
           "automargin": true,
           "gridcolor": "#283442",
           "linecolor": "#506784",
           "ticks": "",
           "title": {
            "standoff": 15
           },
           "zerolinecolor": "#283442",
           "zerolinewidth": 2
          },
          "yaxis": {
           "automargin": true,
           "gridcolor": "#283442",
           "linecolor": "#506784",
           "ticks": "",
           "title": {
            "standoff": 15
           },
           "zerolinecolor": "#283442",
           "zerolinewidth": 2
          }
         }
        },
        "title": {
         "text": "Percent of Passengers Denied Boarding from 1990 to 2021"
        },
        "updatemenus": [
         {
          "buttons": [
           {
            "args": [
             {
              "visible": [
               true,
               false,
               false,
               false,
               false,
               false,
               false,
               false,
               false,
               false,
               false,
               false,
               false,
               false,
               false,
               false,
               false,
               false,
               false,
               false,
               false,
               false,
               false
              ]
             },
             {
              "title": {
               "text": "Percent of Passengers Denied Boarding from 2018 to 2021 by Airline <br><sup>Alaska Airlines </sup>"
              }
             }
            ],
            "label": "Alaska Airlines",
            "method": "update"
           },
           {
            "args": [
             {
              "visible": [
               false,
               true,
               false,
               false,
               false,
               false,
               false,
               false,
               false,
               false,
               false,
               false,
               false,
               false,
               false,
               false,
               false,
               false,
               false,
               false,
               false,
               false,
               false
              ]
             },
             {
              "title": {
               "text": "Percent of Passengers Denied Boarding from 2018 to 2021 by Airline <br><sup>Allegiant Airlines </sup>"
              }
             }
            ],
            "label": "Allegiant Airlines",
            "method": "update"
           },
           {
            "args": [
             {
              "visible": [
               false,
               false,
               true,
               false,
               false,
               false,
               false,
               false,
               false,
               false,
               false,
               false,
               false,
               false,
               false,
               false,
               false,
               false,
               false,
               false,
               false,
               false,
               false
              ]
             },
             {
              "title": {
               "text": "Percent of Passengers Denied Boarding from 2018 to 2021 by Airline <br><sup>American Airlines </sup>"
              }
             }
            ],
            "label": "American Airlines",
            "method": "update"
           },
           {
            "args": [
             {
              "visible": [
               false,
               false,
               false,
               true,
               false,
               false,
               false,
               false,
               false,
               false,
               false,
               false,
               false,
               false,
               false,
               false,
               false,
               false,
               false,
               false,
               false,
               false,
               false
              ]
             },
             {
              "title": {
               "text": "Percent of Passengers Denied Boarding from 2018 to 2021 by Airline <br><sup>Delta Air Lines </sup>"
              }
             }
            ],
            "label": "Delta Air Lines",
            "method": "update"
           },
           {
            "args": [
             {
              "visible": [
               false,
               false,
               false,
               false,
               true,
               false,
               false,
               false,
               false,
               false,
               false,
               false,
               false,
               false,
               false,
               false,
               false,
               false,
               false,
               false,
               false,
               false,
               false
              ]
             },
             {
              "title": {
               "text": "Percent of Passengers Denied Boarding from 2018 to 2021 by Airline <br><sup>Endeavor Air </sup>"
              }
             }
            ],
            "label": "Endeavor Air",
            "method": "update"
           },
           {
            "args": [
             {
              "visible": [
               false,
               false,
               false,
               false,
               false,
               true,
               false,
               false,
               false,
               false,
               false,
               false,
               false,
               false,
               false,
               false,
               false,
               false,
               false,
               false,
               false,
               false,
               false
              ]
             },
             {
              "title": {
               "text": "Percent of Passengers Denied Boarding from 2018 to 2021 by Airline <br><sup>Envoy Air </sup>"
              }
             }
            ],
            "label": "Envoy Air",
            "method": "update"
           },
           {
            "args": [
             {
              "visible": [
               false,
               false,
               false,
               false,
               false,
               false,
               true,
               false,
               false,
               false,
               false,
               false,
               false,
               false,
               false,
               false,
               false,
               false,
               false,
               false,
               false,
               false,
               false
              ]
             },
             {
              "title": {
               "text": "Percent of Passengers Denied Boarding from 2018 to 2021 by Airline <br><sup>ExpressJet Airlines </sup>"
              }
             }
            ],
            "label": "ExpressJet Airlines",
            "method": "update"
           },
           {
            "args": [
             {
              "visible": [
               false,
               false,
               false,
               false,
               false,
               false,
               false,
               true,
               false,
               false,
               false,
               false,
               false,
               false,
               false,
               false,
               false,
               false,
               false,
               false,
               false,
               false,
               false
              ]
             },
             {
              "title": {
               "text": "Percent of Passengers Denied Boarding from 2018 to 2021 by Airline <br><sup>Frontier Airlines </sup>"
              }
             }
            ],
            "label": "Frontier Airlines",
            "method": "update"
           },
           {
            "args": [
             {
              "visible": [
               false,
               false,
               false,
               false,
               false,
               false,
               false,
               false,
               true,
               false,
               false,
               false,
               false,
               false,
               false,
               false,
               false,
               false,
               false,
               false,
               false,
               false,
               false
              ]
             },
             {
              "title": {
               "text": "Percent of Passengers Denied Boarding from 2018 to 2021 by Airline <br><sup>Hawaiian Airlines </sup>"
              }
             }
            ],
            "label": "Hawaiian Airlines",
            "method": "update"
           },
           {
            "args": [
             {
              "visible": [
               false,
               false,
               false,
               false,
               false,
               false,
               false,
               false,
               false,
               true,
               false,
               false,
               false,
               false,
               false,
               false,
               false,
               false,
               false,
               false,
               false,
               false,
               false
              ]
             },
             {
              "title": {
               "text": "Percent of Passengers Denied Boarding from 2018 to 2021 by Airline <br><sup>JetBlue Airways </sup>"
              }
             }
            ],
            "label": "JetBlue Airways",
            "method": "update"
           },
           {
            "args": [
             {
              "visible": [
               false,
               false,
               false,
               false,
               false,
               false,
               false,
               false,
               false,
               false,
               true,
               false,
               false,
               false,
               false,
               false,
               false,
               false,
               false,
               false,
               false,
               false,
               false
              ]
             },
             {
              "title": {
               "text": "Percent of Passengers Denied Boarding from 2018 to 2021 by Airline <br><sup>Mesa Airlines </sup>"
              }
             }
            ],
            "label": "Mesa Airlines",
            "method": "update"
           },
           {
            "args": [
             {
              "visible": [
               false,
               false,
               false,
               false,
               false,
               false,
               false,
               false,
               false,
               false,
               false,
               true,
               false,
               false,
               false,
               false,
               false,
               false,
               false,
               false,
               false,
               false,
               false
              ]
             },
             {
              "title": {
               "text": "Percent of Passengers Denied Boarding from 2018 to 2021 by Airline <br><sup>PSA Airlines </sup>"
              }
             }
            ],
            "label": "PSA Airlines",
            "method": "update"
           },
           {
            "args": [
             {
              "visible": [
               false,
               false,
               false,
               false,
               false,
               false,
               false,
               false,
               false,
               false,
               false,
               false,
               true,
               false,
               false,
               false,
               false,
               false,
               false,
               false,
               false,
               false,
               false
              ]
             },
             {
              "title": {
               "text": "Percent of Passengers Denied Boarding from 2018 to 2021 by Airline <br><sup>Republic Airline </sup>"
              }
             }
            ],
            "label": "Republic Airline",
            "method": "update"
           },
           {
            "args": [
             {
              "visible": [
               false,
               false,
               false,
               false,
               false,
               false,
               false,
               false,
               false,
               false,
               false,
               false,
               false,
               true,
               false,
               false,
               false,
               false,
               false,
               false,
               false,
               false,
               false
              ]
             },
             {
              "title": {
               "text": "Percent of Passengers Denied Boarding from 2018 to 2021 by Airline <br><sup>SkyWest Airlines </sup>"
              }
             }
            ],
            "label": "SkyWest Airlines",
            "method": "update"
           },
           {
            "args": [
             {
              "visible": [
               false,
               false,
               false,
               false,
               false,
               false,
               false,
               false,
               false,
               false,
               false,
               false,
               false,
               false,
               true,
               false,
               false,
               false,
               false,
               false,
               false,
               false,
               false
              ]
             },
             {
              "title": {
               "text": "Percent of Passengers Denied Boarding from 2018 to 2021 by Airline <br><sup>Southwest Airlines </sup>"
              }
             }
            ],
            "label": "Southwest Airlines",
            "method": "update"
           },
           {
            "args": [
             {
              "visible": [
               false,
               false,
               false,
               false,
               false,
               false,
               false,
               false,
               false,
               false,
               false,
               false,
               false,
               false,
               false,
               true,
               false,
               false,
               false,
               false,
               false,
               false,
               false
              ]
             },
             {
              "title": {
               "text": "Percent of Passengers Denied Boarding from 2018 to 2021 by Airline <br><sup>Spirit Airlines </sup>"
              }
             }
            ],
            "label": "Spirit Airlines",
            "method": "update"
           },
           {
            "args": [
             {
              "visible": [
               false,
               false,
               false,
               false,
               false,
               false,
               false,
               false,
               false,
               false,
               false,
               false,
               false,
               false,
               false,
               false,
               true,
               false,
               false,
               false,
               false,
               false,
               false
              ]
             },
             {
              "title": {
               "text": "Percent of Passengers Denied Boarding from 2018 to 2021 by Airline <br><sup>United Air Lines </sup>"
              }
             }
            ],
            "label": "United Air Lines",
            "method": "update"
           },
           {
            "args": [
             {
              "visible": [
               false,
               false,
               false,
               false,
               false,
               false,
               false,
               false,
               false,
               false,
               false,
               false,
               false,
               false,
               false,
               false,
               false,
               true,
               false,
               false,
               false,
               false,
               false
              ]
             },
             {
              "title": {
               "text": "Percent of Passengers Denied Boarding from 2018 to 2021 by Airline <br><sup>Virgin America  </sup>"
              }
             }
            ],
            "label": "Virgin America ",
            "method": "update"
           },
           {
            "args": [
             {
              "visible": [
               false,
               false,
               false,
               false,
               false,
               false,
               false,
               false,
               false,
               false,
               false,
               false,
               false,
               false,
               false,
               false,
               false,
               false,
               true,
               false,
               false,
               false,
               false
              ]
             },
             {
              "title": {
               "text": "Percent of Passengers Denied Boarding from 2018 to 2021 by Airline <br><sup>Alaska Airlines Codeshare </sup>"
              }
             }
            ],
            "label": "Alaska Airlines Codeshare",
            "method": "update"
           },
           {
            "args": [
             {
              "visible": [
               false,
               false,
               false,
               false,
               false,
               false,
               false,
               false,
               false,
               false,
               false,
               false,
               false,
               false,
               false,
               false,
               false,
               false,
               false,
               true,
               false,
               false,
               false
              ]
             },
             {
              "title": {
               "text": "Percent of Passengers Denied Boarding from 2018 to 2021 by Airline <br><sup>Allegiant Air </sup>"
              }
             }
            ],
            "label": "Allegiant Air",
            "method": "update"
           },
           {
            "args": [
             {
              "visible": [
               false,
               false,
               false,
               false,
               false,
               false,
               false,
               false,
               false,
               false,
               false,
               false,
               false,
               false,
               false,
               false,
               false,
               false,
               false,
               false,
               true,
               false,
               false
              ]
             },
             {
              "title": {
               "text": "Percent of Passengers Denied Boarding from 2018 to 2021 by Airline <br><sup>Republic Airways </sup>"
              }
             }
            ],
            "label": "Republic Airways",
            "method": "update"
           },
           {
            "args": [
             {
              "visible": [
               false,
               false,
               false,
               false,
               false,
               false,
               false,
               false,
               false,
               false,
               false,
               false,
               false,
               false,
               false,
               false,
               false,
               false,
               false,
               false,
               false,
               true,
               false
              ]
             },
             {
              "title": {
               "text": "Percent of Passengers Denied Boarding from 2018 to 2021 by Airline <br><sup>United Airlines </sup>"
              }
             }
            ],
            "label": "United Airlines",
            "method": "update"
           },
           {
            "args": [
             {
              "visible": [
               false,
               false,
               false,
               false,
               false,
               false,
               false,
               false,
               false,
               false,
               false,
               false,
               false,
               false,
               false,
               false,
               false,
               false,
               false,
               false,
               false,
               false,
               true
              ]
             },
             {
              "title": {
               "text": "Percent of Passengers Denied Boarding from 2018 to 2021 by Airline <br><sup>Horizon Air </sup>"
              }
             }
            ],
            "label": "Horizon Air",
            "method": "update"
           }
          ],
          "x": 1
         }
        ],
        "xaxis": {
         "anchor": "y",
         "domain": [
          0,
          1
         ],
         "title": {
          "text": "Date"
         }
        },
        "yaxis": {
         "anchor": "x",
         "domain": [
          0,
          1
         ],
         "title": {
          "text": "Percent of Passengers Denied Boarding"
         }
        }
       }
      }
     },
     "metadata": {},
     "output_type": "display_data"
    }
   ],
   "source": [
    "# create a figure for each category\n",
    "figs = {\n",
    "    c: px.area(denied_boarding[denied_boarding['CARRIER'] ==c]\n",
    "               .rename(columns = {'perc_denied_boarding_involuntary':\"Involuntary\", \n",
    "                                                 \"perc_denied_boarding_voluntary\":\"Voluntary\"}), \n",
    "              x=\"date\", y=[\"Voluntary\",\"Involuntary\"], \n",
    "                labels={\n",
    "                    \"date\": \"Date\",\n",
    "                     \"value\":\"Percent of Passengers Denied Boarding\", \n",
    "                     \"variable\":\"Denial Type\"\n",
    "                 },\n",
    "                title=\"Percent of Passengers Denied Boarding from 1990 to 2021\", color_discrete_sequence=px.colors.qualitative.Dark24)\n",
    "    \n",
    "    for c in denied_boarding.CARRIER.unique()\n",
    "}\n",
    "\n",
    "# integrate figures per category into one figure\n",
    "defaultcat = denied_boarding.CARRIER.unique()[0]\n",
    "fig = figs[defaultcat].update_traces(visible=True)\n",
    "for k in figs.keys():\n",
    "    if k != defaultcat:\n",
    "        fig.add_traces(figs[k].data)\n",
    "        \n",
    "# finally build dropdown menu\n",
    "fig.update_layout(\n",
    "    updatemenus=[\n",
    "        dict(\n",
    "            buttons = list([\n",
    "                {\n",
    "                    \"label\": k,\n",
    "                    \"method\": \"update\",\n",
    "                    # list comprehension for which traces are visible\n",
    "                    \"args\": [{\"visible\": [kk == k for kk in figs.keys()]},\n",
    "                             {\"title\":go.layout.xaxis.Title(\n",
    "            text=f\"Percent of Passengers Denied Boarding from 2018 to 2021 by Airline <br><sup>{k} </sup>\"\n",
    "           )}],\n",
    "                }\n",
    "                for k in figs.keys()\n",
    "            ]), \n",
    "        x = 1\n",
    "        ),\n",
    "    ]\n",
    ")\n",
    "\n",
    "fig.show()\n"
   ]
  },
  {
   "cell_type": "code",
   "execution_count": 197,
   "metadata": {},
   "outputs": [
    {
     "data": {
      "application/vnd.plotly.v1+json": {
       "config": {
        "plotlyServerURL": "https://plot.ly"
       },
       "data": [
        {
         "fillpattern": {
          "shape": ""
         },
         "hovertemplate": "Denial Type=Voluntary<br>Date=%{x}<br>Percent of Passengers Denied Boarding=%{y}<extra></extra>",
         "legendgroup": "Voluntary",
         "line": {
          "color": "#2E91E5"
         },
         "marker": {
          "symbol": "circle"
         },
         "mode": "lines",
         "name": "Voluntary",
         "orientation": "v",
         "showlegend": true,
         "stackgroup": "1",
         "type": "scatter",
         "x": [
          "2018-01-01T00:00:00",
          "2018-04-01T00:00:00",
          "2018-07-01T00:00:00",
          "2018-10-01T00:00:00",
          "2019-01-01T00:00:00",
          "2019-04-01T00:00:00",
          "2019-07-01T00:00:00",
          "2019-10-01T00:00:00",
          "2020-01-01T00:00:00",
          "2020-04-01T00:00:00",
          "2020-07-01T00:00:00",
          "2020-10-01T00:00:00",
          "2021-01-01T00:00:00",
          "2021-04-01T00:00:00",
          "2021-07-01T00:00:00",
          "2021-10-01T00:00:00"
         ],
         "xaxis": "x",
         "y": [
          0.1151,
          0.11329999999999998,
          0.1458,
          0.1323,
          0.1423,
          0.21259999999999998,
          0.1675,
          0.1791,
          0.12739999999999999,
          0.0686,
          0.005,
          0.0116,
          0.019799999999999998,
          0.0336,
          0.0952,
          0.078
         ],
         "yaxis": "y"
        },
        {
         "fillpattern": {
          "shape": ""
         },
         "hovertemplate": "Denial Type=Involuntary<br>Date=%{x}<br>Percent of Passengers Denied Boarding=%{y}<extra></extra>",
         "legendgroup": "Involuntary",
         "line": {
          "color": "#E15F99"
         },
         "marker": {
          "symbol": "circle"
         },
         "mode": "lines",
         "name": "Involuntary",
         "orientation": "v",
         "showlegend": true,
         "stackgroup": "1",
         "type": "scatter",
         "x": [
          "2018-01-01T00:00:00",
          "2018-04-01T00:00:00",
          "2018-07-01T00:00:00",
          "2018-10-01T00:00:00",
          "2019-01-01T00:00:00",
          "2019-04-01T00:00:00",
          "2019-07-01T00:00:00",
          "2019-10-01T00:00:00",
          "2020-01-01T00:00:00",
          "2020-04-01T00:00:00",
          "2020-07-01T00:00:00",
          "2020-10-01T00:00:00",
          "2021-01-01T00:00:00",
          "2021-04-01T00:00:00",
          "2021-07-01T00:00:00",
          "2021-10-01T00:00:00"
         ],
         "xaxis": "x",
         "y": [
          0.00009999999999999999,
          0,
          0,
          0.00009999999999999999,
          0,
          0,
          0,
          0,
          0,
          0,
          0,
          0,
          0,
          0,
          0,
          0
         ],
         "yaxis": "y"
        }
       ],
       "layout": {
        "legend": {
         "title": {
          "text": "Denial Type"
         },
         "tracegroupgap": 0
        },
        "template": {
         "data": {
          "bar": [
           {
            "error_x": {
             "color": "#f2f5fa"
            },
            "error_y": {
             "color": "#f2f5fa"
            },
            "marker": {
             "line": {
              "color": "rgb(17,17,17)",
              "width": 0.5
             },
             "pattern": {
              "fillmode": "overlay",
              "size": 10,
              "solidity": 0.2
             }
            },
            "type": "bar"
           }
          ],
          "barpolar": [
           {
            "marker": {
             "line": {
              "color": "rgb(17,17,17)",
              "width": 0.5
             },
             "pattern": {
              "fillmode": "overlay",
              "size": 10,
              "solidity": 0.2
             }
            },
            "type": "barpolar"
           }
          ],
          "carpet": [
           {
            "aaxis": {
             "endlinecolor": "#A2B1C6",
             "gridcolor": "#506784",
             "linecolor": "#506784",
             "minorgridcolor": "#506784",
             "startlinecolor": "#A2B1C6"
            },
            "baxis": {
             "endlinecolor": "#A2B1C6",
             "gridcolor": "#506784",
             "linecolor": "#506784",
             "minorgridcolor": "#506784",
             "startlinecolor": "#A2B1C6"
            },
            "type": "carpet"
           }
          ],
          "choropleth": [
           {
            "colorbar": {
             "outlinewidth": 0,
             "ticks": ""
            },
            "type": "choropleth"
           }
          ],
          "contour": [
           {
            "colorbar": {
             "outlinewidth": 0,
             "ticks": ""
            },
            "colorscale": [
             [
              0,
              "#0d0887"
             ],
             [
              0.1111111111111111,
              "#46039f"
             ],
             [
              0.2222222222222222,
              "#7201a8"
             ],
             [
              0.3333333333333333,
              "#9c179e"
             ],
             [
              0.4444444444444444,
              "#bd3786"
             ],
             [
              0.5555555555555556,
              "#d8576b"
             ],
             [
              0.6666666666666666,
              "#ed7953"
             ],
             [
              0.7777777777777778,
              "#fb9f3a"
             ],
             [
              0.8888888888888888,
              "#fdca26"
             ],
             [
              1,
              "#f0f921"
             ]
            ],
            "type": "contour"
           }
          ],
          "contourcarpet": [
           {
            "colorbar": {
             "outlinewidth": 0,
             "ticks": ""
            },
            "type": "contourcarpet"
           }
          ],
          "heatmap": [
           {
            "colorbar": {
             "outlinewidth": 0,
             "ticks": ""
            },
            "colorscale": [
             [
              0,
              "#0d0887"
             ],
             [
              0.1111111111111111,
              "#46039f"
             ],
             [
              0.2222222222222222,
              "#7201a8"
             ],
             [
              0.3333333333333333,
              "#9c179e"
             ],
             [
              0.4444444444444444,
              "#bd3786"
             ],
             [
              0.5555555555555556,
              "#d8576b"
             ],
             [
              0.6666666666666666,
              "#ed7953"
             ],
             [
              0.7777777777777778,
              "#fb9f3a"
             ],
             [
              0.8888888888888888,
              "#fdca26"
             ],
             [
              1,
              "#f0f921"
             ]
            ],
            "type": "heatmap"
           }
          ],
          "heatmapgl": [
           {
            "colorbar": {
             "outlinewidth": 0,
             "ticks": ""
            },
            "colorscale": [
             [
              0,
              "#0d0887"
             ],
             [
              0.1111111111111111,
              "#46039f"
             ],
             [
              0.2222222222222222,
              "#7201a8"
             ],
             [
              0.3333333333333333,
              "#9c179e"
             ],
             [
              0.4444444444444444,
              "#bd3786"
             ],
             [
              0.5555555555555556,
              "#d8576b"
             ],
             [
              0.6666666666666666,
              "#ed7953"
             ],
             [
              0.7777777777777778,
              "#fb9f3a"
             ],
             [
              0.8888888888888888,
              "#fdca26"
             ],
             [
              1,
              "#f0f921"
             ]
            ],
            "type": "heatmapgl"
           }
          ],
          "histogram": [
           {
            "marker": {
             "pattern": {
              "fillmode": "overlay",
              "size": 10,
              "solidity": 0.2
             }
            },
            "type": "histogram"
           }
          ],
          "histogram2d": [
           {
            "colorbar": {
             "outlinewidth": 0,
             "ticks": ""
            },
            "colorscale": [
             [
              0,
              "#0d0887"
             ],
             [
              0.1111111111111111,
              "#46039f"
             ],
             [
              0.2222222222222222,
              "#7201a8"
             ],
             [
              0.3333333333333333,
              "#9c179e"
             ],
             [
              0.4444444444444444,
              "#bd3786"
             ],
             [
              0.5555555555555556,
              "#d8576b"
             ],
             [
              0.6666666666666666,
              "#ed7953"
             ],
             [
              0.7777777777777778,
              "#fb9f3a"
             ],
             [
              0.8888888888888888,
              "#fdca26"
             ],
             [
              1,
              "#f0f921"
             ]
            ],
            "type": "histogram2d"
           }
          ],
          "histogram2dcontour": [
           {
            "colorbar": {
             "outlinewidth": 0,
             "ticks": ""
            },
            "colorscale": [
             [
              0,
              "#0d0887"
             ],
             [
              0.1111111111111111,
              "#46039f"
             ],
             [
              0.2222222222222222,
              "#7201a8"
             ],
             [
              0.3333333333333333,
              "#9c179e"
             ],
             [
              0.4444444444444444,
              "#bd3786"
             ],
             [
              0.5555555555555556,
              "#d8576b"
             ],
             [
              0.6666666666666666,
              "#ed7953"
             ],
             [
              0.7777777777777778,
              "#fb9f3a"
             ],
             [
              0.8888888888888888,
              "#fdca26"
             ],
             [
              1,
              "#f0f921"
             ]
            ],
            "type": "histogram2dcontour"
           }
          ],
          "mesh3d": [
           {
            "colorbar": {
             "outlinewidth": 0,
             "ticks": ""
            },
            "type": "mesh3d"
           }
          ],
          "parcoords": [
           {
            "line": {
             "colorbar": {
              "outlinewidth": 0,
              "ticks": ""
             }
            },
            "type": "parcoords"
           }
          ],
          "pie": [
           {
            "automargin": true,
            "type": "pie"
           }
          ],
          "scatter": [
           {
            "marker": {
             "line": {
              "color": "#283442"
             }
            },
            "type": "scatter"
           }
          ],
          "scatter3d": [
           {
            "line": {
             "colorbar": {
              "outlinewidth": 0,
              "ticks": ""
             }
            },
            "marker": {
             "colorbar": {
              "outlinewidth": 0,
              "ticks": ""
             }
            },
            "type": "scatter3d"
           }
          ],
          "scattercarpet": [
           {
            "marker": {
             "colorbar": {
              "outlinewidth": 0,
              "ticks": ""
             }
            },
            "type": "scattercarpet"
           }
          ],
          "scattergeo": [
           {
            "marker": {
             "colorbar": {
              "outlinewidth": 0,
              "ticks": ""
             }
            },
            "type": "scattergeo"
           }
          ],
          "scattergl": [
           {
            "marker": {
             "line": {
              "color": "#283442"
             }
            },
            "type": "scattergl"
           }
          ],
          "scattermapbox": [
           {
            "marker": {
             "colorbar": {
              "outlinewidth": 0,
              "ticks": ""
             }
            },
            "type": "scattermapbox"
           }
          ],
          "scatterpolar": [
           {
            "marker": {
             "colorbar": {
              "outlinewidth": 0,
              "ticks": ""
             }
            },
            "type": "scatterpolar"
           }
          ],
          "scatterpolargl": [
           {
            "marker": {
             "colorbar": {
              "outlinewidth": 0,
              "ticks": ""
             }
            },
            "type": "scatterpolargl"
           }
          ],
          "scatterternary": [
           {
            "marker": {
             "colorbar": {
              "outlinewidth": 0,
              "ticks": ""
             }
            },
            "type": "scatterternary"
           }
          ],
          "surface": [
           {
            "colorbar": {
             "outlinewidth": 0,
             "ticks": ""
            },
            "colorscale": [
             [
              0,
              "#0d0887"
             ],
             [
              0.1111111111111111,
              "#46039f"
             ],
             [
              0.2222222222222222,
              "#7201a8"
             ],
             [
              0.3333333333333333,
              "#9c179e"
             ],
             [
              0.4444444444444444,
              "#bd3786"
             ],
             [
              0.5555555555555556,
              "#d8576b"
             ],
             [
              0.6666666666666666,
              "#ed7953"
             ],
             [
              0.7777777777777778,
              "#fb9f3a"
             ],
             [
              0.8888888888888888,
              "#fdca26"
             ],
             [
              1,
              "#f0f921"
             ]
            ],
            "type": "surface"
           }
          ],
          "table": [
           {
            "cells": {
             "fill": {
              "color": "#506784"
             },
             "line": {
              "color": "rgb(17,17,17)"
             }
            },
            "header": {
             "fill": {
              "color": "#2a3f5f"
             },
             "line": {
              "color": "rgb(17,17,17)"
             }
            },
            "type": "table"
           }
          ]
         },
         "layout": {
          "annotationdefaults": {
           "arrowcolor": "#f2f5fa",
           "arrowhead": 0,
           "arrowwidth": 1
          },
          "autotypenumbers": "strict",
          "coloraxis": {
           "colorbar": {
            "outlinewidth": 0,
            "ticks": ""
           }
          },
          "colorscale": {
           "diverging": [
            [
             0,
             "#8e0152"
            ],
            [
             0.1,
             "#c51b7d"
            ],
            [
             0.2,
             "#de77ae"
            ],
            [
             0.3,
             "#f1b6da"
            ],
            [
             0.4,
             "#fde0ef"
            ],
            [
             0.5,
             "#f7f7f7"
            ],
            [
             0.6,
             "#e6f5d0"
            ],
            [
             0.7,
             "#b8e186"
            ],
            [
             0.8,
             "#7fbc41"
            ],
            [
             0.9,
             "#4d9221"
            ],
            [
             1,
             "#276419"
            ]
           ],
           "sequential": [
            [
             0,
             "#0d0887"
            ],
            [
             0.1111111111111111,
             "#46039f"
            ],
            [
             0.2222222222222222,
             "#7201a8"
            ],
            [
             0.3333333333333333,
             "#9c179e"
            ],
            [
             0.4444444444444444,
             "#bd3786"
            ],
            [
             0.5555555555555556,
             "#d8576b"
            ],
            [
             0.6666666666666666,
             "#ed7953"
            ],
            [
             0.7777777777777778,
             "#fb9f3a"
            ],
            [
             0.8888888888888888,
             "#fdca26"
            ],
            [
             1,
             "#f0f921"
            ]
           ],
           "sequentialminus": [
            [
             0,
             "#0d0887"
            ],
            [
             0.1111111111111111,
             "#46039f"
            ],
            [
             0.2222222222222222,
             "#7201a8"
            ],
            [
             0.3333333333333333,
             "#9c179e"
            ],
            [
             0.4444444444444444,
             "#bd3786"
            ],
            [
             0.5555555555555556,
             "#d8576b"
            ],
            [
             0.6666666666666666,
             "#ed7953"
            ],
            [
             0.7777777777777778,
             "#fb9f3a"
            ],
            [
             0.8888888888888888,
             "#fdca26"
            ],
            [
             1,
             "#f0f921"
            ]
           ]
          },
          "colorway": [
           "#636efa",
           "#EF553B",
           "#00cc96",
           "#ab63fa",
           "#FFA15A",
           "#19d3f3",
           "#FF6692",
           "#B6E880",
           "#FF97FF",
           "#FECB52"
          ],
          "font": {
           "color": "#f2f5fa"
          },
          "geo": {
           "bgcolor": "rgb(17,17,17)",
           "lakecolor": "rgb(17,17,17)",
           "landcolor": "rgb(17,17,17)",
           "showlakes": true,
           "showland": true,
           "subunitcolor": "#506784"
          },
          "hoverlabel": {
           "align": "left"
          },
          "hovermode": "closest",
          "mapbox": {
           "style": "dark"
          },
          "paper_bgcolor": "rgb(17,17,17)",
          "plot_bgcolor": "rgb(17,17,17)",
          "polar": {
           "angularaxis": {
            "gridcolor": "#506784",
            "linecolor": "#506784",
            "ticks": ""
           },
           "bgcolor": "rgb(17,17,17)",
           "radialaxis": {
            "gridcolor": "#506784",
            "linecolor": "#506784",
            "ticks": ""
           }
          },
          "scene": {
           "xaxis": {
            "backgroundcolor": "rgb(17,17,17)",
            "gridcolor": "#506784",
            "gridwidth": 2,
            "linecolor": "#506784",
            "showbackground": true,
            "ticks": "",
            "zerolinecolor": "#C8D4E3"
           },
           "yaxis": {
            "backgroundcolor": "rgb(17,17,17)",
            "gridcolor": "#506784",
            "gridwidth": 2,
            "linecolor": "#506784",
            "showbackground": true,
            "ticks": "",
            "zerolinecolor": "#C8D4E3"
           },
           "zaxis": {
            "backgroundcolor": "rgb(17,17,17)",
            "gridcolor": "#506784",
            "gridwidth": 2,
            "linecolor": "#506784",
            "showbackground": true,
            "ticks": "",
            "zerolinecolor": "#C8D4E3"
           }
          },
          "shapedefaults": {
           "line": {
            "color": "#f2f5fa"
           }
          },
          "sliderdefaults": {
           "bgcolor": "#C8D4E3",
           "bordercolor": "rgb(17,17,17)",
           "borderwidth": 1,
           "tickwidth": 0
          },
          "ternary": {
           "aaxis": {
            "gridcolor": "#506784",
            "linecolor": "#506784",
            "ticks": ""
           },
           "baxis": {
            "gridcolor": "#506784",
            "linecolor": "#506784",
            "ticks": ""
           },
           "bgcolor": "rgb(17,17,17)",
           "caxis": {
            "gridcolor": "#506784",
            "linecolor": "#506784",
            "ticks": ""
           }
          },
          "title": {
           "x": 0.05
          },
          "updatemenudefaults": {
           "bgcolor": "#506784",
           "borderwidth": 0
          },
          "xaxis": {
           "automargin": true,
           "gridcolor": "#283442",
           "linecolor": "#506784",
           "ticks": "",
           "title": {
            "standoff": 15
           },
           "zerolinecolor": "#283442",
           "zerolinewidth": 2
          },
          "yaxis": {
           "automargin": true,
           "gridcolor": "#283442",
           "linecolor": "#506784",
           "ticks": "",
           "title": {
            "standoff": 15
           },
           "zerolinecolor": "#283442",
           "zerolinewidth": 2
          }
         }
        },
        "title": {
         "text": "Percent of Passengers Denied Boarding from 1990 to 2021"
        },
        "xaxis": {
         "anchor": "y",
         "domain": [
          0,
          1
         ],
         "title": {
          "text": "Date"
         }
        },
        "yaxis": {
         "anchor": "x",
         "domain": [
          0,
          1
         ],
         "title": {
          "text": "Percent of Passengers Denied Boarding"
         }
        }
       }
      }
     },
     "metadata": {},
     "output_type": "display_data"
    }
   ],
   "source": [
    "figs['Endeavor Air']"
   ]
  },
  {
   "cell_type": "code",
   "execution_count": null,
   "metadata": {},
   "outputs": [],
   "source": [
    "denied_boarding = denied_boarding[denied_boarding['CARRIER']=='Alaska Airlines']\n",
    "fig = px.area(denied_boarding.rename(columns = {'perc_denied_boarding_involuntary':\"Involuntary\", \"perc_denied_boarding_voluntary\":\"Voluntary\"}), \n",
    "              x=\"date\", y=[\"Voluntary\",\"Involuntary\"], \n",
    "                labels={\n",
    "                    \"date\": \"Date\",\n",
    "                     \"value\":\"Percent of Passengers Denied Boarding\", \n",
    "                     \"variable\":\"Denial Type\"\n",
    "                 },\n",
    "                title=\"Percent of Passengers Denied Boarding from 1990 to 2021\", color_discrete_sequence=px.colors.qualitative.Dark24)\n",
    "fig.update_xaxes(tickangle = 45)\n",
    "fig.show()"
   ]
  }
 ],
 "metadata": {
  "kernelspec": {
   "display_name": "Python 3",
   "language": "python",
   "name": "python3"
  },
  "language_info": {
   "codemirror_mode": {
    "name": "ipython",
    "version": 3
   },
   "file_extension": ".py",
   "mimetype": "text/x-python",
   "name": "python",
   "nbconvert_exporter": "python",
   "pygments_lexer": "ipython3",
   "version": "3.11.1"
  },
  "orig_nbformat": 4,
  "vscode": {
   "interpreter": {
    "hash": "591ed7012085eff02a86d7432cc370b9336280d1c9affe09e30a9ff9e2048ad0"
   }
  }
 },
 "nbformat": 4,
 "nbformat_minor": 2
}
