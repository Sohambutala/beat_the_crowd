{
 "cells": [
  {
   "cell_type": "code",
   "execution_count": 42,
   "id": "f60ac060",
   "metadata": {},
   "outputs": [],
   "source": [
    "import numpy as np\n",
    "import requests\n",
    "from   bs4 import BeautifulSoup\n",
    "import pandas as pd\n",
    "from datetime import date, timedelta"
   ]
  },
  {
   "cell_type": "code",
   "execution_count": 43,
   "id": "da645a39",
   "metadata": {},
   "outputs": [],
   "source": [
    "url = 'https://www.transtats.bts.gov/ontime/departures.aspx'\n",
    "headers = { 'User-Agent':'Mozilla/5.0 (Windows NT 10.0; Win64; x64) AppleWebKit/537.36 (KHTML, like Gecko) Chrome/110.0.0.0 Safari/537.36 Edg/110.0.1587.50' }\n",
    "s = requests.Session()\n",
    "s.headers.update(headers)"
   ]
  },
  {
   "cell_type": "code",
   "execution_count": 44,
   "id": "9d884e74",
   "metadata": {},
   "outputs": [],
   "source": [
    "data = {\n",
    "        '__EVENTTARGET': '',\n",
    "        '__EVENTARGUMENT':'',\n",
    "        '__VIEWSTATE':'',\n",
    "    '__VIEWSTATEGENERATOR':'',\n",
    "    '__EVENTVALIDATION':'',\n",
    "    'chkAllStatistics':'on',\n",
    "'chkStatistics$0':'0',\n",
    "'chkStatistics$1':'1',\n",
    "'chkStatistics$2':'2',\n",
    "'chkStatistics$3':'3',\n",
    "'chkStatistics$4':'4',\n",
    "'chkStatistics$5':'5',\n",
    "'chkStatistics$6':'6',\n",
    "'chkStatistics$7':'7',\n",
    "'cboAirport':'ANC',\n",
    "'cboAirline':'DL',\n",
    "'chkAllMonths':'on',\n",
    "'chkMonths$0':'1',\n",
    "'chkMonths$1':'2',\n",
    "'chkMonths$2':'3',\n",
    "'chkMonths$3':'4',\n",
    "'chkMonths$4':'5',\n",
    "'chkMonths$5':'6',\n",
    "'chkMonths$6':'7',\n",
    "'chkMonths$7':'8',\n",
    "'chkMonths$8':'9',\n",
    "'chkMonths$9':'10',\n",
    "'chkMonths$10':'11',\n",
    "'chkMonths$11':'12',\n",
    "'chkAllDays':'on',\n",
    "'chkDays$0':'1',\n",
    "'chkDays$1':'2',\n",
    "'chkDays$2':'3',\n",
    "'chkDays$3':'4',\n",
    "'chkDays$4':'5',\n",
    "'chkDays$5':'6',\n",
    "'chkDays$6':'7',\n",
    "'chkDays$7':'8',\n",
    "'chkDays$8':'9',\n",
    "'chkDays$9':'10',\n",
    "'chkDays$10':'11',\n",
    "'chkDays$11':'12',\n",
    "'chkDays$12':'13',\n",
    "'chkDays$13':'14',\n",
    "'chkDays$14':'15',\n",
    "'chkDays$15':'16',\n",
    "'chkDays$16':'17',\n",
    "'chkDays$17':'18',\n",
    "'chkDays$18':'19',\n",
    "'chkDays$19':'20',\n",
    "'chkDays$20':'21',\n",
    "'chkDays$21':'22',\n",
    "'chkDays$22':'23',\n",
    "'chkDays$23':'24',\n",
    "'chkDays$24':'25',\n",
    "'chkDays$25':'26',\n",
    "'chkDays$26':'27',\n",
    "'chkDays$27':'28',\n",
    "'chkDays$28':'29',\n",
    "'chkDays$29':'30',\n",
    "'chkDays$30':'31',\n",
    "'chkAllYears':'on',\n",
    "'chkYears$0':'1987',\n",
    "'chkYears$1':'1988',\n",
    "'chkYears$2':'1989',\n",
    "'chkYears$3':'1990',\n",
    "'chkYears$4':'1991',\n",
    "'chkYears$5':'1992',\n",
    "'chkYears$6':'1993',\n",
    "'chkYears$7':'1994',\n",
    "'chkYears$8':'1995',\n",
    "'chkYears$9':'1996',\n",
    "'chkYears$10':'1997',\n",
    "'chkYears$11':'1998',\n",
    "'chkYears$12':'1999',\n",
    "'chkYears$13':'2000',\n",
    "'chkYears$14':'2001',\n",
    "'chkYears$15':'2002',\n",
    "'chkYears$16':'2003',\n",
    "'chkYears$17':'2004',\n",
    "'chkYears$18':'2005',\n",
    "'chkYears$19':'2006',\n",
    "'chkYears$20':'2007',\n",
    "'chkYears$21':'2008',\n",
    "'chkYears$22':'2009',\n",
    "'chkYears$23':'2010',\n",
    "'chkYears$24':'2011',\n",
    "'chkYears$25':'2012',\n",
    "'chkYears$26':'2013',\n",
    "'chkYears$27':'2014',\n",
    "'chkYears$28':'2015',\n",
    "'chkYears$29':'2016',\n",
    "'chkYears$30':'2017',\n",
    "'chkYears$31':'2018',\n",
    "'chkYears$32':'2019',\n",
    "'chkYears$33':'2020',\n",
    "'chkYears$34':'2021',\n",
    "'chkYears$35':'2022',\n",
    "'btnSubmit': 'Submit'\n",
    "}"
   ]
  },
  {
   "cell_type": "code",
   "execution_count": 45,
   "id": "7758bac9",
   "metadata": {},
   "outputs": [
    {
     "name": "stderr",
     "output_type": "stream",
     "text": [
      "C:\\Users\\aadit\\AppData\\Local\\Programs\\Python\\Python311\\Lib\\site-packages\\urllib3\\connectionpool.py:1045: InsecureRequestWarning: Unverified HTTPS request is being made to host 'www.transtats.bts.gov'. Adding certificate verification is strongly advised. See: https://urllib3.readthedocs.io/en/1.26.x/advanced-usage.html#ssl-warnings\n",
      "  warnings.warn(\n"
     ]
    }
   ],
   "source": [
    "r=s.get(url,headers=headers, verify=False)\n",
    "soup = BeautifulSoup(r.content, 'html.parser')\n",
    "data['__VIEWSTATE']          = soup.find('input', attrs={'id': '__VIEWSTATE'})['value']\n",
    "data['__VIEWSTATEGENERATOR'] = soup.find('input', attrs={'id': '__VIEWSTATEGENERATOR'})['value']\n",
    "data['__EVENTVALIDATION']    = soup.find('input', attrs={'id': '__EVENTVALIDATION'})['value']"
   ]
  },
  {
   "cell_type": "code",
   "execution_count": 46,
   "id": "ba1cccc9",
   "metadata": {},
   "outputs": [
    {
     "name": "stderr",
     "output_type": "stream",
     "text": [
      "C:\\Users\\aadit\\AppData\\Local\\Programs\\Python\\Python311\\Lib\\site-packages\\urllib3\\connectionpool.py:1045: InsecureRequestWarning: Unverified HTTPS request is being made to host 'www.transtats.bts.gov'. Adding certificate verification is strongly advised. See: https://urllib3.readthedocs.io/en/1.26.x/advanced-usage.html#ssl-warnings\n",
      "  warnings.warn(\n"
     ]
    }
   ],
   "source": [
    "#first page\n",
    "r = s.post(url,headers=headers, data=data,verify=False)"
   ]
  },
  {
   "cell_type": "code",
   "execution_count": 47,
   "id": "d3c9240d",
   "metadata": {},
   "outputs": [],
   "source": [
    "soup=BeautifulSoup(r.content,'html.parser')\n",
    "data['__VIEWSTATE']          = soup.find('input', attrs={'id': '__VIEWSTATE'})['value']\n",
    "data['__VIEWSTATEGENERATOR'] = soup.find('input', attrs={'id': '__VIEWSTATEGENERATOR'})['value']\n",
    "data['__EVENTVALIDATION']    = soup.find('input', attrs={'id': '__EVENTVALIDATION'})['value']\n",
    "data['__EVENTTARGET']    = 'DL_CSV'\n",
    "data['__EVENTARGUMENT']    = ''\n",
    "del data['btnSubmit']"
   ]
  },
  {
   "cell_type": "code",
   "execution_count": 51,
   "id": "dca7a12f",
   "metadata": {},
   "outputs": [
    {
     "name": "stderr",
     "output_type": "stream",
     "text": [
      "C:\\Users\\aadit\\AppData\\Local\\Programs\\Python\\Python311\\Lib\\site-packages\\urllib3\\connectionpool.py:1045: InsecureRequestWarning: Unverified HTTPS request is being made to host 'www.transtats.bts.gov'. Adding certificate verification is strongly advised. See: https://urllib3.readthedocs.io/en/1.26.x/advanced-usage.html#ssl-warnings\n",
      "  warnings.warn(\n"
     ]
    }
   ],
   "source": [
    "page_csv=s.post(url,headers=headers, data=data,verify=False)"
   ]
  },
  {
   "cell_type": "code",
   "execution_count": 56,
   "id": "aaa833ae",
   "metadata": {},
   "outputs": [],
   "source": [
    "with open('output.csv', 'wb') as f:\n",
    "    f.write(page_csv.content)"
   ]
  },
  {
   "cell_type": "code",
   "execution_count": null,
   "id": "c1fe9260",
   "metadata": {},
   "outputs": [],
   "source": []
  },
  {
   "cell_type": "code",
   "execution_count": null,
   "id": "7a8d960a",
   "metadata": {},
   "outputs": [],
   "source": []
  },
  {
   "cell_type": "code",
   "execution_count": null,
   "id": "f23bb2c3",
   "metadata": {},
   "outputs": [],
   "source": []
  },
  {
   "cell_type": "code",
   "execution_count": null,
   "id": "811c2001",
   "metadata": {},
   "outputs": [],
   "source": []
  },
  {
   "cell_type": "code",
   "execution_count": null,
   "id": "1e1914c2",
   "metadata": {},
   "outputs": [],
   "source": []
  },
  {
   "cell_type": "code",
   "execution_count": null,
   "id": "37e6ddc1",
   "metadata": {},
   "outputs": [],
   "source": []
  },
  {
   "cell_type": "code",
   "execution_count": null,
   "id": "9e26e357",
   "metadata": {},
   "outputs": [],
   "source": []
  },
  {
   "cell_type": "code",
   "execution_count": null,
   "id": "e2d8387f",
   "metadata": {},
   "outputs": [],
   "source": []
  },
  {
   "cell_type": "code",
   "execution_count": null,
   "id": "a405ff3e",
   "metadata": {},
   "outputs": [],
   "source": []
  },
  {
   "cell_type": "code",
   "execution_count": 58,
   "id": "32b51a8e",
   "metadata": {},
   "outputs": [],
   "source": [
    "#page_csv.content"
   ]
  },
  {
   "cell_type": "code",
   "execution_count": 36,
   "id": "58a317b0",
   "metadata": {},
   "outputs": [],
   "source": [
    "# data['__VIEWSTATE']          = soup.find('input', attrs={'id': '__VIEWSTATE'})['value']\n",
    "# data['__VIEWSTATEGENERATOR'] = soup.find('input', attrs={'id': '__VIEWSTATEGENERATOR'})['value']\n",
    "# data['__EVENTVALIDATION']    = soup.find('input', attrs={'id': '__EVENTVALIDATION'})['value']\n",
    "# data['__EVENTTARGET']    = 'GridView1'\n",
    "# data['__EVENTARGUMENT']    = 'Page$2'\n",
    "\n",
    "\n",
    "# __EVENTTARGET: DL_CSV\n",
    "# __EVENTARGUMENT: \n",
    "\n",
    "\n",
    "# del data['btnSubmit']\n",
    "# # # Send a POST request with the headers and form data to simulate the JavaScript function call\n",
    "# # file_response = s.post(url, headers=headers, data=data)\n",
    "\n",
    "# # # Save the content of the response (the file) to a file on your computer\n",
    "# # with open('file.xlsx', 'wb') as f:\n",
    "# #     f.write(file_response.content)"
   ]
  },
  {
   "cell_type": "code",
   "execution_count": 37,
   "id": "cca4316f",
   "metadata": {},
   "outputs": [
    {
     "name": "stderr",
     "output_type": "stream",
     "text": [
      "C:\\Users\\aadit\\AppData\\Local\\Programs\\Python\\Python311\\Lib\\site-packages\\urllib3\\connectionpool.py:1045: InsecureRequestWarning: Unverified HTTPS request is being made to host 'www.transtats.bts.gov'. Adding certificate verification is strongly advised. See: https://urllib3.readthedocs.io/en/1.26.x/advanced-usage.html#ssl-warnings\n",
      "  warnings.warn(\n"
     ]
    }
   ],
   "source": [
    "#page_2=s.post(url,headers=headers, data=data,verify=False)"
   ]
  },
  {
   "cell_type": "code",
   "execution_count": 40,
   "id": "c3d327e3",
   "metadata": {},
   "outputs": [],
   "source": [
    "#soup=BeautifulSoup(page_2.content,'html.parser')"
   ]
  },
  {
   "cell_type": "code",
   "execution_count": 57,
   "id": "887beb73",
   "metadata": {},
   "outputs": [],
   "source": [
    "#print(soup)"
   ]
  },
  {
   "cell_type": "code",
   "execution_count": null,
   "id": "cedc7018",
   "metadata": {},
   "outputs": [],
   "source": []
  },
  {
   "cell_type": "code",
   "execution_count": null,
   "id": "b0f5ace8",
   "metadata": {},
   "outputs": [],
   "source": []
  },
  {
   "cell_type": "code",
   "execution_count": null,
   "id": "3f43b863",
   "metadata": {},
   "outputs": [],
   "source": []
  },
  {
   "cell_type": "code",
   "execution_count": null,
   "id": "abe6a05b",
   "metadata": {},
   "outputs": [],
   "source": []
  },
  {
   "cell_type": "code",
   "execution_count": null,
   "id": "4c6c4d6f",
   "metadata": {},
   "outputs": [],
   "source": []
  },
  {
   "cell_type": "code",
   "execution_count": null,
   "id": "fdc67767",
   "metadata": {},
   "outputs": [],
   "source": []
  },
  {
   "cell_type": "code",
   "execution_count": null,
   "id": "38803e37",
   "metadata": {},
   "outputs": [],
   "source": []
  },
  {
   "cell_type": "code",
   "execution_count": null,
   "id": "8cbc6466",
   "metadata": {},
   "outputs": [],
   "source": []
  },
  {
   "cell_type": "code",
   "execution_count": null,
   "id": "eab39a84",
   "metadata": {},
   "outputs": [],
   "source": []
  },
  {
   "cell_type": "code",
   "execution_count": null,
   "id": "32d06841",
   "metadata": {},
   "outputs": [],
   "source": []
  },
  {
   "cell_type": "code",
   "execution_count": null,
   "id": "1c1e2cea",
   "metadata": {},
   "outputs": [],
   "source": []
  },
  {
   "cell_type": "code",
   "execution_count": null,
   "id": "35efaaf7",
   "metadata": {},
   "outputs": [],
   "source": []
  },
  {
   "cell_type": "code",
   "execution_count": null,
   "id": "f23602e6",
   "metadata": {},
   "outputs": [],
   "source": []
  },
  {
   "cell_type": "code",
   "execution_count": null,
   "id": "1323998b",
   "metadata": {},
   "outputs": [],
   "source": []
  },
  {
   "cell_type": "code",
   "execution_count": null,
   "id": "9490869c",
   "metadata": {},
   "outputs": [],
   "source": []
  },
  {
   "cell_type": "code",
   "execution_count": null,
   "id": "27effc80",
   "metadata": {},
   "outputs": [],
   "source": []
  },
  {
   "cell_type": "code",
   "execution_count": null,
   "id": "f561536f",
   "metadata": {},
   "outputs": [],
   "source": []
  },
  {
   "cell_type": "code",
   "execution_count": null,
   "id": "8adfea86",
   "metadata": {},
   "outputs": [],
   "source": []
  },
  {
   "cell_type": "code",
   "execution_count": null,
   "id": "15ba877b",
   "metadata": {},
   "outputs": [],
   "source": []
  },
  {
   "cell_type": "code",
   "execution_count": null,
   "id": "16ff6d3c",
   "metadata": {},
   "outputs": [],
   "source": []
  },
  {
   "cell_type": "code",
   "execution_count": null,
   "id": "b552237c",
   "metadata": {},
   "outputs": [],
   "source": []
  },
  {
   "cell_type": "code",
   "execution_count": null,
   "id": "60074698",
   "metadata": {},
   "outputs": [],
   "source": []
  },
  {
   "cell_type": "code",
   "execution_count": null,
   "id": "70890110",
   "metadata": {},
   "outputs": [],
   "source": []
  },
  {
   "cell_type": "code",
   "execution_count": null,
   "id": "73ce9b49",
   "metadata": {},
   "outputs": [],
   "source": []
  },
  {
   "cell_type": "code",
   "execution_count": null,
   "id": "5744f2e0",
   "metadata": {},
   "outputs": [],
   "source": []
  },
  {
   "cell_type": "code",
   "execution_count": null,
   "id": "ad679ae9",
   "metadata": {},
   "outputs": [],
   "source": []
  },
  {
   "cell_type": "code",
   "execution_count": null,
   "id": "be924446",
   "metadata": {},
   "outputs": [],
   "source": []
  },
  {
   "cell_type": "code",
   "execution_count": null,
   "id": "c92a7476",
   "metadata": {},
   "outputs": [],
   "source": []
  },
  {
   "cell_type": "code",
   "execution_count": null,
   "id": "2c814e98",
   "metadata": {},
   "outputs": [],
   "source": []
  },
  {
   "cell_type": "code",
   "execution_count": null,
   "id": "a8ffcda1",
   "metadata": {},
   "outputs": [],
   "source": []
  },
  {
   "cell_type": "code",
   "execution_count": null,
   "id": "1b3a93e2",
   "metadata": {},
   "outputs": [],
   "source": []
  },
  {
   "cell_type": "code",
   "execution_count": 46,
   "id": "67eb777b",
   "metadata": {},
   "outputs": [],
   "source": [
    "# s=\"\"\"chkAllStatistics: on\n",
    "# chkStatistics$0: 0\n",
    "# chkStatistics$1: 1\n",
    "# chkStatistics$2: 2\n",
    "# chkStatistics$3: 3\n",
    "# chkStatistics$4: 4\n",
    "# chkStatistics$5: 5\n",
    "# chkStatistics$6: 6\n",
    "# chkStatistics$7: 7\n",
    "# cboAirport: ANC\n",
    "# cboAirline: DL\n",
    "# chkAllMonths: on\n",
    "# chkMonths$0: 1\n",
    "# chkMonths$1: 2\n",
    "# chkMonths$2: 3\n",
    "# chkMonths$3: 4\n",
    "# chkMonths$4: 5\n",
    "# chkMonths$5: 6\n",
    "# chkMonths$6: 7\n",
    "# chkMonths$7: 8\n",
    "# chkMonths$8: 9\n",
    "# chkMonths$9: 10\n",
    "# chkMonths$10: 11\n",
    "# chkMonths$11: 12\n",
    "# chkAllDays: on\n",
    "# chkDays$0: 1\n",
    "# chkDays$1: 2\n",
    "# chkDays$2: 3\n",
    "# chkDays$3: 4\n",
    "# chkDays$4: 5\n",
    "# chkDays$5: 6\n",
    "# chkDays$6: 7\n",
    "# chkDays$7: 8\n",
    "# chkDays$8: 9\n",
    "# chkDays$9: 10\n",
    "# chkDays$10: 11\n",
    "# chkDays$11: 12\n",
    "# chkDays$12: 13\n",
    "# chkDays$13: 14\n",
    "# chkDays$14: 15\n",
    "# chkDays$15: 16\n",
    "# chkDays$16: 17\n",
    "# chkDays$17: 18\n",
    "# chkDays$18: 19\n",
    "# chkDays$19: 20\n",
    "# chkDays$20: 21\n",
    "# chkDays$21: 22\n",
    "# chkDays$22: 23\n",
    "# chkDays$23: 24\n",
    "# chkDays$24: 25\n",
    "# chkDays$25: 26\n",
    "# chkDays$26: 27\n",
    "# chkDays$27: 28\n",
    "# chkDays$28: 29\n",
    "# chkDays$29: 30\n",
    "# chkDays$30: 31\n",
    "# chkAllYears: on\n",
    "# chkYears$0: 1987\n",
    "# chkYears$1: 1988\n",
    "# chkYears$2: 1989\n",
    "# chkYears$3: 1990\n",
    "# chkYears$4: 1991\n",
    "# chkYears$5: 1992\n",
    "# chkYears$6: 1993\n",
    "# chkYears$7: 1994\n",
    "# chkYears$8: 1995\n",
    "# chkYears$9: 1996\n",
    "# chkYears$10: 1997\n",
    "# chkYears$11: 1998\n",
    "# chkYears$12: 1999\n",
    "# chkYears$13: 2000\n",
    "# chkYears$14: 2001\n",
    "# chkYears$15: 2002\n",
    "# chkYears$16: 2003\n",
    "# chkYears$17: 2004\n",
    "# chkYears$18: 2005\n",
    "# chkYears$19: 2006\n",
    "# chkYears$20: 2007\n",
    "# chkYears$21: 2008\n",
    "# chkYears$22: 2009\n",
    "# chkYears$23: 2010\n",
    "# chkYears$24: 2011\n",
    "# chkYears$25: 2012\n",
    "# chkYears$26: 2013\n",
    "# chkYears$27: 2014\n",
    "# chkYears$28: 2015\n",
    "# chkYears$29: 2016\n",
    "# chkYears$30: 2017\n",
    "# chkYears$31: 2018\n",
    "# chkYears$32: 2019\n",
    "# chkYears$33: 2020\n",
    "# chkYears$34: 2021\n",
    "# chkYears$35: 2022\"\"\"\n",
    "\n",
    "# s=s.split('\\n')\n",
    "# for i in range(len(s)):\n",
    "#     a,b=s[i].split(':')[0],s[i].split(':')[1].strip()\n",
    "#     print(\"'\"+a+\"':'\"+b+\"',\")"
   ]
  },
  {
   "cell_type": "code",
   "execution_count": null,
   "id": "18503b64",
   "metadata": {},
   "outputs": [],
   "source": []
  }
 ],
 "metadata": {
  "kernelspec": {
   "display_name": "Python 3 (ipykernel)",
   "language": "python",
   "name": "python3"
  },
  "language_info": {
   "codemirror_mode": {
    "name": "ipython",
    "version": 3
   },
   "file_extension": ".py",
   "mimetype": "text/x-python",
   "name": "python",
   "nbconvert_exporter": "python",
   "pygments_lexer": "ipython3",
   "version": "3.11.1"
  }
 },
 "nbformat": 4,
 "nbformat_minor": 5
}
