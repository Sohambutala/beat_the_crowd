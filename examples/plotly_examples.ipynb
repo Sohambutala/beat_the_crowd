{
 "cells": [
  {
   "attachments": {},
   "cell_type": "markdown",
   "metadata": {},
   "source": [
    "# Plotly Examples"
   ]
  },
  {
   "attachments": {},
   "cell_type": "markdown",
   "metadata": {},
   "source": [
    "For this project, we chose to use plotly to create our visualizations. The reasoning behind this is detailed in the technology presentation presentation located in the docs folder of the repo. "
   ]
  },
  {
   "cell_type": "code",
   "execution_count": 26,
   "metadata": {},
   "outputs": [],
   "source": [
    "import pandas as pd\n",
    "import plotly.express as px \n",
    "import plotly.io as pio\n",
    "import plotly.graph_objects as go\n",
    "denied_boarding = pd.read_csv(\"..\\\\SmoothFly\\\\analysis\\\\clean_data\\\\denied_boarding.csv\")\n",
    "denied_boarding_reshape = pd.melt(denied_boarding.rename(columns = {\n",
    "        '1':'Involuntary - Received Compensation', \n",
    "        '2':'Involuntary - No Compensation', \n",
    "        '5':'Voluntary - Received Compensation'\n",
    "        }),\n",
    "                                      id_vars = ['CARRIER', 'year', 'quarter'],\n",
    "                                      value_vars=['Involuntary - Received Compensation',\n",
    "                                                  'Involuntary - No Compensation',\n",
    "                                                  'Voluntary - Received Compensation'\n",
    "                                                  ])\n",
    "\n",
    "denied_boarding_reshape = denied_boarding_reshape[['CARRIER',\n",
    "                                  'variable',\n",
    "                                  'value']].set_index(['CARRIER', 'variable'])['value']\n",
    "\n",
    "pio.templates.default = \"plotly\"\n"
   ]
  },
  {
   "attachments": {},
   "cell_type": "markdown",
   "metadata": {},
   "source": [
    "For these examples, we will use the denied_boarding dataset that is located in the clean_data folder of the repo. Plotly express can be used to create a variety of graphs with customization and interactive elements.If we wanted to use plotly to visualize the percent of people denied boarding over time we could make a standard area plot using the code below. "
   ]
  },
  {
   "cell_type": "code",
   "execution_count": 13,
   "metadata": {},
   "outputs": [
    {
     "data": {
      "application/vnd.plotly.v1+json": {
       "config": {
        "plotlyServerURL": "https://plot.ly"
       },
       "data": [
        {
         "fillpattern": {
          "shape": ""
         },
         "hovertemplate": "variable=Voluntary<br>date=%{x}<br>value=%{y}<extra></extra>",
         "legendgroup": "Voluntary",
         "line": {
          "color": "#636efa"
         },
         "marker": {
          "symbol": "circle"
         },
         "mode": "lines",
         "name": "Voluntary",
         "orientation": "v",
         "showlegend": true,
         "stackgroup": "1",
         "type": "scatter",
         "x": [
          "2018-01-01",
          "2018-04-01",
          "2018-07-01",
          "2018-10-01",
          "2019-01-01",
          "2019-04-01",
          "2019-07-01",
          "2019-10-01",
          "2020-01-01",
          "2020-04-01",
          "2020-07-01",
          "2020-10-01",
          "2021-01-01",
          "2021-04-01",
          "2021-07-01",
          "2021-10-01"
         ],
         "xaxis": "x",
         "y": [
          0.054796722222222226,
          0.05260888235294118,
          0.05579117647058823,
          0.05363447058823529,
          0.0666750588235294,
          0.07832482352941175,
          0.059996,
          0.05608894117647059,
          0.04040494117647059,
          0.01904264705882353,
          0.011265058823529413,
          0.0074625,
          0.01629911764705882,
          0.025616,
          0.034309882352941176,
          0.03530447058823529
         ],
         "yaxis": "y"
        },
        {
         "fillpattern": {
          "shape": ""
         },
         "hovertemplate": "variable=Involuntary<br>date=%{x}<br>value=%{y}<extra></extra>",
         "legendgroup": "Involuntary",
         "line": {
          "color": "#EF553B"
         },
         "marker": {
          "symbol": "circle"
         },
         "mode": "lines",
         "name": "Involuntary",
         "orientation": "v",
         "showlegend": true,
         "stackgroup": "1",
         "type": "scatter",
         "x": [
          "2018-01-01",
          "2018-04-01",
          "2018-07-01",
          "2018-10-01",
          "2019-01-01",
          "2019-04-01",
          "2019-07-01",
          "2019-10-01",
          "2020-01-01",
          "2020-04-01",
          "2020-07-01",
          "2020-10-01",
          "2021-01-01",
          "2021-04-01",
          "2021-07-01",
          "2021-10-01"
         ],
         "xaxis": "x",
         "y": [
          0.0018568333333333334,
          0.0013683529411764707,
          0.0017371764705882353,
          0.002549823529411765,
          0.004312882352941176,
          0.0036731764705882357,
          0.002597647058823529,
          0.0026798823529411765,
          0.0016502941176470588,
          0.001500529411764706,
          0.0013871176470588236,
          0.0004821875,
          0.0008186470588235293,
          0.0016499411764705884,
          0.0018530588235294119,
          0.002482176470588235
         ],
         "yaxis": "y"
        }
       ],
       "layout": {
        "legend": {
         "title": {
          "text": "variable"
         },
         "tracegroupgap": 0
        },
        "margin": {
         "t": 60
        },
        "template": {
         "data": {
          "bar": [
           {
            "error_x": {
             "color": "#2a3f5f"
            },
            "error_y": {
             "color": "#2a3f5f"
            },
            "marker": {
             "line": {
              "color": "#E5ECF6",
              "width": 0.5
             },
             "pattern": {
              "fillmode": "overlay",
              "size": 10,
              "solidity": 0.2
             }
            },
            "type": "bar"
           }
          ],
          "barpolar": [
           {
            "marker": {
             "line": {
              "color": "#E5ECF6",
              "width": 0.5
             },
             "pattern": {
              "fillmode": "overlay",
              "size": 10,
              "solidity": 0.2
             }
            },
            "type": "barpolar"
           }
          ],
          "carpet": [
           {
            "aaxis": {
             "endlinecolor": "#2a3f5f",
             "gridcolor": "white",
             "linecolor": "white",
             "minorgridcolor": "white",
             "startlinecolor": "#2a3f5f"
            },
            "baxis": {
             "endlinecolor": "#2a3f5f",
             "gridcolor": "white",
             "linecolor": "white",
             "minorgridcolor": "white",
             "startlinecolor": "#2a3f5f"
            },
            "type": "carpet"
           }
          ],
          "choropleth": [
           {
            "colorbar": {
             "outlinewidth": 0,
             "ticks": ""
            },
            "type": "choropleth"
           }
          ],
          "contour": [
           {
            "colorbar": {
             "outlinewidth": 0,
             "ticks": ""
            },
            "colorscale": [
             [
              0,
              "#0d0887"
             ],
             [
              0.1111111111111111,
              "#46039f"
             ],
             [
              0.2222222222222222,
              "#7201a8"
             ],
             [
              0.3333333333333333,
              "#9c179e"
             ],
             [
              0.4444444444444444,
              "#bd3786"
             ],
             [
              0.5555555555555556,
              "#d8576b"
             ],
             [
              0.6666666666666666,
              "#ed7953"
             ],
             [
              0.7777777777777778,
              "#fb9f3a"
             ],
             [
              0.8888888888888888,
              "#fdca26"
             ],
             [
              1,
              "#f0f921"
             ]
            ],
            "type": "contour"
           }
          ],
          "contourcarpet": [
           {
            "colorbar": {
             "outlinewidth": 0,
             "ticks": ""
            },
            "type": "contourcarpet"
           }
          ],
          "heatmap": [
           {
            "colorbar": {
             "outlinewidth": 0,
             "ticks": ""
            },
            "colorscale": [
             [
              0,
              "#0d0887"
             ],
             [
              0.1111111111111111,
              "#46039f"
             ],
             [
              0.2222222222222222,
              "#7201a8"
             ],
             [
              0.3333333333333333,
              "#9c179e"
             ],
             [
              0.4444444444444444,
              "#bd3786"
             ],
             [
              0.5555555555555556,
              "#d8576b"
             ],
             [
              0.6666666666666666,
              "#ed7953"
             ],
             [
              0.7777777777777778,
              "#fb9f3a"
             ],
             [
              0.8888888888888888,
              "#fdca26"
             ],
             [
              1,
              "#f0f921"
             ]
            ],
            "type": "heatmap"
           }
          ],
          "heatmapgl": [
           {
            "colorbar": {
             "outlinewidth": 0,
             "ticks": ""
            },
            "colorscale": [
             [
              0,
              "#0d0887"
             ],
             [
              0.1111111111111111,
              "#46039f"
             ],
             [
              0.2222222222222222,
              "#7201a8"
             ],
             [
              0.3333333333333333,
              "#9c179e"
             ],
             [
              0.4444444444444444,
              "#bd3786"
             ],
             [
              0.5555555555555556,
              "#d8576b"
             ],
             [
              0.6666666666666666,
              "#ed7953"
             ],
             [
              0.7777777777777778,
              "#fb9f3a"
             ],
             [
              0.8888888888888888,
              "#fdca26"
             ],
             [
              1,
              "#f0f921"
             ]
            ],
            "type": "heatmapgl"
           }
          ],
          "histogram": [
           {
            "marker": {
             "pattern": {
              "fillmode": "overlay",
              "size": 10,
              "solidity": 0.2
             }
            },
            "type": "histogram"
           }
          ],
          "histogram2d": [
           {
            "colorbar": {
             "outlinewidth": 0,
             "ticks": ""
            },
            "colorscale": [
             [
              0,
              "#0d0887"
             ],
             [
              0.1111111111111111,
              "#46039f"
             ],
             [
              0.2222222222222222,
              "#7201a8"
             ],
             [
              0.3333333333333333,
              "#9c179e"
             ],
             [
              0.4444444444444444,
              "#bd3786"
             ],
             [
              0.5555555555555556,
              "#d8576b"
             ],
             [
              0.6666666666666666,
              "#ed7953"
             ],
             [
              0.7777777777777778,
              "#fb9f3a"
             ],
             [
              0.8888888888888888,
              "#fdca26"
             ],
             [
              1,
              "#f0f921"
             ]
            ],
            "type": "histogram2d"
           }
          ],
          "histogram2dcontour": [
           {
            "colorbar": {
             "outlinewidth": 0,
             "ticks": ""
            },
            "colorscale": [
             [
              0,
              "#0d0887"
             ],
             [
              0.1111111111111111,
              "#46039f"
             ],
             [
              0.2222222222222222,
              "#7201a8"
             ],
             [
              0.3333333333333333,
              "#9c179e"
             ],
             [
              0.4444444444444444,
              "#bd3786"
             ],
             [
              0.5555555555555556,
              "#d8576b"
             ],
             [
              0.6666666666666666,
              "#ed7953"
             ],
             [
              0.7777777777777778,
              "#fb9f3a"
             ],
             [
              0.8888888888888888,
              "#fdca26"
             ],
             [
              1,
              "#f0f921"
             ]
            ],
            "type": "histogram2dcontour"
           }
          ],
          "mesh3d": [
           {
            "colorbar": {
             "outlinewidth": 0,
             "ticks": ""
            },
            "type": "mesh3d"
           }
          ],
          "parcoords": [
           {
            "line": {
             "colorbar": {
              "outlinewidth": 0,
              "ticks": ""
             }
            },
            "type": "parcoords"
           }
          ],
          "pie": [
           {
            "automargin": true,
            "type": "pie"
           }
          ],
          "scatter": [
           {
            "fillpattern": {
             "fillmode": "overlay",
             "size": 10,
             "solidity": 0.2
            },
            "type": "scatter"
           }
          ],
          "scatter3d": [
           {
            "line": {
             "colorbar": {
              "outlinewidth": 0,
              "ticks": ""
             }
            },
            "marker": {
             "colorbar": {
              "outlinewidth": 0,
              "ticks": ""
             }
            },
            "type": "scatter3d"
           }
          ],
          "scattercarpet": [
           {
            "marker": {
             "colorbar": {
              "outlinewidth": 0,
              "ticks": ""
             }
            },
            "type": "scattercarpet"
           }
          ],
          "scattergeo": [
           {
            "marker": {
             "colorbar": {
              "outlinewidth": 0,
              "ticks": ""
             }
            },
            "type": "scattergeo"
           }
          ],
          "scattergl": [
           {
            "marker": {
             "colorbar": {
              "outlinewidth": 0,
              "ticks": ""
             }
            },
            "type": "scattergl"
           }
          ],
          "scattermapbox": [
           {
            "marker": {
             "colorbar": {
              "outlinewidth": 0,
              "ticks": ""
             }
            },
            "type": "scattermapbox"
           }
          ],
          "scatterpolar": [
           {
            "marker": {
             "colorbar": {
              "outlinewidth": 0,
              "ticks": ""
             }
            },
            "type": "scatterpolar"
           }
          ],
          "scatterpolargl": [
           {
            "marker": {
             "colorbar": {
              "outlinewidth": 0,
              "ticks": ""
             }
            },
            "type": "scatterpolargl"
           }
          ],
          "scatterternary": [
           {
            "marker": {
             "colorbar": {
              "outlinewidth": 0,
              "ticks": ""
             }
            },
            "type": "scatterternary"
           }
          ],
          "surface": [
           {
            "colorbar": {
             "outlinewidth": 0,
             "ticks": ""
            },
            "colorscale": [
             [
              0,
              "#0d0887"
             ],
             [
              0.1111111111111111,
              "#46039f"
             ],
             [
              0.2222222222222222,
              "#7201a8"
             ],
             [
              0.3333333333333333,
              "#9c179e"
             ],
             [
              0.4444444444444444,
              "#bd3786"
             ],
             [
              0.5555555555555556,
              "#d8576b"
             ],
             [
              0.6666666666666666,
              "#ed7953"
             ],
             [
              0.7777777777777778,
              "#fb9f3a"
             ],
             [
              0.8888888888888888,
              "#fdca26"
             ],
             [
              1,
              "#f0f921"
             ]
            ],
            "type": "surface"
           }
          ],
          "table": [
           {
            "cells": {
             "fill": {
              "color": "#EBF0F8"
             },
             "line": {
              "color": "white"
             }
            },
            "header": {
             "fill": {
              "color": "#C8D4E3"
             },
             "line": {
              "color": "white"
             }
            },
            "type": "table"
           }
          ]
         },
         "layout": {
          "annotationdefaults": {
           "arrowcolor": "#2a3f5f",
           "arrowhead": 0,
           "arrowwidth": 1
          },
          "autotypenumbers": "strict",
          "coloraxis": {
           "colorbar": {
            "outlinewidth": 0,
            "ticks": ""
           }
          },
          "colorscale": {
           "diverging": [
            [
             0,
             "#8e0152"
            ],
            [
             0.1,
             "#c51b7d"
            ],
            [
             0.2,
             "#de77ae"
            ],
            [
             0.3,
             "#f1b6da"
            ],
            [
             0.4,
             "#fde0ef"
            ],
            [
             0.5,
             "#f7f7f7"
            ],
            [
             0.6,
             "#e6f5d0"
            ],
            [
             0.7,
             "#b8e186"
            ],
            [
             0.8,
             "#7fbc41"
            ],
            [
             0.9,
             "#4d9221"
            ],
            [
             1,
             "#276419"
            ]
           ],
           "sequential": [
            [
             0,
             "#0d0887"
            ],
            [
             0.1111111111111111,
             "#46039f"
            ],
            [
             0.2222222222222222,
             "#7201a8"
            ],
            [
             0.3333333333333333,
             "#9c179e"
            ],
            [
             0.4444444444444444,
             "#bd3786"
            ],
            [
             0.5555555555555556,
             "#d8576b"
            ],
            [
             0.6666666666666666,
             "#ed7953"
            ],
            [
             0.7777777777777778,
             "#fb9f3a"
            ],
            [
             0.8888888888888888,
             "#fdca26"
            ],
            [
             1,
             "#f0f921"
            ]
           ],
           "sequentialminus": [
            [
             0,
             "#0d0887"
            ],
            [
             0.1111111111111111,
             "#46039f"
            ],
            [
             0.2222222222222222,
             "#7201a8"
            ],
            [
             0.3333333333333333,
             "#9c179e"
            ],
            [
             0.4444444444444444,
             "#bd3786"
            ],
            [
             0.5555555555555556,
             "#d8576b"
            ],
            [
             0.6666666666666666,
             "#ed7953"
            ],
            [
             0.7777777777777778,
             "#fb9f3a"
            ],
            [
             0.8888888888888888,
             "#fdca26"
            ],
            [
             1,
             "#f0f921"
            ]
           ]
          },
          "colorway": [
           "#636efa",
           "#EF553B",
           "#00cc96",
           "#ab63fa",
           "#FFA15A",
           "#19d3f3",
           "#FF6692",
           "#B6E880",
           "#FF97FF",
           "#FECB52"
          ],
          "font": {
           "color": "#2a3f5f"
          },
          "geo": {
           "bgcolor": "white",
           "lakecolor": "white",
           "landcolor": "#E5ECF6",
           "showlakes": true,
           "showland": true,
           "subunitcolor": "white"
          },
          "hoverlabel": {
           "align": "left"
          },
          "hovermode": "closest",
          "mapbox": {
           "style": "light"
          },
          "paper_bgcolor": "white",
          "plot_bgcolor": "#E5ECF6",
          "polar": {
           "angularaxis": {
            "gridcolor": "white",
            "linecolor": "white",
            "ticks": ""
           },
           "bgcolor": "#E5ECF6",
           "radialaxis": {
            "gridcolor": "white",
            "linecolor": "white",
            "ticks": ""
           }
          },
          "scene": {
           "xaxis": {
            "backgroundcolor": "#E5ECF6",
            "gridcolor": "white",
            "gridwidth": 2,
            "linecolor": "white",
            "showbackground": true,
            "ticks": "",
            "zerolinecolor": "white"
           },
           "yaxis": {
            "backgroundcolor": "#E5ECF6",
            "gridcolor": "white",
            "gridwidth": 2,
            "linecolor": "white",
            "showbackground": true,
            "ticks": "",
            "zerolinecolor": "white"
           },
           "zaxis": {
            "backgroundcolor": "#E5ECF6",
            "gridcolor": "white",
            "gridwidth": 2,
            "linecolor": "white",
            "showbackground": true,
            "ticks": "",
            "zerolinecolor": "white"
           }
          },
          "shapedefaults": {
           "line": {
            "color": "#2a3f5f"
           }
          },
          "ternary": {
           "aaxis": {
            "gridcolor": "white",
            "linecolor": "white",
            "ticks": ""
           },
           "baxis": {
            "gridcolor": "white",
            "linecolor": "white",
            "ticks": ""
           },
           "bgcolor": "#E5ECF6",
           "caxis": {
            "gridcolor": "white",
            "linecolor": "white",
            "ticks": ""
           }
          },
          "title": {
           "x": 0.05
          },
          "xaxis": {
           "automargin": true,
           "gridcolor": "white",
           "linecolor": "white",
           "ticks": "",
           "title": {
            "standoff": 15
           },
           "zerolinecolor": "white",
           "zerolinewidth": 2
          },
          "yaxis": {
           "automargin": true,
           "gridcolor": "white",
           "linecolor": "white",
           "ticks": "",
           "title": {
            "standoff": 15
           },
           "zerolinecolor": "white",
           "zerolinewidth": 2
          }
         }
        },
        "xaxis": {
         "anchor": "y",
         "domain": [
          0,
          1
         ],
         "title": {
          "text": "date"
         }
        },
        "yaxis": {
         "anchor": "x",
         "domain": [
          0,
          1
         ],
         "title": {
          "text": "value"
         }
        }
       }
      }
     },
     "metadata": {},
     "output_type": "display_data"
    }
   ],
   "source": [
    "fig = px.area(denied_boarding.groupby('date').mean(numeric_only = True).\n",
    "                  reset_index().rename(columns = {'perc_denied_boarding_involuntary':\"Involuntary\",\n",
    "                                                  \"perc_denied_boarding_voluntary\":\"Voluntary\"}),\n",
    "              x=\"date\", y=[\"Voluntary\",\"Involuntary\"])\n",
    "fig.show()"
   ]
  },
  {
   "attachments": {},
   "cell_type": "markdown",
   "metadata": {},
   "source": [
    "In order to make this plot more interpretable we can use plotly features such as labels and title. The code below creates the same plot, but with additional descriptors to make it clear what the visualization is showing. "
   ]
  },
  {
   "cell_type": "code",
   "execution_count": 14,
   "metadata": {},
   "outputs": [
    {
     "data": {
      "application/vnd.plotly.v1+json": {
       "config": {
        "plotlyServerURL": "https://plot.ly"
       },
       "data": [
        {
         "fillpattern": {
          "shape": ""
         },
         "hovertemplate": "Denial Type=Voluntary<br>Year=%{x}<br>Percent of Passengers Denied Boarding=%{y}<extra></extra>",
         "legendgroup": "Voluntary",
         "line": {
          "color": "#636efa"
         },
         "marker": {
          "symbol": "circle"
         },
         "mode": "lines",
         "name": "Voluntary",
         "orientation": "v",
         "showlegend": true,
         "stackgroup": "1",
         "type": "scatter",
         "x": [
          "2018-01-01",
          "2018-04-01",
          "2018-07-01",
          "2018-10-01",
          "2019-01-01",
          "2019-04-01",
          "2019-07-01",
          "2019-10-01",
          "2020-01-01",
          "2020-04-01",
          "2020-07-01",
          "2020-10-01",
          "2021-01-01",
          "2021-04-01",
          "2021-07-01",
          "2021-10-01"
         ],
         "xaxis": "x",
         "y": [
          0.054796722222222226,
          0.05260888235294118,
          0.05579117647058823,
          0.05363447058823529,
          0.0666750588235294,
          0.07832482352941175,
          0.059996,
          0.05608894117647059,
          0.04040494117647059,
          0.01904264705882353,
          0.011265058823529413,
          0.0074625,
          0.01629911764705882,
          0.025616,
          0.034309882352941176,
          0.03530447058823529
         ],
         "yaxis": "y"
        },
        {
         "fillpattern": {
          "shape": ""
         },
         "hovertemplate": "Denial Type=Involuntary<br>Year=%{x}<br>Percent of Passengers Denied Boarding=%{y}<extra></extra>",
         "legendgroup": "Involuntary",
         "line": {
          "color": "#EF553B"
         },
         "marker": {
          "symbol": "circle"
         },
         "mode": "lines",
         "name": "Involuntary",
         "orientation": "v",
         "showlegend": true,
         "stackgroup": "1",
         "type": "scatter",
         "x": [
          "2018-01-01",
          "2018-04-01",
          "2018-07-01",
          "2018-10-01",
          "2019-01-01",
          "2019-04-01",
          "2019-07-01",
          "2019-10-01",
          "2020-01-01",
          "2020-04-01",
          "2020-07-01",
          "2020-10-01",
          "2021-01-01",
          "2021-04-01",
          "2021-07-01",
          "2021-10-01"
         ],
         "xaxis": "x",
         "y": [
          0.0018568333333333334,
          0.0013683529411764707,
          0.0017371764705882353,
          0.002549823529411765,
          0.004312882352941176,
          0.0036731764705882357,
          0.002597647058823529,
          0.0026798823529411765,
          0.0016502941176470588,
          0.001500529411764706,
          0.0013871176470588236,
          0.0004821875,
          0.0008186470588235293,
          0.0016499411764705884,
          0.0018530588235294119,
          0.002482176470588235
         ],
         "yaxis": "y"
        }
       ],
       "layout": {
        "legend": {
         "title": {
          "text": "Denial Type"
         },
         "tracegroupgap": 0
        },
        "template": {
         "data": {
          "bar": [
           {
            "error_x": {
             "color": "#2a3f5f"
            },
            "error_y": {
             "color": "#2a3f5f"
            },
            "marker": {
             "line": {
              "color": "#E5ECF6",
              "width": 0.5
             },
             "pattern": {
              "fillmode": "overlay",
              "size": 10,
              "solidity": 0.2
             }
            },
            "type": "bar"
           }
          ],
          "barpolar": [
           {
            "marker": {
             "line": {
              "color": "#E5ECF6",
              "width": 0.5
             },
             "pattern": {
              "fillmode": "overlay",
              "size": 10,
              "solidity": 0.2
             }
            },
            "type": "barpolar"
           }
          ],
          "carpet": [
           {
            "aaxis": {
             "endlinecolor": "#2a3f5f",
             "gridcolor": "white",
             "linecolor": "white",
             "minorgridcolor": "white",
             "startlinecolor": "#2a3f5f"
            },
            "baxis": {
             "endlinecolor": "#2a3f5f",
             "gridcolor": "white",
             "linecolor": "white",
             "minorgridcolor": "white",
             "startlinecolor": "#2a3f5f"
            },
            "type": "carpet"
           }
          ],
          "choropleth": [
           {
            "colorbar": {
             "outlinewidth": 0,
             "ticks": ""
            },
            "type": "choropleth"
           }
          ],
          "contour": [
           {
            "colorbar": {
             "outlinewidth": 0,
             "ticks": ""
            },
            "colorscale": [
             [
              0,
              "#0d0887"
             ],
             [
              0.1111111111111111,
              "#46039f"
             ],
             [
              0.2222222222222222,
              "#7201a8"
             ],
             [
              0.3333333333333333,
              "#9c179e"
             ],
             [
              0.4444444444444444,
              "#bd3786"
             ],
             [
              0.5555555555555556,
              "#d8576b"
             ],
             [
              0.6666666666666666,
              "#ed7953"
             ],
             [
              0.7777777777777778,
              "#fb9f3a"
             ],
             [
              0.8888888888888888,
              "#fdca26"
             ],
             [
              1,
              "#f0f921"
             ]
            ],
            "type": "contour"
           }
          ],
          "contourcarpet": [
           {
            "colorbar": {
             "outlinewidth": 0,
             "ticks": ""
            },
            "type": "contourcarpet"
           }
          ],
          "heatmap": [
           {
            "colorbar": {
             "outlinewidth": 0,
             "ticks": ""
            },
            "colorscale": [
             [
              0,
              "#0d0887"
             ],
             [
              0.1111111111111111,
              "#46039f"
             ],
             [
              0.2222222222222222,
              "#7201a8"
             ],
             [
              0.3333333333333333,
              "#9c179e"
             ],
             [
              0.4444444444444444,
              "#bd3786"
             ],
             [
              0.5555555555555556,
              "#d8576b"
             ],
             [
              0.6666666666666666,
              "#ed7953"
             ],
             [
              0.7777777777777778,
              "#fb9f3a"
             ],
             [
              0.8888888888888888,
              "#fdca26"
             ],
             [
              1,
              "#f0f921"
             ]
            ],
            "type": "heatmap"
           }
          ],
          "heatmapgl": [
           {
            "colorbar": {
             "outlinewidth": 0,
             "ticks": ""
            },
            "colorscale": [
             [
              0,
              "#0d0887"
             ],
             [
              0.1111111111111111,
              "#46039f"
             ],
             [
              0.2222222222222222,
              "#7201a8"
             ],
             [
              0.3333333333333333,
              "#9c179e"
             ],
             [
              0.4444444444444444,
              "#bd3786"
             ],
             [
              0.5555555555555556,
              "#d8576b"
             ],
             [
              0.6666666666666666,
              "#ed7953"
             ],
             [
              0.7777777777777778,
              "#fb9f3a"
             ],
             [
              0.8888888888888888,
              "#fdca26"
             ],
             [
              1,
              "#f0f921"
             ]
            ],
            "type": "heatmapgl"
           }
          ],
          "histogram": [
           {
            "marker": {
             "pattern": {
              "fillmode": "overlay",
              "size": 10,
              "solidity": 0.2
             }
            },
            "type": "histogram"
           }
          ],
          "histogram2d": [
           {
            "colorbar": {
             "outlinewidth": 0,
             "ticks": ""
            },
            "colorscale": [
             [
              0,
              "#0d0887"
             ],
             [
              0.1111111111111111,
              "#46039f"
             ],
             [
              0.2222222222222222,
              "#7201a8"
             ],
             [
              0.3333333333333333,
              "#9c179e"
             ],
             [
              0.4444444444444444,
              "#bd3786"
             ],
             [
              0.5555555555555556,
              "#d8576b"
             ],
             [
              0.6666666666666666,
              "#ed7953"
             ],
             [
              0.7777777777777778,
              "#fb9f3a"
             ],
             [
              0.8888888888888888,
              "#fdca26"
             ],
             [
              1,
              "#f0f921"
             ]
            ],
            "type": "histogram2d"
           }
          ],
          "histogram2dcontour": [
           {
            "colorbar": {
             "outlinewidth": 0,
             "ticks": ""
            },
            "colorscale": [
             [
              0,
              "#0d0887"
             ],
             [
              0.1111111111111111,
              "#46039f"
             ],
             [
              0.2222222222222222,
              "#7201a8"
             ],
             [
              0.3333333333333333,
              "#9c179e"
             ],
             [
              0.4444444444444444,
              "#bd3786"
             ],
             [
              0.5555555555555556,
              "#d8576b"
             ],
             [
              0.6666666666666666,
              "#ed7953"
             ],
             [
              0.7777777777777778,
              "#fb9f3a"
             ],
             [
              0.8888888888888888,
              "#fdca26"
             ],
             [
              1,
              "#f0f921"
             ]
            ],
            "type": "histogram2dcontour"
           }
          ],
          "mesh3d": [
           {
            "colorbar": {
             "outlinewidth": 0,
             "ticks": ""
            },
            "type": "mesh3d"
           }
          ],
          "parcoords": [
           {
            "line": {
             "colorbar": {
              "outlinewidth": 0,
              "ticks": ""
             }
            },
            "type": "parcoords"
           }
          ],
          "pie": [
           {
            "automargin": true,
            "type": "pie"
           }
          ],
          "scatter": [
           {
            "fillpattern": {
             "fillmode": "overlay",
             "size": 10,
             "solidity": 0.2
            },
            "type": "scatter"
           }
          ],
          "scatter3d": [
           {
            "line": {
             "colorbar": {
              "outlinewidth": 0,
              "ticks": ""
             }
            },
            "marker": {
             "colorbar": {
              "outlinewidth": 0,
              "ticks": ""
             }
            },
            "type": "scatter3d"
           }
          ],
          "scattercarpet": [
           {
            "marker": {
             "colorbar": {
              "outlinewidth": 0,
              "ticks": ""
             }
            },
            "type": "scattercarpet"
           }
          ],
          "scattergeo": [
           {
            "marker": {
             "colorbar": {
              "outlinewidth": 0,
              "ticks": ""
             }
            },
            "type": "scattergeo"
           }
          ],
          "scattergl": [
           {
            "marker": {
             "colorbar": {
              "outlinewidth": 0,
              "ticks": ""
             }
            },
            "type": "scattergl"
           }
          ],
          "scattermapbox": [
           {
            "marker": {
             "colorbar": {
              "outlinewidth": 0,
              "ticks": ""
             }
            },
            "type": "scattermapbox"
           }
          ],
          "scatterpolar": [
           {
            "marker": {
             "colorbar": {
              "outlinewidth": 0,
              "ticks": ""
             }
            },
            "type": "scatterpolar"
           }
          ],
          "scatterpolargl": [
           {
            "marker": {
             "colorbar": {
              "outlinewidth": 0,
              "ticks": ""
             }
            },
            "type": "scatterpolargl"
           }
          ],
          "scatterternary": [
           {
            "marker": {
             "colorbar": {
              "outlinewidth": 0,
              "ticks": ""
             }
            },
            "type": "scatterternary"
           }
          ],
          "surface": [
           {
            "colorbar": {
             "outlinewidth": 0,
             "ticks": ""
            },
            "colorscale": [
             [
              0,
              "#0d0887"
             ],
             [
              0.1111111111111111,
              "#46039f"
             ],
             [
              0.2222222222222222,
              "#7201a8"
             ],
             [
              0.3333333333333333,
              "#9c179e"
             ],
             [
              0.4444444444444444,
              "#bd3786"
             ],
             [
              0.5555555555555556,
              "#d8576b"
             ],
             [
              0.6666666666666666,
              "#ed7953"
             ],
             [
              0.7777777777777778,
              "#fb9f3a"
             ],
             [
              0.8888888888888888,
              "#fdca26"
             ],
             [
              1,
              "#f0f921"
             ]
            ],
            "type": "surface"
           }
          ],
          "table": [
           {
            "cells": {
             "fill": {
              "color": "#EBF0F8"
             },
             "line": {
              "color": "white"
             }
            },
            "header": {
             "fill": {
              "color": "#C8D4E3"
             },
             "line": {
              "color": "white"
             }
            },
            "type": "table"
           }
          ]
         },
         "layout": {
          "annotationdefaults": {
           "arrowcolor": "#2a3f5f",
           "arrowhead": 0,
           "arrowwidth": 1
          },
          "autotypenumbers": "strict",
          "coloraxis": {
           "colorbar": {
            "outlinewidth": 0,
            "ticks": ""
           }
          },
          "colorscale": {
           "diverging": [
            [
             0,
             "#8e0152"
            ],
            [
             0.1,
             "#c51b7d"
            ],
            [
             0.2,
             "#de77ae"
            ],
            [
             0.3,
             "#f1b6da"
            ],
            [
             0.4,
             "#fde0ef"
            ],
            [
             0.5,
             "#f7f7f7"
            ],
            [
             0.6,
             "#e6f5d0"
            ],
            [
             0.7,
             "#b8e186"
            ],
            [
             0.8,
             "#7fbc41"
            ],
            [
             0.9,
             "#4d9221"
            ],
            [
             1,
             "#276419"
            ]
           ],
           "sequential": [
            [
             0,
             "#0d0887"
            ],
            [
             0.1111111111111111,
             "#46039f"
            ],
            [
             0.2222222222222222,
             "#7201a8"
            ],
            [
             0.3333333333333333,
             "#9c179e"
            ],
            [
             0.4444444444444444,
             "#bd3786"
            ],
            [
             0.5555555555555556,
             "#d8576b"
            ],
            [
             0.6666666666666666,
             "#ed7953"
            ],
            [
             0.7777777777777778,
             "#fb9f3a"
            ],
            [
             0.8888888888888888,
             "#fdca26"
            ],
            [
             1,
             "#f0f921"
            ]
           ],
           "sequentialminus": [
            [
             0,
             "#0d0887"
            ],
            [
             0.1111111111111111,
             "#46039f"
            ],
            [
             0.2222222222222222,
             "#7201a8"
            ],
            [
             0.3333333333333333,
             "#9c179e"
            ],
            [
             0.4444444444444444,
             "#bd3786"
            ],
            [
             0.5555555555555556,
             "#d8576b"
            ],
            [
             0.6666666666666666,
             "#ed7953"
            ],
            [
             0.7777777777777778,
             "#fb9f3a"
            ],
            [
             0.8888888888888888,
             "#fdca26"
            ],
            [
             1,
             "#f0f921"
            ]
           ]
          },
          "colorway": [
           "#636efa",
           "#EF553B",
           "#00cc96",
           "#ab63fa",
           "#FFA15A",
           "#19d3f3",
           "#FF6692",
           "#B6E880",
           "#FF97FF",
           "#FECB52"
          ],
          "font": {
           "color": "#2a3f5f"
          },
          "geo": {
           "bgcolor": "white",
           "lakecolor": "white",
           "landcolor": "#E5ECF6",
           "showlakes": true,
           "showland": true,
           "subunitcolor": "white"
          },
          "hoverlabel": {
           "align": "left"
          },
          "hovermode": "closest",
          "mapbox": {
           "style": "light"
          },
          "paper_bgcolor": "white",
          "plot_bgcolor": "#E5ECF6",
          "polar": {
           "angularaxis": {
            "gridcolor": "white",
            "linecolor": "white",
            "ticks": ""
           },
           "bgcolor": "#E5ECF6",
           "radialaxis": {
            "gridcolor": "white",
            "linecolor": "white",
            "ticks": ""
           }
          },
          "scene": {
           "xaxis": {
            "backgroundcolor": "#E5ECF6",
            "gridcolor": "white",
            "gridwidth": 2,
            "linecolor": "white",
            "showbackground": true,
            "ticks": "",
            "zerolinecolor": "white"
           },
           "yaxis": {
            "backgroundcolor": "#E5ECF6",
            "gridcolor": "white",
            "gridwidth": 2,
            "linecolor": "white",
            "showbackground": true,
            "ticks": "",
            "zerolinecolor": "white"
           },
           "zaxis": {
            "backgroundcolor": "#E5ECF6",
            "gridcolor": "white",
            "gridwidth": 2,
            "linecolor": "white",
            "showbackground": true,
            "ticks": "",
            "zerolinecolor": "white"
           }
          },
          "shapedefaults": {
           "line": {
            "color": "#2a3f5f"
           }
          },
          "ternary": {
           "aaxis": {
            "gridcolor": "white",
            "linecolor": "white",
            "ticks": ""
           },
           "baxis": {
            "gridcolor": "white",
            "linecolor": "white",
            "ticks": ""
           },
           "bgcolor": "#E5ECF6",
           "caxis": {
            "gridcolor": "white",
            "linecolor": "white",
            "ticks": ""
           }
          },
          "title": {
           "x": 0.05
          },
          "xaxis": {
           "automargin": true,
           "gridcolor": "white",
           "linecolor": "white",
           "ticks": "",
           "title": {
            "standoff": 15
           },
           "zerolinecolor": "white",
           "zerolinewidth": 2
          },
          "yaxis": {
           "automargin": true,
           "gridcolor": "white",
           "linecolor": "white",
           "ticks": "",
           "title": {
            "standoff": 15
           },
           "zerolinecolor": "white",
           "zerolinewidth": 2
          }
         }
        },
        "title": {
         "text": "Percent of Passengers Denied Boarding over Time"
        },
        "xaxis": {
         "anchor": "y",
         "domain": [
          0,
          1
         ],
         "title": {
          "text": "Year"
         }
        },
        "yaxis": {
         "anchor": "x",
         "domain": [
          0,
          1
         ],
         "title": {
          "text": "Percent of Passengers Denied Boarding"
         }
        }
       }
      }
     },
     "metadata": {},
     "output_type": "display_data"
    }
   ],
   "source": [
    "fig = px.area(denied_boarding.groupby('date').mean(numeric_only = True).\n",
    "                  reset_index().rename(columns = {'perc_denied_boarding_involuntary':\"Involuntary\",\n",
    "                                                  \"perc_denied_boarding_voluntary\":\"Voluntary\"}),\n",
    "              x=\"date\", y=[\"Voluntary\",\"Involuntary\"],\n",
    "                labels={\n",
    "                    \"date\": \"Year\",\n",
    "                     \"value\":\"Percent of Passengers Denied Boarding\", \n",
    "                     \"variable\":\"Denial Type\"\n",
    "                 },\n",
    "                title=\"Percent of Passengers Denied Boarding over Time\")\n",
    "fig.show()"
   ]
  },
  {
   "attachments": {},
   "cell_type": "markdown",
   "metadata": {},
   "source": [
    "Plotly also allows for customization of colors and formatting. In the following example we will adjust the tick marks so that they are angled for ease of reading and change the color palette. "
   ]
  },
  {
   "cell_type": "code",
   "execution_count": 27,
   "metadata": {},
   "outputs": [
    {
     "data": {
      "application/vnd.plotly.v1+json": {
       "config": {
        "plotlyServerURL": "https://plot.ly"
       },
       "data": [
        {
         "fillpattern": {
          "shape": ""
         },
         "hovertemplate": "Denial Type=Voluntary<br>Year=%{x}<br>Percent of Passengers Denied Boarding=%{y}<extra></extra>",
         "legendgroup": "Voluntary",
         "line": {
          "color": "#2E91E5"
         },
         "marker": {
          "symbol": "circle"
         },
         "mode": "lines",
         "name": "Voluntary",
         "orientation": "v",
         "showlegend": true,
         "stackgroup": "1",
         "type": "scatter",
         "x": [
          "2018-01-01",
          "2018-04-01",
          "2018-07-01",
          "2018-10-01",
          "2019-01-01",
          "2019-04-01",
          "2019-07-01",
          "2019-10-01",
          "2020-01-01",
          "2020-04-01",
          "2020-07-01",
          "2020-10-01",
          "2021-01-01",
          "2021-04-01",
          "2021-07-01",
          "2021-10-01"
         ],
         "xaxis": "x",
         "y": [
          0.054796722222222226,
          0.05260888235294118,
          0.05579117647058823,
          0.05363447058823529,
          0.0666750588235294,
          0.07832482352941175,
          0.059996,
          0.05608894117647059,
          0.04040494117647059,
          0.01904264705882353,
          0.011265058823529413,
          0.0074625,
          0.01629911764705882,
          0.025616,
          0.034309882352941176,
          0.03530447058823529
         ],
         "yaxis": "y"
        },
        {
         "fillpattern": {
          "shape": ""
         },
         "hovertemplate": "Denial Type=Involuntary<br>Year=%{x}<br>Percent of Passengers Denied Boarding=%{y}<extra></extra>",
         "legendgroup": "Involuntary",
         "line": {
          "color": "#E15F99"
         },
         "marker": {
          "symbol": "circle"
         },
         "mode": "lines",
         "name": "Involuntary",
         "orientation": "v",
         "showlegend": true,
         "stackgroup": "1",
         "type": "scatter",
         "x": [
          "2018-01-01",
          "2018-04-01",
          "2018-07-01",
          "2018-10-01",
          "2019-01-01",
          "2019-04-01",
          "2019-07-01",
          "2019-10-01",
          "2020-01-01",
          "2020-04-01",
          "2020-07-01",
          "2020-10-01",
          "2021-01-01",
          "2021-04-01",
          "2021-07-01",
          "2021-10-01"
         ],
         "xaxis": "x",
         "y": [
          0.0018568333333333334,
          0.0013683529411764707,
          0.0017371764705882353,
          0.002549823529411765,
          0.004312882352941176,
          0.0036731764705882357,
          0.002597647058823529,
          0.0026798823529411765,
          0.0016502941176470588,
          0.001500529411764706,
          0.0013871176470588236,
          0.0004821875,
          0.0008186470588235293,
          0.0016499411764705884,
          0.0018530588235294119,
          0.002482176470588235
         ],
         "yaxis": "y"
        }
       ],
       "layout": {
        "legend": {
         "title": {
          "text": "Denial Type"
         },
         "tracegroupgap": 0
        },
        "template": {
         "data": {
          "bar": [
           {
            "error_x": {
             "color": "#2a3f5f"
            },
            "error_y": {
             "color": "#2a3f5f"
            },
            "marker": {
             "line": {
              "color": "#E5ECF6",
              "width": 0.5
             },
             "pattern": {
              "fillmode": "overlay",
              "size": 10,
              "solidity": 0.2
             }
            },
            "type": "bar"
           }
          ],
          "barpolar": [
           {
            "marker": {
             "line": {
              "color": "#E5ECF6",
              "width": 0.5
             },
             "pattern": {
              "fillmode": "overlay",
              "size": 10,
              "solidity": 0.2
             }
            },
            "type": "barpolar"
           }
          ],
          "carpet": [
           {
            "aaxis": {
             "endlinecolor": "#2a3f5f",
             "gridcolor": "white",
             "linecolor": "white",
             "minorgridcolor": "white",
             "startlinecolor": "#2a3f5f"
            },
            "baxis": {
             "endlinecolor": "#2a3f5f",
             "gridcolor": "white",
             "linecolor": "white",
             "minorgridcolor": "white",
             "startlinecolor": "#2a3f5f"
            },
            "type": "carpet"
           }
          ],
          "choropleth": [
           {
            "colorbar": {
             "outlinewidth": 0,
             "ticks": ""
            },
            "type": "choropleth"
           }
          ],
          "contour": [
           {
            "colorbar": {
             "outlinewidth": 0,
             "ticks": ""
            },
            "colorscale": [
             [
              0,
              "#0d0887"
             ],
             [
              0.1111111111111111,
              "#46039f"
             ],
             [
              0.2222222222222222,
              "#7201a8"
             ],
             [
              0.3333333333333333,
              "#9c179e"
             ],
             [
              0.4444444444444444,
              "#bd3786"
             ],
             [
              0.5555555555555556,
              "#d8576b"
             ],
             [
              0.6666666666666666,
              "#ed7953"
             ],
             [
              0.7777777777777778,
              "#fb9f3a"
             ],
             [
              0.8888888888888888,
              "#fdca26"
             ],
             [
              1,
              "#f0f921"
             ]
            ],
            "type": "contour"
           }
          ],
          "contourcarpet": [
           {
            "colorbar": {
             "outlinewidth": 0,
             "ticks": ""
            },
            "type": "contourcarpet"
           }
          ],
          "heatmap": [
           {
            "colorbar": {
             "outlinewidth": 0,
             "ticks": ""
            },
            "colorscale": [
             [
              0,
              "#0d0887"
             ],
             [
              0.1111111111111111,
              "#46039f"
             ],
             [
              0.2222222222222222,
              "#7201a8"
             ],
             [
              0.3333333333333333,
              "#9c179e"
             ],
             [
              0.4444444444444444,
              "#bd3786"
             ],
             [
              0.5555555555555556,
              "#d8576b"
             ],
             [
              0.6666666666666666,
              "#ed7953"
             ],
             [
              0.7777777777777778,
              "#fb9f3a"
             ],
             [
              0.8888888888888888,
              "#fdca26"
             ],
             [
              1,
              "#f0f921"
             ]
            ],
            "type": "heatmap"
           }
          ],
          "heatmapgl": [
           {
            "colorbar": {
             "outlinewidth": 0,
             "ticks": ""
            },
            "colorscale": [
             [
              0,
              "#0d0887"
             ],
             [
              0.1111111111111111,
              "#46039f"
             ],
             [
              0.2222222222222222,
              "#7201a8"
             ],
             [
              0.3333333333333333,
              "#9c179e"
             ],
             [
              0.4444444444444444,
              "#bd3786"
             ],
             [
              0.5555555555555556,
              "#d8576b"
             ],
             [
              0.6666666666666666,
              "#ed7953"
             ],
             [
              0.7777777777777778,
              "#fb9f3a"
             ],
             [
              0.8888888888888888,
              "#fdca26"
             ],
             [
              1,
              "#f0f921"
             ]
            ],
            "type": "heatmapgl"
           }
          ],
          "histogram": [
           {
            "marker": {
             "pattern": {
              "fillmode": "overlay",
              "size": 10,
              "solidity": 0.2
             }
            },
            "type": "histogram"
           }
          ],
          "histogram2d": [
           {
            "colorbar": {
             "outlinewidth": 0,
             "ticks": ""
            },
            "colorscale": [
             [
              0,
              "#0d0887"
             ],
             [
              0.1111111111111111,
              "#46039f"
             ],
             [
              0.2222222222222222,
              "#7201a8"
             ],
             [
              0.3333333333333333,
              "#9c179e"
             ],
             [
              0.4444444444444444,
              "#bd3786"
             ],
             [
              0.5555555555555556,
              "#d8576b"
             ],
             [
              0.6666666666666666,
              "#ed7953"
             ],
             [
              0.7777777777777778,
              "#fb9f3a"
             ],
             [
              0.8888888888888888,
              "#fdca26"
             ],
             [
              1,
              "#f0f921"
             ]
            ],
            "type": "histogram2d"
           }
          ],
          "histogram2dcontour": [
           {
            "colorbar": {
             "outlinewidth": 0,
             "ticks": ""
            },
            "colorscale": [
             [
              0,
              "#0d0887"
             ],
             [
              0.1111111111111111,
              "#46039f"
             ],
             [
              0.2222222222222222,
              "#7201a8"
             ],
             [
              0.3333333333333333,
              "#9c179e"
             ],
             [
              0.4444444444444444,
              "#bd3786"
             ],
             [
              0.5555555555555556,
              "#d8576b"
             ],
             [
              0.6666666666666666,
              "#ed7953"
             ],
             [
              0.7777777777777778,
              "#fb9f3a"
             ],
             [
              0.8888888888888888,
              "#fdca26"
             ],
             [
              1,
              "#f0f921"
             ]
            ],
            "type": "histogram2dcontour"
           }
          ],
          "mesh3d": [
           {
            "colorbar": {
             "outlinewidth": 0,
             "ticks": ""
            },
            "type": "mesh3d"
           }
          ],
          "parcoords": [
           {
            "line": {
             "colorbar": {
              "outlinewidth": 0,
              "ticks": ""
             }
            },
            "type": "parcoords"
           }
          ],
          "pie": [
           {
            "automargin": true,
            "type": "pie"
           }
          ],
          "scatter": [
           {
            "fillpattern": {
             "fillmode": "overlay",
             "size": 10,
             "solidity": 0.2
            },
            "type": "scatter"
           }
          ],
          "scatter3d": [
           {
            "line": {
             "colorbar": {
              "outlinewidth": 0,
              "ticks": ""
             }
            },
            "marker": {
             "colorbar": {
              "outlinewidth": 0,
              "ticks": ""
             }
            },
            "type": "scatter3d"
           }
          ],
          "scattercarpet": [
           {
            "marker": {
             "colorbar": {
              "outlinewidth": 0,
              "ticks": ""
             }
            },
            "type": "scattercarpet"
           }
          ],
          "scattergeo": [
           {
            "marker": {
             "colorbar": {
              "outlinewidth": 0,
              "ticks": ""
             }
            },
            "type": "scattergeo"
           }
          ],
          "scattergl": [
           {
            "marker": {
             "colorbar": {
              "outlinewidth": 0,
              "ticks": ""
             }
            },
            "type": "scattergl"
           }
          ],
          "scattermapbox": [
           {
            "marker": {
             "colorbar": {
              "outlinewidth": 0,
              "ticks": ""
             }
            },
            "type": "scattermapbox"
           }
          ],
          "scatterpolar": [
           {
            "marker": {
             "colorbar": {
              "outlinewidth": 0,
              "ticks": ""
             }
            },
            "type": "scatterpolar"
           }
          ],
          "scatterpolargl": [
           {
            "marker": {
             "colorbar": {
              "outlinewidth": 0,
              "ticks": ""
             }
            },
            "type": "scatterpolargl"
           }
          ],
          "scatterternary": [
           {
            "marker": {
             "colorbar": {
              "outlinewidth": 0,
              "ticks": ""
             }
            },
            "type": "scatterternary"
           }
          ],
          "surface": [
           {
            "colorbar": {
             "outlinewidth": 0,
             "ticks": ""
            },
            "colorscale": [
             [
              0,
              "#0d0887"
             ],
             [
              0.1111111111111111,
              "#46039f"
             ],
             [
              0.2222222222222222,
              "#7201a8"
             ],
             [
              0.3333333333333333,
              "#9c179e"
             ],
             [
              0.4444444444444444,
              "#bd3786"
             ],
             [
              0.5555555555555556,
              "#d8576b"
             ],
             [
              0.6666666666666666,
              "#ed7953"
             ],
             [
              0.7777777777777778,
              "#fb9f3a"
             ],
             [
              0.8888888888888888,
              "#fdca26"
             ],
             [
              1,
              "#f0f921"
             ]
            ],
            "type": "surface"
           }
          ],
          "table": [
           {
            "cells": {
             "fill": {
              "color": "#EBF0F8"
             },
             "line": {
              "color": "white"
             }
            },
            "header": {
             "fill": {
              "color": "#C8D4E3"
             },
             "line": {
              "color": "white"
             }
            },
            "type": "table"
           }
          ]
         },
         "layout": {
          "annotationdefaults": {
           "arrowcolor": "#2a3f5f",
           "arrowhead": 0,
           "arrowwidth": 1
          },
          "autotypenumbers": "strict",
          "coloraxis": {
           "colorbar": {
            "outlinewidth": 0,
            "ticks": ""
           }
          },
          "colorscale": {
           "diverging": [
            [
             0,
             "#8e0152"
            ],
            [
             0.1,
             "#c51b7d"
            ],
            [
             0.2,
             "#de77ae"
            ],
            [
             0.3,
             "#f1b6da"
            ],
            [
             0.4,
             "#fde0ef"
            ],
            [
             0.5,
             "#f7f7f7"
            ],
            [
             0.6,
             "#e6f5d0"
            ],
            [
             0.7,
             "#b8e186"
            ],
            [
             0.8,
             "#7fbc41"
            ],
            [
             0.9,
             "#4d9221"
            ],
            [
             1,
             "#276419"
            ]
           ],
           "sequential": [
            [
             0,
             "#0d0887"
            ],
            [
             0.1111111111111111,
             "#46039f"
            ],
            [
             0.2222222222222222,
             "#7201a8"
            ],
            [
             0.3333333333333333,
             "#9c179e"
            ],
            [
             0.4444444444444444,
             "#bd3786"
            ],
            [
             0.5555555555555556,
             "#d8576b"
            ],
            [
             0.6666666666666666,
             "#ed7953"
            ],
            [
             0.7777777777777778,
             "#fb9f3a"
            ],
            [
             0.8888888888888888,
             "#fdca26"
            ],
            [
             1,
             "#f0f921"
            ]
           ],
           "sequentialminus": [
            [
             0,
             "#0d0887"
            ],
            [
             0.1111111111111111,
             "#46039f"
            ],
            [
             0.2222222222222222,
             "#7201a8"
            ],
            [
             0.3333333333333333,
             "#9c179e"
            ],
            [
             0.4444444444444444,
             "#bd3786"
            ],
            [
             0.5555555555555556,
             "#d8576b"
            ],
            [
             0.6666666666666666,
             "#ed7953"
            ],
            [
             0.7777777777777778,
             "#fb9f3a"
            ],
            [
             0.8888888888888888,
             "#fdca26"
            ],
            [
             1,
             "#f0f921"
            ]
           ]
          },
          "colorway": [
           "#636efa",
           "#EF553B",
           "#00cc96",
           "#ab63fa",
           "#FFA15A",
           "#19d3f3",
           "#FF6692",
           "#B6E880",
           "#FF97FF",
           "#FECB52"
          ],
          "font": {
           "color": "#2a3f5f"
          },
          "geo": {
           "bgcolor": "white",
           "lakecolor": "white",
           "landcolor": "#E5ECF6",
           "showlakes": true,
           "showland": true,
           "subunitcolor": "white"
          },
          "hoverlabel": {
           "align": "left"
          },
          "hovermode": "closest",
          "mapbox": {
           "style": "light"
          },
          "paper_bgcolor": "white",
          "plot_bgcolor": "#E5ECF6",
          "polar": {
           "angularaxis": {
            "gridcolor": "white",
            "linecolor": "white",
            "ticks": ""
           },
           "bgcolor": "#E5ECF6",
           "radialaxis": {
            "gridcolor": "white",
            "linecolor": "white",
            "ticks": ""
           }
          },
          "scene": {
           "xaxis": {
            "backgroundcolor": "#E5ECF6",
            "gridcolor": "white",
            "gridwidth": 2,
            "linecolor": "white",
            "showbackground": true,
            "ticks": "",
            "zerolinecolor": "white"
           },
           "yaxis": {
            "backgroundcolor": "#E5ECF6",
            "gridcolor": "white",
            "gridwidth": 2,
            "linecolor": "white",
            "showbackground": true,
            "ticks": "",
            "zerolinecolor": "white"
           },
           "zaxis": {
            "backgroundcolor": "#E5ECF6",
            "gridcolor": "white",
            "gridwidth": 2,
            "linecolor": "white",
            "showbackground": true,
            "ticks": "",
            "zerolinecolor": "white"
           }
          },
          "shapedefaults": {
           "line": {
            "color": "#2a3f5f"
           }
          },
          "ternary": {
           "aaxis": {
            "gridcolor": "white",
            "linecolor": "white",
            "ticks": ""
           },
           "baxis": {
            "gridcolor": "white",
            "linecolor": "white",
            "ticks": ""
           },
           "bgcolor": "#E5ECF6",
           "caxis": {
            "gridcolor": "white",
            "linecolor": "white",
            "ticks": ""
           }
          },
          "title": {
           "x": 0.05
          },
          "xaxis": {
           "automargin": true,
           "gridcolor": "white",
           "linecolor": "white",
           "ticks": "",
           "title": {
            "standoff": 15
           },
           "zerolinecolor": "white",
           "zerolinewidth": 2
          },
          "yaxis": {
           "automargin": true,
           "gridcolor": "white",
           "linecolor": "white",
           "ticks": "",
           "title": {
            "standoff": 15
           },
           "zerolinecolor": "white",
           "zerolinewidth": 2
          }
         }
        },
        "title": {
         "text": "Percent of Passengers Denied Boarding over Time"
        },
        "xaxis": {
         "anchor": "y",
         "domain": [
          0,
          1
         ],
         "tickangle": 45,
         "title": {
          "text": "Year"
         }
        },
        "yaxis": {
         "anchor": "x",
         "domain": [
          0,
          1
         ],
         "title": {
          "text": "Percent of Passengers Denied Boarding"
         }
        }
       }
      }
     },
     "metadata": {},
     "output_type": "display_data"
    }
   ],
   "source": [
    "fig = px.area(denied_boarding.groupby('date').mean(numeric_only = True).\n",
    "                  reset_index().rename(columns = {'perc_denied_boarding_involuntary':\"Involuntary\",\n",
    "                                                  \"perc_denied_boarding_voluntary\":\"Voluntary\"}),\n",
    "              x=\"date\", y=[\"Voluntary\",\"Involuntary\"],\n",
    "                labels={\n",
    "                    \"date\": \"Year\",\n",
    "                     \"value\":\"Percent of Passengers Denied Boarding\", \n",
    "                     \"variable\":\"Denial Type\"\n",
    "                 },\n",
    "                title=\"Percent of Passengers Denied Boarding over Time\",\n",
    "                color_discrete_sequence=px.colors.qualitative.Dark24)\n",
    "fig.update_xaxes(tickangle = 45)\n",
    "fig.show()"
   ]
  },
  {
   "attachments": {},
   "cell_type": "markdown",
   "metadata": {},
   "source": [
    "For one final customization component, plotly io allows users to set a template for their plots. The template can be changed in the plot or globally. Once a template has been assigned globally, the template will be used for all plotly figures, unless a template is explicitly assigned in the figure. First we will assign a global template and create a figure, and then we will assign a template within a plotly figure that will override the global value. "
   ]
  },
  {
   "cell_type": "code",
   "execution_count": 25,
   "metadata": {},
   "outputs": [
    {
     "data": {
      "application/vnd.plotly.v1+json": {
       "config": {
        "plotlyServerURL": "https://plot.ly"
       },
       "data": [
        {
         "fillpattern": {
          "shape": ""
         },
         "hovertemplate": "Denial Type=Voluntary<br>Year=%{x}<br>Percent of Passengers Denied Boarding=%{y}<extra></extra>",
         "legendgroup": "Voluntary",
         "line": {
          "color": "#2E91E5"
         },
         "marker": {
          "symbol": "circle"
         },
         "mode": "lines",
         "name": "Voluntary",
         "orientation": "v",
         "showlegend": true,
         "stackgroup": "1",
         "type": "scatter",
         "x": [
          "2018-01-01",
          "2018-04-01",
          "2018-07-01",
          "2018-10-01",
          "2019-01-01",
          "2019-04-01",
          "2019-07-01",
          "2019-10-01",
          "2020-01-01",
          "2020-04-01",
          "2020-07-01",
          "2020-10-01",
          "2021-01-01",
          "2021-04-01",
          "2021-07-01",
          "2021-10-01"
         ],
         "xaxis": "x",
         "y": [
          0.054796722222222226,
          0.05260888235294118,
          0.05579117647058823,
          0.05363447058823529,
          0.0666750588235294,
          0.07832482352941175,
          0.059996,
          0.05608894117647059,
          0.04040494117647059,
          0.01904264705882353,
          0.011265058823529413,
          0.0074625,
          0.01629911764705882,
          0.025616,
          0.034309882352941176,
          0.03530447058823529
         ],
         "yaxis": "y"
        },
        {
         "fillpattern": {
          "shape": ""
         },
         "hovertemplate": "Denial Type=Involuntary<br>Year=%{x}<br>Percent of Passengers Denied Boarding=%{y}<extra></extra>",
         "legendgroup": "Involuntary",
         "line": {
          "color": "#E15F99"
         },
         "marker": {
          "symbol": "circle"
         },
         "mode": "lines",
         "name": "Involuntary",
         "orientation": "v",
         "showlegend": true,
         "stackgroup": "1",
         "type": "scatter",
         "x": [
          "2018-01-01",
          "2018-04-01",
          "2018-07-01",
          "2018-10-01",
          "2019-01-01",
          "2019-04-01",
          "2019-07-01",
          "2019-10-01",
          "2020-01-01",
          "2020-04-01",
          "2020-07-01",
          "2020-10-01",
          "2021-01-01",
          "2021-04-01",
          "2021-07-01",
          "2021-10-01"
         ],
         "xaxis": "x",
         "y": [
          0.0018568333333333334,
          0.0013683529411764707,
          0.0017371764705882353,
          0.002549823529411765,
          0.004312882352941176,
          0.0036731764705882357,
          0.002597647058823529,
          0.0026798823529411765,
          0.0016502941176470588,
          0.001500529411764706,
          0.0013871176470588236,
          0.0004821875,
          0.0008186470588235293,
          0.0016499411764705884,
          0.0018530588235294119,
          0.002482176470588235
         ],
         "yaxis": "y"
        }
       ],
       "layout": {
        "legend": {
         "title": {
          "text": "Denial Type"
         },
         "tracegroupgap": 0
        },
        "template": {
         "data": {
          "bar": [
           {
            "error_x": {
             "color": "#f2f5fa"
            },
            "error_y": {
             "color": "#f2f5fa"
            },
            "marker": {
             "line": {
              "color": "rgb(17,17,17)",
              "width": 0.5
             },
             "pattern": {
              "fillmode": "overlay",
              "size": 10,
              "solidity": 0.2
             }
            },
            "type": "bar"
           }
          ],
          "barpolar": [
           {
            "marker": {
             "line": {
              "color": "rgb(17,17,17)",
              "width": 0.5
             },
             "pattern": {
              "fillmode": "overlay",
              "size": 10,
              "solidity": 0.2
             }
            },
            "type": "barpolar"
           }
          ],
          "carpet": [
           {
            "aaxis": {
             "endlinecolor": "#A2B1C6",
             "gridcolor": "#506784",
             "linecolor": "#506784",
             "minorgridcolor": "#506784",
             "startlinecolor": "#A2B1C6"
            },
            "baxis": {
             "endlinecolor": "#A2B1C6",
             "gridcolor": "#506784",
             "linecolor": "#506784",
             "minorgridcolor": "#506784",
             "startlinecolor": "#A2B1C6"
            },
            "type": "carpet"
           }
          ],
          "choropleth": [
           {
            "colorbar": {
             "outlinewidth": 0,
             "ticks": ""
            },
            "type": "choropleth"
           }
          ],
          "contour": [
           {
            "colorbar": {
             "outlinewidth": 0,
             "ticks": ""
            },
            "colorscale": [
             [
              0,
              "#0d0887"
             ],
             [
              0.1111111111111111,
              "#46039f"
             ],
             [
              0.2222222222222222,
              "#7201a8"
             ],
             [
              0.3333333333333333,
              "#9c179e"
             ],
             [
              0.4444444444444444,
              "#bd3786"
             ],
             [
              0.5555555555555556,
              "#d8576b"
             ],
             [
              0.6666666666666666,
              "#ed7953"
             ],
             [
              0.7777777777777778,
              "#fb9f3a"
             ],
             [
              0.8888888888888888,
              "#fdca26"
             ],
             [
              1,
              "#f0f921"
             ]
            ],
            "type": "contour"
           }
          ],
          "contourcarpet": [
           {
            "colorbar": {
             "outlinewidth": 0,
             "ticks": ""
            },
            "type": "contourcarpet"
           }
          ],
          "heatmap": [
           {
            "colorbar": {
             "outlinewidth": 0,
             "ticks": ""
            },
            "colorscale": [
             [
              0,
              "#0d0887"
             ],
             [
              0.1111111111111111,
              "#46039f"
             ],
             [
              0.2222222222222222,
              "#7201a8"
             ],
             [
              0.3333333333333333,
              "#9c179e"
             ],
             [
              0.4444444444444444,
              "#bd3786"
             ],
             [
              0.5555555555555556,
              "#d8576b"
             ],
             [
              0.6666666666666666,
              "#ed7953"
             ],
             [
              0.7777777777777778,
              "#fb9f3a"
             ],
             [
              0.8888888888888888,
              "#fdca26"
             ],
             [
              1,
              "#f0f921"
             ]
            ],
            "type": "heatmap"
           }
          ],
          "heatmapgl": [
           {
            "colorbar": {
             "outlinewidth": 0,
             "ticks": ""
            },
            "colorscale": [
             [
              0,
              "#0d0887"
             ],
             [
              0.1111111111111111,
              "#46039f"
             ],
             [
              0.2222222222222222,
              "#7201a8"
             ],
             [
              0.3333333333333333,
              "#9c179e"
             ],
             [
              0.4444444444444444,
              "#bd3786"
             ],
             [
              0.5555555555555556,
              "#d8576b"
             ],
             [
              0.6666666666666666,
              "#ed7953"
             ],
             [
              0.7777777777777778,
              "#fb9f3a"
             ],
             [
              0.8888888888888888,
              "#fdca26"
             ],
             [
              1,
              "#f0f921"
             ]
            ],
            "type": "heatmapgl"
           }
          ],
          "histogram": [
           {
            "marker": {
             "pattern": {
              "fillmode": "overlay",
              "size": 10,
              "solidity": 0.2
             }
            },
            "type": "histogram"
           }
          ],
          "histogram2d": [
           {
            "colorbar": {
             "outlinewidth": 0,
             "ticks": ""
            },
            "colorscale": [
             [
              0,
              "#0d0887"
             ],
             [
              0.1111111111111111,
              "#46039f"
             ],
             [
              0.2222222222222222,
              "#7201a8"
             ],
             [
              0.3333333333333333,
              "#9c179e"
             ],
             [
              0.4444444444444444,
              "#bd3786"
             ],
             [
              0.5555555555555556,
              "#d8576b"
             ],
             [
              0.6666666666666666,
              "#ed7953"
             ],
             [
              0.7777777777777778,
              "#fb9f3a"
             ],
             [
              0.8888888888888888,
              "#fdca26"
             ],
             [
              1,
              "#f0f921"
             ]
            ],
            "type": "histogram2d"
           }
          ],
          "histogram2dcontour": [
           {
            "colorbar": {
             "outlinewidth": 0,
             "ticks": ""
            },
            "colorscale": [
             [
              0,
              "#0d0887"
             ],
             [
              0.1111111111111111,
              "#46039f"
             ],
             [
              0.2222222222222222,
              "#7201a8"
             ],
             [
              0.3333333333333333,
              "#9c179e"
             ],
             [
              0.4444444444444444,
              "#bd3786"
             ],
             [
              0.5555555555555556,
              "#d8576b"
             ],
             [
              0.6666666666666666,
              "#ed7953"
             ],
             [
              0.7777777777777778,
              "#fb9f3a"
             ],
             [
              0.8888888888888888,
              "#fdca26"
             ],
             [
              1,
              "#f0f921"
             ]
            ],
            "type": "histogram2dcontour"
           }
          ],
          "mesh3d": [
           {
            "colorbar": {
             "outlinewidth": 0,
             "ticks": ""
            },
            "type": "mesh3d"
           }
          ],
          "parcoords": [
           {
            "line": {
             "colorbar": {
              "outlinewidth": 0,
              "ticks": ""
             }
            },
            "type": "parcoords"
           }
          ],
          "pie": [
           {
            "automargin": true,
            "type": "pie"
           }
          ],
          "scatter": [
           {
            "marker": {
             "line": {
              "color": "#283442"
             }
            },
            "type": "scatter"
           }
          ],
          "scatter3d": [
           {
            "line": {
             "colorbar": {
              "outlinewidth": 0,
              "ticks": ""
             }
            },
            "marker": {
             "colorbar": {
              "outlinewidth": 0,
              "ticks": ""
             }
            },
            "type": "scatter3d"
           }
          ],
          "scattercarpet": [
           {
            "marker": {
             "colorbar": {
              "outlinewidth": 0,
              "ticks": ""
             }
            },
            "type": "scattercarpet"
           }
          ],
          "scattergeo": [
           {
            "marker": {
             "colorbar": {
              "outlinewidth": 0,
              "ticks": ""
             }
            },
            "type": "scattergeo"
           }
          ],
          "scattergl": [
           {
            "marker": {
             "line": {
              "color": "#283442"
             }
            },
            "type": "scattergl"
           }
          ],
          "scattermapbox": [
           {
            "marker": {
             "colorbar": {
              "outlinewidth": 0,
              "ticks": ""
             }
            },
            "type": "scattermapbox"
           }
          ],
          "scatterpolar": [
           {
            "marker": {
             "colorbar": {
              "outlinewidth": 0,
              "ticks": ""
             }
            },
            "type": "scatterpolar"
           }
          ],
          "scatterpolargl": [
           {
            "marker": {
             "colorbar": {
              "outlinewidth": 0,
              "ticks": ""
             }
            },
            "type": "scatterpolargl"
           }
          ],
          "scatterternary": [
           {
            "marker": {
             "colorbar": {
              "outlinewidth": 0,
              "ticks": ""
             }
            },
            "type": "scatterternary"
           }
          ],
          "surface": [
           {
            "colorbar": {
             "outlinewidth": 0,
             "ticks": ""
            },
            "colorscale": [
             [
              0,
              "#0d0887"
             ],
             [
              0.1111111111111111,
              "#46039f"
             ],
             [
              0.2222222222222222,
              "#7201a8"
             ],
             [
              0.3333333333333333,
              "#9c179e"
             ],
             [
              0.4444444444444444,
              "#bd3786"
             ],
             [
              0.5555555555555556,
              "#d8576b"
             ],
             [
              0.6666666666666666,
              "#ed7953"
             ],
             [
              0.7777777777777778,
              "#fb9f3a"
             ],
             [
              0.8888888888888888,
              "#fdca26"
             ],
             [
              1,
              "#f0f921"
             ]
            ],
            "type": "surface"
           }
          ],
          "table": [
           {
            "cells": {
             "fill": {
              "color": "#506784"
             },
             "line": {
              "color": "rgb(17,17,17)"
             }
            },
            "header": {
             "fill": {
              "color": "#2a3f5f"
             },
             "line": {
              "color": "rgb(17,17,17)"
             }
            },
            "type": "table"
           }
          ]
         },
         "layout": {
          "annotationdefaults": {
           "arrowcolor": "#f2f5fa",
           "arrowhead": 0,
           "arrowwidth": 1
          },
          "autotypenumbers": "strict",
          "coloraxis": {
           "colorbar": {
            "outlinewidth": 0,
            "ticks": ""
           }
          },
          "colorscale": {
           "diverging": [
            [
             0,
             "#8e0152"
            ],
            [
             0.1,
             "#c51b7d"
            ],
            [
             0.2,
             "#de77ae"
            ],
            [
             0.3,
             "#f1b6da"
            ],
            [
             0.4,
             "#fde0ef"
            ],
            [
             0.5,
             "#f7f7f7"
            ],
            [
             0.6,
             "#e6f5d0"
            ],
            [
             0.7,
             "#b8e186"
            ],
            [
             0.8,
             "#7fbc41"
            ],
            [
             0.9,
             "#4d9221"
            ],
            [
             1,
             "#276419"
            ]
           ],
           "sequential": [
            [
             0,
             "#0d0887"
            ],
            [
             0.1111111111111111,
             "#46039f"
            ],
            [
             0.2222222222222222,
             "#7201a8"
            ],
            [
             0.3333333333333333,
             "#9c179e"
            ],
            [
             0.4444444444444444,
             "#bd3786"
            ],
            [
             0.5555555555555556,
             "#d8576b"
            ],
            [
             0.6666666666666666,
             "#ed7953"
            ],
            [
             0.7777777777777778,
             "#fb9f3a"
            ],
            [
             0.8888888888888888,
             "#fdca26"
            ],
            [
             1,
             "#f0f921"
            ]
           ],
           "sequentialminus": [
            [
             0,
             "#0d0887"
            ],
            [
             0.1111111111111111,
             "#46039f"
            ],
            [
             0.2222222222222222,
             "#7201a8"
            ],
            [
             0.3333333333333333,
             "#9c179e"
            ],
            [
             0.4444444444444444,
             "#bd3786"
            ],
            [
             0.5555555555555556,
             "#d8576b"
            ],
            [
             0.6666666666666666,
             "#ed7953"
            ],
            [
             0.7777777777777778,
             "#fb9f3a"
            ],
            [
             0.8888888888888888,
             "#fdca26"
            ],
            [
             1,
             "#f0f921"
            ]
           ]
          },
          "colorway": [
           "#636efa",
           "#EF553B",
           "#00cc96",
           "#ab63fa",
           "#FFA15A",
           "#19d3f3",
           "#FF6692",
           "#B6E880",
           "#FF97FF",
           "#FECB52"
          ],
          "font": {
           "color": "#f2f5fa"
          },
          "geo": {
           "bgcolor": "rgb(17,17,17)",
           "lakecolor": "rgb(17,17,17)",
           "landcolor": "rgb(17,17,17)",
           "showlakes": true,
           "showland": true,
           "subunitcolor": "#506784"
          },
          "hoverlabel": {
           "align": "left"
          },
          "hovermode": "closest",
          "mapbox": {
           "style": "dark"
          },
          "paper_bgcolor": "rgb(17,17,17)",
          "plot_bgcolor": "rgb(17,17,17)",
          "polar": {
           "angularaxis": {
            "gridcolor": "#506784",
            "linecolor": "#506784",
            "ticks": ""
           },
           "bgcolor": "rgb(17,17,17)",
           "radialaxis": {
            "gridcolor": "#506784",
            "linecolor": "#506784",
            "ticks": ""
           }
          },
          "scene": {
           "xaxis": {
            "backgroundcolor": "rgb(17,17,17)",
            "gridcolor": "#506784",
            "gridwidth": 2,
            "linecolor": "#506784",
            "showbackground": true,
            "ticks": "",
            "zerolinecolor": "#C8D4E3"
           },
           "yaxis": {
            "backgroundcolor": "rgb(17,17,17)",
            "gridcolor": "#506784",
            "gridwidth": 2,
            "linecolor": "#506784",
            "showbackground": true,
            "ticks": "",
            "zerolinecolor": "#C8D4E3"
           },
           "zaxis": {
            "backgroundcolor": "rgb(17,17,17)",
            "gridcolor": "#506784",
            "gridwidth": 2,
            "linecolor": "#506784",
            "showbackground": true,
            "ticks": "",
            "zerolinecolor": "#C8D4E3"
           }
          },
          "shapedefaults": {
           "line": {
            "color": "#f2f5fa"
           }
          },
          "sliderdefaults": {
           "bgcolor": "#C8D4E3",
           "bordercolor": "rgb(17,17,17)",
           "borderwidth": 1,
           "tickwidth": 0
          },
          "ternary": {
           "aaxis": {
            "gridcolor": "#506784",
            "linecolor": "#506784",
            "ticks": ""
           },
           "baxis": {
            "gridcolor": "#506784",
            "linecolor": "#506784",
            "ticks": ""
           },
           "bgcolor": "rgb(17,17,17)",
           "caxis": {
            "gridcolor": "#506784",
            "linecolor": "#506784",
            "ticks": ""
           }
          },
          "title": {
           "x": 0.05
          },
          "updatemenudefaults": {
           "bgcolor": "#506784",
           "borderwidth": 0
          },
          "xaxis": {
           "automargin": true,
           "gridcolor": "#283442",
           "linecolor": "#506784",
           "ticks": "",
           "title": {
            "standoff": 15
           },
           "zerolinecolor": "#283442",
           "zerolinewidth": 2
          },
          "yaxis": {
           "automargin": true,
           "gridcolor": "#283442",
           "linecolor": "#506784",
           "ticks": "",
           "title": {
            "standoff": 15
           },
           "zerolinecolor": "#283442",
           "zerolinewidth": 2
          }
         }
        },
        "title": {
         "text": "Percent of Passengers Denied Boarding over Time"
        },
        "xaxis": {
         "anchor": "y",
         "domain": [
          0,
          1
         ],
         "tickangle": 45,
         "title": {
          "text": "Year"
         }
        },
        "yaxis": {
         "anchor": "x",
         "domain": [
          0,
          1
         ],
         "title": {
          "text": "Percent of Passengers Denied Boarding"
         }
        }
       }
      }
     },
     "metadata": {},
     "output_type": "display_data"
    }
   ],
   "source": [
    "pio.templates.default = \"plotly_dark\"\n",
    "\n",
    "fig = px.area(denied_boarding.groupby('date').mean(numeric_only = True).\n",
    "                  reset_index().rename(columns = {'perc_denied_boarding_involuntary':\"Involuntary\",\n",
    "                                                  \"perc_denied_boarding_voluntary\":\"Voluntary\"}),\n",
    "              x=\"date\", y=[\"Voluntary\",\"Involuntary\"],\n",
    "                labels={\n",
    "                    \"date\": \"Year\",\n",
    "                     \"value\":\"Percent of Passengers Denied Boarding\", \n",
    "                     \"variable\":\"Denial Type\"\n",
    "                 },\n",
    "                title=\"Percent of Passengers Denied Boarding over Time\",\n",
    "                color_discrete_sequence=px.colors.qualitative.Dark24)\n",
    "fig.update_xaxes(tickangle = 45)\n",
    "fig.show()\n"
   ]
  },
  {
   "cell_type": "code",
   "execution_count": 24,
   "metadata": {},
   "outputs": [
    {
     "data": {
      "application/vnd.plotly.v1+json": {
       "config": {
        "plotlyServerURL": "https://plot.ly"
       },
       "data": [
        {
         "fillpattern": {
          "shape": ""
         },
         "hovertemplate": "Denial Type=Voluntary<br>Year=%{x}<br>Percent of Passengers Denied Boarding=%{y}<extra></extra>",
         "legendgroup": "Voluntary",
         "line": {
          "color": "#2E91E5"
         },
         "marker": {
          "symbol": "circle"
         },
         "mode": "lines",
         "name": "Voluntary",
         "orientation": "v",
         "showlegend": true,
         "stackgroup": "1",
         "type": "scatter",
         "x": [
          "2018-01-01",
          "2018-04-01",
          "2018-07-01",
          "2018-10-01",
          "2019-01-01",
          "2019-04-01",
          "2019-07-01",
          "2019-10-01",
          "2020-01-01",
          "2020-04-01",
          "2020-07-01",
          "2020-10-01",
          "2021-01-01",
          "2021-04-01",
          "2021-07-01",
          "2021-10-01"
         ],
         "xaxis": "x",
         "y": [
          0.054796722222222226,
          0.05260888235294118,
          0.05579117647058823,
          0.05363447058823529,
          0.0666750588235294,
          0.07832482352941175,
          0.059996,
          0.05608894117647059,
          0.04040494117647059,
          0.01904264705882353,
          0.011265058823529413,
          0.0074625,
          0.01629911764705882,
          0.025616,
          0.034309882352941176,
          0.03530447058823529
         ],
         "yaxis": "y"
        },
        {
         "fillpattern": {
          "shape": ""
         },
         "hovertemplate": "Denial Type=Involuntary<br>Year=%{x}<br>Percent of Passengers Denied Boarding=%{y}<extra></extra>",
         "legendgroup": "Involuntary",
         "line": {
          "color": "#E15F99"
         },
         "marker": {
          "symbol": "circle"
         },
         "mode": "lines",
         "name": "Involuntary",
         "orientation": "v",
         "showlegend": true,
         "stackgroup": "1",
         "type": "scatter",
         "x": [
          "2018-01-01",
          "2018-04-01",
          "2018-07-01",
          "2018-10-01",
          "2019-01-01",
          "2019-04-01",
          "2019-07-01",
          "2019-10-01",
          "2020-01-01",
          "2020-04-01",
          "2020-07-01",
          "2020-10-01",
          "2021-01-01",
          "2021-04-01",
          "2021-07-01",
          "2021-10-01"
         ],
         "xaxis": "x",
         "y": [
          0.0018568333333333334,
          0.0013683529411764707,
          0.0017371764705882353,
          0.002549823529411765,
          0.004312882352941176,
          0.0036731764705882357,
          0.002597647058823529,
          0.0026798823529411765,
          0.0016502941176470588,
          0.001500529411764706,
          0.0013871176470588236,
          0.0004821875,
          0.0008186470588235293,
          0.0016499411764705884,
          0.0018530588235294119,
          0.002482176470588235
         ],
         "yaxis": "y"
        }
       ],
       "layout": {
        "legend": {
         "title": {
          "text": "Denial Type"
         },
         "tracegroupgap": 0
        },
        "template": {
         "data": {
          "bar": [
           {
            "error_x": {
             "color": "rgb(36,36,36)"
            },
            "error_y": {
             "color": "rgb(36,36,36)"
            },
            "marker": {
             "line": {
              "color": "rgb(234,234,242)",
              "width": 0.5
             },
             "pattern": {
              "fillmode": "overlay",
              "size": 10,
              "solidity": 0.2
             }
            },
            "type": "bar"
           }
          ],
          "barpolar": [
           {
            "marker": {
             "line": {
              "color": "rgb(234,234,242)",
              "width": 0.5
             },
             "pattern": {
              "fillmode": "overlay",
              "size": 10,
              "solidity": 0.2
             }
            },
            "type": "barpolar"
           }
          ],
          "carpet": [
           {
            "aaxis": {
             "endlinecolor": "rgb(36,36,36)",
             "gridcolor": "white",
             "linecolor": "white",
             "minorgridcolor": "white",
             "startlinecolor": "rgb(36,36,36)"
            },
            "baxis": {
             "endlinecolor": "rgb(36,36,36)",
             "gridcolor": "white",
             "linecolor": "white",
             "minorgridcolor": "white",
             "startlinecolor": "rgb(36,36,36)"
            },
            "type": "carpet"
           }
          ],
          "choropleth": [
           {
            "colorbar": {
             "outlinewidth": 0,
             "tickcolor": "rgb(36,36,36)",
             "ticklen": 8,
             "ticks": "outside",
             "tickwidth": 2
            },
            "type": "choropleth"
           }
          ],
          "contour": [
           {
            "colorbar": {
             "outlinewidth": 0,
             "tickcolor": "rgb(36,36,36)",
             "ticklen": 8,
             "ticks": "outside",
             "tickwidth": 2
            },
            "colorscale": [
             [
              0,
              "rgb(2,4,25)"
             ],
             [
              0.06274509803921569,
              "rgb(24,15,41)"
             ],
             [
              0.12549019607843137,
              "rgb(47,23,57)"
             ],
             [
              0.18823529411764706,
              "rgb(71,28,72)"
             ],
             [
              0.25098039215686274,
              "rgb(97,30,82)"
             ],
             [
              0.3137254901960784,
              "rgb(123,30,89)"
             ],
             [
              0.3764705882352941,
              "rgb(150,27,91)"
             ],
             [
              0.4392156862745098,
              "rgb(177,22,88)"
             ],
             [
              0.5019607843137255,
              "rgb(203,26,79)"
             ],
             [
              0.5647058823529412,
              "rgb(223,47,67)"
             ],
             [
              0.6274509803921569,
              "rgb(236,76,61)"
             ],
             [
              0.6901960784313725,
              "rgb(242,107,73)"
             ],
             [
              0.7529411764705882,
              "rgb(244,135,95)"
             ],
             [
              0.8156862745098039,
              "rgb(245,162,122)"
             ],
             [
              0.8784313725490196,
              "rgb(246,188,153)"
             ],
             [
              0.9411764705882353,
              "rgb(247,212,187)"
             ],
             [
              1,
              "rgb(250,234,220)"
             ]
            ],
            "type": "contour"
           }
          ],
          "contourcarpet": [
           {
            "colorbar": {
             "outlinewidth": 0,
             "tickcolor": "rgb(36,36,36)",
             "ticklen": 8,
             "ticks": "outside",
             "tickwidth": 2
            },
            "type": "contourcarpet"
           }
          ],
          "heatmap": [
           {
            "colorbar": {
             "outlinewidth": 0,
             "tickcolor": "rgb(36,36,36)",
             "ticklen": 8,
             "ticks": "outside",
             "tickwidth": 2
            },
            "colorscale": [
             [
              0,
              "rgb(2,4,25)"
             ],
             [
              0.06274509803921569,
              "rgb(24,15,41)"
             ],
             [
              0.12549019607843137,
              "rgb(47,23,57)"
             ],
             [
              0.18823529411764706,
              "rgb(71,28,72)"
             ],
             [
              0.25098039215686274,
              "rgb(97,30,82)"
             ],
             [
              0.3137254901960784,
              "rgb(123,30,89)"
             ],
             [
              0.3764705882352941,
              "rgb(150,27,91)"
             ],
             [
              0.4392156862745098,
              "rgb(177,22,88)"
             ],
             [
              0.5019607843137255,
              "rgb(203,26,79)"
             ],
             [
              0.5647058823529412,
              "rgb(223,47,67)"
             ],
             [
              0.6274509803921569,
              "rgb(236,76,61)"
             ],
             [
              0.6901960784313725,
              "rgb(242,107,73)"
             ],
             [
              0.7529411764705882,
              "rgb(244,135,95)"
             ],
             [
              0.8156862745098039,
              "rgb(245,162,122)"
             ],
             [
              0.8784313725490196,
              "rgb(246,188,153)"
             ],
             [
              0.9411764705882353,
              "rgb(247,212,187)"
             ],
             [
              1,
              "rgb(250,234,220)"
             ]
            ],
            "type": "heatmap"
           }
          ],
          "heatmapgl": [
           {
            "colorbar": {
             "outlinewidth": 0,
             "tickcolor": "rgb(36,36,36)",
             "ticklen": 8,
             "ticks": "outside",
             "tickwidth": 2
            },
            "colorscale": [
             [
              0,
              "rgb(2,4,25)"
             ],
             [
              0.06274509803921569,
              "rgb(24,15,41)"
             ],
             [
              0.12549019607843137,
              "rgb(47,23,57)"
             ],
             [
              0.18823529411764706,
              "rgb(71,28,72)"
             ],
             [
              0.25098039215686274,
              "rgb(97,30,82)"
             ],
             [
              0.3137254901960784,
              "rgb(123,30,89)"
             ],
             [
              0.3764705882352941,
              "rgb(150,27,91)"
             ],
             [
              0.4392156862745098,
              "rgb(177,22,88)"
             ],
             [
              0.5019607843137255,
              "rgb(203,26,79)"
             ],
             [
              0.5647058823529412,
              "rgb(223,47,67)"
             ],
             [
              0.6274509803921569,
              "rgb(236,76,61)"
             ],
             [
              0.6901960784313725,
              "rgb(242,107,73)"
             ],
             [
              0.7529411764705882,
              "rgb(244,135,95)"
             ],
             [
              0.8156862745098039,
              "rgb(245,162,122)"
             ],
             [
              0.8784313725490196,
              "rgb(246,188,153)"
             ],
             [
              0.9411764705882353,
              "rgb(247,212,187)"
             ],
             [
              1,
              "rgb(250,234,220)"
             ]
            ],
            "type": "heatmapgl"
           }
          ],
          "histogram": [
           {
            "marker": {
             "pattern": {
              "fillmode": "overlay",
              "size": 10,
              "solidity": 0.2
             }
            },
            "type": "histogram"
           }
          ],
          "histogram2d": [
           {
            "colorbar": {
             "outlinewidth": 0,
             "tickcolor": "rgb(36,36,36)",
             "ticklen": 8,
             "ticks": "outside",
             "tickwidth": 2
            },
            "colorscale": [
             [
              0,
              "rgb(2,4,25)"
             ],
             [
              0.06274509803921569,
              "rgb(24,15,41)"
             ],
             [
              0.12549019607843137,
              "rgb(47,23,57)"
             ],
             [
              0.18823529411764706,
              "rgb(71,28,72)"
             ],
             [
              0.25098039215686274,
              "rgb(97,30,82)"
             ],
             [
              0.3137254901960784,
              "rgb(123,30,89)"
             ],
             [
              0.3764705882352941,
              "rgb(150,27,91)"
             ],
             [
              0.4392156862745098,
              "rgb(177,22,88)"
             ],
             [
              0.5019607843137255,
              "rgb(203,26,79)"
             ],
             [
              0.5647058823529412,
              "rgb(223,47,67)"
             ],
             [
              0.6274509803921569,
              "rgb(236,76,61)"
             ],
             [
              0.6901960784313725,
              "rgb(242,107,73)"
             ],
             [
              0.7529411764705882,
              "rgb(244,135,95)"
             ],
             [
              0.8156862745098039,
              "rgb(245,162,122)"
             ],
             [
              0.8784313725490196,
              "rgb(246,188,153)"
             ],
             [
              0.9411764705882353,
              "rgb(247,212,187)"
             ],
             [
              1,
              "rgb(250,234,220)"
             ]
            ],
            "type": "histogram2d"
           }
          ],
          "histogram2dcontour": [
           {
            "colorbar": {
             "outlinewidth": 0,
             "tickcolor": "rgb(36,36,36)",
             "ticklen": 8,
             "ticks": "outside",
             "tickwidth": 2
            },
            "colorscale": [
             [
              0,
              "rgb(2,4,25)"
             ],
             [
              0.06274509803921569,
              "rgb(24,15,41)"
             ],
             [
              0.12549019607843137,
              "rgb(47,23,57)"
             ],
             [
              0.18823529411764706,
              "rgb(71,28,72)"
             ],
             [
              0.25098039215686274,
              "rgb(97,30,82)"
             ],
             [
              0.3137254901960784,
              "rgb(123,30,89)"
             ],
             [
              0.3764705882352941,
              "rgb(150,27,91)"
             ],
             [
              0.4392156862745098,
              "rgb(177,22,88)"
             ],
             [
              0.5019607843137255,
              "rgb(203,26,79)"
             ],
             [
              0.5647058823529412,
              "rgb(223,47,67)"
             ],
             [
              0.6274509803921569,
              "rgb(236,76,61)"
             ],
             [
              0.6901960784313725,
              "rgb(242,107,73)"
             ],
             [
              0.7529411764705882,
              "rgb(244,135,95)"
             ],
             [
              0.8156862745098039,
              "rgb(245,162,122)"
             ],
             [
              0.8784313725490196,
              "rgb(246,188,153)"
             ],
             [
              0.9411764705882353,
              "rgb(247,212,187)"
             ],
             [
              1,
              "rgb(250,234,220)"
             ]
            ],
            "type": "histogram2dcontour"
           }
          ],
          "mesh3d": [
           {
            "colorbar": {
             "outlinewidth": 0,
             "tickcolor": "rgb(36,36,36)",
             "ticklen": 8,
             "ticks": "outside",
             "tickwidth": 2
            },
            "type": "mesh3d"
           }
          ],
          "parcoords": [
           {
            "line": {
             "colorbar": {
              "outlinewidth": 0,
              "tickcolor": "rgb(36,36,36)",
              "ticklen": 8,
              "ticks": "outside",
              "tickwidth": 2
             }
            },
            "type": "parcoords"
           }
          ],
          "pie": [
           {
            "automargin": true,
            "type": "pie"
           }
          ],
          "scatter": [
           {
            "fillpattern": {
             "fillmode": "overlay",
             "size": 10,
             "solidity": 0.2
            },
            "type": "scatter"
           }
          ],
          "scatter3d": [
           {
            "line": {
             "colorbar": {
              "outlinewidth": 0,
              "tickcolor": "rgb(36,36,36)",
              "ticklen": 8,
              "ticks": "outside",
              "tickwidth": 2
             }
            },
            "marker": {
             "colorbar": {
              "outlinewidth": 0,
              "tickcolor": "rgb(36,36,36)",
              "ticklen": 8,
              "ticks": "outside",
              "tickwidth": 2
             }
            },
            "type": "scatter3d"
           }
          ],
          "scattercarpet": [
           {
            "marker": {
             "colorbar": {
              "outlinewidth": 0,
              "tickcolor": "rgb(36,36,36)",
              "ticklen": 8,
              "ticks": "outside",
              "tickwidth": 2
             }
            },
            "type": "scattercarpet"
           }
          ],
          "scattergeo": [
           {
            "marker": {
             "colorbar": {
              "outlinewidth": 0,
              "tickcolor": "rgb(36,36,36)",
              "ticklen": 8,
              "ticks": "outside",
              "tickwidth": 2
             }
            },
            "type": "scattergeo"
           }
          ],
          "scattergl": [
           {
            "marker": {
             "colorbar": {
              "outlinewidth": 0,
              "tickcolor": "rgb(36,36,36)",
              "ticklen": 8,
              "ticks": "outside",
              "tickwidth": 2
             }
            },
            "type": "scattergl"
           }
          ],
          "scattermapbox": [
           {
            "marker": {
             "colorbar": {
              "outlinewidth": 0,
              "tickcolor": "rgb(36,36,36)",
              "ticklen": 8,
              "ticks": "outside",
              "tickwidth": 2
             }
            },
            "type": "scattermapbox"
           }
          ],
          "scatterpolar": [
           {
            "marker": {
             "colorbar": {
              "outlinewidth": 0,
              "tickcolor": "rgb(36,36,36)",
              "ticklen": 8,
              "ticks": "outside",
              "tickwidth": 2
             }
            },
            "type": "scatterpolar"
           }
          ],
          "scatterpolargl": [
           {
            "marker": {
             "colorbar": {
              "outlinewidth": 0,
              "tickcolor": "rgb(36,36,36)",
              "ticklen": 8,
              "ticks": "outside",
              "tickwidth": 2
             }
            },
            "type": "scatterpolargl"
           }
          ],
          "scatterternary": [
           {
            "marker": {
             "colorbar": {
              "outlinewidth": 0,
              "tickcolor": "rgb(36,36,36)",
              "ticklen": 8,
              "ticks": "outside",
              "tickwidth": 2
             }
            },
            "type": "scatterternary"
           }
          ],
          "surface": [
           {
            "colorbar": {
             "outlinewidth": 0,
             "tickcolor": "rgb(36,36,36)",
             "ticklen": 8,
             "ticks": "outside",
             "tickwidth": 2
            },
            "colorscale": [
             [
              0,
              "rgb(2,4,25)"
             ],
             [
              0.06274509803921569,
              "rgb(24,15,41)"
             ],
             [
              0.12549019607843137,
              "rgb(47,23,57)"
             ],
             [
              0.18823529411764706,
              "rgb(71,28,72)"
             ],
             [
              0.25098039215686274,
              "rgb(97,30,82)"
             ],
             [
              0.3137254901960784,
              "rgb(123,30,89)"
             ],
             [
              0.3764705882352941,
              "rgb(150,27,91)"
             ],
             [
              0.4392156862745098,
              "rgb(177,22,88)"
             ],
             [
              0.5019607843137255,
              "rgb(203,26,79)"
             ],
             [
              0.5647058823529412,
              "rgb(223,47,67)"
             ],
             [
              0.6274509803921569,
              "rgb(236,76,61)"
             ],
             [
              0.6901960784313725,
              "rgb(242,107,73)"
             ],
             [
              0.7529411764705882,
              "rgb(244,135,95)"
             ],
             [
              0.8156862745098039,
              "rgb(245,162,122)"
             ],
             [
              0.8784313725490196,
              "rgb(246,188,153)"
             ],
             [
              0.9411764705882353,
              "rgb(247,212,187)"
             ],
             [
              1,
              "rgb(250,234,220)"
             ]
            ],
            "type": "surface"
           }
          ],
          "table": [
           {
            "cells": {
             "fill": {
              "color": "rgb(231,231,240)"
             },
             "line": {
              "color": "white"
             }
            },
            "header": {
             "fill": {
              "color": "rgb(183,183,191)"
             },
             "line": {
              "color": "white"
             }
            },
            "type": "table"
           }
          ]
         },
         "layout": {
          "annotationdefaults": {
           "arrowcolor": "rgb(67,103,167)"
          },
          "autotypenumbers": "strict",
          "coloraxis": {
           "colorbar": {
            "outlinewidth": 0,
            "tickcolor": "rgb(36,36,36)",
            "ticklen": 8,
            "ticks": "outside",
            "tickwidth": 2
           }
          },
          "colorscale": {
           "sequential": [
            [
             0,
             "rgb(2,4,25)"
            ],
            [
             0.06274509803921569,
             "rgb(24,15,41)"
            ],
            [
             0.12549019607843137,
             "rgb(47,23,57)"
            ],
            [
             0.18823529411764706,
             "rgb(71,28,72)"
            ],
            [
             0.25098039215686274,
             "rgb(97,30,82)"
            ],
            [
             0.3137254901960784,
             "rgb(123,30,89)"
            ],
            [
             0.3764705882352941,
             "rgb(150,27,91)"
            ],
            [
             0.4392156862745098,
             "rgb(177,22,88)"
            ],
            [
             0.5019607843137255,
             "rgb(203,26,79)"
            ],
            [
             0.5647058823529412,
             "rgb(223,47,67)"
            ],
            [
             0.6274509803921569,
             "rgb(236,76,61)"
            ],
            [
             0.6901960784313725,
             "rgb(242,107,73)"
            ],
            [
             0.7529411764705882,
             "rgb(244,135,95)"
            ],
            [
             0.8156862745098039,
             "rgb(245,162,122)"
            ],
            [
             0.8784313725490196,
             "rgb(246,188,153)"
            ],
            [
             0.9411764705882353,
             "rgb(247,212,187)"
            ],
            [
             1,
             "rgb(250,234,220)"
            ]
           ],
           "sequentialminus": [
            [
             0,
             "rgb(2,4,25)"
            ],
            [
             0.06274509803921569,
             "rgb(24,15,41)"
            ],
            [
             0.12549019607843137,
             "rgb(47,23,57)"
            ],
            [
             0.18823529411764706,
             "rgb(71,28,72)"
            ],
            [
             0.25098039215686274,
             "rgb(97,30,82)"
            ],
            [
             0.3137254901960784,
             "rgb(123,30,89)"
            ],
            [
             0.3764705882352941,
             "rgb(150,27,91)"
            ],
            [
             0.4392156862745098,
             "rgb(177,22,88)"
            ],
            [
             0.5019607843137255,
             "rgb(203,26,79)"
            ],
            [
             0.5647058823529412,
             "rgb(223,47,67)"
            ],
            [
             0.6274509803921569,
             "rgb(236,76,61)"
            ],
            [
             0.6901960784313725,
             "rgb(242,107,73)"
            ],
            [
             0.7529411764705882,
             "rgb(244,135,95)"
            ],
            [
             0.8156862745098039,
             "rgb(245,162,122)"
            ],
            [
             0.8784313725490196,
             "rgb(246,188,153)"
            ],
            [
             0.9411764705882353,
             "rgb(247,212,187)"
            ],
            [
             1,
             "rgb(250,234,220)"
            ]
           ]
          },
          "colorway": [
           "rgb(76,114,176)",
           "rgb(221,132,82)",
           "rgb(85,168,104)",
           "rgb(196,78,82)",
           "rgb(129,114,179)",
           "rgb(147,120,96)",
           "rgb(218,139,195)",
           "rgb(140,140,140)",
           "rgb(204,185,116)",
           "rgb(100,181,205)"
          ],
          "font": {
           "color": "rgb(36,36,36)"
          },
          "geo": {
           "bgcolor": "white",
           "lakecolor": "white",
           "landcolor": "rgb(234,234,242)",
           "showlakes": true,
           "showland": true,
           "subunitcolor": "white"
          },
          "hoverlabel": {
           "align": "left"
          },
          "hovermode": "closest",
          "paper_bgcolor": "white",
          "plot_bgcolor": "rgb(234,234,242)",
          "polar": {
           "angularaxis": {
            "gridcolor": "white",
            "linecolor": "white",
            "showgrid": true,
            "ticks": ""
           },
           "bgcolor": "rgb(234,234,242)",
           "radialaxis": {
            "gridcolor": "white",
            "linecolor": "white",
            "showgrid": true,
            "ticks": ""
           }
          },
          "scene": {
           "xaxis": {
            "backgroundcolor": "rgb(234,234,242)",
            "gridcolor": "white",
            "gridwidth": 2,
            "linecolor": "white",
            "showbackground": true,
            "showgrid": true,
            "ticks": "",
            "zerolinecolor": "white"
           },
           "yaxis": {
            "backgroundcolor": "rgb(234,234,242)",
            "gridcolor": "white",
            "gridwidth": 2,
            "linecolor": "white",
            "showbackground": true,
            "showgrid": true,
            "ticks": "",
            "zerolinecolor": "white"
           },
           "zaxis": {
            "backgroundcolor": "rgb(234,234,242)",
            "gridcolor": "white",
            "gridwidth": 2,
            "linecolor": "white",
            "showbackground": true,
            "showgrid": true,
            "ticks": "",
            "zerolinecolor": "white"
           }
          },
          "shapedefaults": {
           "fillcolor": "rgb(67,103,167)",
           "line": {
            "width": 0
           },
           "opacity": 0.5
          },
          "ternary": {
           "aaxis": {
            "gridcolor": "white",
            "linecolor": "white",
            "showgrid": true,
            "ticks": ""
           },
           "baxis": {
            "gridcolor": "white",
            "linecolor": "white",
            "showgrid": true,
            "ticks": ""
           },
           "bgcolor": "rgb(234,234,242)",
           "caxis": {
            "gridcolor": "white",
            "linecolor": "white",
            "showgrid": true,
            "ticks": ""
           }
          },
          "xaxis": {
           "automargin": true,
           "gridcolor": "white",
           "linecolor": "white",
           "showgrid": true,
           "ticks": "",
           "title": {
            "standoff": 15
           },
           "zerolinecolor": "white"
          },
          "yaxis": {
           "automargin": true,
           "gridcolor": "white",
           "linecolor": "white",
           "showgrid": true,
           "ticks": "",
           "title": {
            "standoff": 15
           },
           "zerolinecolor": "white"
          }
         }
        },
        "title": {
         "text": "Percent of Passengers Denied Boarding over Time"
        },
        "xaxis": {
         "anchor": "y",
         "domain": [
          0,
          1
         ],
         "tickangle": 45,
         "title": {
          "text": "Year"
         }
        },
        "yaxis": {
         "anchor": "x",
         "domain": [
          0,
          1
         ],
         "title": {
          "text": "Percent of Passengers Denied Boarding"
         }
        }
       }
      }
     },
     "metadata": {},
     "output_type": "display_data"
    }
   ],
   "source": [
    "fig = px.area(denied_boarding.groupby('date').mean(numeric_only = True).\n",
    "                  reset_index().rename(columns = {'perc_denied_boarding_involuntary':\"Involuntary\",\n",
    "                                                  \"perc_denied_boarding_voluntary\":\"Voluntary\"}),\n",
    "              x=\"date\", y=[\"Voluntary\",\"Involuntary\"],\n",
    "                labels={\n",
    "                    \"date\": \"Year\",\n",
    "                     \"value\":\"Percent of Passengers Denied Boarding\", \n",
    "                     \"variable\":\"Denial Type\"\n",
    "                 },\n",
    "                title=\"Percent of Passengers Denied Boarding over Time\",\n",
    "                color_discrete_sequence=px.colors.qualitative.Dark24, \n",
    "                template = 'seaborn')\n",
    "fig.update_xaxes(tickangle = 45)\n",
    "fig.show()"
   ]
  },
  {
   "attachments": {},
   "cell_type": "markdown",
   "metadata": {},
   "source": [
    "Plotly also allows users to create interactive visualizations. In this project we utilized this functionality to create drop down menus in our visualizations. The example below shows how you can first create a figure with different levels for each variable you want to allow a user to select from. In this case, we used airline carrier. When outputting this graph, we will see only the default figure which is the first carrier, because there is no drop down menu yet.  "
   ]
  },
  {
   "cell_type": "code",
   "execution_count": 29,
   "metadata": {},
   "outputs": [
    {
     "data": {
      "application/vnd.plotly.v1+json": {
       "config": {
        "plotlyServerURL": "https://plot.ly"
       },
       "data": [
        {
         "domain": {
          "x": [
           0,
           1
          ],
          "y": [
           0,
           1
          ]
         },
         "hovertemplate": "Denial Type=%{label}<br>Total Passengers=%{value}<extra></extra>",
         "labels": [
          "Involuntary - Received Compensation",
          "Involuntary - Received Compensation",
          "Involuntary - Received Compensation",
          "Involuntary - Received Compensation",
          "Involuntary - Received Compensation",
          "Involuntary - Received Compensation",
          "Involuntary - Received Compensation",
          "Involuntary - Received Compensation",
          "Involuntary - Received Compensation",
          "Involuntary - Received Compensation",
          "Involuntary - Received Compensation",
          "Involuntary - Received Compensation",
          "Involuntary - Received Compensation",
          "Involuntary - Received Compensation",
          "Involuntary - Received Compensation",
          "Involuntary - Received Compensation",
          "Involuntary - No Compensation",
          "Involuntary - No Compensation",
          "Involuntary - No Compensation",
          "Involuntary - No Compensation",
          "Involuntary - No Compensation",
          "Involuntary - No Compensation",
          "Involuntary - No Compensation",
          "Involuntary - No Compensation",
          "Involuntary - No Compensation",
          "Involuntary - No Compensation",
          "Involuntary - No Compensation",
          "Involuntary - No Compensation",
          "Involuntary - No Compensation",
          "Involuntary - No Compensation",
          "Involuntary - No Compensation",
          "Involuntary - No Compensation",
          "Voluntary - Received Compensation",
          "Voluntary - Received Compensation",
          "Voluntary - Received Compensation",
          "Voluntary - Received Compensation",
          "Voluntary - Received Compensation",
          "Voluntary - Received Compensation",
          "Voluntary - Received Compensation",
          "Voluntary - Received Compensation",
          "Voluntary - Received Compensation",
          "Voluntary - Received Compensation",
          "Voluntary - Received Compensation",
          "Voluntary - Received Compensation",
          "Voluntary - Received Compensation",
          "Voluntary - Received Compensation",
          "Voluntary - Received Compensation",
          "Voluntary - Received Compensation"
         ],
         "legendgroup": "",
         "name": "Alaska Airlines",
         "showlegend": true,
         "type": "pie",
         "values": [
          99,
          237,
          121,
          56,
          107,
          107,
          65,
          60,
          24,
          0,
          0,
          0,
          1,
          16,
          17,
          37,
          21,
          89,
          71,
          49,
          51,
          48,
          27,
          48,
          6,
          0,
          0,
          0,
          1,
          17,
          15,
          14,
          1206,
          2795,
          2494,
          2226,
          2498,
          3188,
          2730,
          3147,
          1515,
          43,
          0,
          0,
          117,
          915,
          1059,
          2386
         ],
         "visible": true
        },
        {
         "domain": {
          "x": [
           0,
           1
          ],
          "y": [
           0,
           1
          ]
         },
         "hovertemplate": "Denial Type=%{label}<br>Total Passengers=%{value}<extra></extra>",
         "labels": [
          "Involuntary - Received Compensation",
          "Involuntary - Received Compensation",
          "Involuntary - Received Compensation",
          "Involuntary - Received Compensation",
          "Involuntary - Received Compensation",
          "Involuntary - Received Compensation",
          "Involuntary - Received Compensation",
          "Involuntary - Received Compensation",
          "Involuntary - Received Compensation",
          "Involuntary - Received Compensation",
          "Involuntary - Received Compensation",
          "Involuntary - Received Compensation",
          "Involuntary - Received Compensation",
          "Involuntary - Received Compensation",
          "Involuntary - Received Compensation",
          "Involuntary - Received Compensation",
          "Involuntary - No Compensation",
          "Involuntary - No Compensation",
          "Involuntary - No Compensation",
          "Involuntary - No Compensation",
          "Involuntary - No Compensation",
          "Involuntary - No Compensation",
          "Involuntary - No Compensation",
          "Involuntary - No Compensation",
          "Involuntary - No Compensation",
          "Involuntary - No Compensation",
          "Involuntary - No Compensation",
          "Involuntary - No Compensation",
          "Involuntary - No Compensation",
          "Involuntary - No Compensation",
          "Involuntary - No Compensation",
          "Involuntary - No Compensation",
          "Voluntary - Received Compensation",
          "Voluntary - Received Compensation",
          "Voluntary - Received Compensation",
          "Voluntary - Received Compensation",
          "Voluntary - Received Compensation",
          "Voluntary - Received Compensation",
          "Voluntary - Received Compensation",
          "Voluntary - Received Compensation",
          "Voluntary - Received Compensation",
          "Voluntary - Received Compensation",
          "Voluntary - Received Compensation",
          "Voluntary - Received Compensation",
          "Voluntary - Received Compensation",
          "Voluntary - Received Compensation",
          "Voluntary - Received Compensation",
          "Voluntary - Received Compensation"
         ],
         "legendgroup": "",
         "name": "Allegiant Airlines",
         "showlegend": true,
         "type": "pie",
         "values": [
          0,
          0,
          0,
          0,
          0,
          0,
          0,
          0,
          0,
          0,
          0,
          0,
          0,
          0,
          0,
          0,
          58,
          0,
          78,
          66,
          510,
          123,
          2,
          2,
          0,
          0,
          0,
          0,
          0,
          0,
          0,
          0,
          0,
          216,
          141,
          46,
          34,
          25,
          135,
          347,
          272,
          15,
          11,
          6,
          3,
          203,
          519,
          431
         ],
         "visible": false
        },
        {
         "domain": {
          "x": [
           0,
           1
          ],
          "y": [
           0,
           1
          ]
         },
         "hovertemplate": "Denial Type=%{label}<br>Total Passengers=%{value}<extra></extra>",
         "labels": [
          "Involuntary - Received Compensation",
          "Involuntary - Received Compensation",
          "Involuntary - Received Compensation",
          "Involuntary - Received Compensation",
          "Involuntary - Received Compensation",
          "Involuntary - Received Compensation",
          "Involuntary - Received Compensation",
          "Involuntary - Received Compensation",
          "Involuntary - Received Compensation",
          "Involuntary - Received Compensation",
          "Involuntary - Received Compensation",
          "Involuntary - Received Compensation",
          "Involuntary - Received Compensation",
          "Involuntary - Received Compensation",
          "Involuntary - Received Compensation",
          "Involuntary - Received Compensation",
          "Involuntary - No Compensation",
          "Involuntary - No Compensation",
          "Involuntary - No Compensation",
          "Involuntary - No Compensation",
          "Involuntary - No Compensation",
          "Involuntary - No Compensation",
          "Involuntary - No Compensation",
          "Involuntary - No Compensation",
          "Involuntary - No Compensation",
          "Involuntary - No Compensation",
          "Involuntary - No Compensation",
          "Involuntary - No Compensation",
          "Involuntary - No Compensation",
          "Involuntary - No Compensation",
          "Involuntary - No Compensation",
          "Involuntary - No Compensation",
          "Voluntary - Received Compensation",
          "Voluntary - Received Compensation",
          "Voluntary - Received Compensation",
          "Voluntary - Received Compensation",
          "Voluntary - Received Compensation",
          "Voluntary - Received Compensation",
          "Voluntary - Received Compensation",
          "Voluntary - Received Compensation",
          "Voluntary - Received Compensation",
          "Voluntary - Received Compensation",
          "Voluntary - Received Compensation",
          "Voluntary - Received Compensation",
          "Voluntary - Received Compensation",
          "Voluntary - Received Compensation",
          "Voluntary - Received Compensation",
          "Voluntary - Received Compensation"
         ],
         "legendgroup": "",
         "name": "American Airlines",
         "showlegend": true,
         "type": "pie",
         "values": [
          304,
          96,
          142,
          860,
          980,
          1271,
          853,
          486,
          206,
          79,
          572,
          8,
          73,
          355,
          407,
          978,
          179,
          99,
          221,
          713,
          744,
          2027,
          1037,
          585,
          259,
          6,
          66,
          20,
          7,
          53,
          73,
          193,
          15658,
          12751,
          12697,
          20168,
          28362,
          41562,
          25733,
          15503,
          6127,
          647,
          2899,
          591,
          1453,
          5192,
          6008,
          8787
         ],
         "visible": false
        },
        {
         "domain": {
          "x": [
           0,
           1
          ],
          "y": [
           0,
           1
          ]
         },
         "hovertemplate": "Denial Type=%{label}<br>Total Passengers=%{value}<extra></extra>",
         "labels": [
          "Involuntary - Received Compensation",
          "Involuntary - Received Compensation",
          "Involuntary - Received Compensation",
          "Involuntary - Received Compensation",
          "Involuntary - Received Compensation",
          "Involuntary - Received Compensation",
          "Involuntary - Received Compensation",
          "Involuntary - Received Compensation",
          "Involuntary - Received Compensation",
          "Involuntary - Received Compensation",
          "Involuntary - Received Compensation",
          "Involuntary - Received Compensation",
          "Involuntary - Received Compensation",
          "Involuntary - Received Compensation",
          "Involuntary - Received Compensation",
          "Involuntary - Received Compensation",
          "Involuntary - No Compensation",
          "Involuntary - No Compensation",
          "Involuntary - No Compensation",
          "Involuntary - No Compensation",
          "Involuntary - No Compensation",
          "Involuntary - No Compensation",
          "Involuntary - No Compensation",
          "Involuntary - No Compensation",
          "Involuntary - No Compensation",
          "Involuntary - No Compensation",
          "Involuntary - No Compensation",
          "Involuntary - No Compensation",
          "Involuntary - No Compensation",
          "Involuntary - No Compensation",
          "Involuntary - No Compensation",
          "Involuntary - No Compensation",
          "Voluntary - Received Compensation",
          "Voluntary - Received Compensation",
          "Voluntary - Received Compensation",
          "Voluntary - Received Compensation",
          "Voluntary - Received Compensation",
          "Voluntary - Received Compensation",
          "Voluntary - Received Compensation",
          "Voluntary - Received Compensation",
          "Voluntary - Received Compensation",
          "Voluntary - Received Compensation",
          "Voluntary - Received Compensation",
          "Voluntary - Received Compensation",
          "Voluntary - Received Compensation",
          "Voluntary - Received Compensation",
          "Voluntary - Received Compensation",
          "Voluntary - Received Compensation"
         ],
         "legendgroup": "",
         "name": "Delta Air Lines",
         "showlegend": true,
         "type": "pie",
         "values": [
          6,
          4,
          0,
          0,
          1,
          0,
          1,
          0,
          0,
          0,
          0,
          0,
          0,
          0,
          0,
          0,
          7,
          5,
          0,
          0,
          0,
          0,
          2,
          0,
          0,
          0,
          0,
          0,
          0,
          0,
          0,
          0,
          23777,
          17602,
          17722,
          22605,
          28276,
          32820,
          24642,
          26246,
          16399,
          1546,
          634,
          570,
          1386,
          3231,
          12292,
          10508
         ],
         "visible": false
        },
        {
         "domain": {
          "x": [
           0,
           1
          ],
          "y": [
           0,
           1
          ]
         },
         "hovertemplate": "Denial Type=%{label}<br>Total Passengers=%{value}<extra></extra>",
         "labels": [
          "Involuntary - Received Compensation",
          "Involuntary - Received Compensation",
          "Involuntary - Received Compensation",
          "Involuntary - Received Compensation",
          "Involuntary - Received Compensation",
          "Involuntary - Received Compensation",
          "Involuntary - Received Compensation",
          "Involuntary - Received Compensation",
          "Involuntary - Received Compensation",
          "Involuntary - Received Compensation",
          "Involuntary - Received Compensation",
          "Involuntary - Received Compensation",
          "Involuntary - Received Compensation",
          "Involuntary - Received Compensation",
          "Involuntary - Received Compensation",
          "Involuntary - Received Compensation",
          "Involuntary - No Compensation",
          "Involuntary - No Compensation",
          "Involuntary - No Compensation",
          "Involuntary - No Compensation",
          "Involuntary - No Compensation",
          "Involuntary - No Compensation",
          "Involuntary - No Compensation",
          "Involuntary - No Compensation",
          "Involuntary - No Compensation",
          "Involuntary - No Compensation",
          "Involuntary - No Compensation",
          "Involuntary - No Compensation",
          "Involuntary - No Compensation",
          "Involuntary - No Compensation",
          "Involuntary - No Compensation",
          "Involuntary - No Compensation",
          "Voluntary - Received Compensation",
          "Voluntary - Received Compensation",
          "Voluntary - Received Compensation",
          "Voluntary - Received Compensation",
          "Voluntary - Received Compensation",
          "Voluntary - Received Compensation",
          "Voluntary - Received Compensation",
          "Voluntary - Received Compensation",
          "Voluntary - Received Compensation",
          "Voluntary - Received Compensation",
          "Voluntary - Received Compensation",
          "Voluntary - Received Compensation",
          "Voluntary - Received Compensation",
          "Voluntary - Received Compensation",
          "Voluntary - Received Compensation",
          "Voluntary - Received Compensation"
         ],
         "legendgroup": "",
         "name": "Endeavor Air",
         "showlegend": true,
         "type": "pie",
         "values": [
          1,
          0,
          0,
          0,
          0,
          0,
          0,
          0,
          0,
          0,
          0,
          0,
          0,
          0,
          0,
          0,
          3,
          1,
          0,
          2,
          0,
          0,
          0,
          0,
          0,
          0,
          0,
          0,
          0,
          0,
          0,
          0,
          3117,
          4100,
          5131,
          4559,
          4432,
          8011,
          6451,
          6772,
          3775,
          277,
          77,
          233,
          385,
          1181,
          3642,
          2728
         ],
         "visible": false
        },
        {
         "domain": {
          "x": [
           0,
           1
          ],
          "y": [
           0,
           1
          ]
         },
         "hovertemplate": "Denial Type=%{label}<br>Total Passengers=%{value}<extra></extra>",
         "labels": [
          "Involuntary - Received Compensation",
          "Involuntary - Received Compensation",
          "Involuntary - Received Compensation",
          "Involuntary - Received Compensation",
          "Involuntary - Received Compensation",
          "Involuntary - Received Compensation",
          "Involuntary - Received Compensation",
          "Involuntary - Received Compensation",
          "Involuntary - Received Compensation",
          "Involuntary - Received Compensation",
          "Involuntary - Received Compensation",
          "Involuntary - Received Compensation",
          "Involuntary - Received Compensation",
          "Involuntary - Received Compensation",
          "Involuntary - Received Compensation",
          "Involuntary - Received Compensation",
          "Involuntary - No Compensation",
          "Involuntary - No Compensation",
          "Involuntary - No Compensation",
          "Involuntary - No Compensation",
          "Involuntary - No Compensation",
          "Involuntary - No Compensation",
          "Involuntary - No Compensation",
          "Involuntary - No Compensation",
          "Involuntary - No Compensation",
          "Involuntary - No Compensation",
          "Involuntary - No Compensation",
          "Involuntary - No Compensation",
          "Involuntary - No Compensation",
          "Involuntary - No Compensation",
          "Involuntary - No Compensation",
          "Involuntary - No Compensation",
          "Voluntary - Received Compensation",
          "Voluntary - Received Compensation",
          "Voluntary - Received Compensation",
          "Voluntary - Received Compensation",
          "Voluntary - Received Compensation",
          "Voluntary - Received Compensation",
          "Voluntary - Received Compensation",
          "Voluntary - Received Compensation",
          "Voluntary - Received Compensation",
          "Voluntary - Received Compensation",
          "Voluntary - Received Compensation",
          "Voluntary - Received Compensation",
          "Voluntary - Received Compensation",
          "Voluntary - Received Compensation",
          "Voluntary - Received Compensation",
          "Voluntary - Received Compensation"
         ],
         "legendgroup": "",
         "name": "Envoy Air",
         "showlegend": true,
         "type": "pie",
         "values": [
          22,
          27,
          41,
          77,
          105,
          101,
          138,
          69,
          40,
          22,
          79,
          16,
          23,
          65,
          61,
          124,
          37,
          34,
          120,
          376,
          385,
          436,
          423,
          475,
          241,
          4,
          53,
          14,
          9,
          50,
          15,
          41,
          3839,
          4273,
          3437,
          3104,
          3807,
          4439,
          3286,
          2427,
          1895,
          190,
          747,
          408,
          849,
          1422,
          1150,
          1952
         ],
         "visible": false
        },
        {
         "domain": {
          "x": [
           0,
           1
          ],
          "y": [
           0,
           1
          ]
         },
         "hovertemplate": "Denial Type=%{label}<br>Total Passengers=%{value}<extra></extra>",
         "labels": [
          "Involuntary - Received Compensation",
          "Involuntary - Received Compensation",
          "Involuntary - Received Compensation",
          "Involuntary - Received Compensation",
          "Involuntary - Received Compensation",
          "Involuntary - Received Compensation",
          "Involuntary - Received Compensation",
          "Involuntary - Received Compensation",
          "Involuntary - Received Compensation",
          "Involuntary - Received Compensation",
          "Involuntary - Received Compensation",
          "Involuntary - No Compensation",
          "Involuntary - No Compensation",
          "Involuntary - No Compensation",
          "Involuntary - No Compensation",
          "Involuntary - No Compensation",
          "Involuntary - No Compensation",
          "Involuntary - No Compensation",
          "Involuntary - No Compensation",
          "Involuntary - No Compensation",
          "Involuntary - No Compensation",
          "Involuntary - No Compensation",
          "Voluntary - Received Compensation",
          "Voluntary - Received Compensation",
          "Voluntary - Received Compensation",
          "Voluntary - Received Compensation",
          "Voluntary - Received Compensation",
          "Voluntary - Received Compensation",
          "Voluntary - Received Compensation",
          "Voluntary - Received Compensation",
          "Voluntary - Received Compensation",
          "Voluntary - Received Compensation",
          "Voluntary - Received Compensation"
         ],
         "legendgroup": "",
         "name": "ExpressJet Airlines",
         "showlegend": true,
         "type": "pie",
         "values": [
          3,
          7,
          1,
          9,
          0,
          1,
          0,
          1,
          0,
          0,
          0,
          0,
          5,
          2,
          13,
          1,
          0,
          0,
          0,
          0,
          0,
          0,
          2230,
          2225,
          1866,
          1658,
          1470,
          1522,
          1358,
          990,
          669,
          5,
          12
         ],
         "visible": false
        },
        {
         "domain": {
          "x": [
           0,
           1
          ],
          "y": [
           0,
           1
          ]
         },
         "hovertemplate": "Denial Type=%{label}<br>Total Passengers=%{value}<extra></extra>",
         "labels": [
          "Involuntary - Received Compensation",
          "Involuntary - Received Compensation",
          "Involuntary - Received Compensation",
          "Involuntary - Received Compensation",
          "Involuntary - Received Compensation",
          "Involuntary - Received Compensation",
          "Involuntary - Received Compensation",
          "Involuntary - Received Compensation",
          "Involuntary - Received Compensation",
          "Involuntary - Received Compensation",
          "Involuntary - Received Compensation",
          "Involuntary - Received Compensation",
          "Involuntary - Received Compensation",
          "Involuntary - Received Compensation",
          "Involuntary - Received Compensation",
          "Involuntary - Received Compensation",
          "Involuntary - No Compensation",
          "Involuntary - No Compensation",
          "Involuntary - No Compensation",
          "Involuntary - No Compensation",
          "Involuntary - No Compensation",
          "Involuntary - No Compensation",
          "Involuntary - No Compensation",
          "Involuntary - No Compensation",
          "Involuntary - No Compensation",
          "Involuntary - No Compensation",
          "Involuntary - No Compensation",
          "Involuntary - No Compensation",
          "Involuntary - No Compensation",
          "Involuntary - No Compensation",
          "Involuntary - No Compensation",
          "Involuntary - No Compensation",
          "Voluntary - Received Compensation",
          "Voluntary - Received Compensation",
          "Voluntary - Received Compensation",
          "Voluntary - Received Compensation",
          "Voluntary - Received Compensation",
          "Voluntary - Received Compensation",
          "Voluntary - Received Compensation",
          "Voluntary - Received Compensation",
          "Voluntary - Received Compensation",
          "Voluntary - Received Compensation",
          "Voluntary - Received Compensation",
          "Voluntary - Received Compensation",
          "Voluntary - Received Compensation",
          "Voluntary - Received Compensation",
          "Voluntary - Received Compensation",
          "Voluntary - Received Compensation"
         ],
         "legendgroup": "",
         "name": "Frontier Airlines",
         "showlegend": true,
         "type": "pie",
         "values": [
          98,
          161,
          169,
          101,
          81,
          96,
          118,
          145,
          58,
          40,
          54,
          43,
          129,
          198,
          421,
          646,
          90,
          94,
          350,
          156,
          87,
          88,
          112,
          104,
          38,
          5,
          10,
          8,
          94,
          136,
          198,
          241,
          949,
          991,
          1790,
          895,
          587,
          838,
          893,
          821,
          481,
          170,
          256,
          167,
          626,
          886,
          1489,
          1684
         ],
         "visible": false
        },
        {
         "domain": {
          "x": [
           0,
           1
          ],
          "y": [
           0,
           1
          ]
         },
         "hovertemplate": "Denial Type=%{label}<br>Total Passengers=%{value}<extra></extra>",
         "labels": [
          "Involuntary - Received Compensation",
          "Involuntary - Received Compensation",
          "Involuntary - Received Compensation",
          "Involuntary - Received Compensation",
          "Involuntary - Received Compensation",
          "Involuntary - Received Compensation",
          "Involuntary - Received Compensation",
          "Involuntary - Received Compensation",
          "Involuntary - Received Compensation",
          "Involuntary - Received Compensation",
          "Involuntary - Received Compensation",
          "Involuntary - Received Compensation",
          "Involuntary - Received Compensation",
          "Involuntary - Received Compensation",
          "Involuntary - Received Compensation",
          "Involuntary - Received Compensation",
          "Involuntary - No Compensation",
          "Involuntary - No Compensation",
          "Involuntary - No Compensation",
          "Involuntary - No Compensation",
          "Involuntary - No Compensation",
          "Involuntary - No Compensation",
          "Involuntary - No Compensation",
          "Involuntary - No Compensation",
          "Involuntary - No Compensation",
          "Involuntary - No Compensation",
          "Involuntary - No Compensation",
          "Involuntary - No Compensation",
          "Involuntary - No Compensation",
          "Involuntary - No Compensation",
          "Involuntary - No Compensation",
          "Involuntary - No Compensation",
          "Voluntary - Received Compensation",
          "Voluntary - Received Compensation",
          "Voluntary - Received Compensation",
          "Voluntary - Received Compensation",
          "Voluntary - Received Compensation",
          "Voluntary - Received Compensation",
          "Voluntary - Received Compensation",
          "Voluntary - Received Compensation",
          "Voluntary - Received Compensation",
          "Voluntary - Received Compensation",
          "Voluntary - Received Compensation",
          "Voluntary - Received Compensation",
          "Voluntary - Received Compensation",
          "Voluntary - Received Compensation",
          "Voluntary - Received Compensation",
          "Voluntary - Received Compensation"
         ],
         "legendgroup": "",
         "name": "Hawaiian Airlines",
         "showlegend": true,
         "type": "pie",
         "values": [
          2,
          2,
          3,
          5,
          0,
          0,
          0,
          0,
          1,
          0,
          0,
          0,
          0,
          0,
          0,
          0,
          0,
          0,
          null,
          1,
          0,
          0,
          0,
          0,
          0,
          0,
          0,
          0,
          0,
          0,
          0,
          0,
          160,
          345,
          274,
          326,
          72,
          39,
          34,
          101,
          125,
          30,
          14,
          8,
          3,
          10,
          2,
          16
         ],
         "visible": false
        },
        {
         "domain": {
          "x": [
           0,
           1
          ],
          "y": [
           0,
           1
          ]
         },
         "hovertemplate": "Denial Type=%{label}<br>Total Passengers=%{value}<extra></extra>",
         "labels": [
          "Involuntary - Received Compensation",
          "Involuntary - Received Compensation",
          "Involuntary - Received Compensation",
          "Involuntary - Received Compensation",
          "Involuntary - Received Compensation",
          "Involuntary - Received Compensation",
          "Involuntary - Received Compensation",
          "Involuntary - Received Compensation",
          "Involuntary - Received Compensation",
          "Involuntary - Received Compensation",
          "Involuntary - Received Compensation",
          "Involuntary - Received Compensation",
          "Involuntary - Received Compensation",
          "Involuntary - Received Compensation",
          "Involuntary - Received Compensation",
          "Involuntary - Received Compensation",
          "Involuntary - No Compensation",
          "Involuntary - No Compensation",
          "Involuntary - No Compensation",
          "Involuntary - No Compensation",
          "Involuntary - No Compensation",
          "Involuntary - No Compensation",
          "Involuntary - No Compensation",
          "Involuntary - No Compensation",
          "Involuntary - No Compensation",
          "Involuntary - No Compensation",
          "Involuntary - No Compensation",
          "Involuntary - No Compensation",
          "Involuntary - No Compensation",
          "Involuntary - No Compensation",
          "Involuntary - No Compensation",
          "Involuntary - No Compensation",
          "Voluntary - Received Compensation",
          "Voluntary - Received Compensation",
          "Voluntary - Received Compensation",
          "Voluntary - Received Compensation",
          "Voluntary - Received Compensation",
          "Voluntary - Received Compensation",
          "Voluntary - Received Compensation",
          "Voluntary - Received Compensation",
          "Voluntary - Received Compensation",
          "Voluntary - Received Compensation",
          "Voluntary - Received Compensation",
          "Voluntary - Received Compensation",
          "Voluntary - Received Compensation",
          "Voluntary - Received Compensation",
          "Voluntary - Received Compensation",
          "Voluntary - Received Compensation"
         ],
         "legendgroup": "",
         "name": "JetBlue Airways",
         "showlegend": true,
         "type": "pie",
         "values": [
          7,
          8,
          7,
          13,
          23,
          5,
          7,
          12,
          0,
          0,
          0,
          0,
          2,
          1,
          24,
          16,
          0,
          1,
          0,
          0,
          0,
          2,
          1,
          4,
          2,
          0,
          0,
          0,
          14,
          2,
          0,
          0,
          844,
          557,
          612,
          487,
          721,
          641,
          785,
          637,
          250,
          29,
          9,
          62,
          81,
          463,
          901,
          864
         ],
         "visible": false
        },
        {
         "domain": {
          "x": [
           0,
           1
          ],
          "y": [
           0,
           1
          ]
         },
         "hovertemplate": "Denial Type=%{label}<br>Total Passengers=%{value}<extra></extra>",
         "labels": [
          "Involuntary - Received Compensation",
          "Involuntary - Received Compensation",
          "Involuntary - Received Compensation",
          "Involuntary - Received Compensation",
          "Involuntary - Received Compensation",
          "Involuntary - Received Compensation",
          "Involuntary - Received Compensation",
          "Involuntary - Received Compensation",
          "Involuntary - Received Compensation",
          "Involuntary - Received Compensation",
          "Involuntary - Received Compensation",
          "Involuntary - Received Compensation",
          "Involuntary - Received Compensation",
          "Involuntary - Received Compensation",
          "Involuntary - Received Compensation",
          "Involuntary - Received Compensation",
          "Involuntary - No Compensation",
          "Involuntary - No Compensation",
          "Involuntary - No Compensation",
          "Involuntary - No Compensation",
          "Involuntary - No Compensation",
          "Involuntary - No Compensation",
          "Involuntary - No Compensation",
          "Involuntary - No Compensation",
          "Involuntary - No Compensation",
          "Involuntary - No Compensation",
          "Involuntary - No Compensation",
          "Involuntary - No Compensation",
          "Involuntary - No Compensation",
          "Involuntary - No Compensation",
          "Involuntary - No Compensation",
          "Involuntary - No Compensation",
          "Voluntary - Received Compensation",
          "Voluntary - Received Compensation",
          "Voluntary - Received Compensation",
          "Voluntary - Received Compensation",
          "Voluntary - Received Compensation",
          "Voluntary - Received Compensation",
          "Voluntary - Received Compensation",
          "Voluntary - Received Compensation",
          "Voluntary - Received Compensation",
          "Voluntary - Received Compensation",
          "Voluntary - Received Compensation",
          "Voluntary - Received Compensation",
          "Voluntary - Received Compensation",
          "Voluntary - Received Compensation",
          "Voluntary - Received Compensation",
          "Voluntary - Received Compensation"
         ],
         "legendgroup": "",
         "name": "Mesa Airlines",
         "showlegend": true,
         "type": "pie",
         "values": [
          7,
          7,
          5,
          15,
          24,
          21,
          16,
          33,
          10,
          12,
          12,
          1,
          6,
          32,
          21,
          33,
          40,
          3,
          46,
          86,
          461,
          293,
          72,
          69,
          8,
          0,
          0,
          2,
          0,
          8,
          5,
          14,
          2413,
          1722,
          2581,
          2047,
          3864,
          2836,
          1861,
          1428,
          962,
          95,
          226,
          170,
          359,
          808,
          873,
          727
         ],
         "visible": false
        },
        {
         "domain": {
          "x": [
           0,
           1
          ],
          "y": [
           0,
           1
          ]
         },
         "hovertemplate": "Denial Type=%{label}<br>Total Passengers=%{value}<extra></extra>",
         "labels": [
          "Involuntary - Received Compensation",
          "Involuntary - Received Compensation",
          "Involuntary - Received Compensation",
          "Involuntary - Received Compensation",
          "Involuntary - Received Compensation",
          "Involuntary - Received Compensation",
          "Involuntary - Received Compensation",
          "Involuntary - Received Compensation",
          "Involuntary - Received Compensation",
          "Involuntary - Received Compensation",
          "Involuntary - Received Compensation",
          "Involuntary - Received Compensation",
          "Involuntary - Received Compensation",
          "Involuntary - Received Compensation",
          "Involuntary - Received Compensation",
          "Involuntary - Received Compensation",
          "Involuntary - No Compensation",
          "Involuntary - No Compensation",
          "Involuntary - No Compensation",
          "Involuntary - No Compensation",
          "Involuntary - No Compensation",
          "Involuntary - No Compensation",
          "Involuntary - No Compensation",
          "Involuntary - No Compensation",
          "Involuntary - No Compensation",
          "Involuntary - No Compensation",
          "Involuntary - No Compensation",
          "Involuntary - No Compensation",
          "Involuntary - No Compensation",
          "Involuntary - No Compensation",
          "Involuntary - No Compensation",
          "Involuntary - No Compensation",
          "Voluntary - Received Compensation",
          "Voluntary - Received Compensation",
          "Voluntary - Received Compensation",
          "Voluntary - Received Compensation",
          "Voluntary - Received Compensation",
          "Voluntary - Received Compensation",
          "Voluntary - Received Compensation",
          "Voluntary - Received Compensation",
          "Voluntary - Received Compensation",
          "Voluntary - Received Compensation",
          "Voluntary - Received Compensation",
          "Voluntary - Received Compensation",
          "Voluntary - Received Compensation",
          "Voluntary - Received Compensation",
          "Voluntary - Received Compensation",
          "Voluntary - Received Compensation"
         ],
         "legendgroup": "",
         "name": "PSA Airlines",
         "showlegend": true,
         "type": "pie",
         "values": [
          16,
          20,
          24,
          75,
          76,
          120,
          159,
          89,
          86,
          39,
          72,
          6,
          8,
          71,
          75,
          87,
          6,
          12,
          18,
          138,
          191,
          367,
          180,
          370,
          118,
          0,
          1,
          13,
          0,
          44,
          94,
          75,
          2416,
          2554,
          2006,
          2356,
          3166,
          4264,
          3027,
          2683,
          1291,
          226,
          625,
          360,
          599,
          1342,
          1830,
          1616
         ],
         "visible": false
        },
        {
         "domain": {
          "x": [
           0,
           1
          ],
          "y": [
           0,
           1
          ]
         },
         "hovertemplate": "Denial Type=%{label}<br>Total Passengers=%{value}<extra></extra>",
         "labels": [
          "Involuntary - Received Compensation",
          "Involuntary - Received Compensation",
          "Involuntary - Received Compensation",
          "Involuntary - Received Compensation",
          "Involuntary - Received Compensation",
          "Involuntary - Received Compensation",
          "Involuntary - Received Compensation",
          "Involuntary - Received Compensation",
          "Involuntary - Received Compensation",
          "Involuntary - Received Compensation",
          "Involuntary - Received Compensation",
          "Involuntary - Received Compensation",
          "Involuntary - Received Compensation",
          "Involuntary - Received Compensation",
          "Involuntary - Received Compensation",
          "Involuntary - Received Compensation",
          "Involuntary - No Compensation",
          "Involuntary - No Compensation",
          "Involuntary - No Compensation",
          "Involuntary - No Compensation",
          "Involuntary - No Compensation",
          "Involuntary - No Compensation",
          "Involuntary - No Compensation",
          "Involuntary - No Compensation",
          "Involuntary - No Compensation",
          "Involuntary - No Compensation",
          "Involuntary - No Compensation",
          "Involuntary - No Compensation",
          "Involuntary - No Compensation",
          "Involuntary - No Compensation",
          "Involuntary - No Compensation",
          "Involuntary - No Compensation",
          "Voluntary - Received Compensation",
          "Voluntary - Received Compensation",
          "Voluntary - Received Compensation",
          "Voluntary - Received Compensation",
          "Voluntary - Received Compensation",
          "Voluntary - Received Compensation",
          "Voluntary - Received Compensation",
          "Voluntary - Received Compensation",
          "Voluntary - Received Compensation",
          "Voluntary - Received Compensation",
          "Voluntary - Received Compensation",
          "Voluntary - Received Compensation",
          "Voluntary - Received Compensation",
          "Voluntary - Received Compensation",
          "Voluntary - Received Compensation",
          "Voluntary - Received Compensation"
         ],
         "legendgroup": "",
         "name": "Republic Airline",
         "showlegend": true,
         "type": "pie",
         "values": [
          24,
          18,
          29,
          89,
          68,
          123,
          110,
          78,
          58,
          19,
          49,
          3,
          31,
          87,
          112,
          100,
          8,
          12,
          2,
          14,
          12,
          39,
          109,
          42,
          27,
          2,
          13,
          18,
          0,
          24,
          66,
          1,
          2613,
          3876,
          4954,
          4275,
          3713,
          6321,
          5378,
          3532,
          1101,
          81,
          303,
          217,
          766,
          2855,
          5164,
          2303
         ],
         "visible": false
        },
        {
         "domain": {
          "x": [
           0,
           1
          ],
          "y": [
           0,
           1
          ]
         },
         "hovertemplate": "Denial Type=%{label}<br>Total Passengers=%{value}<extra></extra>",
         "labels": [
          "Involuntary - Received Compensation",
          "Involuntary - Received Compensation",
          "Involuntary - Received Compensation",
          "Involuntary - Received Compensation",
          "Involuntary - Received Compensation",
          "Involuntary - Received Compensation",
          "Involuntary - Received Compensation",
          "Involuntary - Received Compensation",
          "Involuntary - Received Compensation",
          "Involuntary - Received Compensation",
          "Involuntary - Received Compensation",
          "Involuntary - Received Compensation",
          "Involuntary - Received Compensation",
          "Involuntary - Received Compensation",
          "Involuntary - Received Compensation",
          "Involuntary - Received Compensation",
          "Involuntary - No Compensation",
          "Involuntary - No Compensation",
          "Involuntary - No Compensation",
          "Involuntary - No Compensation",
          "Involuntary - No Compensation",
          "Involuntary - No Compensation",
          "Involuntary - No Compensation",
          "Involuntary - No Compensation",
          "Involuntary - No Compensation",
          "Involuntary - No Compensation",
          "Involuntary - No Compensation",
          "Involuntary - No Compensation",
          "Involuntary - No Compensation",
          "Involuntary - No Compensation",
          "Involuntary - No Compensation",
          "Involuntary - No Compensation",
          "Voluntary - Received Compensation",
          "Voluntary - Received Compensation",
          "Voluntary - Received Compensation",
          "Voluntary - Received Compensation",
          "Voluntary - Received Compensation",
          "Voluntary - Received Compensation",
          "Voluntary - Received Compensation",
          "Voluntary - Received Compensation",
          "Voluntary - Received Compensation",
          "Voluntary - Received Compensation",
          "Voluntary - Received Compensation",
          "Voluntary - Received Compensation",
          "Voluntary - Received Compensation",
          "Voluntary - Received Compensation",
          "Voluntary - Received Compensation",
          "Voluntary - Received Compensation"
         ],
         "legendgroup": "",
         "name": "SkyWest Airlines",
         "showlegend": true,
         "type": "pie",
         "values": [
          29,
          112,
          70,
          56,
          82,
          85,
          65,
          40,
          59,
          32,
          31,
          5,
          26,
          84,
          31,
          128,
          59,
          94,
          25,
          104,
          151,
          128,
          138,
          76,
          152,
          4,
          2,
          0,
          0,
          2,
          6,
          32,
          7816,
          7413,
          7264,
          5977,
          7163,
          17228,
          14794,
          13524,
          9991,
          464,
          1069,
          720,
          2295,
          3592,
          6743,
          9595
         ],
         "visible": false
        },
        {
         "domain": {
          "x": [
           0,
           1
          ],
          "y": [
           0,
           1
          ]
         },
         "hovertemplate": "Denial Type=%{label}<br>Total Passengers=%{value}<extra></extra>",
         "labels": [
          "Involuntary - Received Compensation",
          "Involuntary - Received Compensation",
          "Involuntary - Received Compensation",
          "Involuntary - Received Compensation",
          "Involuntary - Received Compensation",
          "Involuntary - Received Compensation",
          "Involuntary - Received Compensation",
          "Involuntary - Received Compensation",
          "Involuntary - Received Compensation",
          "Involuntary - Received Compensation",
          "Involuntary - Received Compensation",
          "Involuntary - Received Compensation",
          "Involuntary - Received Compensation",
          "Involuntary - Received Compensation",
          "Involuntary - Received Compensation",
          "Involuntary - Received Compensation",
          "Involuntary - No Compensation",
          "Involuntary - No Compensation",
          "Involuntary - No Compensation",
          "Involuntary - No Compensation",
          "Involuntary - No Compensation",
          "Involuntary - No Compensation",
          "Involuntary - No Compensation",
          "Involuntary - No Compensation",
          "Involuntary - No Compensation",
          "Involuntary - No Compensation",
          "Involuntary - No Compensation",
          "Involuntary - No Compensation",
          "Involuntary - No Compensation",
          "Involuntary - No Compensation",
          "Involuntary - No Compensation",
          "Involuntary - No Compensation",
          "Voluntary - Received Compensation",
          "Voluntary - Received Compensation",
          "Voluntary - Received Compensation",
          "Voluntary - Received Compensation",
          "Voluntary - Received Compensation",
          "Voluntary - Received Compensation",
          "Voluntary - Received Compensation",
          "Voluntary - Received Compensation",
          "Voluntary - Received Compensation",
          "Voluntary - Received Compensation",
          "Voluntary - Received Compensation",
          "Voluntary - Received Compensation",
          "Voluntary - Received Compensation",
          "Voluntary - Received Compensation",
          "Voluntary - Received Compensation",
          "Voluntary - Received Compensation"
         ],
         "legendgroup": "",
         "name": "Southwest Airlines",
         "showlegend": true,
         "type": "pie",
         "values": [
          669,
          376,
          967,
          411,
          1594,
          931,
          314,
          269,
          112,
          110,
          148,
          28,
          192,
          1314,
          1207,
          1304,
          0,
          0,
          0,
          0,
          0,
          0,
          0,
          0,
          0,
          0,
          0,
          0,
          0,
          0,
          0,
          0,
          4325,
          6039,
          6570,
          4688,
          9996,
          12368,
          4806,
          4339,
          2355,
          1108,
          937,
          487,
          1439,
          9008,
          10242,
          9649
         ],
         "visible": false
        },
        {
         "domain": {
          "x": [
           0,
           1
          ],
          "y": [
           0,
           1
          ]
         },
         "hovertemplate": "Denial Type=%{label}<br>Total Passengers=%{value}<extra></extra>",
         "labels": [
          "Involuntary - Received Compensation",
          "Involuntary - Received Compensation",
          "Involuntary - Received Compensation",
          "Involuntary - Received Compensation",
          "Involuntary - Received Compensation",
          "Involuntary - Received Compensation",
          "Involuntary - Received Compensation",
          "Involuntary - Received Compensation",
          "Involuntary - Received Compensation",
          "Involuntary - Received Compensation",
          "Involuntary - Received Compensation",
          "Involuntary - Received Compensation",
          "Involuntary - Received Compensation",
          "Involuntary - Received Compensation",
          "Involuntary - Received Compensation",
          "Involuntary - Received Compensation",
          "Involuntary - No Compensation",
          "Involuntary - No Compensation",
          "Involuntary - No Compensation",
          "Involuntary - No Compensation",
          "Involuntary - No Compensation",
          "Involuntary - No Compensation",
          "Involuntary - No Compensation",
          "Involuntary - No Compensation",
          "Involuntary - No Compensation",
          "Involuntary - No Compensation",
          "Involuntary - No Compensation",
          "Involuntary - No Compensation",
          "Involuntary - No Compensation",
          "Involuntary - No Compensation",
          "Involuntary - No Compensation",
          "Involuntary - No Compensation",
          "Voluntary - Received Compensation",
          "Voluntary - Received Compensation",
          "Voluntary - Received Compensation",
          "Voluntary - Received Compensation",
          "Voluntary - Received Compensation",
          "Voluntary - Received Compensation",
          "Voluntary - Received Compensation",
          "Voluntary - Received Compensation",
          "Voluntary - Received Compensation",
          "Voluntary - Received Compensation",
          "Voluntary - Received Compensation",
          "Voluntary - Received Compensation",
          "Voluntary - Received Compensation",
          "Voluntary - Received Compensation",
          "Voluntary - Received Compensation",
          "Voluntary - Received Compensation"
         ],
         "legendgroup": "",
         "name": "Spirit Airlines",
         "showlegend": true,
         "type": "pie",
         "values": [
          745,
          413,
          163,
          43,
          26,
          144,
          43,
          91,
          28,
          2,
          0,
          12,
          35,
          30,
          50,
          89,
          129,
          35,
          1,
          0,
          20,
          5,
          21,
          30,
          36,
          0,
          0,
          87,
          76,
          55,
          34,
          5,
          5477,
          4852,
          5718,
          5417,
          6768,
          5642,
          4656,
          5575,
          3585,
          80,
          227,
          685,
          1683,
          3131,
          1766,
          1853
         ],
         "visible": false
        },
        {
         "domain": {
          "x": [
           0,
           1
          ],
          "y": [
           0,
           1
          ]
         },
         "hovertemplate": "Denial Type=%{label}<br>Total Passengers=%{value}<extra></extra>",
         "labels": [
          "Involuntary - Received Compensation",
          "Involuntary - Received Compensation",
          "Involuntary - Received Compensation",
          "Involuntary - Received Compensation",
          "Involuntary - Received Compensation",
          "Involuntary - Received Compensation",
          "Involuntary - Received Compensation",
          "Involuntary - Received Compensation",
          "Involuntary - Received Compensation",
          "Involuntary - Received Compensation",
          "Involuntary - Received Compensation",
          "Involuntary - Received Compensation",
          "Involuntary - Received Compensation",
          "Involuntary - Received Compensation",
          "Involuntary - Received Compensation",
          "Involuntary - Received Compensation",
          "Involuntary - No Compensation",
          "Involuntary - No Compensation",
          "Involuntary - No Compensation",
          "Involuntary - No Compensation",
          "Involuntary - No Compensation",
          "Involuntary - No Compensation",
          "Involuntary - No Compensation",
          "Involuntary - No Compensation",
          "Involuntary - No Compensation",
          "Involuntary - No Compensation",
          "Involuntary - No Compensation",
          "Involuntary - No Compensation",
          "Involuntary - No Compensation",
          "Involuntary - No Compensation",
          "Involuntary - No Compensation",
          "Involuntary - No Compensation",
          "Voluntary - Received Compensation",
          "Voluntary - Received Compensation",
          "Voluntary - Received Compensation",
          "Voluntary - Received Compensation",
          "Voluntary - Received Compensation",
          "Voluntary - Received Compensation",
          "Voluntary - Received Compensation",
          "Voluntary - Received Compensation",
          "Voluntary - Received Compensation",
          "Voluntary - Received Compensation",
          "Voluntary - Received Compensation",
          "Voluntary - Received Compensation",
          "Voluntary - Received Compensation",
          "Voluntary - Received Compensation",
          "Voluntary - Received Compensation",
          "Voluntary - Received Compensation"
         ],
         "legendgroup": "",
         "name": "United Air Lines",
         "showlegend": true,
         "type": "pie",
         "values": [
          11,
          8,
          15,
          8,
          7,
          7,
          5,
          10,
          0,
          0,
          8,
          5,
          0,
          1,
          6,
          12,
          16,
          9,
          11,
          15,
          10,
          21,
          2,
          3,
          7,
          0,
          0,
          0,
          0,
          4,
          0,
          4,
          8214,
          8615,
          11339,
          7556,
          8856,
          11394,
          9110,
          5668,
          2842,
          8,
          76,
          289,
          591,
          1341,
          2864,
          2609
         ],
         "visible": false
        },
        {
         "domain": {
          "x": [
           0,
           1
          ],
          "y": [
           0,
           1
          ]
         },
         "hovertemplate": "Denial Type=%{label}<br>Total Passengers=%{value}<extra></extra>",
         "labels": [
          "Involuntary - Received Compensation",
          "Involuntary - No Compensation",
          "Voluntary - Received Compensation"
         ],
         "legendgroup": "",
         "name": "Virgin America ",
         "showlegend": true,
         "type": "pie",
         "values": [
          18,
          4,
          89
         ],
         "visible": false
        },
        {
         "domain": {
          "x": [
           0,
           1
          ],
          "y": [
           0,
           1
          ]
         },
         "hovertemplate": "Denial Type=%{label}<br>Total Passengers=%{value}<extra></extra>",
         "labels": [
          "Involuntary - Received Compensation",
          "Involuntary - Received Compensation",
          "Involuntary - Received Compensation",
          "Involuntary - Received Compensation",
          "Involuntary - No Compensation",
          "Involuntary - No Compensation",
          "Involuntary - No Compensation",
          "Involuntary - No Compensation",
          "Voluntary - Received Compensation",
          "Voluntary - Received Compensation",
          "Voluntary - Received Compensation",
          "Voluntary - Received Compensation"
         ],
         "legendgroup": "",
         "name": "Horizon Air",
         "showlegend": true,
         "type": "pie",
         "values": [
          15,
          57,
          50,
          38,
          0,
          0,
          0,
          0,
          126,
          706,
          459,
          558
         ],
         "visible": false
        }
       ],
       "layout": {
        "legend": {
         "tracegroupgap": 0
        },
        "margin": {
         "t": 60
        },
        "piecolorway": [
         "#2E91E5",
         "#E15F99",
         "#1CA71C",
         "#FB0D0D",
         "#DA16FF",
         "#222A2A",
         "#B68100",
         "#750D86",
         "#EB663B",
         "#511CFB",
         "#00A08B",
         "#FB00D1",
         "#FC0080",
         "#B2828D",
         "#6C7C32",
         "#778AAE",
         "#862A16",
         "#A777F1",
         "#620042",
         "#1616A7",
         "#DA60CA",
         "#6C4516",
         "#0D2A63",
         "#AF0038"
        ],
        "template": {
         "data": {
          "bar": [
           {
            "error_x": {
             "color": "#2a3f5f"
            },
            "error_y": {
             "color": "#2a3f5f"
            },
            "marker": {
             "line": {
              "color": "#E5ECF6",
              "width": 0.5
             },
             "pattern": {
              "fillmode": "overlay",
              "size": 10,
              "solidity": 0.2
             }
            },
            "type": "bar"
           }
          ],
          "barpolar": [
           {
            "marker": {
             "line": {
              "color": "#E5ECF6",
              "width": 0.5
             },
             "pattern": {
              "fillmode": "overlay",
              "size": 10,
              "solidity": 0.2
             }
            },
            "type": "barpolar"
           }
          ],
          "carpet": [
           {
            "aaxis": {
             "endlinecolor": "#2a3f5f",
             "gridcolor": "white",
             "linecolor": "white",
             "minorgridcolor": "white",
             "startlinecolor": "#2a3f5f"
            },
            "baxis": {
             "endlinecolor": "#2a3f5f",
             "gridcolor": "white",
             "linecolor": "white",
             "minorgridcolor": "white",
             "startlinecolor": "#2a3f5f"
            },
            "type": "carpet"
           }
          ],
          "choropleth": [
           {
            "colorbar": {
             "outlinewidth": 0,
             "ticks": ""
            },
            "type": "choropleth"
           }
          ],
          "contour": [
           {
            "colorbar": {
             "outlinewidth": 0,
             "ticks": ""
            },
            "colorscale": [
             [
              0,
              "#0d0887"
             ],
             [
              0.1111111111111111,
              "#46039f"
             ],
             [
              0.2222222222222222,
              "#7201a8"
             ],
             [
              0.3333333333333333,
              "#9c179e"
             ],
             [
              0.4444444444444444,
              "#bd3786"
             ],
             [
              0.5555555555555556,
              "#d8576b"
             ],
             [
              0.6666666666666666,
              "#ed7953"
             ],
             [
              0.7777777777777778,
              "#fb9f3a"
             ],
             [
              0.8888888888888888,
              "#fdca26"
             ],
             [
              1,
              "#f0f921"
             ]
            ],
            "type": "contour"
           }
          ],
          "contourcarpet": [
           {
            "colorbar": {
             "outlinewidth": 0,
             "ticks": ""
            },
            "type": "contourcarpet"
           }
          ],
          "heatmap": [
           {
            "colorbar": {
             "outlinewidth": 0,
             "ticks": ""
            },
            "colorscale": [
             [
              0,
              "#0d0887"
             ],
             [
              0.1111111111111111,
              "#46039f"
             ],
             [
              0.2222222222222222,
              "#7201a8"
             ],
             [
              0.3333333333333333,
              "#9c179e"
             ],
             [
              0.4444444444444444,
              "#bd3786"
             ],
             [
              0.5555555555555556,
              "#d8576b"
             ],
             [
              0.6666666666666666,
              "#ed7953"
             ],
             [
              0.7777777777777778,
              "#fb9f3a"
             ],
             [
              0.8888888888888888,
              "#fdca26"
             ],
             [
              1,
              "#f0f921"
             ]
            ],
            "type": "heatmap"
           }
          ],
          "heatmapgl": [
           {
            "colorbar": {
             "outlinewidth": 0,
             "ticks": ""
            },
            "colorscale": [
             [
              0,
              "#0d0887"
             ],
             [
              0.1111111111111111,
              "#46039f"
             ],
             [
              0.2222222222222222,
              "#7201a8"
             ],
             [
              0.3333333333333333,
              "#9c179e"
             ],
             [
              0.4444444444444444,
              "#bd3786"
             ],
             [
              0.5555555555555556,
              "#d8576b"
             ],
             [
              0.6666666666666666,
              "#ed7953"
             ],
             [
              0.7777777777777778,
              "#fb9f3a"
             ],
             [
              0.8888888888888888,
              "#fdca26"
             ],
             [
              1,
              "#f0f921"
             ]
            ],
            "type": "heatmapgl"
           }
          ],
          "histogram": [
           {
            "marker": {
             "pattern": {
              "fillmode": "overlay",
              "size": 10,
              "solidity": 0.2
             }
            },
            "type": "histogram"
           }
          ],
          "histogram2d": [
           {
            "colorbar": {
             "outlinewidth": 0,
             "ticks": ""
            },
            "colorscale": [
             [
              0,
              "#0d0887"
             ],
             [
              0.1111111111111111,
              "#46039f"
             ],
             [
              0.2222222222222222,
              "#7201a8"
             ],
             [
              0.3333333333333333,
              "#9c179e"
             ],
             [
              0.4444444444444444,
              "#bd3786"
             ],
             [
              0.5555555555555556,
              "#d8576b"
             ],
             [
              0.6666666666666666,
              "#ed7953"
             ],
             [
              0.7777777777777778,
              "#fb9f3a"
             ],
             [
              0.8888888888888888,
              "#fdca26"
             ],
             [
              1,
              "#f0f921"
             ]
            ],
            "type": "histogram2d"
           }
          ],
          "histogram2dcontour": [
           {
            "colorbar": {
             "outlinewidth": 0,
             "ticks": ""
            },
            "colorscale": [
             [
              0,
              "#0d0887"
             ],
             [
              0.1111111111111111,
              "#46039f"
             ],
             [
              0.2222222222222222,
              "#7201a8"
             ],
             [
              0.3333333333333333,
              "#9c179e"
             ],
             [
              0.4444444444444444,
              "#bd3786"
             ],
             [
              0.5555555555555556,
              "#d8576b"
             ],
             [
              0.6666666666666666,
              "#ed7953"
             ],
             [
              0.7777777777777778,
              "#fb9f3a"
             ],
             [
              0.8888888888888888,
              "#fdca26"
             ],
             [
              1,
              "#f0f921"
             ]
            ],
            "type": "histogram2dcontour"
           }
          ],
          "mesh3d": [
           {
            "colorbar": {
             "outlinewidth": 0,
             "ticks": ""
            },
            "type": "mesh3d"
           }
          ],
          "parcoords": [
           {
            "line": {
             "colorbar": {
              "outlinewidth": 0,
              "ticks": ""
             }
            },
            "type": "parcoords"
           }
          ],
          "pie": [
           {
            "automargin": true,
            "type": "pie"
           }
          ],
          "scatter": [
           {
            "fillpattern": {
             "fillmode": "overlay",
             "size": 10,
             "solidity": 0.2
            },
            "type": "scatter"
           }
          ],
          "scatter3d": [
           {
            "line": {
             "colorbar": {
              "outlinewidth": 0,
              "ticks": ""
             }
            },
            "marker": {
             "colorbar": {
              "outlinewidth": 0,
              "ticks": ""
             }
            },
            "type": "scatter3d"
           }
          ],
          "scattercarpet": [
           {
            "marker": {
             "colorbar": {
              "outlinewidth": 0,
              "ticks": ""
             }
            },
            "type": "scattercarpet"
           }
          ],
          "scattergeo": [
           {
            "marker": {
             "colorbar": {
              "outlinewidth": 0,
              "ticks": ""
             }
            },
            "type": "scattergeo"
           }
          ],
          "scattergl": [
           {
            "marker": {
             "colorbar": {
              "outlinewidth": 0,
              "ticks": ""
             }
            },
            "type": "scattergl"
           }
          ],
          "scattermapbox": [
           {
            "marker": {
             "colorbar": {
              "outlinewidth": 0,
              "ticks": ""
             }
            },
            "type": "scattermapbox"
           }
          ],
          "scatterpolar": [
           {
            "marker": {
             "colorbar": {
              "outlinewidth": 0,
              "ticks": ""
             }
            },
            "type": "scatterpolar"
           }
          ],
          "scatterpolargl": [
           {
            "marker": {
             "colorbar": {
              "outlinewidth": 0,
              "ticks": ""
             }
            },
            "type": "scatterpolargl"
           }
          ],
          "scatterternary": [
           {
            "marker": {
             "colorbar": {
              "outlinewidth": 0,
              "ticks": ""
             }
            },
            "type": "scatterternary"
           }
          ],
          "surface": [
           {
            "colorbar": {
             "outlinewidth": 0,
             "ticks": ""
            },
            "colorscale": [
             [
              0,
              "#0d0887"
             ],
             [
              0.1111111111111111,
              "#46039f"
             ],
             [
              0.2222222222222222,
              "#7201a8"
             ],
             [
              0.3333333333333333,
              "#9c179e"
             ],
             [
              0.4444444444444444,
              "#bd3786"
             ],
             [
              0.5555555555555556,
              "#d8576b"
             ],
             [
              0.6666666666666666,
              "#ed7953"
             ],
             [
              0.7777777777777778,
              "#fb9f3a"
             ],
             [
              0.8888888888888888,
              "#fdca26"
             ],
             [
              1,
              "#f0f921"
             ]
            ],
            "type": "surface"
           }
          ],
          "table": [
           {
            "cells": {
             "fill": {
              "color": "#EBF0F8"
             },
             "line": {
              "color": "white"
             }
            },
            "header": {
             "fill": {
              "color": "#C8D4E3"
             },
             "line": {
              "color": "white"
             }
            },
            "type": "table"
           }
          ]
         },
         "layout": {
          "annotationdefaults": {
           "arrowcolor": "#2a3f5f",
           "arrowhead": 0,
           "arrowwidth": 1
          },
          "autotypenumbers": "strict",
          "coloraxis": {
           "colorbar": {
            "outlinewidth": 0,
            "ticks": ""
           }
          },
          "colorscale": {
           "diverging": [
            [
             0,
             "#8e0152"
            ],
            [
             0.1,
             "#c51b7d"
            ],
            [
             0.2,
             "#de77ae"
            ],
            [
             0.3,
             "#f1b6da"
            ],
            [
             0.4,
             "#fde0ef"
            ],
            [
             0.5,
             "#f7f7f7"
            ],
            [
             0.6,
             "#e6f5d0"
            ],
            [
             0.7,
             "#b8e186"
            ],
            [
             0.8,
             "#7fbc41"
            ],
            [
             0.9,
             "#4d9221"
            ],
            [
             1,
             "#276419"
            ]
           ],
           "sequential": [
            [
             0,
             "#0d0887"
            ],
            [
             0.1111111111111111,
             "#46039f"
            ],
            [
             0.2222222222222222,
             "#7201a8"
            ],
            [
             0.3333333333333333,
             "#9c179e"
            ],
            [
             0.4444444444444444,
             "#bd3786"
            ],
            [
             0.5555555555555556,
             "#d8576b"
            ],
            [
             0.6666666666666666,
             "#ed7953"
            ],
            [
             0.7777777777777778,
             "#fb9f3a"
            ],
            [
             0.8888888888888888,
             "#fdca26"
            ],
            [
             1,
             "#f0f921"
            ]
           ],
           "sequentialminus": [
            [
             0,
             "#0d0887"
            ],
            [
             0.1111111111111111,
             "#46039f"
            ],
            [
             0.2222222222222222,
             "#7201a8"
            ],
            [
             0.3333333333333333,
             "#9c179e"
            ],
            [
             0.4444444444444444,
             "#bd3786"
            ],
            [
             0.5555555555555556,
             "#d8576b"
            ],
            [
             0.6666666666666666,
             "#ed7953"
            ],
            [
             0.7777777777777778,
             "#fb9f3a"
            ],
            [
             0.8888888888888888,
             "#fdca26"
            ],
            [
             1,
             "#f0f921"
            ]
           ]
          },
          "colorway": [
           "#636efa",
           "#EF553B",
           "#00cc96",
           "#ab63fa",
           "#FFA15A",
           "#19d3f3",
           "#FF6692",
           "#B6E880",
           "#FF97FF",
           "#FECB52"
          ],
          "font": {
           "color": "#2a3f5f"
          },
          "geo": {
           "bgcolor": "white",
           "lakecolor": "white",
           "landcolor": "#E5ECF6",
           "showlakes": true,
           "showland": true,
           "subunitcolor": "white"
          },
          "hoverlabel": {
           "align": "left"
          },
          "hovermode": "closest",
          "mapbox": {
           "style": "light"
          },
          "paper_bgcolor": "white",
          "plot_bgcolor": "#E5ECF6",
          "polar": {
           "angularaxis": {
            "gridcolor": "white",
            "linecolor": "white",
            "ticks": ""
           },
           "bgcolor": "#E5ECF6",
           "radialaxis": {
            "gridcolor": "white",
            "linecolor": "white",
            "ticks": ""
           }
          },
          "scene": {
           "xaxis": {
            "backgroundcolor": "#E5ECF6",
            "gridcolor": "white",
            "gridwidth": 2,
            "linecolor": "white",
            "showbackground": true,
            "ticks": "",
            "zerolinecolor": "white"
           },
           "yaxis": {
            "backgroundcolor": "#E5ECF6",
            "gridcolor": "white",
            "gridwidth": 2,
            "linecolor": "white",
            "showbackground": true,
            "ticks": "",
            "zerolinecolor": "white"
           },
           "zaxis": {
            "backgroundcolor": "#E5ECF6",
            "gridcolor": "white",
            "gridwidth": 2,
            "linecolor": "white",
            "showbackground": true,
            "ticks": "",
            "zerolinecolor": "white"
           }
          },
          "shapedefaults": {
           "line": {
            "color": "#2a3f5f"
           }
          },
          "ternary": {
           "aaxis": {
            "gridcolor": "white",
            "linecolor": "white",
            "ticks": ""
           },
           "baxis": {
            "gridcolor": "white",
            "linecolor": "white",
            "ticks": ""
           },
           "bgcolor": "#E5ECF6",
           "caxis": {
            "gridcolor": "white",
            "linecolor": "white",
            "ticks": ""
           }
          },
          "title": {
           "x": 0.05
          },
          "xaxis": {
           "automargin": true,
           "gridcolor": "white",
           "linecolor": "white",
           "ticks": "",
           "title": {
            "standoff": 15
           },
           "zerolinecolor": "white",
           "zerolinewidth": 2
          },
          "yaxis": {
           "automargin": true,
           "gridcolor": "white",
           "linecolor": "white",
           "ticks": "",
           "title": {
            "standoff": 15
           },
           "zerolinecolor": "white",
           "zerolinewidth": 2
          }
         }
        }
       }
      }
     },
     "metadata": {},
     "output_type": "display_data"
    }
   ],
   "source": [
    "figs = {c: px.pie(denied_boarding_reshape.loc[c].reset_index(), values=\"value\", names=\"variable\",\n",
    "                  labels = {\n",
    "                     'value':'Total Passengers', \n",
    "                     'variable':'Denial Type'\n",
    "                 },\n",
    "            color_discrete_sequence=px.colors.qualitative.Dark24).update_traces(\n",
    "            name=c, visible=False,\n",
    "        )\n",
    "        for c in denied_boarding_reshape.index.get_level_values(\"CARRIER\").unique()\n",
    "    }\n",
    "\n",
    "defaultcat = denied_boarding_reshape.index.get_level_values(\"CARRIER\").unique()[0]\n",
    "fig = figs[defaultcat].update_traces(visible=True)\n",
    "for k in figs.keys():\n",
    "    if k != defaultcat:\n",
    "        fig.add_traces(figs[k].data)\n",
    "\n",
    "fig.show()"
   ]
  },
  {
   "attachments": {},
   "cell_type": "markdown",
   "metadata": {},
   "source": [
    "In order to add a drop down menu, we will use the update_layout() function in plotly express to create a button with all the different values for carrier. The resulting figure will have a dropdown menu where a user can select the carrier they are interested in and plotly will return the figure associated with that airline. \n"
   ]
  },
  {
   "cell_type": "code",
   "execution_count": 30,
   "metadata": {},
   "outputs": [
    {
     "data": {
      "application/vnd.plotly.v1+json": {
       "config": {
        "plotlyServerURL": "https://plot.ly"
       },
       "data": [
        {
         "domain": {
          "x": [
           0,
           1
          ],
          "y": [
           0,
           1
          ]
         },
         "hovertemplate": "Denial Type=%{label}<br>Total Passengers=%{value}<extra></extra>",
         "labels": [
          "Involuntary - Received Compensation",
          "Involuntary - Received Compensation",
          "Involuntary - Received Compensation",
          "Involuntary - Received Compensation",
          "Involuntary - Received Compensation",
          "Involuntary - Received Compensation",
          "Involuntary - Received Compensation",
          "Involuntary - Received Compensation",
          "Involuntary - Received Compensation",
          "Involuntary - Received Compensation",
          "Involuntary - Received Compensation",
          "Involuntary - Received Compensation",
          "Involuntary - Received Compensation",
          "Involuntary - Received Compensation",
          "Involuntary - Received Compensation",
          "Involuntary - Received Compensation",
          "Involuntary - No Compensation",
          "Involuntary - No Compensation",
          "Involuntary - No Compensation",
          "Involuntary - No Compensation",
          "Involuntary - No Compensation",
          "Involuntary - No Compensation",
          "Involuntary - No Compensation",
          "Involuntary - No Compensation",
          "Involuntary - No Compensation",
          "Involuntary - No Compensation",
          "Involuntary - No Compensation",
          "Involuntary - No Compensation",
          "Involuntary - No Compensation",
          "Involuntary - No Compensation",
          "Involuntary - No Compensation",
          "Involuntary - No Compensation",
          "Voluntary - Received Compensation",
          "Voluntary - Received Compensation",
          "Voluntary - Received Compensation",
          "Voluntary - Received Compensation",
          "Voluntary - Received Compensation",
          "Voluntary - Received Compensation",
          "Voluntary - Received Compensation",
          "Voluntary - Received Compensation",
          "Voluntary - Received Compensation",
          "Voluntary - Received Compensation",
          "Voluntary - Received Compensation",
          "Voluntary - Received Compensation",
          "Voluntary - Received Compensation",
          "Voluntary - Received Compensation",
          "Voluntary - Received Compensation",
          "Voluntary - Received Compensation"
         ],
         "legendgroup": "",
         "name": "Alaska Airlines",
         "showlegend": true,
         "type": "pie",
         "values": [
          99,
          237,
          121,
          56,
          107,
          107,
          65,
          60,
          24,
          0,
          0,
          0,
          1,
          16,
          17,
          37,
          21,
          89,
          71,
          49,
          51,
          48,
          27,
          48,
          6,
          0,
          0,
          0,
          1,
          17,
          15,
          14,
          1206,
          2795,
          2494,
          2226,
          2498,
          3188,
          2730,
          3147,
          1515,
          43,
          0,
          0,
          117,
          915,
          1059,
          2386
         ],
         "visible": true
        },
        {
         "domain": {
          "x": [
           0,
           1
          ],
          "y": [
           0,
           1
          ]
         },
         "hovertemplate": "Denial Type=%{label}<br>Total Passengers=%{value}<extra></extra>",
         "labels": [
          "Involuntary - Received Compensation",
          "Involuntary - Received Compensation",
          "Involuntary - Received Compensation",
          "Involuntary - Received Compensation",
          "Involuntary - Received Compensation",
          "Involuntary - Received Compensation",
          "Involuntary - Received Compensation",
          "Involuntary - Received Compensation",
          "Involuntary - Received Compensation",
          "Involuntary - Received Compensation",
          "Involuntary - Received Compensation",
          "Involuntary - Received Compensation",
          "Involuntary - Received Compensation",
          "Involuntary - Received Compensation",
          "Involuntary - Received Compensation",
          "Involuntary - Received Compensation",
          "Involuntary - No Compensation",
          "Involuntary - No Compensation",
          "Involuntary - No Compensation",
          "Involuntary - No Compensation",
          "Involuntary - No Compensation",
          "Involuntary - No Compensation",
          "Involuntary - No Compensation",
          "Involuntary - No Compensation",
          "Involuntary - No Compensation",
          "Involuntary - No Compensation",
          "Involuntary - No Compensation",
          "Involuntary - No Compensation",
          "Involuntary - No Compensation",
          "Involuntary - No Compensation",
          "Involuntary - No Compensation",
          "Involuntary - No Compensation",
          "Voluntary - Received Compensation",
          "Voluntary - Received Compensation",
          "Voluntary - Received Compensation",
          "Voluntary - Received Compensation",
          "Voluntary - Received Compensation",
          "Voluntary - Received Compensation",
          "Voluntary - Received Compensation",
          "Voluntary - Received Compensation",
          "Voluntary - Received Compensation",
          "Voluntary - Received Compensation",
          "Voluntary - Received Compensation",
          "Voluntary - Received Compensation",
          "Voluntary - Received Compensation",
          "Voluntary - Received Compensation",
          "Voluntary - Received Compensation",
          "Voluntary - Received Compensation"
         ],
         "legendgroup": "",
         "name": "Allegiant Airlines",
         "showlegend": true,
         "type": "pie",
         "values": [
          0,
          0,
          0,
          0,
          0,
          0,
          0,
          0,
          0,
          0,
          0,
          0,
          0,
          0,
          0,
          0,
          58,
          0,
          78,
          66,
          510,
          123,
          2,
          2,
          0,
          0,
          0,
          0,
          0,
          0,
          0,
          0,
          0,
          216,
          141,
          46,
          34,
          25,
          135,
          347,
          272,
          15,
          11,
          6,
          3,
          203,
          519,
          431
         ],
         "visible": false
        },
        {
         "domain": {
          "x": [
           0,
           1
          ],
          "y": [
           0,
           1
          ]
         },
         "hovertemplate": "Denial Type=%{label}<br>Total Passengers=%{value}<extra></extra>",
         "labels": [
          "Involuntary - Received Compensation",
          "Involuntary - Received Compensation",
          "Involuntary - Received Compensation",
          "Involuntary - Received Compensation",
          "Involuntary - Received Compensation",
          "Involuntary - Received Compensation",
          "Involuntary - Received Compensation",
          "Involuntary - Received Compensation",
          "Involuntary - Received Compensation",
          "Involuntary - Received Compensation",
          "Involuntary - Received Compensation",
          "Involuntary - Received Compensation",
          "Involuntary - Received Compensation",
          "Involuntary - Received Compensation",
          "Involuntary - Received Compensation",
          "Involuntary - Received Compensation",
          "Involuntary - No Compensation",
          "Involuntary - No Compensation",
          "Involuntary - No Compensation",
          "Involuntary - No Compensation",
          "Involuntary - No Compensation",
          "Involuntary - No Compensation",
          "Involuntary - No Compensation",
          "Involuntary - No Compensation",
          "Involuntary - No Compensation",
          "Involuntary - No Compensation",
          "Involuntary - No Compensation",
          "Involuntary - No Compensation",
          "Involuntary - No Compensation",
          "Involuntary - No Compensation",
          "Involuntary - No Compensation",
          "Involuntary - No Compensation",
          "Voluntary - Received Compensation",
          "Voluntary - Received Compensation",
          "Voluntary - Received Compensation",
          "Voluntary - Received Compensation",
          "Voluntary - Received Compensation",
          "Voluntary - Received Compensation",
          "Voluntary - Received Compensation",
          "Voluntary - Received Compensation",
          "Voluntary - Received Compensation",
          "Voluntary - Received Compensation",
          "Voluntary - Received Compensation",
          "Voluntary - Received Compensation",
          "Voluntary - Received Compensation",
          "Voluntary - Received Compensation",
          "Voluntary - Received Compensation",
          "Voluntary - Received Compensation"
         ],
         "legendgroup": "",
         "name": "American Airlines",
         "showlegend": true,
         "type": "pie",
         "values": [
          304,
          96,
          142,
          860,
          980,
          1271,
          853,
          486,
          206,
          79,
          572,
          8,
          73,
          355,
          407,
          978,
          179,
          99,
          221,
          713,
          744,
          2027,
          1037,
          585,
          259,
          6,
          66,
          20,
          7,
          53,
          73,
          193,
          15658,
          12751,
          12697,
          20168,
          28362,
          41562,
          25733,
          15503,
          6127,
          647,
          2899,
          591,
          1453,
          5192,
          6008,
          8787
         ],
         "visible": false
        },
        {
         "domain": {
          "x": [
           0,
           1
          ],
          "y": [
           0,
           1
          ]
         },
         "hovertemplate": "Denial Type=%{label}<br>Total Passengers=%{value}<extra></extra>",
         "labels": [
          "Involuntary - Received Compensation",
          "Involuntary - Received Compensation",
          "Involuntary - Received Compensation",
          "Involuntary - Received Compensation",
          "Involuntary - Received Compensation",
          "Involuntary - Received Compensation",
          "Involuntary - Received Compensation",
          "Involuntary - Received Compensation",
          "Involuntary - Received Compensation",
          "Involuntary - Received Compensation",
          "Involuntary - Received Compensation",
          "Involuntary - Received Compensation",
          "Involuntary - Received Compensation",
          "Involuntary - Received Compensation",
          "Involuntary - Received Compensation",
          "Involuntary - Received Compensation",
          "Involuntary - No Compensation",
          "Involuntary - No Compensation",
          "Involuntary - No Compensation",
          "Involuntary - No Compensation",
          "Involuntary - No Compensation",
          "Involuntary - No Compensation",
          "Involuntary - No Compensation",
          "Involuntary - No Compensation",
          "Involuntary - No Compensation",
          "Involuntary - No Compensation",
          "Involuntary - No Compensation",
          "Involuntary - No Compensation",
          "Involuntary - No Compensation",
          "Involuntary - No Compensation",
          "Involuntary - No Compensation",
          "Involuntary - No Compensation",
          "Voluntary - Received Compensation",
          "Voluntary - Received Compensation",
          "Voluntary - Received Compensation",
          "Voluntary - Received Compensation",
          "Voluntary - Received Compensation",
          "Voluntary - Received Compensation",
          "Voluntary - Received Compensation",
          "Voluntary - Received Compensation",
          "Voluntary - Received Compensation",
          "Voluntary - Received Compensation",
          "Voluntary - Received Compensation",
          "Voluntary - Received Compensation",
          "Voluntary - Received Compensation",
          "Voluntary - Received Compensation",
          "Voluntary - Received Compensation",
          "Voluntary - Received Compensation"
         ],
         "legendgroup": "",
         "name": "Delta Air Lines",
         "showlegend": true,
         "type": "pie",
         "values": [
          6,
          4,
          0,
          0,
          1,
          0,
          1,
          0,
          0,
          0,
          0,
          0,
          0,
          0,
          0,
          0,
          7,
          5,
          0,
          0,
          0,
          0,
          2,
          0,
          0,
          0,
          0,
          0,
          0,
          0,
          0,
          0,
          23777,
          17602,
          17722,
          22605,
          28276,
          32820,
          24642,
          26246,
          16399,
          1546,
          634,
          570,
          1386,
          3231,
          12292,
          10508
         ],
         "visible": false
        },
        {
         "domain": {
          "x": [
           0,
           1
          ],
          "y": [
           0,
           1
          ]
         },
         "hovertemplate": "Denial Type=%{label}<br>Total Passengers=%{value}<extra></extra>",
         "labels": [
          "Involuntary - Received Compensation",
          "Involuntary - Received Compensation",
          "Involuntary - Received Compensation",
          "Involuntary - Received Compensation",
          "Involuntary - Received Compensation",
          "Involuntary - Received Compensation",
          "Involuntary - Received Compensation",
          "Involuntary - Received Compensation",
          "Involuntary - Received Compensation",
          "Involuntary - Received Compensation",
          "Involuntary - Received Compensation",
          "Involuntary - Received Compensation",
          "Involuntary - Received Compensation",
          "Involuntary - Received Compensation",
          "Involuntary - Received Compensation",
          "Involuntary - Received Compensation",
          "Involuntary - No Compensation",
          "Involuntary - No Compensation",
          "Involuntary - No Compensation",
          "Involuntary - No Compensation",
          "Involuntary - No Compensation",
          "Involuntary - No Compensation",
          "Involuntary - No Compensation",
          "Involuntary - No Compensation",
          "Involuntary - No Compensation",
          "Involuntary - No Compensation",
          "Involuntary - No Compensation",
          "Involuntary - No Compensation",
          "Involuntary - No Compensation",
          "Involuntary - No Compensation",
          "Involuntary - No Compensation",
          "Involuntary - No Compensation",
          "Voluntary - Received Compensation",
          "Voluntary - Received Compensation",
          "Voluntary - Received Compensation",
          "Voluntary - Received Compensation",
          "Voluntary - Received Compensation",
          "Voluntary - Received Compensation",
          "Voluntary - Received Compensation",
          "Voluntary - Received Compensation",
          "Voluntary - Received Compensation",
          "Voluntary - Received Compensation",
          "Voluntary - Received Compensation",
          "Voluntary - Received Compensation",
          "Voluntary - Received Compensation",
          "Voluntary - Received Compensation",
          "Voluntary - Received Compensation",
          "Voluntary - Received Compensation"
         ],
         "legendgroup": "",
         "name": "Endeavor Air",
         "showlegend": true,
         "type": "pie",
         "values": [
          1,
          0,
          0,
          0,
          0,
          0,
          0,
          0,
          0,
          0,
          0,
          0,
          0,
          0,
          0,
          0,
          3,
          1,
          0,
          2,
          0,
          0,
          0,
          0,
          0,
          0,
          0,
          0,
          0,
          0,
          0,
          0,
          3117,
          4100,
          5131,
          4559,
          4432,
          8011,
          6451,
          6772,
          3775,
          277,
          77,
          233,
          385,
          1181,
          3642,
          2728
         ],
         "visible": false
        },
        {
         "domain": {
          "x": [
           0,
           1
          ],
          "y": [
           0,
           1
          ]
         },
         "hovertemplate": "Denial Type=%{label}<br>Total Passengers=%{value}<extra></extra>",
         "labels": [
          "Involuntary - Received Compensation",
          "Involuntary - Received Compensation",
          "Involuntary - Received Compensation",
          "Involuntary - Received Compensation",
          "Involuntary - Received Compensation",
          "Involuntary - Received Compensation",
          "Involuntary - Received Compensation",
          "Involuntary - Received Compensation",
          "Involuntary - Received Compensation",
          "Involuntary - Received Compensation",
          "Involuntary - Received Compensation",
          "Involuntary - Received Compensation",
          "Involuntary - Received Compensation",
          "Involuntary - Received Compensation",
          "Involuntary - Received Compensation",
          "Involuntary - Received Compensation",
          "Involuntary - No Compensation",
          "Involuntary - No Compensation",
          "Involuntary - No Compensation",
          "Involuntary - No Compensation",
          "Involuntary - No Compensation",
          "Involuntary - No Compensation",
          "Involuntary - No Compensation",
          "Involuntary - No Compensation",
          "Involuntary - No Compensation",
          "Involuntary - No Compensation",
          "Involuntary - No Compensation",
          "Involuntary - No Compensation",
          "Involuntary - No Compensation",
          "Involuntary - No Compensation",
          "Involuntary - No Compensation",
          "Involuntary - No Compensation",
          "Voluntary - Received Compensation",
          "Voluntary - Received Compensation",
          "Voluntary - Received Compensation",
          "Voluntary - Received Compensation",
          "Voluntary - Received Compensation",
          "Voluntary - Received Compensation",
          "Voluntary - Received Compensation",
          "Voluntary - Received Compensation",
          "Voluntary - Received Compensation",
          "Voluntary - Received Compensation",
          "Voluntary - Received Compensation",
          "Voluntary - Received Compensation",
          "Voluntary - Received Compensation",
          "Voluntary - Received Compensation",
          "Voluntary - Received Compensation",
          "Voluntary - Received Compensation"
         ],
         "legendgroup": "",
         "name": "Envoy Air",
         "showlegend": true,
         "type": "pie",
         "values": [
          22,
          27,
          41,
          77,
          105,
          101,
          138,
          69,
          40,
          22,
          79,
          16,
          23,
          65,
          61,
          124,
          37,
          34,
          120,
          376,
          385,
          436,
          423,
          475,
          241,
          4,
          53,
          14,
          9,
          50,
          15,
          41,
          3839,
          4273,
          3437,
          3104,
          3807,
          4439,
          3286,
          2427,
          1895,
          190,
          747,
          408,
          849,
          1422,
          1150,
          1952
         ],
         "visible": false
        },
        {
         "domain": {
          "x": [
           0,
           1
          ],
          "y": [
           0,
           1
          ]
         },
         "hovertemplate": "Denial Type=%{label}<br>Total Passengers=%{value}<extra></extra>",
         "labels": [
          "Involuntary - Received Compensation",
          "Involuntary - Received Compensation",
          "Involuntary - Received Compensation",
          "Involuntary - Received Compensation",
          "Involuntary - Received Compensation",
          "Involuntary - Received Compensation",
          "Involuntary - Received Compensation",
          "Involuntary - Received Compensation",
          "Involuntary - Received Compensation",
          "Involuntary - Received Compensation",
          "Involuntary - Received Compensation",
          "Involuntary - No Compensation",
          "Involuntary - No Compensation",
          "Involuntary - No Compensation",
          "Involuntary - No Compensation",
          "Involuntary - No Compensation",
          "Involuntary - No Compensation",
          "Involuntary - No Compensation",
          "Involuntary - No Compensation",
          "Involuntary - No Compensation",
          "Involuntary - No Compensation",
          "Involuntary - No Compensation",
          "Voluntary - Received Compensation",
          "Voluntary - Received Compensation",
          "Voluntary - Received Compensation",
          "Voluntary - Received Compensation",
          "Voluntary - Received Compensation",
          "Voluntary - Received Compensation",
          "Voluntary - Received Compensation",
          "Voluntary - Received Compensation",
          "Voluntary - Received Compensation",
          "Voluntary - Received Compensation",
          "Voluntary - Received Compensation"
         ],
         "legendgroup": "",
         "name": "ExpressJet Airlines",
         "showlegend": true,
         "type": "pie",
         "values": [
          3,
          7,
          1,
          9,
          0,
          1,
          0,
          1,
          0,
          0,
          0,
          0,
          5,
          2,
          13,
          1,
          0,
          0,
          0,
          0,
          0,
          0,
          2230,
          2225,
          1866,
          1658,
          1470,
          1522,
          1358,
          990,
          669,
          5,
          12
         ],
         "visible": false
        },
        {
         "domain": {
          "x": [
           0,
           1
          ],
          "y": [
           0,
           1
          ]
         },
         "hovertemplate": "Denial Type=%{label}<br>Total Passengers=%{value}<extra></extra>",
         "labels": [
          "Involuntary - Received Compensation",
          "Involuntary - Received Compensation",
          "Involuntary - Received Compensation",
          "Involuntary - Received Compensation",
          "Involuntary - Received Compensation",
          "Involuntary - Received Compensation",
          "Involuntary - Received Compensation",
          "Involuntary - Received Compensation",
          "Involuntary - Received Compensation",
          "Involuntary - Received Compensation",
          "Involuntary - Received Compensation",
          "Involuntary - Received Compensation",
          "Involuntary - Received Compensation",
          "Involuntary - Received Compensation",
          "Involuntary - Received Compensation",
          "Involuntary - Received Compensation",
          "Involuntary - No Compensation",
          "Involuntary - No Compensation",
          "Involuntary - No Compensation",
          "Involuntary - No Compensation",
          "Involuntary - No Compensation",
          "Involuntary - No Compensation",
          "Involuntary - No Compensation",
          "Involuntary - No Compensation",
          "Involuntary - No Compensation",
          "Involuntary - No Compensation",
          "Involuntary - No Compensation",
          "Involuntary - No Compensation",
          "Involuntary - No Compensation",
          "Involuntary - No Compensation",
          "Involuntary - No Compensation",
          "Involuntary - No Compensation",
          "Voluntary - Received Compensation",
          "Voluntary - Received Compensation",
          "Voluntary - Received Compensation",
          "Voluntary - Received Compensation",
          "Voluntary - Received Compensation",
          "Voluntary - Received Compensation",
          "Voluntary - Received Compensation",
          "Voluntary - Received Compensation",
          "Voluntary - Received Compensation",
          "Voluntary - Received Compensation",
          "Voluntary - Received Compensation",
          "Voluntary - Received Compensation",
          "Voluntary - Received Compensation",
          "Voluntary - Received Compensation",
          "Voluntary - Received Compensation",
          "Voluntary - Received Compensation"
         ],
         "legendgroup": "",
         "name": "Frontier Airlines",
         "showlegend": true,
         "type": "pie",
         "values": [
          98,
          161,
          169,
          101,
          81,
          96,
          118,
          145,
          58,
          40,
          54,
          43,
          129,
          198,
          421,
          646,
          90,
          94,
          350,
          156,
          87,
          88,
          112,
          104,
          38,
          5,
          10,
          8,
          94,
          136,
          198,
          241,
          949,
          991,
          1790,
          895,
          587,
          838,
          893,
          821,
          481,
          170,
          256,
          167,
          626,
          886,
          1489,
          1684
         ],
         "visible": false
        },
        {
         "domain": {
          "x": [
           0,
           1
          ],
          "y": [
           0,
           1
          ]
         },
         "hovertemplate": "Denial Type=%{label}<br>Total Passengers=%{value}<extra></extra>",
         "labels": [
          "Involuntary - Received Compensation",
          "Involuntary - Received Compensation",
          "Involuntary - Received Compensation",
          "Involuntary - Received Compensation",
          "Involuntary - Received Compensation",
          "Involuntary - Received Compensation",
          "Involuntary - Received Compensation",
          "Involuntary - Received Compensation",
          "Involuntary - Received Compensation",
          "Involuntary - Received Compensation",
          "Involuntary - Received Compensation",
          "Involuntary - Received Compensation",
          "Involuntary - Received Compensation",
          "Involuntary - Received Compensation",
          "Involuntary - Received Compensation",
          "Involuntary - Received Compensation",
          "Involuntary - No Compensation",
          "Involuntary - No Compensation",
          "Involuntary - No Compensation",
          "Involuntary - No Compensation",
          "Involuntary - No Compensation",
          "Involuntary - No Compensation",
          "Involuntary - No Compensation",
          "Involuntary - No Compensation",
          "Involuntary - No Compensation",
          "Involuntary - No Compensation",
          "Involuntary - No Compensation",
          "Involuntary - No Compensation",
          "Involuntary - No Compensation",
          "Involuntary - No Compensation",
          "Involuntary - No Compensation",
          "Involuntary - No Compensation",
          "Voluntary - Received Compensation",
          "Voluntary - Received Compensation",
          "Voluntary - Received Compensation",
          "Voluntary - Received Compensation",
          "Voluntary - Received Compensation",
          "Voluntary - Received Compensation",
          "Voluntary - Received Compensation",
          "Voluntary - Received Compensation",
          "Voluntary - Received Compensation",
          "Voluntary - Received Compensation",
          "Voluntary - Received Compensation",
          "Voluntary - Received Compensation",
          "Voluntary - Received Compensation",
          "Voluntary - Received Compensation",
          "Voluntary - Received Compensation",
          "Voluntary - Received Compensation"
         ],
         "legendgroup": "",
         "name": "Hawaiian Airlines",
         "showlegend": true,
         "type": "pie",
         "values": [
          2,
          2,
          3,
          5,
          0,
          0,
          0,
          0,
          1,
          0,
          0,
          0,
          0,
          0,
          0,
          0,
          0,
          0,
          null,
          1,
          0,
          0,
          0,
          0,
          0,
          0,
          0,
          0,
          0,
          0,
          0,
          0,
          160,
          345,
          274,
          326,
          72,
          39,
          34,
          101,
          125,
          30,
          14,
          8,
          3,
          10,
          2,
          16
         ],
         "visible": false
        },
        {
         "domain": {
          "x": [
           0,
           1
          ],
          "y": [
           0,
           1
          ]
         },
         "hovertemplate": "Denial Type=%{label}<br>Total Passengers=%{value}<extra></extra>",
         "labels": [
          "Involuntary - Received Compensation",
          "Involuntary - Received Compensation",
          "Involuntary - Received Compensation",
          "Involuntary - Received Compensation",
          "Involuntary - Received Compensation",
          "Involuntary - Received Compensation",
          "Involuntary - Received Compensation",
          "Involuntary - Received Compensation",
          "Involuntary - Received Compensation",
          "Involuntary - Received Compensation",
          "Involuntary - Received Compensation",
          "Involuntary - Received Compensation",
          "Involuntary - Received Compensation",
          "Involuntary - Received Compensation",
          "Involuntary - Received Compensation",
          "Involuntary - Received Compensation",
          "Involuntary - No Compensation",
          "Involuntary - No Compensation",
          "Involuntary - No Compensation",
          "Involuntary - No Compensation",
          "Involuntary - No Compensation",
          "Involuntary - No Compensation",
          "Involuntary - No Compensation",
          "Involuntary - No Compensation",
          "Involuntary - No Compensation",
          "Involuntary - No Compensation",
          "Involuntary - No Compensation",
          "Involuntary - No Compensation",
          "Involuntary - No Compensation",
          "Involuntary - No Compensation",
          "Involuntary - No Compensation",
          "Involuntary - No Compensation",
          "Voluntary - Received Compensation",
          "Voluntary - Received Compensation",
          "Voluntary - Received Compensation",
          "Voluntary - Received Compensation",
          "Voluntary - Received Compensation",
          "Voluntary - Received Compensation",
          "Voluntary - Received Compensation",
          "Voluntary - Received Compensation",
          "Voluntary - Received Compensation",
          "Voluntary - Received Compensation",
          "Voluntary - Received Compensation",
          "Voluntary - Received Compensation",
          "Voluntary - Received Compensation",
          "Voluntary - Received Compensation",
          "Voluntary - Received Compensation",
          "Voluntary - Received Compensation"
         ],
         "legendgroup": "",
         "name": "JetBlue Airways",
         "showlegend": true,
         "type": "pie",
         "values": [
          7,
          8,
          7,
          13,
          23,
          5,
          7,
          12,
          0,
          0,
          0,
          0,
          2,
          1,
          24,
          16,
          0,
          1,
          0,
          0,
          0,
          2,
          1,
          4,
          2,
          0,
          0,
          0,
          14,
          2,
          0,
          0,
          844,
          557,
          612,
          487,
          721,
          641,
          785,
          637,
          250,
          29,
          9,
          62,
          81,
          463,
          901,
          864
         ],
         "visible": false
        },
        {
         "domain": {
          "x": [
           0,
           1
          ],
          "y": [
           0,
           1
          ]
         },
         "hovertemplate": "Denial Type=%{label}<br>Total Passengers=%{value}<extra></extra>",
         "labels": [
          "Involuntary - Received Compensation",
          "Involuntary - Received Compensation",
          "Involuntary - Received Compensation",
          "Involuntary - Received Compensation",
          "Involuntary - Received Compensation",
          "Involuntary - Received Compensation",
          "Involuntary - Received Compensation",
          "Involuntary - Received Compensation",
          "Involuntary - Received Compensation",
          "Involuntary - Received Compensation",
          "Involuntary - Received Compensation",
          "Involuntary - Received Compensation",
          "Involuntary - Received Compensation",
          "Involuntary - Received Compensation",
          "Involuntary - Received Compensation",
          "Involuntary - Received Compensation",
          "Involuntary - No Compensation",
          "Involuntary - No Compensation",
          "Involuntary - No Compensation",
          "Involuntary - No Compensation",
          "Involuntary - No Compensation",
          "Involuntary - No Compensation",
          "Involuntary - No Compensation",
          "Involuntary - No Compensation",
          "Involuntary - No Compensation",
          "Involuntary - No Compensation",
          "Involuntary - No Compensation",
          "Involuntary - No Compensation",
          "Involuntary - No Compensation",
          "Involuntary - No Compensation",
          "Involuntary - No Compensation",
          "Involuntary - No Compensation",
          "Voluntary - Received Compensation",
          "Voluntary - Received Compensation",
          "Voluntary - Received Compensation",
          "Voluntary - Received Compensation",
          "Voluntary - Received Compensation",
          "Voluntary - Received Compensation",
          "Voluntary - Received Compensation",
          "Voluntary - Received Compensation",
          "Voluntary - Received Compensation",
          "Voluntary - Received Compensation",
          "Voluntary - Received Compensation",
          "Voluntary - Received Compensation",
          "Voluntary - Received Compensation",
          "Voluntary - Received Compensation",
          "Voluntary - Received Compensation",
          "Voluntary - Received Compensation"
         ],
         "legendgroup": "",
         "name": "Mesa Airlines",
         "showlegend": true,
         "type": "pie",
         "values": [
          7,
          7,
          5,
          15,
          24,
          21,
          16,
          33,
          10,
          12,
          12,
          1,
          6,
          32,
          21,
          33,
          40,
          3,
          46,
          86,
          461,
          293,
          72,
          69,
          8,
          0,
          0,
          2,
          0,
          8,
          5,
          14,
          2413,
          1722,
          2581,
          2047,
          3864,
          2836,
          1861,
          1428,
          962,
          95,
          226,
          170,
          359,
          808,
          873,
          727
         ],
         "visible": false
        },
        {
         "domain": {
          "x": [
           0,
           1
          ],
          "y": [
           0,
           1
          ]
         },
         "hovertemplate": "Denial Type=%{label}<br>Total Passengers=%{value}<extra></extra>",
         "labels": [
          "Involuntary - Received Compensation",
          "Involuntary - Received Compensation",
          "Involuntary - Received Compensation",
          "Involuntary - Received Compensation",
          "Involuntary - Received Compensation",
          "Involuntary - Received Compensation",
          "Involuntary - Received Compensation",
          "Involuntary - Received Compensation",
          "Involuntary - Received Compensation",
          "Involuntary - Received Compensation",
          "Involuntary - Received Compensation",
          "Involuntary - Received Compensation",
          "Involuntary - Received Compensation",
          "Involuntary - Received Compensation",
          "Involuntary - Received Compensation",
          "Involuntary - Received Compensation",
          "Involuntary - No Compensation",
          "Involuntary - No Compensation",
          "Involuntary - No Compensation",
          "Involuntary - No Compensation",
          "Involuntary - No Compensation",
          "Involuntary - No Compensation",
          "Involuntary - No Compensation",
          "Involuntary - No Compensation",
          "Involuntary - No Compensation",
          "Involuntary - No Compensation",
          "Involuntary - No Compensation",
          "Involuntary - No Compensation",
          "Involuntary - No Compensation",
          "Involuntary - No Compensation",
          "Involuntary - No Compensation",
          "Involuntary - No Compensation",
          "Voluntary - Received Compensation",
          "Voluntary - Received Compensation",
          "Voluntary - Received Compensation",
          "Voluntary - Received Compensation",
          "Voluntary - Received Compensation",
          "Voluntary - Received Compensation",
          "Voluntary - Received Compensation",
          "Voluntary - Received Compensation",
          "Voluntary - Received Compensation",
          "Voluntary - Received Compensation",
          "Voluntary - Received Compensation",
          "Voluntary - Received Compensation",
          "Voluntary - Received Compensation",
          "Voluntary - Received Compensation",
          "Voluntary - Received Compensation",
          "Voluntary - Received Compensation"
         ],
         "legendgroup": "",
         "name": "PSA Airlines",
         "showlegend": true,
         "type": "pie",
         "values": [
          16,
          20,
          24,
          75,
          76,
          120,
          159,
          89,
          86,
          39,
          72,
          6,
          8,
          71,
          75,
          87,
          6,
          12,
          18,
          138,
          191,
          367,
          180,
          370,
          118,
          0,
          1,
          13,
          0,
          44,
          94,
          75,
          2416,
          2554,
          2006,
          2356,
          3166,
          4264,
          3027,
          2683,
          1291,
          226,
          625,
          360,
          599,
          1342,
          1830,
          1616
         ],
         "visible": false
        },
        {
         "domain": {
          "x": [
           0,
           1
          ],
          "y": [
           0,
           1
          ]
         },
         "hovertemplate": "Denial Type=%{label}<br>Total Passengers=%{value}<extra></extra>",
         "labels": [
          "Involuntary - Received Compensation",
          "Involuntary - Received Compensation",
          "Involuntary - Received Compensation",
          "Involuntary - Received Compensation",
          "Involuntary - Received Compensation",
          "Involuntary - Received Compensation",
          "Involuntary - Received Compensation",
          "Involuntary - Received Compensation",
          "Involuntary - Received Compensation",
          "Involuntary - Received Compensation",
          "Involuntary - Received Compensation",
          "Involuntary - Received Compensation",
          "Involuntary - Received Compensation",
          "Involuntary - Received Compensation",
          "Involuntary - Received Compensation",
          "Involuntary - Received Compensation",
          "Involuntary - No Compensation",
          "Involuntary - No Compensation",
          "Involuntary - No Compensation",
          "Involuntary - No Compensation",
          "Involuntary - No Compensation",
          "Involuntary - No Compensation",
          "Involuntary - No Compensation",
          "Involuntary - No Compensation",
          "Involuntary - No Compensation",
          "Involuntary - No Compensation",
          "Involuntary - No Compensation",
          "Involuntary - No Compensation",
          "Involuntary - No Compensation",
          "Involuntary - No Compensation",
          "Involuntary - No Compensation",
          "Involuntary - No Compensation",
          "Voluntary - Received Compensation",
          "Voluntary - Received Compensation",
          "Voluntary - Received Compensation",
          "Voluntary - Received Compensation",
          "Voluntary - Received Compensation",
          "Voluntary - Received Compensation",
          "Voluntary - Received Compensation",
          "Voluntary - Received Compensation",
          "Voluntary - Received Compensation",
          "Voluntary - Received Compensation",
          "Voluntary - Received Compensation",
          "Voluntary - Received Compensation",
          "Voluntary - Received Compensation",
          "Voluntary - Received Compensation",
          "Voluntary - Received Compensation",
          "Voluntary - Received Compensation"
         ],
         "legendgroup": "",
         "name": "Republic Airline",
         "showlegend": true,
         "type": "pie",
         "values": [
          24,
          18,
          29,
          89,
          68,
          123,
          110,
          78,
          58,
          19,
          49,
          3,
          31,
          87,
          112,
          100,
          8,
          12,
          2,
          14,
          12,
          39,
          109,
          42,
          27,
          2,
          13,
          18,
          0,
          24,
          66,
          1,
          2613,
          3876,
          4954,
          4275,
          3713,
          6321,
          5378,
          3532,
          1101,
          81,
          303,
          217,
          766,
          2855,
          5164,
          2303
         ],
         "visible": false
        },
        {
         "domain": {
          "x": [
           0,
           1
          ],
          "y": [
           0,
           1
          ]
         },
         "hovertemplate": "Denial Type=%{label}<br>Total Passengers=%{value}<extra></extra>",
         "labels": [
          "Involuntary - Received Compensation",
          "Involuntary - Received Compensation",
          "Involuntary - Received Compensation",
          "Involuntary - Received Compensation",
          "Involuntary - Received Compensation",
          "Involuntary - Received Compensation",
          "Involuntary - Received Compensation",
          "Involuntary - Received Compensation",
          "Involuntary - Received Compensation",
          "Involuntary - Received Compensation",
          "Involuntary - Received Compensation",
          "Involuntary - Received Compensation",
          "Involuntary - Received Compensation",
          "Involuntary - Received Compensation",
          "Involuntary - Received Compensation",
          "Involuntary - Received Compensation",
          "Involuntary - No Compensation",
          "Involuntary - No Compensation",
          "Involuntary - No Compensation",
          "Involuntary - No Compensation",
          "Involuntary - No Compensation",
          "Involuntary - No Compensation",
          "Involuntary - No Compensation",
          "Involuntary - No Compensation",
          "Involuntary - No Compensation",
          "Involuntary - No Compensation",
          "Involuntary - No Compensation",
          "Involuntary - No Compensation",
          "Involuntary - No Compensation",
          "Involuntary - No Compensation",
          "Involuntary - No Compensation",
          "Involuntary - No Compensation",
          "Voluntary - Received Compensation",
          "Voluntary - Received Compensation",
          "Voluntary - Received Compensation",
          "Voluntary - Received Compensation",
          "Voluntary - Received Compensation",
          "Voluntary - Received Compensation",
          "Voluntary - Received Compensation",
          "Voluntary - Received Compensation",
          "Voluntary - Received Compensation",
          "Voluntary - Received Compensation",
          "Voluntary - Received Compensation",
          "Voluntary - Received Compensation",
          "Voluntary - Received Compensation",
          "Voluntary - Received Compensation",
          "Voluntary - Received Compensation",
          "Voluntary - Received Compensation"
         ],
         "legendgroup": "",
         "name": "SkyWest Airlines",
         "showlegend": true,
         "type": "pie",
         "values": [
          29,
          112,
          70,
          56,
          82,
          85,
          65,
          40,
          59,
          32,
          31,
          5,
          26,
          84,
          31,
          128,
          59,
          94,
          25,
          104,
          151,
          128,
          138,
          76,
          152,
          4,
          2,
          0,
          0,
          2,
          6,
          32,
          7816,
          7413,
          7264,
          5977,
          7163,
          17228,
          14794,
          13524,
          9991,
          464,
          1069,
          720,
          2295,
          3592,
          6743,
          9595
         ],
         "visible": false
        },
        {
         "domain": {
          "x": [
           0,
           1
          ],
          "y": [
           0,
           1
          ]
         },
         "hovertemplate": "Denial Type=%{label}<br>Total Passengers=%{value}<extra></extra>",
         "labels": [
          "Involuntary - Received Compensation",
          "Involuntary - Received Compensation",
          "Involuntary - Received Compensation",
          "Involuntary - Received Compensation",
          "Involuntary - Received Compensation",
          "Involuntary - Received Compensation",
          "Involuntary - Received Compensation",
          "Involuntary - Received Compensation",
          "Involuntary - Received Compensation",
          "Involuntary - Received Compensation",
          "Involuntary - Received Compensation",
          "Involuntary - Received Compensation",
          "Involuntary - Received Compensation",
          "Involuntary - Received Compensation",
          "Involuntary - Received Compensation",
          "Involuntary - Received Compensation",
          "Involuntary - No Compensation",
          "Involuntary - No Compensation",
          "Involuntary - No Compensation",
          "Involuntary - No Compensation",
          "Involuntary - No Compensation",
          "Involuntary - No Compensation",
          "Involuntary - No Compensation",
          "Involuntary - No Compensation",
          "Involuntary - No Compensation",
          "Involuntary - No Compensation",
          "Involuntary - No Compensation",
          "Involuntary - No Compensation",
          "Involuntary - No Compensation",
          "Involuntary - No Compensation",
          "Involuntary - No Compensation",
          "Involuntary - No Compensation",
          "Voluntary - Received Compensation",
          "Voluntary - Received Compensation",
          "Voluntary - Received Compensation",
          "Voluntary - Received Compensation",
          "Voluntary - Received Compensation",
          "Voluntary - Received Compensation",
          "Voluntary - Received Compensation",
          "Voluntary - Received Compensation",
          "Voluntary - Received Compensation",
          "Voluntary - Received Compensation",
          "Voluntary - Received Compensation",
          "Voluntary - Received Compensation",
          "Voluntary - Received Compensation",
          "Voluntary - Received Compensation",
          "Voluntary - Received Compensation",
          "Voluntary - Received Compensation"
         ],
         "legendgroup": "",
         "name": "Southwest Airlines",
         "showlegend": true,
         "type": "pie",
         "values": [
          669,
          376,
          967,
          411,
          1594,
          931,
          314,
          269,
          112,
          110,
          148,
          28,
          192,
          1314,
          1207,
          1304,
          0,
          0,
          0,
          0,
          0,
          0,
          0,
          0,
          0,
          0,
          0,
          0,
          0,
          0,
          0,
          0,
          4325,
          6039,
          6570,
          4688,
          9996,
          12368,
          4806,
          4339,
          2355,
          1108,
          937,
          487,
          1439,
          9008,
          10242,
          9649
         ],
         "visible": false
        },
        {
         "domain": {
          "x": [
           0,
           1
          ],
          "y": [
           0,
           1
          ]
         },
         "hovertemplate": "Denial Type=%{label}<br>Total Passengers=%{value}<extra></extra>",
         "labels": [
          "Involuntary - Received Compensation",
          "Involuntary - Received Compensation",
          "Involuntary - Received Compensation",
          "Involuntary - Received Compensation",
          "Involuntary - Received Compensation",
          "Involuntary - Received Compensation",
          "Involuntary - Received Compensation",
          "Involuntary - Received Compensation",
          "Involuntary - Received Compensation",
          "Involuntary - Received Compensation",
          "Involuntary - Received Compensation",
          "Involuntary - Received Compensation",
          "Involuntary - Received Compensation",
          "Involuntary - Received Compensation",
          "Involuntary - Received Compensation",
          "Involuntary - Received Compensation",
          "Involuntary - No Compensation",
          "Involuntary - No Compensation",
          "Involuntary - No Compensation",
          "Involuntary - No Compensation",
          "Involuntary - No Compensation",
          "Involuntary - No Compensation",
          "Involuntary - No Compensation",
          "Involuntary - No Compensation",
          "Involuntary - No Compensation",
          "Involuntary - No Compensation",
          "Involuntary - No Compensation",
          "Involuntary - No Compensation",
          "Involuntary - No Compensation",
          "Involuntary - No Compensation",
          "Involuntary - No Compensation",
          "Involuntary - No Compensation",
          "Voluntary - Received Compensation",
          "Voluntary - Received Compensation",
          "Voluntary - Received Compensation",
          "Voluntary - Received Compensation",
          "Voluntary - Received Compensation",
          "Voluntary - Received Compensation",
          "Voluntary - Received Compensation",
          "Voluntary - Received Compensation",
          "Voluntary - Received Compensation",
          "Voluntary - Received Compensation",
          "Voluntary - Received Compensation",
          "Voluntary - Received Compensation",
          "Voluntary - Received Compensation",
          "Voluntary - Received Compensation",
          "Voluntary - Received Compensation",
          "Voluntary - Received Compensation"
         ],
         "legendgroup": "",
         "name": "Spirit Airlines",
         "showlegend": true,
         "type": "pie",
         "values": [
          745,
          413,
          163,
          43,
          26,
          144,
          43,
          91,
          28,
          2,
          0,
          12,
          35,
          30,
          50,
          89,
          129,
          35,
          1,
          0,
          20,
          5,
          21,
          30,
          36,
          0,
          0,
          87,
          76,
          55,
          34,
          5,
          5477,
          4852,
          5718,
          5417,
          6768,
          5642,
          4656,
          5575,
          3585,
          80,
          227,
          685,
          1683,
          3131,
          1766,
          1853
         ],
         "visible": false
        },
        {
         "domain": {
          "x": [
           0,
           1
          ],
          "y": [
           0,
           1
          ]
         },
         "hovertemplate": "Denial Type=%{label}<br>Total Passengers=%{value}<extra></extra>",
         "labels": [
          "Involuntary - Received Compensation",
          "Involuntary - Received Compensation",
          "Involuntary - Received Compensation",
          "Involuntary - Received Compensation",
          "Involuntary - Received Compensation",
          "Involuntary - Received Compensation",
          "Involuntary - Received Compensation",
          "Involuntary - Received Compensation",
          "Involuntary - Received Compensation",
          "Involuntary - Received Compensation",
          "Involuntary - Received Compensation",
          "Involuntary - Received Compensation",
          "Involuntary - Received Compensation",
          "Involuntary - Received Compensation",
          "Involuntary - Received Compensation",
          "Involuntary - Received Compensation",
          "Involuntary - No Compensation",
          "Involuntary - No Compensation",
          "Involuntary - No Compensation",
          "Involuntary - No Compensation",
          "Involuntary - No Compensation",
          "Involuntary - No Compensation",
          "Involuntary - No Compensation",
          "Involuntary - No Compensation",
          "Involuntary - No Compensation",
          "Involuntary - No Compensation",
          "Involuntary - No Compensation",
          "Involuntary - No Compensation",
          "Involuntary - No Compensation",
          "Involuntary - No Compensation",
          "Involuntary - No Compensation",
          "Involuntary - No Compensation",
          "Voluntary - Received Compensation",
          "Voluntary - Received Compensation",
          "Voluntary - Received Compensation",
          "Voluntary - Received Compensation",
          "Voluntary - Received Compensation",
          "Voluntary - Received Compensation",
          "Voluntary - Received Compensation",
          "Voluntary - Received Compensation",
          "Voluntary - Received Compensation",
          "Voluntary - Received Compensation",
          "Voluntary - Received Compensation",
          "Voluntary - Received Compensation",
          "Voluntary - Received Compensation",
          "Voluntary - Received Compensation",
          "Voluntary - Received Compensation",
          "Voluntary - Received Compensation"
         ],
         "legendgroup": "",
         "name": "United Air Lines",
         "showlegend": true,
         "type": "pie",
         "values": [
          11,
          8,
          15,
          8,
          7,
          7,
          5,
          10,
          0,
          0,
          8,
          5,
          0,
          1,
          6,
          12,
          16,
          9,
          11,
          15,
          10,
          21,
          2,
          3,
          7,
          0,
          0,
          0,
          0,
          4,
          0,
          4,
          8214,
          8615,
          11339,
          7556,
          8856,
          11394,
          9110,
          5668,
          2842,
          8,
          76,
          289,
          591,
          1341,
          2864,
          2609
         ],
         "visible": false
        },
        {
         "domain": {
          "x": [
           0,
           1
          ],
          "y": [
           0,
           1
          ]
         },
         "hovertemplate": "Denial Type=%{label}<br>Total Passengers=%{value}<extra></extra>",
         "labels": [
          "Involuntary - Received Compensation",
          "Involuntary - No Compensation",
          "Voluntary - Received Compensation"
         ],
         "legendgroup": "",
         "name": "Virgin America ",
         "showlegend": true,
         "type": "pie",
         "values": [
          18,
          4,
          89
         ],
         "visible": false
        },
        {
         "domain": {
          "x": [
           0,
           1
          ],
          "y": [
           0,
           1
          ]
         },
         "hovertemplate": "Denial Type=%{label}<br>Total Passengers=%{value}<extra></extra>",
         "labels": [
          "Involuntary - Received Compensation",
          "Involuntary - Received Compensation",
          "Involuntary - Received Compensation",
          "Involuntary - Received Compensation",
          "Involuntary - No Compensation",
          "Involuntary - No Compensation",
          "Involuntary - No Compensation",
          "Involuntary - No Compensation",
          "Voluntary - Received Compensation",
          "Voluntary - Received Compensation",
          "Voluntary - Received Compensation",
          "Voluntary - Received Compensation"
         ],
         "legendgroup": "",
         "name": "Horizon Air",
         "showlegend": true,
         "type": "pie",
         "values": [
          15,
          57,
          50,
          38,
          0,
          0,
          0,
          0,
          126,
          706,
          459,
          558
         ],
         "visible": false
        }
       ],
       "layout": {
        "legend": {
         "tracegroupgap": 0
        },
        "margin": {
         "t": 60
        },
        "piecolorway": [
         "#2E91E5",
         "#E15F99",
         "#1CA71C",
         "#FB0D0D",
         "#DA16FF",
         "#222A2A",
         "#B68100",
         "#750D86",
         "#EB663B",
         "#511CFB",
         "#00A08B",
         "#FB00D1",
         "#FC0080",
         "#B2828D",
         "#6C7C32",
         "#778AAE",
         "#862A16",
         "#A777F1",
         "#620042",
         "#1616A7",
         "#DA60CA",
         "#6C4516",
         "#0D2A63",
         "#AF0038"
        ],
        "template": {
         "data": {
          "bar": [
           {
            "error_x": {
             "color": "#2a3f5f"
            },
            "error_y": {
             "color": "#2a3f5f"
            },
            "marker": {
             "line": {
              "color": "#E5ECF6",
              "width": 0.5
             },
             "pattern": {
              "fillmode": "overlay",
              "size": 10,
              "solidity": 0.2
             }
            },
            "type": "bar"
           }
          ],
          "barpolar": [
           {
            "marker": {
             "line": {
              "color": "#E5ECF6",
              "width": 0.5
             },
             "pattern": {
              "fillmode": "overlay",
              "size": 10,
              "solidity": 0.2
             }
            },
            "type": "barpolar"
           }
          ],
          "carpet": [
           {
            "aaxis": {
             "endlinecolor": "#2a3f5f",
             "gridcolor": "white",
             "linecolor": "white",
             "minorgridcolor": "white",
             "startlinecolor": "#2a3f5f"
            },
            "baxis": {
             "endlinecolor": "#2a3f5f",
             "gridcolor": "white",
             "linecolor": "white",
             "minorgridcolor": "white",
             "startlinecolor": "#2a3f5f"
            },
            "type": "carpet"
           }
          ],
          "choropleth": [
           {
            "colorbar": {
             "outlinewidth": 0,
             "ticks": ""
            },
            "type": "choropleth"
           }
          ],
          "contour": [
           {
            "colorbar": {
             "outlinewidth": 0,
             "ticks": ""
            },
            "colorscale": [
             [
              0,
              "#0d0887"
             ],
             [
              0.1111111111111111,
              "#46039f"
             ],
             [
              0.2222222222222222,
              "#7201a8"
             ],
             [
              0.3333333333333333,
              "#9c179e"
             ],
             [
              0.4444444444444444,
              "#bd3786"
             ],
             [
              0.5555555555555556,
              "#d8576b"
             ],
             [
              0.6666666666666666,
              "#ed7953"
             ],
             [
              0.7777777777777778,
              "#fb9f3a"
             ],
             [
              0.8888888888888888,
              "#fdca26"
             ],
             [
              1,
              "#f0f921"
             ]
            ],
            "type": "contour"
           }
          ],
          "contourcarpet": [
           {
            "colorbar": {
             "outlinewidth": 0,
             "ticks": ""
            },
            "type": "contourcarpet"
           }
          ],
          "heatmap": [
           {
            "colorbar": {
             "outlinewidth": 0,
             "ticks": ""
            },
            "colorscale": [
             [
              0,
              "#0d0887"
             ],
             [
              0.1111111111111111,
              "#46039f"
             ],
             [
              0.2222222222222222,
              "#7201a8"
             ],
             [
              0.3333333333333333,
              "#9c179e"
             ],
             [
              0.4444444444444444,
              "#bd3786"
             ],
             [
              0.5555555555555556,
              "#d8576b"
             ],
             [
              0.6666666666666666,
              "#ed7953"
             ],
             [
              0.7777777777777778,
              "#fb9f3a"
             ],
             [
              0.8888888888888888,
              "#fdca26"
             ],
             [
              1,
              "#f0f921"
             ]
            ],
            "type": "heatmap"
           }
          ],
          "heatmapgl": [
           {
            "colorbar": {
             "outlinewidth": 0,
             "ticks": ""
            },
            "colorscale": [
             [
              0,
              "#0d0887"
             ],
             [
              0.1111111111111111,
              "#46039f"
             ],
             [
              0.2222222222222222,
              "#7201a8"
             ],
             [
              0.3333333333333333,
              "#9c179e"
             ],
             [
              0.4444444444444444,
              "#bd3786"
             ],
             [
              0.5555555555555556,
              "#d8576b"
             ],
             [
              0.6666666666666666,
              "#ed7953"
             ],
             [
              0.7777777777777778,
              "#fb9f3a"
             ],
             [
              0.8888888888888888,
              "#fdca26"
             ],
             [
              1,
              "#f0f921"
             ]
            ],
            "type": "heatmapgl"
           }
          ],
          "histogram": [
           {
            "marker": {
             "pattern": {
              "fillmode": "overlay",
              "size": 10,
              "solidity": 0.2
             }
            },
            "type": "histogram"
           }
          ],
          "histogram2d": [
           {
            "colorbar": {
             "outlinewidth": 0,
             "ticks": ""
            },
            "colorscale": [
             [
              0,
              "#0d0887"
             ],
             [
              0.1111111111111111,
              "#46039f"
             ],
             [
              0.2222222222222222,
              "#7201a8"
             ],
             [
              0.3333333333333333,
              "#9c179e"
             ],
             [
              0.4444444444444444,
              "#bd3786"
             ],
             [
              0.5555555555555556,
              "#d8576b"
             ],
             [
              0.6666666666666666,
              "#ed7953"
             ],
             [
              0.7777777777777778,
              "#fb9f3a"
             ],
             [
              0.8888888888888888,
              "#fdca26"
             ],
             [
              1,
              "#f0f921"
             ]
            ],
            "type": "histogram2d"
           }
          ],
          "histogram2dcontour": [
           {
            "colorbar": {
             "outlinewidth": 0,
             "ticks": ""
            },
            "colorscale": [
             [
              0,
              "#0d0887"
             ],
             [
              0.1111111111111111,
              "#46039f"
             ],
             [
              0.2222222222222222,
              "#7201a8"
             ],
             [
              0.3333333333333333,
              "#9c179e"
             ],
             [
              0.4444444444444444,
              "#bd3786"
             ],
             [
              0.5555555555555556,
              "#d8576b"
             ],
             [
              0.6666666666666666,
              "#ed7953"
             ],
             [
              0.7777777777777778,
              "#fb9f3a"
             ],
             [
              0.8888888888888888,
              "#fdca26"
             ],
             [
              1,
              "#f0f921"
             ]
            ],
            "type": "histogram2dcontour"
           }
          ],
          "mesh3d": [
           {
            "colorbar": {
             "outlinewidth": 0,
             "ticks": ""
            },
            "type": "mesh3d"
           }
          ],
          "parcoords": [
           {
            "line": {
             "colorbar": {
              "outlinewidth": 0,
              "ticks": ""
             }
            },
            "type": "parcoords"
           }
          ],
          "pie": [
           {
            "automargin": true,
            "type": "pie"
           }
          ],
          "scatter": [
           {
            "fillpattern": {
             "fillmode": "overlay",
             "size": 10,
             "solidity": 0.2
            },
            "type": "scatter"
           }
          ],
          "scatter3d": [
           {
            "line": {
             "colorbar": {
              "outlinewidth": 0,
              "ticks": ""
             }
            },
            "marker": {
             "colorbar": {
              "outlinewidth": 0,
              "ticks": ""
             }
            },
            "type": "scatter3d"
           }
          ],
          "scattercarpet": [
           {
            "marker": {
             "colorbar": {
              "outlinewidth": 0,
              "ticks": ""
             }
            },
            "type": "scattercarpet"
           }
          ],
          "scattergeo": [
           {
            "marker": {
             "colorbar": {
              "outlinewidth": 0,
              "ticks": ""
             }
            },
            "type": "scattergeo"
           }
          ],
          "scattergl": [
           {
            "marker": {
             "colorbar": {
              "outlinewidth": 0,
              "ticks": ""
             }
            },
            "type": "scattergl"
           }
          ],
          "scattermapbox": [
           {
            "marker": {
             "colorbar": {
              "outlinewidth": 0,
              "ticks": ""
             }
            },
            "type": "scattermapbox"
           }
          ],
          "scatterpolar": [
           {
            "marker": {
             "colorbar": {
              "outlinewidth": 0,
              "ticks": ""
             }
            },
            "type": "scatterpolar"
           }
          ],
          "scatterpolargl": [
           {
            "marker": {
             "colorbar": {
              "outlinewidth": 0,
              "ticks": ""
             }
            },
            "type": "scatterpolargl"
           }
          ],
          "scatterternary": [
           {
            "marker": {
             "colorbar": {
              "outlinewidth": 0,
              "ticks": ""
             }
            },
            "type": "scatterternary"
           }
          ],
          "surface": [
           {
            "colorbar": {
             "outlinewidth": 0,
             "ticks": ""
            },
            "colorscale": [
             [
              0,
              "#0d0887"
             ],
             [
              0.1111111111111111,
              "#46039f"
             ],
             [
              0.2222222222222222,
              "#7201a8"
             ],
             [
              0.3333333333333333,
              "#9c179e"
             ],
             [
              0.4444444444444444,
              "#bd3786"
             ],
             [
              0.5555555555555556,
              "#d8576b"
             ],
             [
              0.6666666666666666,
              "#ed7953"
             ],
             [
              0.7777777777777778,
              "#fb9f3a"
             ],
             [
              0.8888888888888888,
              "#fdca26"
             ],
             [
              1,
              "#f0f921"
             ]
            ],
            "type": "surface"
           }
          ],
          "table": [
           {
            "cells": {
             "fill": {
              "color": "#EBF0F8"
             },
             "line": {
              "color": "white"
             }
            },
            "header": {
             "fill": {
              "color": "#C8D4E3"
             },
             "line": {
              "color": "white"
             }
            },
            "type": "table"
           }
          ]
         },
         "layout": {
          "annotationdefaults": {
           "arrowcolor": "#2a3f5f",
           "arrowhead": 0,
           "arrowwidth": 1
          },
          "autotypenumbers": "strict",
          "coloraxis": {
           "colorbar": {
            "outlinewidth": 0,
            "ticks": ""
           }
          },
          "colorscale": {
           "diverging": [
            [
             0,
             "#8e0152"
            ],
            [
             0.1,
             "#c51b7d"
            ],
            [
             0.2,
             "#de77ae"
            ],
            [
             0.3,
             "#f1b6da"
            ],
            [
             0.4,
             "#fde0ef"
            ],
            [
             0.5,
             "#f7f7f7"
            ],
            [
             0.6,
             "#e6f5d0"
            ],
            [
             0.7,
             "#b8e186"
            ],
            [
             0.8,
             "#7fbc41"
            ],
            [
             0.9,
             "#4d9221"
            ],
            [
             1,
             "#276419"
            ]
           ],
           "sequential": [
            [
             0,
             "#0d0887"
            ],
            [
             0.1111111111111111,
             "#46039f"
            ],
            [
             0.2222222222222222,
             "#7201a8"
            ],
            [
             0.3333333333333333,
             "#9c179e"
            ],
            [
             0.4444444444444444,
             "#bd3786"
            ],
            [
             0.5555555555555556,
             "#d8576b"
            ],
            [
             0.6666666666666666,
             "#ed7953"
            ],
            [
             0.7777777777777778,
             "#fb9f3a"
            ],
            [
             0.8888888888888888,
             "#fdca26"
            ],
            [
             1,
             "#f0f921"
            ]
           ],
           "sequentialminus": [
            [
             0,
             "#0d0887"
            ],
            [
             0.1111111111111111,
             "#46039f"
            ],
            [
             0.2222222222222222,
             "#7201a8"
            ],
            [
             0.3333333333333333,
             "#9c179e"
            ],
            [
             0.4444444444444444,
             "#bd3786"
            ],
            [
             0.5555555555555556,
             "#d8576b"
            ],
            [
             0.6666666666666666,
             "#ed7953"
            ],
            [
             0.7777777777777778,
             "#fb9f3a"
            ],
            [
             0.8888888888888888,
             "#fdca26"
            ],
            [
             1,
             "#f0f921"
            ]
           ]
          },
          "colorway": [
           "#636efa",
           "#EF553B",
           "#00cc96",
           "#ab63fa",
           "#FFA15A",
           "#19d3f3",
           "#FF6692",
           "#B6E880",
           "#FF97FF",
           "#FECB52"
          ],
          "font": {
           "color": "#2a3f5f"
          },
          "geo": {
           "bgcolor": "white",
           "lakecolor": "white",
           "landcolor": "#E5ECF6",
           "showlakes": true,
           "showland": true,
           "subunitcolor": "white"
          },
          "hoverlabel": {
           "align": "left"
          },
          "hovermode": "closest",
          "mapbox": {
           "style": "light"
          },
          "paper_bgcolor": "white",
          "plot_bgcolor": "#E5ECF6",
          "polar": {
           "angularaxis": {
            "gridcolor": "white",
            "linecolor": "white",
            "ticks": ""
           },
           "bgcolor": "#E5ECF6",
           "radialaxis": {
            "gridcolor": "white",
            "linecolor": "white",
            "ticks": ""
           }
          },
          "scene": {
           "xaxis": {
            "backgroundcolor": "#E5ECF6",
            "gridcolor": "white",
            "gridwidth": 2,
            "linecolor": "white",
            "showbackground": true,
            "ticks": "",
            "zerolinecolor": "white"
           },
           "yaxis": {
            "backgroundcolor": "#E5ECF6",
            "gridcolor": "white",
            "gridwidth": 2,
            "linecolor": "white",
            "showbackground": true,
            "ticks": "",
            "zerolinecolor": "white"
           },
           "zaxis": {
            "backgroundcolor": "#E5ECF6",
            "gridcolor": "white",
            "gridwidth": 2,
            "linecolor": "white",
            "showbackground": true,
            "ticks": "",
            "zerolinecolor": "white"
           }
          },
          "shapedefaults": {
           "line": {
            "color": "#2a3f5f"
           }
          },
          "ternary": {
           "aaxis": {
            "gridcolor": "white",
            "linecolor": "white",
            "ticks": ""
           },
           "baxis": {
            "gridcolor": "white",
            "linecolor": "white",
            "ticks": ""
           },
           "bgcolor": "#E5ECF6",
           "caxis": {
            "gridcolor": "white",
            "linecolor": "white",
            "ticks": ""
           }
          },
          "title": {
           "x": 0.05
          },
          "xaxis": {
           "automargin": true,
           "gridcolor": "white",
           "linecolor": "white",
           "ticks": "",
           "title": {
            "standoff": 15
           },
           "zerolinecolor": "white",
           "zerolinewidth": 2
          },
          "yaxis": {
           "automargin": true,
           "gridcolor": "white",
           "linecolor": "white",
           "ticks": "",
           "title": {
            "standoff": 15
           },
           "zerolinecolor": "white",
           "zerolinewidth": 2
          }
         }
        },
        "updatemenus": [
         {
          "buttons": [
           {
            "args": [
             {
              "visible": [
               true,
               false,
               false,
               false,
               false,
               false,
               false,
               false,
               false,
               false,
               false,
               false,
               false,
               false,
               false,
               false,
               false,
               false,
               false
              ]
             },
             {
              "title": {
               "text": "Denied Boardings by Airline Carrier <br><sup>Alaska Airlines </sup>"
              }
             }
            ],
            "label": "Alaska Airlines",
            "method": "update"
           },
           {
            "args": [
             {
              "visible": [
               false,
               true,
               false,
               false,
               false,
               false,
               false,
               false,
               false,
               false,
               false,
               false,
               false,
               false,
               false,
               false,
               false,
               false,
               false
              ]
             },
             {
              "title": {
               "text": "Denied Boardings by Airline Carrier <br><sup>Allegiant Airlines </sup>"
              }
             }
            ],
            "label": "Allegiant Airlines",
            "method": "update"
           },
           {
            "args": [
             {
              "visible": [
               false,
               false,
               true,
               false,
               false,
               false,
               false,
               false,
               false,
               false,
               false,
               false,
               false,
               false,
               false,
               false,
               false,
               false,
               false
              ]
             },
             {
              "title": {
               "text": "Denied Boardings by Airline Carrier <br><sup>American Airlines </sup>"
              }
             }
            ],
            "label": "American Airlines",
            "method": "update"
           },
           {
            "args": [
             {
              "visible": [
               false,
               false,
               false,
               true,
               false,
               false,
               false,
               false,
               false,
               false,
               false,
               false,
               false,
               false,
               false,
               false,
               false,
               false,
               false
              ]
             },
             {
              "title": {
               "text": "Denied Boardings by Airline Carrier <br><sup>Delta Air Lines </sup>"
              }
             }
            ],
            "label": "Delta Air Lines",
            "method": "update"
           },
           {
            "args": [
             {
              "visible": [
               false,
               false,
               false,
               false,
               true,
               false,
               false,
               false,
               false,
               false,
               false,
               false,
               false,
               false,
               false,
               false,
               false,
               false,
               false
              ]
             },
             {
              "title": {
               "text": "Denied Boardings by Airline Carrier <br><sup>Endeavor Air </sup>"
              }
             }
            ],
            "label": "Endeavor Air",
            "method": "update"
           },
           {
            "args": [
             {
              "visible": [
               false,
               false,
               false,
               false,
               false,
               true,
               false,
               false,
               false,
               false,
               false,
               false,
               false,
               false,
               false,
               false,
               false,
               false,
               false
              ]
             },
             {
              "title": {
               "text": "Denied Boardings by Airline Carrier <br><sup>Envoy Air </sup>"
              }
             }
            ],
            "label": "Envoy Air",
            "method": "update"
           },
           {
            "args": [
             {
              "visible": [
               false,
               false,
               false,
               false,
               false,
               false,
               true,
               false,
               false,
               false,
               false,
               false,
               false,
               false,
               false,
               false,
               false,
               false,
               false
              ]
             },
             {
              "title": {
               "text": "Denied Boardings by Airline Carrier <br><sup>ExpressJet Airlines </sup>"
              }
             }
            ],
            "label": "ExpressJet Airlines",
            "method": "update"
           },
           {
            "args": [
             {
              "visible": [
               false,
               false,
               false,
               false,
               false,
               false,
               false,
               true,
               false,
               false,
               false,
               false,
               false,
               false,
               false,
               false,
               false,
               false,
               false
              ]
             },
             {
              "title": {
               "text": "Denied Boardings by Airline Carrier <br><sup>Frontier Airlines </sup>"
              }
             }
            ],
            "label": "Frontier Airlines",
            "method": "update"
           },
           {
            "args": [
             {
              "visible": [
               false,
               false,
               false,
               false,
               false,
               false,
               false,
               false,
               true,
               false,
               false,
               false,
               false,
               false,
               false,
               false,
               false,
               false,
               false
              ]
             },
             {
              "title": {
               "text": "Denied Boardings by Airline Carrier <br><sup>Hawaiian Airlines </sup>"
              }
             }
            ],
            "label": "Hawaiian Airlines",
            "method": "update"
           },
           {
            "args": [
             {
              "visible": [
               false,
               false,
               false,
               false,
               false,
               false,
               false,
               false,
               false,
               true,
               false,
               false,
               false,
               false,
               false,
               false,
               false,
               false,
               false
              ]
             },
             {
              "title": {
               "text": "Denied Boardings by Airline Carrier <br><sup>JetBlue Airways </sup>"
              }
             }
            ],
            "label": "JetBlue Airways",
            "method": "update"
           },
           {
            "args": [
             {
              "visible": [
               false,
               false,
               false,
               false,
               false,
               false,
               false,
               false,
               false,
               false,
               true,
               false,
               false,
               false,
               false,
               false,
               false,
               false,
               false
              ]
             },
             {
              "title": {
               "text": "Denied Boardings by Airline Carrier <br><sup>Mesa Airlines </sup>"
              }
             }
            ],
            "label": "Mesa Airlines",
            "method": "update"
           },
           {
            "args": [
             {
              "visible": [
               false,
               false,
               false,
               false,
               false,
               false,
               false,
               false,
               false,
               false,
               false,
               true,
               false,
               false,
               false,
               false,
               false,
               false,
               false
              ]
             },
             {
              "title": {
               "text": "Denied Boardings by Airline Carrier <br><sup>PSA Airlines </sup>"
              }
             }
            ],
            "label": "PSA Airlines",
            "method": "update"
           },
           {
            "args": [
             {
              "visible": [
               false,
               false,
               false,
               false,
               false,
               false,
               false,
               false,
               false,
               false,
               false,
               false,
               true,
               false,
               false,
               false,
               false,
               false,
               false
              ]
             },
             {
              "title": {
               "text": "Denied Boardings by Airline Carrier <br><sup>Republic Airline </sup>"
              }
             }
            ],
            "label": "Republic Airline",
            "method": "update"
           },
           {
            "args": [
             {
              "visible": [
               false,
               false,
               false,
               false,
               false,
               false,
               false,
               false,
               false,
               false,
               false,
               false,
               false,
               true,
               false,
               false,
               false,
               false,
               false
              ]
             },
             {
              "title": {
               "text": "Denied Boardings by Airline Carrier <br><sup>SkyWest Airlines </sup>"
              }
             }
            ],
            "label": "SkyWest Airlines",
            "method": "update"
           },
           {
            "args": [
             {
              "visible": [
               false,
               false,
               false,
               false,
               false,
               false,
               false,
               false,
               false,
               false,
               false,
               false,
               false,
               false,
               true,
               false,
               false,
               false,
               false
              ]
             },
             {
              "title": {
               "text": "Denied Boardings by Airline Carrier <br><sup>Southwest Airlines </sup>"
              }
             }
            ],
            "label": "Southwest Airlines",
            "method": "update"
           },
           {
            "args": [
             {
              "visible": [
               false,
               false,
               false,
               false,
               false,
               false,
               false,
               false,
               false,
               false,
               false,
               false,
               false,
               false,
               false,
               true,
               false,
               false,
               false
              ]
             },
             {
              "title": {
               "text": "Denied Boardings by Airline Carrier <br><sup>Spirit Airlines </sup>"
              }
             }
            ],
            "label": "Spirit Airlines",
            "method": "update"
           },
           {
            "args": [
             {
              "visible": [
               false,
               false,
               false,
               false,
               false,
               false,
               false,
               false,
               false,
               false,
               false,
               false,
               false,
               false,
               false,
               false,
               true,
               false,
               false
              ]
             },
             {
              "title": {
               "text": "Denied Boardings by Airline Carrier <br><sup>United Air Lines </sup>"
              }
             }
            ],
            "label": "United Air Lines",
            "method": "update"
           },
           {
            "args": [
             {
              "visible": [
               false,
               false,
               false,
               false,
               false,
               false,
               false,
               false,
               false,
               false,
               false,
               false,
               false,
               false,
               false,
               false,
               false,
               true,
               false
              ]
             },
             {
              "title": {
               "text": "Denied Boardings by Airline Carrier <br><sup>Virgin America  </sup>"
              }
             }
            ],
            "label": "Virgin America ",
            "method": "update"
           },
           {
            "args": [
             {
              "visible": [
               false,
               false,
               false,
               false,
               false,
               false,
               false,
               false,
               false,
               false,
               false,
               false,
               false,
               false,
               false,
               false,
               false,
               false,
               true
              ]
             },
             {
              "title": {
               "text": "Denied Boardings by Airline Carrier <br><sup>Horizon Air </sup>"
              }
             }
            ],
            "label": "Horizon Air",
            "method": "update"
           }
          ]
         }
        ]
       }
      }
     },
     "metadata": {},
     "output_type": "display_data"
    }
   ],
   "source": [
    "fig.update_layout(\n",
    "    updatemenus=[\n",
    "        {\n",
    "            \"buttons\": [\n",
    "                {\n",
    "                    \"label\": k,\n",
    "                    \"method\": \"update\",\n",
    "                    # list comprehension for which traces are visible\n",
    "                    \"args\": [{\"visible\": [kk == k for kk in figs.keys()]},\n",
    "                             {\"title\":go.layout.xaxis.Title(\n",
    "            text=f\"Denied Boardings by Airline Carrier <br><sup>{k} </sup>\"\n",
    "            )}],\n",
    "                }\n",
    "                for k in figs.keys()\n",
    "            ]\n",
    "        }\n",
    "    ]\n",
    ")"
   ]
  }
 ],
 "metadata": {
  "kernelspec": {
   "display_name": "Python 3",
   "language": "python",
   "name": "python3"
  },
  "language_info": {
   "codemirror_mode": {
    "name": "ipython",
    "version": 3
   },
   "file_extension": ".py",
   "mimetype": "text/x-python",
   "name": "python",
   "nbconvert_exporter": "python",
   "pygments_lexer": "ipython3",
   "version": "3.11.1"
  },
  "orig_nbformat": 4
 },
 "nbformat": 4,
 "nbformat_minor": 2
}
