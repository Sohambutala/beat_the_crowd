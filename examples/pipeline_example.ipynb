{
 "cells": [
  {
   "cell_type": "code",
   "execution_count": null,
   "metadata": {},
   "outputs": [],
   "source": [
    "import sys\n",
    "#pylint: disable=wrong-import-position\n",
    "sys.path.append(\"pipeline\")\n",
    "import Process.processing\n",
    "import Extract.extract\n",
    "import Load.loading\n",
    "#pylint: disable=wrong-import-position"
   ]
  },
  {
   "cell_type": "code",
   "execution_count": null,
   "metadata": {},
   "outputs": [],
   "source": [
    "path = \"/pipeline_etl\"\n",
    "#Extracts all the data from BTS.gov\n",
    "Extract.extract.extract_main(path)\n",
    "#Processes data collected by extraction and makes it ready to store\n",
    "Process.processing.processing_main(path)\n",
    "#Loads data from process into SQL Server\n",
    "Load.loading.loading_main(path)"
   ]
  }
 ],
 "metadata": {
  "language_info": {
   "name": "python"
  },
  "orig_nbformat": 4
 },
 "nbformat": 4,
 "nbformat_minor": 2
}
