{
 "cells": [
  {
   "cell_type": "code",
   "execution_count": 2,
   "metadata": {},
   "outputs": [],
   "source": [
    "import pandas as pd\n",
    "import plotly as p\n",
    "import plotly.express as px \n",
    "import plotly.io as pio\n",
    "import plotly.graph_objects as go\n",
    "pio.templates.default = \"plotly_dark\""
   ]
  },
  {
   "cell_type": "code",
   "execution_count": 309,
   "metadata": {},
   "outputs": [],
   "source": [
    "years = list(map(str, list(range(2018, 2022, 1)))) # years with data available on BTS\n",
    "quarters = (\"Q1\", \"Q2\", \"Q3\", \"Q4\")\n",
    "denied_board_dfs = list()\n",
    "\n",
    "# read in data that uses new reporting method - excel sheet with sheet for each quarter \n",
    "for year in years: \n",
    "    for quarter in quarters:\n",
    "        file_path = \"..\\\\Analysis\\\\raw_data\\\\denied_boarding\\\\Denied-Confirmed-Space-\" + year + \"-Operating-Carrier.xlsx\"\n",
    "        sheet = quarter + year\n",
    "        df = pd.read_excel(file_path, sheet_name=sheet, header = 2)\n",
    "        \n",
    "        # column definitions changed in 2021\n",
    "        if (year != \"2021\"):\n",
    "            df[6] = df[7]\n",
    "            df[7] = df['8(c)']\n",
    "            df = df[['CARRIER',    \n",
    "                     '1(a)',    \n",
    "                     '1(b)',    \n",
    "                     '2(a)',    \n",
    "                     '2(b)',    \n",
    "                     '2(c)',\n",
    "                     3,         \n",
    "                     4,         \n",
    "                     5,\n",
    "                     6,\n",
    "                     7]]\n",
    "        df['year'] = year\n",
    "        df['quarter'] = quarter + \" \" + year\n",
    "        df = df[pd.isna(df[6]) != True ]\n",
    "        denied_board_dfs.append(df)\n",
    "        \n",
    "denied_boarding = pd.concat(denied_board_dfs)\n",
    "\n",
    "denied_boarding[1] = denied_boarding['1(a)']+denied_boarding['1(b)']\n",
    "denied_boarding[2] = denied_boarding['2(a)']+denied_boarding['2(b)']+denied_boarding['2(c)']\n",
    "denied_boarding['perc_denied_boarding'] = round(((denied_boarding[3] + denied_boarding[5])/denied_boarding[6])*100, 4)\n",
    "denied_boarding['perc_denied_boarding_involuntary'] = round((denied_boarding[3]/denied_boarding[6])*100, 6)\n",
    "denied_boarding['perc_denied_boarding_voluntary'] = round((denied_boarding[5]/denied_boarding[6]*100), 6)\n",
    "denied_boarding['total_denials'] = denied_boarding[3]+denied_boarding[5]\n",
    "denied_boarding['cash_per_vol_denial'] = round((denied_boarding[7]/denied_boarding[5]),2)\n",
    "\n",
    "denied_boarding['date'] = pd.to_datetime([\n",
    "    '-'.join(x.split()[::-1]) for x in denied_boarding['quarter']])\n",
    "\n",
    "# Standardize naming conventions of airlines \n",
    "denied_boarding.loc[denied_boarding.CARRIER == 'Allegiant Air', 'CARRIER'] = 'Allegiant Airlines'\n",
    "denied_boarding.loc[denied_boarding.CARRIER == 'Alaska Airlines Codeshare', 'CARRIER'] = 'Alaska Airlines'\n",
    "denied_boarding.loc[denied_boarding.CARRIER == 'Republic Airways', 'CARRIER']= 'Republic Airline'\n",
    "denied_boarding.loc[denied_boarding.CARRIER == 'United Airlines', 'CARRIER'] = 'United Air Lines'\n",
    "\n",
    "denied_boarding.to_csv(\"..\\\\Analysis\\\\clean_data\\\\denied_boarding.csv\")"
   ]
  },
  {
   "cell_type": "code",
   "execution_count": 313,
   "metadata": {},
   "outputs": [
    {
     "name": "stderr",
     "output_type": "stream",
     "text": [
      "C:\\Users\\franc\\AppData\\Local\\Temp\\ipykernel_51892\\105541474.py:1: FutureWarning:\n",
      "\n",
      "The default value of numeric_only in DataFrameGroupBy.mean is deprecated. In a future version, numeric_only will default to False. Either specify numeric_only or select only columns which should be valid for the function.\n",
      "\n"
     ]
    },
    {
     "data": {
      "application/vnd.plotly.v1+json": {
       "config": {
        "plotlyServerURL": "https://plot.ly"
       },
       "data": [
        {
         "fillpattern": {
          "shape": ""
         },
         "hovertemplate": "Denial Type=Voluntary<br>Year=%{x}<br>Percent of Passengers Denied Boarding=%{y}<extra></extra>",
         "legendgroup": "Voluntary",
         "line": {
          "color": "#2E91E5"
         },
         "marker": {
          "symbol": "circle"
         },
         "mode": "lines",
         "name": "Voluntary",
         "orientation": "v",
         "showlegend": true,
         "stackgroup": "1",
         "type": "scatter",
         "x": [
          "2018-01-01T00:00:00",
          "2018-04-01T00:00:00",
          "2018-07-01T00:00:00",
          "2018-10-01T00:00:00",
          "2019-01-01T00:00:00",
          "2019-04-01T00:00:00",
          "2019-07-01T00:00:00",
          "2019-10-01T00:00:00",
          "2020-01-01T00:00:00",
          "2020-04-01T00:00:00",
          "2020-07-01T00:00:00",
          "2020-10-01T00:00:00",
          "2021-01-01T00:00:00",
          "2021-04-01T00:00:00",
          "2021-07-01T00:00:00",
          "2021-10-01T00:00:00"
         ],
         "xaxis": "x",
         "y": [
          0.054796722222222226,
          0.05260888235294118,
          0.05579117647058823,
          0.05363447058823529,
          0.0666750588235294,
          0.07832482352941175,
          0.059996,
          0.05608894117647059,
          0.04040494117647059,
          0.01904264705882353,
          0.011265058823529413,
          0.0074625,
          0.01629911764705882,
          0.025616,
          0.034309882352941176,
          0.03530447058823529
         ],
         "yaxis": "y"
        },
        {
         "fillpattern": {
          "shape": ""
         },
         "hovertemplate": "Denial Type=Involuntary<br>Year=%{x}<br>Percent of Passengers Denied Boarding=%{y}<extra></extra>",
         "legendgroup": "Involuntary",
         "line": {
          "color": "#E15F99"
         },
         "marker": {
          "symbol": "circle"
         },
         "mode": "lines",
         "name": "Involuntary",
         "orientation": "v",
         "showlegend": true,
         "stackgroup": "1",
         "type": "scatter",
         "x": [
          "2018-01-01T00:00:00",
          "2018-04-01T00:00:00",
          "2018-07-01T00:00:00",
          "2018-10-01T00:00:00",
          "2019-01-01T00:00:00",
          "2019-04-01T00:00:00",
          "2019-07-01T00:00:00",
          "2019-10-01T00:00:00",
          "2020-01-01T00:00:00",
          "2020-04-01T00:00:00",
          "2020-07-01T00:00:00",
          "2020-10-01T00:00:00",
          "2021-01-01T00:00:00",
          "2021-04-01T00:00:00",
          "2021-07-01T00:00:00",
          "2021-10-01T00:00:00"
         ],
         "xaxis": "x",
         "y": [
          0.0018568333333333334,
          0.0013683529411764707,
          0.0017371764705882353,
          0.002549823529411765,
          0.004312882352941176,
          0.0036731764705882357,
          0.002597647058823529,
          0.0026798823529411765,
          0.0016502941176470588,
          0.001500529411764706,
          0.0013871176470588236,
          0.0004821875,
          0.0008186470588235293,
          0.0016499411764705884,
          0.0018530588235294119,
          0.002482176470588235
         ],
         "yaxis": "y"
        }
       ],
       "layout": {
        "legend": {
         "title": {
          "text": "Denial Type"
         },
         "tracegroupgap": 0
        },
        "template": {
         "data": {
          "bar": [
           {
            "error_x": {
             "color": "#f2f5fa"
            },
            "error_y": {
             "color": "#f2f5fa"
            },
            "marker": {
             "line": {
              "color": "rgb(17,17,17)",
              "width": 0.5
             },
             "pattern": {
              "fillmode": "overlay",
              "size": 10,
              "solidity": 0.2
             }
            },
            "type": "bar"
           }
          ],
          "barpolar": [
           {
            "marker": {
             "line": {
              "color": "rgb(17,17,17)",
              "width": 0.5
             },
             "pattern": {
              "fillmode": "overlay",
              "size": 10,
              "solidity": 0.2
             }
            },
            "type": "barpolar"
           }
          ],
          "carpet": [
           {
            "aaxis": {
             "endlinecolor": "#A2B1C6",
             "gridcolor": "#506784",
             "linecolor": "#506784",
             "minorgridcolor": "#506784",
             "startlinecolor": "#A2B1C6"
            },
            "baxis": {
             "endlinecolor": "#A2B1C6",
             "gridcolor": "#506784",
             "linecolor": "#506784",
             "minorgridcolor": "#506784",
             "startlinecolor": "#A2B1C6"
            },
            "type": "carpet"
           }
          ],
          "choropleth": [
           {
            "colorbar": {
             "outlinewidth": 0,
             "ticks": ""
            },
            "type": "choropleth"
           }
          ],
          "contour": [
           {
            "colorbar": {
             "outlinewidth": 0,
             "ticks": ""
            },
            "colorscale": [
             [
              0,
              "#0d0887"
             ],
             [
              0.1111111111111111,
              "#46039f"
             ],
             [
              0.2222222222222222,
              "#7201a8"
             ],
             [
              0.3333333333333333,
              "#9c179e"
             ],
             [
              0.4444444444444444,
              "#bd3786"
             ],
             [
              0.5555555555555556,
              "#d8576b"
             ],
             [
              0.6666666666666666,
              "#ed7953"
             ],
             [
              0.7777777777777778,
              "#fb9f3a"
             ],
             [
              0.8888888888888888,
              "#fdca26"
             ],
             [
              1,
              "#f0f921"
             ]
            ],
            "type": "contour"
           }
          ],
          "contourcarpet": [
           {
            "colorbar": {
             "outlinewidth": 0,
             "ticks": ""
            },
            "type": "contourcarpet"
           }
          ],
          "heatmap": [
           {
            "colorbar": {
             "outlinewidth": 0,
             "ticks": ""
            },
            "colorscale": [
             [
              0,
              "#0d0887"
             ],
             [
              0.1111111111111111,
              "#46039f"
             ],
             [
              0.2222222222222222,
              "#7201a8"
             ],
             [
              0.3333333333333333,
              "#9c179e"
             ],
             [
              0.4444444444444444,
              "#bd3786"
             ],
             [
              0.5555555555555556,
              "#d8576b"
             ],
             [
              0.6666666666666666,
              "#ed7953"
             ],
             [
              0.7777777777777778,
              "#fb9f3a"
             ],
             [
              0.8888888888888888,
              "#fdca26"
             ],
             [
              1,
              "#f0f921"
             ]
            ],
            "type": "heatmap"
           }
          ],
          "heatmapgl": [
           {
            "colorbar": {
             "outlinewidth": 0,
             "ticks": ""
            },
            "colorscale": [
             [
              0,
              "#0d0887"
             ],
             [
              0.1111111111111111,
              "#46039f"
             ],
             [
              0.2222222222222222,
              "#7201a8"
             ],
             [
              0.3333333333333333,
              "#9c179e"
             ],
             [
              0.4444444444444444,
              "#bd3786"
             ],
             [
              0.5555555555555556,
              "#d8576b"
             ],
             [
              0.6666666666666666,
              "#ed7953"
             ],
             [
              0.7777777777777778,
              "#fb9f3a"
             ],
             [
              0.8888888888888888,
              "#fdca26"
             ],
             [
              1,
              "#f0f921"
             ]
            ],
            "type": "heatmapgl"
           }
          ],
          "histogram": [
           {
            "marker": {
             "pattern": {
              "fillmode": "overlay",
              "size": 10,
              "solidity": 0.2
             }
            },
            "type": "histogram"
           }
          ],
          "histogram2d": [
           {
            "colorbar": {
             "outlinewidth": 0,
             "ticks": ""
            },
            "colorscale": [
             [
              0,
              "#0d0887"
             ],
             [
              0.1111111111111111,
              "#46039f"
             ],
             [
              0.2222222222222222,
              "#7201a8"
             ],
             [
              0.3333333333333333,
              "#9c179e"
             ],
             [
              0.4444444444444444,
              "#bd3786"
             ],
             [
              0.5555555555555556,
              "#d8576b"
             ],
             [
              0.6666666666666666,
              "#ed7953"
             ],
             [
              0.7777777777777778,
              "#fb9f3a"
             ],
             [
              0.8888888888888888,
              "#fdca26"
             ],
             [
              1,
              "#f0f921"
             ]
            ],
            "type": "histogram2d"
           }
          ],
          "histogram2dcontour": [
           {
            "colorbar": {
             "outlinewidth": 0,
             "ticks": ""
            },
            "colorscale": [
             [
              0,
              "#0d0887"
             ],
             [
              0.1111111111111111,
              "#46039f"
             ],
             [
              0.2222222222222222,
              "#7201a8"
             ],
             [
              0.3333333333333333,
              "#9c179e"
             ],
             [
              0.4444444444444444,
              "#bd3786"
             ],
             [
              0.5555555555555556,
              "#d8576b"
             ],
             [
              0.6666666666666666,
              "#ed7953"
             ],
             [
              0.7777777777777778,
              "#fb9f3a"
             ],
             [
              0.8888888888888888,
              "#fdca26"
             ],
             [
              1,
              "#f0f921"
             ]
            ],
            "type": "histogram2dcontour"
           }
          ],
          "mesh3d": [
           {
            "colorbar": {
             "outlinewidth": 0,
             "ticks": ""
            },
            "type": "mesh3d"
           }
          ],
          "parcoords": [
           {
            "line": {
             "colorbar": {
              "outlinewidth": 0,
              "ticks": ""
             }
            },
            "type": "parcoords"
           }
          ],
          "pie": [
           {
            "automargin": true,
            "type": "pie"
           }
          ],
          "scatter": [
           {
            "marker": {
             "line": {
              "color": "#283442"
             }
            },
            "type": "scatter"
           }
          ],
          "scatter3d": [
           {
            "line": {
             "colorbar": {
              "outlinewidth": 0,
              "ticks": ""
             }
            },
            "marker": {
             "colorbar": {
              "outlinewidth": 0,
              "ticks": ""
             }
            },
            "type": "scatter3d"
           }
          ],
          "scattercarpet": [
           {
            "marker": {
             "colorbar": {
              "outlinewidth": 0,
              "ticks": ""
             }
            },
            "type": "scattercarpet"
           }
          ],
          "scattergeo": [
           {
            "marker": {
             "colorbar": {
              "outlinewidth": 0,
              "ticks": ""
             }
            },
            "type": "scattergeo"
           }
          ],
          "scattergl": [
           {
            "marker": {
             "line": {
              "color": "#283442"
             }
            },
            "type": "scattergl"
           }
          ],
          "scattermapbox": [
           {
            "marker": {
             "colorbar": {
              "outlinewidth": 0,
              "ticks": ""
             }
            },
            "type": "scattermapbox"
           }
          ],
          "scatterpolar": [
           {
            "marker": {
             "colorbar": {
              "outlinewidth": 0,
              "ticks": ""
             }
            },
            "type": "scatterpolar"
           }
          ],
          "scatterpolargl": [
           {
            "marker": {
             "colorbar": {
              "outlinewidth": 0,
              "ticks": ""
             }
            },
            "type": "scatterpolargl"
           }
          ],
          "scatterternary": [
           {
            "marker": {
             "colorbar": {
              "outlinewidth": 0,
              "ticks": ""
             }
            },
            "type": "scatterternary"
           }
          ],
          "surface": [
           {
            "colorbar": {
             "outlinewidth": 0,
             "ticks": ""
            },
            "colorscale": [
             [
              0,
              "#0d0887"
             ],
             [
              0.1111111111111111,
              "#46039f"
             ],
             [
              0.2222222222222222,
              "#7201a8"
             ],
             [
              0.3333333333333333,
              "#9c179e"
             ],
             [
              0.4444444444444444,
              "#bd3786"
             ],
             [
              0.5555555555555556,
              "#d8576b"
             ],
             [
              0.6666666666666666,
              "#ed7953"
             ],
             [
              0.7777777777777778,
              "#fb9f3a"
             ],
             [
              0.8888888888888888,
              "#fdca26"
             ],
             [
              1,
              "#f0f921"
             ]
            ],
            "type": "surface"
           }
          ],
          "table": [
           {
            "cells": {
             "fill": {
              "color": "#506784"
             },
             "line": {
              "color": "rgb(17,17,17)"
             }
            },
            "header": {
             "fill": {
              "color": "#2a3f5f"
             },
             "line": {
              "color": "rgb(17,17,17)"
             }
            },
            "type": "table"
           }
          ]
         },
         "layout": {
          "annotationdefaults": {
           "arrowcolor": "#f2f5fa",
           "arrowhead": 0,
           "arrowwidth": 1
          },
          "autotypenumbers": "strict",
          "coloraxis": {
           "colorbar": {
            "outlinewidth": 0,
            "ticks": ""
           }
          },
          "colorscale": {
           "diverging": [
            [
             0,
             "#8e0152"
            ],
            [
             0.1,
             "#c51b7d"
            ],
            [
             0.2,
             "#de77ae"
            ],
            [
             0.3,
             "#f1b6da"
            ],
            [
             0.4,
             "#fde0ef"
            ],
            [
             0.5,
             "#f7f7f7"
            ],
            [
             0.6,
             "#e6f5d0"
            ],
            [
             0.7,
             "#b8e186"
            ],
            [
             0.8,
             "#7fbc41"
            ],
            [
             0.9,
             "#4d9221"
            ],
            [
             1,
             "#276419"
            ]
           ],
           "sequential": [
            [
             0,
             "#0d0887"
            ],
            [
             0.1111111111111111,
             "#46039f"
            ],
            [
             0.2222222222222222,
             "#7201a8"
            ],
            [
             0.3333333333333333,
             "#9c179e"
            ],
            [
             0.4444444444444444,
             "#bd3786"
            ],
            [
             0.5555555555555556,
             "#d8576b"
            ],
            [
             0.6666666666666666,
             "#ed7953"
            ],
            [
             0.7777777777777778,
             "#fb9f3a"
            ],
            [
             0.8888888888888888,
             "#fdca26"
            ],
            [
             1,
             "#f0f921"
            ]
           ],
           "sequentialminus": [
            [
             0,
             "#0d0887"
            ],
            [
             0.1111111111111111,
             "#46039f"
            ],
            [
             0.2222222222222222,
             "#7201a8"
            ],
            [
             0.3333333333333333,
             "#9c179e"
            ],
            [
             0.4444444444444444,
             "#bd3786"
            ],
            [
             0.5555555555555556,
             "#d8576b"
            ],
            [
             0.6666666666666666,
             "#ed7953"
            ],
            [
             0.7777777777777778,
             "#fb9f3a"
            ],
            [
             0.8888888888888888,
             "#fdca26"
            ],
            [
             1,
             "#f0f921"
            ]
           ]
          },
          "colorway": [
           "#636efa",
           "#EF553B",
           "#00cc96",
           "#ab63fa",
           "#FFA15A",
           "#19d3f3",
           "#FF6692",
           "#B6E880",
           "#FF97FF",
           "#FECB52"
          ],
          "font": {
           "color": "#f2f5fa"
          },
          "geo": {
           "bgcolor": "rgb(17,17,17)",
           "lakecolor": "rgb(17,17,17)",
           "landcolor": "rgb(17,17,17)",
           "showlakes": true,
           "showland": true,
           "subunitcolor": "#506784"
          },
          "hoverlabel": {
           "align": "left"
          },
          "hovermode": "closest",
          "mapbox": {
           "style": "dark"
          },
          "paper_bgcolor": "rgb(17,17,17)",
          "plot_bgcolor": "rgb(17,17,17)",
          "polar": {
           "angularaxis": {
            "gridcolor": "#506784",
            "linecolor": "#506784",
            "ticks": ""
           },
           "bgcolor": "rgb(17,17,17)",
           "radialaxis": {
            "gridcolor": "#506784",
            "linecolor": "#506784",
            "ticks": ""
           }
          },
          "scene": {
           "xaxis": {
            "backgroundcolor": "rgb(17,17,17)",
            "gridcolor": "#506784",
            "gridwidth": 2,
            "linecolor": "#506784",
            "showbackground": true,
            "ticks": "",
            "zerolinecolor": "#C8D4E3"
           },
           "yaxis": {
            "backgroundcolor": "rgb(17,17,17)",
            "gridcolor": "#506784",
            "gridwidth": 2,
            "linecolor": "#506784",
            "showbackground": true,
            "ticks": "",
            "zerolinecolor": "#C8D4E3"
           },
           "zaxis": {
            "backgroundcolor": "rgb(17,17,17)",
            "gridcolor": "#506784",
            "gridwidth": 2,
            "linecolor": "#506784",
            "showbackground": true,
            "ticks": "",
            "zerolinecolor": "#C8D4E3"
           }
          },
          "shapedefaults": {
           "line": {
            "color": "#f2f5fa"
           }
          },
          "sliderdefaults": {
           "bgcolor": "#C8D4E3",
           "bordercolor": "rgb(17,17,17)",
           "borderwidth": 1,
           "tickwidth": 0
          },
          "ternary": {
           "aaxis": {
            "gridcolor": "#506784",
            "linecolor": "#506784",
            "ticks": ""
           },
           "baxis": {
            "gridcolor": "#506784",
            "linecolor": "#506784",
            "ticks": ""
           },
           "bgcolor": "rgb(17,17,17)",
           "caxis": {
            "gridcolor": "#506784",
            "linecolor": "#506784",
            "ticks": ""
           }
          },
          "title": {
           "x": 0.05
          },
          "updatemenudefaults": {
           "bgcolor": "#506784",
           "borderwidth": 0
          },
          "xaxis": {
           "automargin": true,
           "gridcolor": "#283442",
           "linecolor": "#506784",
           "ticks": "",
           "title": {
            "standoff": 15
           },
           "zerolinecolor": "#283442",
           "zerolinewidth": 2
          },
          "yaxis": {
           "automargin": true,
           "gridcolor": "#283442",
           "linecolor": "#506784",
           "ticks": "",
           "title": {
            "standoff": 15
           },
           "zerolinecolor": "#283442",
           "zerolinewidth": 2
          }
         }
        },
        "title": {
         "text": "Percent of Passengers Denied Boarding over Time"
        },
        "xaxis": {
         "anchor": "y",
         "domain": [
          0,
          1
         ],
         "tickangle": 45,
         "title": {
          "text": "Year"
         }
        },
        "yaxis": {
         "anchor": "x",
         "domain": [
          0,
          1
         ],
         "title": {
          "text": "Percent of Passengers Denied Boarding"
         }
        }
       }
      }
     },
     "metadata": {},
     "output_type": "display_data"
    },
    {
     "data": {
      "text/plain": [
       "plotly.graph_objs._figure.Figure"
      ]
     },
     "execution_count": 313,
     "metadata": {},
     "output_type": "execute_result"
    }
   ],
   "source": [
    "fig = px.area(denied_boarding.groupby('date').mean().reset_index().rename(columns = {'perc_denied_boarding_involuntary':\"Involuntary\", \"perc_denied_boarding_voluntary\":\"Voluntary\"}), \n",
    "              x=\"date\", y=[\"Voluntary\",\"Involuntary\"], \n",
    "                labels={\n",
    "                    \"date\": \"Year\",\n",
    "                     \"value\":\"Percent of Passengers Denied Boarding\", \n",
    "                     \"variable\":\"Denial Type\"\n",
    "                 },\n",
    "                title=\"Percent of Passengers Denied Boarding over Time\", \n",
    "\n",
    "                color_discrete_sequence=px.colors.qualitative.Dark24)\n",
    "fig.update_xaxes(tickangle = 45)\n",
    "fig.show()\n",
    "\n",
    "fig.__class__\n"
   ]
  },
  {
   "cell_type": "code",
   "execution_count": 314,
   "metadata": {},
   "outputs": [
    {
     "data": {
      "text/plain": [
       "plotly.graph_objs._figure.Figure"
      ]
     },
     "execution_count": 314,
     "metadata": {},
     "output_type": "execute_result"
    }
   ],
   "source": [
    "\n",
    "type(fig)"
   ]
  },
  {
   "cell_type": "code",
   "execution_count": 278,
   "metadata": {},
   "outputs": [
    {
     "data": {
      "application/vnd.plotly.v1+json": {
       "config": {
        "plotlyServerURL": "https://plot.ly"
       },
       "data": [
        {
         "alignmentgroup": "True",
         "hovertemplate": "Denial Type=Voluntary<br>Airline Carrier=%{x}<br>Percent of Passengers Denied Boarding=%{y}<extra></extra>",
         "legendgroup": "Voluntary",
         "marker": {
          "color": "#2E91E5",
          "pattern": {
           "shape": ""
          }
         },
         "name": "Voluntary",
         "offsetgroup": "Voluntary",
         "orientation": "v",
         "showlegend": true,
         "textposition": "auto",
         "type": "bar",
         "x": [
          "Endeavor Air",
          "SkyWest Airlines",
          "Envoy Air",
          "ExpressJet Airlines",
          "Republic Airline",
          "PSA Airlines",
          "Spirit Airlines",
          "Mesa Airlines",
          "Delta Air Lines",
          "American Airlines",
          "Horizon Air",
          "Frontier Airlines",
          "Alaska Airlines",
          "United Air Lines",
          "Southwest Airlines",
          "JetBlue Airways",
          "Allegiant Airlines",
          "Virgin America ",
          "Hawaiian Airlines"
         ],
         "xaxis": "x",
         "y": [
          0.10295,
          0.07928125,
          0.072,
          0.07372727272727274,
          0.06721875,
          0.0571625,
          0.04950625,
          0.04671875,
          0.04775,
          0.03955625,
          0.028825,
          0.01799375,
          0.02116875,
          0.02150625,
          0.01598125,
          0.00615625,
          0.0041875,
          0.0044,
          0.0050125
         ],
         "yaxis": "y"
        },
        {
         "alignmentgroup": "True",
         "hovertemplate": "Denial Type=Involuntary<br>Airline Carrier=%{x}<br>Percent of Passengers Denied Boarding=%{y}<extra></extra>",
         "legendgroup": "Involuntary",
         "marker": {
          "color": "#E15F99",
          "pattern": {
           "shape": ""
          }
         },
         "name": "Involuntary",
         "offsetgroup": "Involuntary",
         "orientation": "v",
         "showlegend": true,
         "textposition": "auto",
         "type": "bar",
         "x": [
          "Endeavor Air",
          "SkyWest Airlines",
          "Envoy Air",
          "ExpressJet Airlines",
          "Republic Airline",
          "PSA Airlines",
          "Spirit Airlines",
          "Mesa Airlines",
          "Delta Air Lines",
          "American Airlines",
          "Horizon Air",
          "Frontier Airlines",
          "Alaska Airlines",
          "United Air Lines",
          "Southwest Airlines",
          "JetBlue Airways",
          "Allegiant Airlines",
          "Virgin America ",
          "Hawaiian Airlines"
         ],
         "xaxis": "x",
         "y": [
          0.000012499999999999999,
          0.0014375,
          0.0071125,
          0.0002,
          0.0022875,
          0.00495625,
          0.0022812500000000003,
          0.00273125,
          0,
          0.00285,
          0.0025,
          0.00561875,
          0.0011125,
          0.00006874999999999999,
          0.00183125,
          0.000125,
          0.0014874999999999999,
          0.0011,
          0.00003125
         ],
         "yaxis": "y"
        }
       ],
       "layout": {
        "barmode": "relative",
        "legend": {
         "title": {
          "text": "Denial Type"
         },
         "tracegroupgap": 0
        },
        "template": {
         "data": {
          "bar": [
           {
            "error_x": {
             "color": "#f2f5fa"
            },
            "error_y": {
             "color": "#f2f5fa"
            },
            "marker": {
             "line": {
              "color": "rgb(17,17,17)",
              "width": 0.5
             },
             "pattern": {
              "fillmode": "overlay",
              "size": 10,
              "solidity": 0.2
             }
            },
            "type": "bar"
           }
          ],
          "barpolar": [
           {
            "marker": {
             "line": {
              "color": "rgb(17,17,17)",
              "width": 0.5
             },
             "pattern": {
              "fillmode": "overlay",
              "size": 10,
              "solidity": 0.2
             }
            },
            "type": "barpolar"
           }
          ],
          "carpet": [
           {
            "aaxis": {
             "endlinecolor": "#A2B1C6",
             "gridcolor": "#506784",
             "linecolor": "#506784",
             "minorgridcolor": "#506784",
             "startlinecolor": "#A2B1C6"
            },
            "baxis": {
             "endlinecolor": "#A2B1C6",
             "gridcolor": "#506784",
             "linecolor": "#506784",
             "minorgridcolor": "#506784",
             "startlinecolor": "#A2B1C6"
            },
            "type": "carpet"
           }
          ],
          "choropleth": [
           {
            "colorbar": {
             "outlinewidth": 0,
             "ticks": ""
            },
            "type": "choropleth"
           }
          ],
          "contour": [
           {
            "colorbar": {
             "outlinewidth": 0,
             "ticks": ""
            },
            "colorscale": [
             [
              0,
              "#0d0887"
             ],
             [
              0.1111111111111111,
              "#46039f"
             ],
             [
              0.2222222222222222,
              "#7201a8"
             ],
             [
              0.3333333333333333,
              "#9c179e"
             ],
             [
              0.4444444444444444,
              "#bd3786"
             ],
             [
              0.5555555555555556,
              "#d8576b"
             ],
             [
              0.6666666666666666,
              "#ed7953"
             ],
             [
              0.7777777777777778,
              "#fb9f3a"
             ],
             [
              0.8888888888888888,
              "#fdca26"
             ],
             [
              1,
              "#f0f921"
             ]
            ],
            "type": "contour"
           }
          ],
          "contourcarpet": [
           {
            "colorbar": {
             "outlinewidth": 0,
             "ticks": ""
            },
            "type": "contourcarpet"
           }
          ],
          "heatmap": [
           {
            "colorbar": {
             "outlinewidth": 0,
             "ticks": ""
            },
            "colorscale": [
             [
              0,
              "#0d0887"
             ],
             [
              0.1111111111111111,
              "#46039f"
             ],
             [
              0.2222222222222222,
              "#7201a8"
             ],
             [
              0.3333333333333333,
              "#9c179e"
             ],
             [
              0.4444444444444444,
              "#bd3786"
             ],
             [
              0.5555555555555556,
              "#d8576b"
             ],
             [
              0.6666666666666666,
              "#ed7953"
             ],
             [
              0.7777777777777778,
              "#fb9f3a"
             ],
             [
              0.8888888888888888,
              "#fdca26"
             ],
             [
              1,
              "#f0f921"
             ]
            ],
            "type": "heatmap"
           }
          ],
          "heatmapgl": [
           {
            "colorbar": {
             "outlinewidth": 0,
             "ticks": ""
            },
            "colorscale": [
             [
              0,
              "#0d0887"
             ],
             [
              0.1111111111111111,
              "#46039f"
             ],
             [
              0.2222222222222222,
              "#7201a8"
             ],
             [
              0.3333333333333333,
              "#9c179e"
             ],
             [
              0.4444444444444444,
              "#bd3786"
             ],
             [
              0.5555555555555556,
              "#d8576b"
             ],
             [
              0.6666666666666666,
              "#ed7953"
             ],
             [
              0.7777777777777778,
              "#fb9f3a"
             ],
             [
              0.8888888888888888,
              "#fdca26"
             ],
             [
              1,
              "#f0f921"
             ]
            ],
            "type": "heatmapgl"
           }
          ],
          "histogram": [
           {
            "marker": {
             "pattern": {
              "fillmode": "overlay",
              "size": 10,
              "solidity": 0.2
             }
            },
            "type": "histogram"
           }
          ],
          "histogram2d": [
           {
            "colorbar": {
             "outlinewidth": 0,
             "ticks": ""
            },
            "colorscale": [
             [
              0,
              "#0d0887"
             ],
             [
              0.1111111111111111,
              "#46039f"
             ],
             [
              0.2222222222222222,
              "#7201a8"
             ],
             [
              0.3333333333333333,
              "#9c179e"
             ],
             [
              0.4444444444444444,
              "#bd3786"
             ],
             [
              0.5555555555555556,
              "#d8576b"
             ],
             [
              0.6666666666666666,
              "#ed7953"
             ],
             [
              0.7777777777777778,
              "#fb9f3a"
             ],
             [
              0.8888888888888888,
              "#fdca26"
             ],
             [
              1,
              "#f0f921"
             ]
            ],
            "type": "histogram2d"
           }
          ],
          "histogram2dcontour": [
           {
            "colorbar": {
             "outlinewidth": 0,
             "ticks": ""
            },
            "colorscale": [
             [
              0,
              "#0d0887"
             ],
             [
              0.1111111111111111,
              "#46039f"
             ],
             [
              0.2222222222222222,
              "#7201a8"
             ],
             [
              0.3333333333333333,
              "#9c179e"
             ],
             [
              0.4444444444444444,
              "#bd3786"
             ],
             [
              0.5555555555555556,
              "#d8576b"
             ],
             [
              0.6666666666666666,
              "#ed7953"
             ],
             [
              0.7777777777777778,
              "#fb9f3a"
             ],
             [
              0.8888888888888888,
              "#fdca26"
             ],
             [
              1,
              "#f0f921"
             ]
            ],
            "type": "histogram2dcontour"
           }
          ],
          "mesh3d": [
           {
            "colorbar": {
             "outlinewidth": 0,
             "ticks": ""
            },
            "type": "mesh3d"
           }
          ],
          "parcoords": [
           {
            "line": {
             "colorbar": {
              "outlinewidth": 0,
              "ticks": ""
             }
            },
            "type": "parcoords"
           }
          ],
          "pie": [
           {
            "automargin": true,
            "type": "pie"
           }
          ],
          "scatter": [
           {
            "marker": {
             "line": {
              "color": "#283442"
             }
            },
            "type": "scatter"
           }
          ],
          "scatter3d": [
           {
            "line": {
             "colorbar": {
              "outlinewidth": 0,
              "ticks": ""
             }
            },
            "marker": {
             "colorbar": {
              "outlinewidth": 0,
              "ticks": ""
             }
            },
            "type": "scatter3d"
           }
          ],
          "scattercarpet": [
           {
            "marker": {
             "colorbar": {
              "outlinewidth": 0,
              "ticks": ""
             }
            },
            "type": "scattercarpet"
           }
          ],
          "scattergeo": [
           {
            "marker": {
             "colorbar": {
              "outlinewidth": 0,
              "ticks": ""
             }
            },
            "type": "scattergeo"
           }
          ],
          "scattergl": [
           {
            "marker": {
             "line": {
              "color": "#283442"
             }
            },
            "type": "scattergl"
           }
          ],
          "scattermapbox": [
           {
            "marker": {
             "colorbar": {
              "outlinewidth": 0,
              "ticks": ""
             }
            },
            "type": "scattermapbox"
           }
          ],
          "scatterpolar": [
           {
            "marker": {
             "colorbar": {
              "outlinewidth": 0,
              "ticks": ""
             }
            },
            "type": "scatterpolar"
           }
          ],
          "scatterpolargl": [
           {
            "marker": {
             "colorbar": {
              "outlinewidth": 0,
              "ticks": ""
             }
            },
            "type": "scatterpolargl"
           }
          ],
          "scatterternary": [
           {
            "marker": {
             "colorbar": {
              "outlinewidth": 0,
              "ticks": ""
             }
            },
            "type": "scatterternary"
           }
          ],
          "surface": [
           {
            "colorbar": {
             "outlinewidth": 0,
             "ticks": ""
            },
            "colorscale": [
             [
              0,
              "#0d0887"
             ],
             [
              0.1111111111111111,
              "#46039f"
             ],
             [
              0.2222222222222222,
              "#7201a8"
             ],
             [
              0.3333333333333333,
              "#9c179e"
             ],
             [
              0.4444444444444444,
              "#bd3786"
             ],
             [
              0.5555555555555556,
              "#d8576b"
             ],
             [
              0.6666666666666666,
              "#ed7953"
             ],
             [
              0.7777777777777778,
              "#fb9f3a"
             ],
             [
              0.8888888888888888,
              "#fdca26"
             ],
             [
              1,
              "#f0f921"
             ]
            ],
            "type": "surface"
           }
          ],
          "table": [
           {
            "cells": {
             "fill": {
              "color": "#506784"
             },
             "line": {
              "color": "rgb(17,17,17)"
             }
            },
            "header": {
             "fill": {
              "color": "#2a3f5f"
             },
             "line": {
              "color": "rgb(17,17,17)"
             }
            },
            "type": "table"
           }
          ]
         },
         "layout": {
          "annotationdefaults": {
           "arrowcolor": "#f2f5fa",
           "arrowhead": 0,
           "arrowwidth": 1
          },
          "autotypenumbers": "strict",
          "coloraxis": {
           "colorbar": {
            "outlinewidth": 0,
            "ticks": ""
           }
          },
          "colorscale": {
           "diverging": [
            [
             0,
             "#8e0152"
            ],
            [
             0.1,
             "#c51b7d"
            ],
            [
             0.2,
             "#de77ae"
            ],
            [
             0.3,
             "#f1b6da"
            ],
            [
             0.4,
             "#fde0ef"
            ],
            [
             0.5,
             "#f7f7f7"
            ],
            [
             0.6,
             "#e6f5d0"
            ],
            [
             0.7,
             "#b8e186"
            ],
            [
             0.8,
             "#7fbc41"
            ],
            [
             0.9,
             "#4d9221"
            ],
            [
             1,
             "#276419"
            ]
           ],
           "sequential": [
            [
             0,
             "#0d0887"
            ],
            [
             0.1111111111111111,
             "#46039f"
            ],
            [
             0.2222222222222222,
             "#7201a8"
            ],
            [
             0.3333333333333333,
             "#9c179e"
            ],
            [
             0.4444444444444444,
             "#bd3786"
            ],
            [
             0.5555555555555556,
             "#d8576b"
            ],
            [
             0.6666666666666666,
             "#ed7953"
            ],
            [
             0.7777777777777778,
             "#fb9f3a"
            ],
            [
             0.8888888888888888,
             "#fdca26"
            ],
            [
             1,
             "#f0f921"
            ]
           ],
           "sequentialminus": [
            [
             0,
             "#0d0887"
            ],
            [
             0.1111111111111111,
             "#46039f"
            ],
            [
             0.2222222222222222,
             "#7201a8"
            ],
            [
             0.3333333333333333,
             "#9c179e"
            ],
            [
             0.4444444444444444,
             "#bd3786"
            ],
            [
             0.5555555555555556,
             "#d8576b"
            ],
            [
             0.6666666666666666,
             "#ed7953"
            ],
            [
             0.7777777777777778,
             "#fb9f3a"
            ],
            [
             0.8888888888888888,
             "#fdca26"
            ],
            [
             1,
             "#f0f921"
            ]
           ]
          },
          "colorway": [
           "#636efa",
           "#EF553B",
           "#00cc96",
           "#ab63fa",
           "#FFA15A",
           "#19d3f3",
           "#FF6692",
           "#B6E880",
           "#FF97FF",
           "#FECB52"
          ],
          "font": {
           "color": "#f2f5fa"
          },
          "geo": {
           "bgcolor": "rgb(17,17,17)",
           "lakecolor": "rgb(17,17,17)",
           "landcolor": "rgb(17,17,17)",
           "showlakes": true,
           "showland": true,
           "subunitcolor": "#506784"
          },
          "hoverlabel": {
           "align": "left"
          },
          "hovermode": "closest",
          "mapbox": {
           "style": "dark"
          },
          "paper_bgcolor": "rgb(17,17,17)",
          "plot_bgcolor": "rgb(17,17,17)",
          "polar": {
           "angularaxis": {
            "gridcolor": "#506784",
            "linecolor": "#506784",
            "ticks": ""
           },
           "bgcolor": "rgb(17,17,17)",
           "radialaxis": {
            "gridcolor": "#506784",
            "linecolor": "#506784",
            "ticks": ""
           }
          },
          "scene": {
           "xaxis": {
            "backgroundcolor": "rgb(17,17,17)",
            "gridcolor": "#506784",
            "gridwidth": 2,
            "linecolor": "#506784",
            "showbackground": true,
            "ticks": "",
            "zerolinecolor": "#C8D4E3"
           },
           "yaxis": {
            "backgroundcolor": "rgb(17,17,17)",
            "gridcolor": "#506784",
            "gridwidth": 2,
            "linecolor": "#506784",
            "showbackground": true,
            "ticks": "",
            "zerolinecolor": "#C8D4E3"
           },
           "zaxis": {
            "backgroundcolor": "rgb(17,17,17)",
            "gridcolor": "#506784",
            "gridwidth": 2,
            "linecolor": "#506784",
            "showbackground": true,
            "ticks": "",
            "zerolinecolor": "#C8D4E3"
           }
          },
          "shapedefaults": {
           "line": {
            "color": "#f2f5fa"
           }
          },
          "sliderdefaults": {
           "bgcolor": "#C8D4E3",
           "bordercolor": "rgb(17,17,17)",
           "borderwidth": 1,
           "tickwidth": 0
          },
          "ternary": {
           "aaxis": {
            "gridcolor": "#506784",
            "linecolor": "#506784",
            "ticks": ""
           },
           "baxis": {
            "gridcolor": "#506784",
            "linecolor": "#506784",
            "ticks": ""
           },
           "bgcolor": "rgb(17,17,17)",
           "caxis": {
            "gridcolor": "#506784",
            "linecolor": "#506784",
            "ticks": ""
           }
          },
          "title": {
           "x": 0.05
          },
          "updatemenudefaults": {
           "bgcolor": "#506784",
           "borderwidth": 0
          },
          "xaxis": {
           "automargin": true,
           "gridcolor": "#283442",
           "linecolor": "#506784",
           "ticks": "",
           "title": {
            "standoff": 15
           },
           "zerolinecolor": "#283442",
           "zerolinewidth": 2
          },
          "yaxis": {
           "automargin": true,
           "gridcolor": "#283442",
           "linecolor": "#506784",
           "ticks": "",
           "title": {
            "standoff": 15
           },
           "zerolinecolor": "#283442",
           "zerolinewidth": 2
          }
         }
        },
        "title": {
         "text": "Percentage of Passengers Denied Boarding by Airline Carrier"
        },
        "xaxis": {
         "anchor": "y",
         "domain": [
          0,
          1
         ],
         "tickangle": 45,
         "title": {
          "text": "Airline Carrier"
         }
        },
        "yaxis": {
         "anchor": "x",
         "domain": [
          0,
          1
         ],
         "title": {
          "text": "Percent of Passengers Denied Boarding"
         }
        }
       }
      }
     },
     "metadata": {},
     "output_type": "display_data"
    }
   ],
   "source": [
    "denied_boarding_by_carrier = denied_boarding.groupby('CARRIER').mean(numeric_only =True).reset_index()\n",
    "fig = px.bar(denied_boarding_by_carrier.sort_values(\"perc_denied_boarding\", ascending=False).\n",
    "             rename(columns = {\n",
    "    \"perc_denied_boarding_voluntary\":\"Voluntary\",\n",
    "    \"perc_denied_boarding_involuntary\":\"Involuntary\"\n",
    "    }),\n",
    "             x=\"CARRIER\", y=[\"Voluntary\",\n",
    "                             \"Involuntary\"],\n",
    "             labels = {\n",
    "                 \"CARRIER\":\"Airline Carrier\", \n",
    "                 \"variable\":\"Denial Type\",\n",
    "                 \"value\":\"Percent of Passengers Denied Boarding\"\n",
    "             },\n",
    "                title=\"Percentage of Passengers Denied Boarding by Airline Carrier\", \n",
    "                color_discrete_sequence=px.colors.qualitative.Dark24)\n",
    "fig.update_xaxes(tickangle = 45)\n",
    "fig.show()\n"
   ]
  },
  {
   "cell_type": "code",
   "execution_count": 286,
   "metadata": {},
   "outputs": [
    {
     "data": {
      "application/vnd.plotly.v1+json": {
       "config": {
        "plotlyServerURL": "https://plot.ly"
       },
       "data": [
        {
         "hovertemplate": "<b>%{hovertext}</b><br><br>Airline=Alaska Airlines<br>Total Boardings=%{x}<br>Total Passengers Denied Boarding=%{y}<br>Percent Denied Boarding=%{marker.size}<extra></extra>",
         "hovertext": [
          "Alaska Airlines"
         ],
         "legendgroup": "Alaska Airlines",
         "marker": {
          "color": "#2E91E5",
          "size": [
           0.3563
          ],
          "sizemode": "area",
          "sizeref": 0.0004576111111111111,
          "symbol": "circle"
         },
         "mode": "markers",
         "name": "Alaska Airlines",
         "orientation": "v",
         "showlegend": true,
         "type": "scatter",
         "x": [
          101104099
         ],
         "xaxis": "x",
         "y": [
          27723
         ],
         "yaxis": "y"
        },
        {
         "hovertemplate": "<b>%{hovertext}</b><br><br>Airline=Allegiant Airlines<br>Total Boardings=%{x}<br>Total Passengers Denied Boarding=%{y}<br>Percent Denied Boarding=%{marker.size}<extra></extra>",
         "hovertext": [
          "Allegiant Airlines"
         ],
         "legendgroup": "Allegiant Airlines",
         "marker": {
          "color": "#E15F99",
          "size": [
           0.09079999999999999
          ],
          "sizemode": "area",
          "sizeref": 0.0004576111111111111,
          "symbol": "circle"
         },
         "mode": "markers",
         "name": "Allegiant Airlines",
         "orientation": "v",
         "showlegend": true,
         "type": "scatter",
         "x": [
          51288460
         ],
         "xaxis": "x",
         "y": [
          3243
         ],
         "yaxis": "y"
        },
        {
         "hovertemplate": "<b>%{hovertext}</b><br><br>Airline=American Airlines<br>Total Boardings=%{x}<br>Total Passengers Denied Boarding=%{y}<br>Percent Denied Boarding=%{marker.size}<extra></extra>",
         "hovertext": [
          "American Airlines"
         ],
         "legendgroup": "American Airlines",
         "marker": {
          "color": "#1CA71C",
          "size": [
           0.6784
          ],
          "sizemode": "area",
          "sizeref": 0.0004576111111111111,
          "symbol": "circle"
         },
         "mode": "markers",
         "name": "American Airlines",
         "orientation": "v",
         "showlegend": true,
         "type": "scatter",
         "x": [
          443604525
         ],
         "xaxis": "x",
         "y": [
          218090
         ],
         "yaxis": "y"
        },
        {
         "hovertemplate": "<b>%{hovertext}</b><br><br>Airline=Delta Air Lines<br>Total Boardings=%{x}<br>Total Passengers Denied Boarding=%{y}<br>Percent Denied Boarding=%{marker.size}<extra></extra>",
         "hovertext": [
          "Delta Air Lines"
         ],
         "legendgroup": "Delta Air Lines",
         "marker": {
          "color": "#FB0D0D",
          "size": [
           0.7641
          ],
          "sizemode": "area",
          "sizeref": 0.0004576111111111111,
          "symbol": "circle"
         },
         "mode": "markers",
         "name": "Delta Air Lines",
         "orientation": "v",
         "showlegend": true,
         "type": "scatter",
         "x": [
          436882426
         ],
         "xaxis": "x",
         "y": [
          240282
         ],
         "yaxis": "y"
        },
        {
         "hovertemplate": "<b>%{hovertext}</b><br><br>Airline=Endeavor Air<br>Total Boardings=%{x}<br>Total Passengers Denied Boarding=%{y}<br>Percent Denied Boarding=%{marker.size}<extra></extra>",
         "hovertext": [
          "Endeavor Air"
         ],
         "legendgroup": "Endeavor Air",
         "marker": {
          "color": "#DA16FF",
          "size": [
           1.6474
          ],
          "sizemode": "area",
          "sizeref": 0.0004576111111111111,
          "symbol": "circle"
         },
         "mode": "markers",
         "name": "Endeavor Air",
         "orientation": "v",
         "showlegend": true,
         "type": "scatter",
         "x": [
          47518056
         ],
         "xaxis": "x",
         "y": [
          54878
         ],
         "yaxis": "y"
        },
        {
         "hovertemplate": "<b>%{hovertext}</b><br><br>Airline=Envoy Air<br>Total Boardings=%{x}<br>Total Passengers Denied Boarding=%{y}<br>Percent Denied Boarding=%{marker.size}<extra></extra>",
         "hovertext": [
          "Envoy Air"
         ],
         "legendgroup": "Envoy Air",
         "marker": {
          "color": "#222A2A",
          "size": [
           1.2658
          ],
          "sizemode": "area",
          "sizeref": 0.0004576111111111111,
          "symbol": "circle"
         },
         "mode": "markers",
         "name": "Envoy Air",
         "orientation": "v",
         "showlegend": true,
         "type": "scatter",
         "x": [
          48232731
         ],
         "xaxis": "x",
         "y": [
          40948
         ],
         "yaxis": "y"
        },
        {
         "hovertemplate": "<b>%{hovertext}</b><br><br>Airline=ExpressJet Airlines<br>Total Boardings=%{x}<br>Total Passengers Denied Boarding=%{y}<br>Percent Denied Boarding=%{marker.size}<extra></extra>",
         "hovertext": [
          "ExpressJet Airlines"
         ],
         "legendgroup": "ExpressJet Airlines",
         "marker": {
          "color": "#B68100",
          "size": [
           0.8132
          ],
          "sizemode": "area",
          "sizeref": 0.0004576111111111111,
          "symbol": "circle"
         },
         "mode": "markers",
         "name": "ExpressJet Airlines",
         "orientation": "v",
         "showlegend": true,
         "type": "scatter",
         "x": [
          15968868
         ],
         "xaxis": "x",
         "y": [
          14048
         ],
         "yaxis": "y"
        },
        {
         "hovertemplate": "<b>%{hovertext}</b><br><br>Airline=Frontier Airlines<br>Total Boardings=%{x}<br>Total Passengers Denied Boarding=%{y}<br>Percent Denied Boarding=%{marker.size}<extra></extra>",
         "hovertext": [
          "Frontier Airlines"
         ],
         "legendgroup": "Frontier Airlines",
         "marker": {
          "color": "#750D86",
          "size": [
           0.378
          ],
          "sizemode": "area",
          "sizeref": 0.0004576111111111111,
          "symbol": "circle"
         },
         "mode": "markers",
         "name": "Frontier Airlines",
         "orientation": "v",
         "showlegend": true,
         "type": "scatter",
         "x": [
          73460277
         ],
         "xaxis": "x",
         "y": [
          17892
         ],
         "yaxis": "y"
        },
        {
         "hovertemplate": "<b>%{hovertext}</b><br><br>Airline=Hawaiian Airlines<br>Total Boardings=%{x}<br>Total Passengers Denied Boarding=%{y}<br>Percent Denied Boarding=%{marker.size}<extra></extra>",
         "hovertext": [
          "Hawaiian Airlines"
         ],
         "legendgroup": "Hawaiian Airlines",
         "marker": {
          "color": "#EB663B",
          "size": [
           0.08080000000000001
          ],
          "sizemode": "area",
          "sizeref": 0.0004576111111111111,
          "symbol": "circle"
         },
         "mode": "markers",
         "name": "Hawaiian Airlines",
         "orientation": "v",
         "showlegend": true,
         "type": "scatter",
         "x": [
          31462717
         ],
         "xaxis": "x",
         "y": [
          1573
         ],
         "yaxis": "y"
        },
        {
         "hovertemplate": "<b>%{hovertext}</b><br><br>Airline=Horizon Air<br>Total Boardings=%{x}<br>Total Passengers Denied Boarding=%{y}<br>Percent Denied Boarding=%{marker.size}<extra></extra>",
         "hovertext": [
          "Horizon Air"
         ],
         "legendgroup": "Horizon Air",
         "marker": {
          "color": "#511CFB",
          "size": [
           0.12530000000000002
          ],
          "sizemode": "area",
          "sizeref": 0.0004576111111111111,
          "symbol": "circle"
         },
         "mode": "markers",
         "name": "Horizon Air",
         "orientation": "v",
         "showlegend": true,
         "type": "scatter",
         "x": [
          6171662
         ],
         "xaxis": "x",
         "y": [
          2009
         ],
         "yaxis": "y"
        },
        {
         "hovertemplate": "<b>%{hovertext}</b><br><br>Airline=JetBlue Airways<br>Total Boardings=%{x}<br>Total Passengers Denied Boarding=%{y}<br>Percent Denied Boarding=%{marker.size}<extra></extra>",
         "hovertext": [
          "JetBlue Airways"
         ],
         "legendgroup": "JetBlue Airways",
         "marker": {
          "color": "#00A08B",
          "size": [
           0.1005
          ],
          "sizemode": "area",
          "sizeref": 0.0004576111111111111,
          "symbol": "circle"
         },
         "mode": "markers",
         "name": "JetBlue Airways",
         "orientation": "v",
         "showlegend": true,
         "type": "scatter",
         "x": [
          114478024
         ],
         "xaxis": "x",
         "y": [
          8094
         ],
         "yaxis": "y"
        },
        {
         "hovertemplate": "<b>%{hovertext}</b><br><br>Airline=Mesa Airlines<br>Total Boardings=%{x}<br>Total Passengers Denied Boarding=%{y}<br>Percent Denied Boarding=%{marker.size}<extra></extra>",
         "hovertext": [
          "Mesa Airlines"
         ],
         "legendgroup": "Mesa Airlines",
         "marker": {
          "color": "#FB00D1",
          "size": [
           0.7911
          ],
          "sizemode": "area",
          "sizeref": 0.0004576111111111111,
          "symbol": "circle"
         },
         "mode": "markers",
         "name": "Mesa Airlines",
         "orientation": "v",
         "showlegend": true,
         "type": "scatter",
         "x": [
          43209724
         ],
         "xaxis": "x",
         "y": [
          24334
         ],
         "yaxis": "y"
        },
        {
         "hovertemplate": "<b>%{hovertext}</b><br><br>Airline=PSA Airlines<br>Total Boardings=%{x}<br>Total Passengers Denied Boarding=%{y}<br>Percent Denied Boarding=%{marker.size}<extra></extra>",
         "hovertext": [
          "PSA Airlines"
         ],
         "legendgroup": "PSA Airlines",
         "marker": {
          "color": "#FC0080",
          "size": [
           0.994
          ],
          "sizemode": "area",
          "sizeref": 0.0004576111111111111,
          "symbol": "circle"
         },
         "mode": "markers",
         "name": "PSA Airlines",
         "orientation": "v",
         "showlegend": true,
         "type": "scatter",
         "x": [
          48783231
         ],
         "xaxis": "x",
         "y": [
          33011
         ],
         "yaxis": "y"
        },
        {
         "hovertemplate": "<b>%{hovertext}</b><br><br>Airline=Republic Airline<br>Total Boardings=%{x}<br>Total Passengers Denied Boarding=%{y}<br>Percent Denied Boarding=%{marker.size}<extra></extra>",
         "hovertext": [
          "Republic Airline"
         ],
         "legendgroup": "Republic Airline",
         "marker": {
          "color": "#B2828D",
          "size": [
           1.1120999999999999
          ],
          "sizemode": "area",
          "sizeref": 0.0004576111111111111,
          "symbol": "circle"
         },
         "mode": "markers",
         "name": "Republic Airline",
         "orientation": "v",
         "showlegend": true,
         "type": "scatter",
         "x": [
          62113029
         ],
         "xaxis": "x",
         "y": [
          48839
         ],
         "yaxis": "y"
        },
        {
         "hovertemplate": "<b>%{hovertext}</b><br><br>Airline=SkyWest Airlines<br>Total Boardings=%{x}<br>Total Passengers Denied Boarding=%{y}<br>Percent Denied Boarding=%{marker.size}<extra></extra>",
         "hovertext": [
          "SkyWest Airlines"
         ],
         "legendgroup": "SkyWest Airlines",
         "marker": {
          "color": "#6C7C32",
          "size": [
           1.2911000000000001
          ],
          "sizemode": "area",
          "sizeref": 0.0004576111111111111,
          "symbol": "circle"
         },
         "mode": "markers",
         "name": "SkyWest Airlines",
         "orientation": "v",
         "showlegend": true,
         "type": "scatter",
         "x": [
          130497633
         ],
         "xaxis": "x",
         "y": [
          117556
         ],
         "yaxis": "y"
        },
        {
         "hovertemplate": "<b>%{hovertext}</b><br><br>Airline=Southwest Airlines<br>Total Boardings=%{x}<br>Total Passengers Denied Boarding=%{y}<br>Percent Denied Boarding=%{marker.size}<extra></extra>",
         "hovertext": [
          "Southwest Airlines"
         ],
         "legendgroup": "Southwest Airlines",
         "marker": {
          "color": "#778AAE",
          "size": [
           0.285
          ],
          "sizemode": "area",
          "sizeref": 0.0004576111111111111,
          "symbol": "circle"
         },
         "mode": "markers",
         "name": "Southwest Airlines",
         "orientation": "v",
         "showlegend": true,
         "type": "scatter",
         "x": [
          512845258
         ],
         "xaxis": "x",
         "y": [
          98302
         ],
         "yaxis": "y"
        },
        {
         "hovertemplate": "<b>%{hovertext}</b><br><br>Airline=Spirit Airlines<br>Total Boardings=%{x}<br>Total Passengers Denied Boarding=%{y}<br>Percent Denied Boarding=%{marker.size}<extra></extra>",
         "hovertext": [
          "Spirit Airlines"
         ],
         "legendgroup": "Spirit Airlines",
         "marker": {
          "color": "#862A16",
          "size": [
           0.8289
          ],
          "sizemode": "area",
          "sizeref": 0.0004576111111111111,
          "symbol": "circle"
         },
         "mode": "markers",
         "name": "Spirit Airlines",
         "orientation": "v",
         "showlegend": true,
         "type": "scatter",
         "x": [
          106456142
         ],
         "xaxis": "x",
         "y": [
          59563
         ],
         "yaxis": "y"
        },
        {
         "hovertemplate": "<b>%{hovertext}</b><br><br>Airline=United Air Lines<br>Total Boardings=%{x}<br>Total Passengers Denied Boarding=%{y}<br>Percent Denied Boarding=%{marker.size}<extra></extra>",
         "hovertext": [
          "United Air Lines"
         ],
         "legendgroup": "United Air Lines",
         "marker": {
          "color": "#A777F1",
          "size": [
           0.3451
          ],
          "sizemode": "area",
          "sizeref": 0.0004576111111111111,
          "symbol": "circle"
         },
         "mode": "markers",
         "name": "United Air Lines",
         "orientation": "v",
         "showlegend": true,
         "type": "scatter",
         "x": [
          300500299
         ],
         "xaxis": "x",
         "y": [
          81577
         ],
         "yaxis": "y"
        },
        {
         "hovertemplate": "<b>%{hovertext}</b><br><br>Airline=Virgin America <br>Total Boardings=%{x}<br>Total Passengers Denied Boarding=%{y}<br>Percent Denied Boarding=%{marker.size}<extra></extra>",
         "hovertext": [
          "Virgin America "
         ],
         "legendgroup": "Virgin America ",
         "marker": {
          "color": "#620042",
          "size": [
           0.0054
          ],
          "sizemode": "area",
          "sizeref": 0.0004576111111111111,
          "symbol": "circle"
         },
         "mode": "markers",
         "name": "Virgin America ",
         "orientation": "v",
         "showlegend": true,
         "type": "scatter",
         "x": [
          2045185
         ],
         "xaxis": "x",
         "y": [
          111
         ],
         "yaxis": "y"
        }
       ],
       "layout": {
        "legend": {
         "itemsizing": "constant",
         "title": {
          "text": "Airline"
         },
         "tracegroupgap": 0
        },
        "template": {
         "data": {
          "bar": [
           {
            "error_x": {
             "color": "#f2f5fa"
            },
            "error_y": {
             "color": "#f2f5fa"
            },
            "marker": {
             "line": {
              "color": "rgb(17,17,17)",
              "width": 0.5
             },
             "pattern": {
              "fillmode": "overlay",
              "size": 10,
              "solidity": 0.2
             }
            },
            "type": "bar"
           }
          ],
          "barpolar": [
           {
            "marker": {
             "line": {
              "color": "rgb(17,17,17)",
              "width": 0.5
             },
             "pattern": {
              "fillmode": "overlay",
              "size": 10,
              "solidity": 0.2
             }
            },
            "type": "barpolar"
           }
          ],
          "carpet": [
           {
            "aaxis": {
             "endlinecolor": "#A2B1C6",
             "gridcolor": "#506784",
             "linecolor": "#506784",
             "minorgridcolor": "#506784",
             "startlinecolor": "#A2B1C6"
            },
            "baxis": {
             "endlinecolor": "#A2B1C6",
             "gridcolor": "#506784",
             "linecolor": "#506784",
             "minorgridcolor": "#506784",
             "startlinecolor": "#A2B1C6"
            },
            "type": "carpet"
           }
          ],
          "choropleth": [
           {
            "colorbar": {
             "outlinewidth": 0,
             "ticks": ""
            },
            "type": "choropleth"
           }
          ],
          "contour": [
           {
            "colorbar": {
             "outlinewidth": 0,
             "ticks": ""
            },
            "colorscale": [
             [
              0,
              "#0d0887"
             ],
             [
              0.1111111111111111,
              "#46039f"
             ],
             [
              0.2222222222222222,
              "#7201a8"
             ],
             [
              0.3333333333333333,
              "#9c179e"
             ],
             [
              0.4444444444444444,
              "#bd3786"
             ],
             [
              0.5555555555555556,
              "#d8576b"
             ],
             [
              0.6666666666666666,
              "#ed7953"
             ],
             [
              0.7777777777777778,
              "#fb9f3a"
             ],
             [
              0.8888888888888888,
              "#fdca26"
             ],
             [
              1,
              "#f0f921"
             ]
            ],
            "type": "contour"
           }
          ],
          "contourcarpet": [
           {
            "colorbar": {
             "outlinewidth": 0,
             "ticks": ""
            },
            "type": "contourcarpet"
           }
          ],
          "heatmap": [
           {
            "colorbar": {
             "outlinewidth": 0,
             "ticks": ""
            },
            "colorscale": [
             [
              0,
              "#0d0887"
             ],
             [
              0.1111111111111111,
              "#46039f"
             ],
             [
              0.2222222222222222,
              "#7201a8"
             ],
             [
              0.3333333333333333,
              "#9c179e"
             ],
             [
              0.4444444444444444,
              "#bd3786"
             ],
             [
              0.5555555555555556,
              "#d8576b"
             ],
             [
              0.6666666666666666,
              "#ed7953"
             ],
             [
              0.7777777777777778,
              "#fb9f3a"
             ],
             [
              0.8888888888888888,
              "#fdca26"
             ],
             [
              1,
              "#f0f921"
             ]
            ],
            "type": "heatmap"
           }
          ],
          "heatmapgl": [
           {
            "colorbar": {
             "outlinewidth": 0,
             "ticks": ""
            },
            "colorscale": [
             [
              0,
              "#0d0887"
             ],
             [
              0.1111111111111111,
              "#46039f"
             ],
             [
              0.2222222222222222,
              "#7201a8"
             ],
             [
              0.3333333333333333,
              "#9c179e"
             ],
             [
              0.4444444444444444,
              "#bd3786"
             ],
             [
              0.5555555555555556,
              "#d8576b"
             ],
             [
              0.6666666666666666,
              "#ed7953"
             ],
             [
              0.7777777777777778,
              "#fb9f3a"
             ],
             [
              0.8888888888888888,
              "#fdca26"
             ],
             [
              1,
              "#f0f921"
             ]
            ],
            "type": "heatmapgl"
           }
          ],
          "histogram": [
           {
            "marker": {
             "pattern": {
              "fillmode": "overlay",
              "size": 10,
              "solidity": 0.2
             }
            },
            "type": "histogram"
           }
          ],
          "histogram2d": [
           {
            "colorbar": {
             "outlinewidth": 0,
             "ticks": ""
            },
            "colorscale": [
             [
              0,
              "#0d0887"
             ],
             [
              0.1111111111111111,
              "#46039f"
             ],
             [
              0.2222222222222222,
              "#7201a8"
             ],
             [
              0.3333333333333333,
              "#9c179e"
             ],
             [
              0.4444444444444444,
              "#bd3786"
             ],
             [
              0.5555555555555556,
              "#d8576b"
             ],
             [
              0.6666666666666666,
              "#ed7953"
             ],
             [
              0.7777777777777778,
              "#fb9f3a"
             ],
             [
              0.8888888888888888,
              "#fdca26"
             ],
             [
              1,
              "#f0f921"
             ]
            ],
            "type": "histogram2d"
           }
          ],
          "histogram2dcontour": [
           {
            "colorbar": {
             "outlinewidth": 0,
             "ticks": ""
            },
            "colorscale": [
             [
              0,
              "#0d0887"
             ],
             [
              0.1111111111111111,
              "#46039f"
             ],
             [
              0.2222222222222222,
              "#7201a8"
             ],
             [
              0.3333333333333333,
              "#9c179e"
             ],
             [
              0.4444444444444444,
              "#bd3786"
             ],
             [
              0.5555555555555556,
              "#d8576b"
             ],
             [
              0.6666666666666666,
              "#ed7953"
             ],
             [
              0.7777777777777778,
              "#fb9f3a"
             ],
             [
              0.8888888888888888,
              "#fdca26"
             ],
             [
              1,
              "#f0f921"
             ]
            ],
            "type": "histogram2dcontour"
           }
          ],
          "mesh3d": [
           {
            "colorbar": {
             "outlinewidth": 0,
             "ticks": ""
            },
            "type": "mesh3d"
           }
          ],
          "parcoords": [
           {
            "line": {
             "colorbar": {
              "outlinewidth": 0,
              "ticks": ""
             }
            },
            "type": "parcoords"
           }
          ],
          "pie": [
           {
            "automargin": true,
            "type": "pie"
           }
          ],
          "scatter": [
           {
            "marker": {
             "line": {
              "color": "#283442"
             }
            },
            "type": "scatter"
           }
          ],
          "scatter3d": [
           {
            "line": {
             "colorbar": {
              "outlinewidth": 0,
              "ticks": ""
             }
            },
            "marker": {
             "colorbar": {
              "outlinewidth": 0,
              "ticks": ""
             }
            },
            "type": "scatter3d"
           }
          ],
          "scattercarpet": [
           {
            "marker": {
             "colorbar": {
              "outlinewidth": 0,
              "ticks": ""
             }
            },
            "type": "scattercarpet"
           }
          ],
          "scattergeo": [
           {
            "marker": {
             "colorbar": {
              "outlinewidth": 0,
              "ticks": ""
             }
            },
            "type": "scattergeo"
           }
          ],
          "scattergl": [
           {
            "marker": {
             "line": {
              "color": "#283442"
             }
            },
            "type": "scattergl"
           }
          ],
          "scattermapbox": [
           {
            "marker": {
             "colorbar": {
              "outlinewidth": 0,
              "ticks": ""
             }
            },
            "type": "scattermapbox"
           }
          ],
          "scatterpolar": [
           {
            "marker": {
             "colorbar": {
              "outlinewidth": 0,
              "ticks": ""
             }
            },
            "type": "scatterpolar"
           }
          ],
          "scatterpolargl": [
           {
            "marker": {
             "colorbar": {
              "outlinewidth": 0,
              "ticks": ""
             }
            },
            "type": "scatterpolargl"
           }
          ],
          "scatterternary": [
           {
            "marker": {
             "colorbar": {
              "outlinewidth": 0,
              "ticks": ""
             }
            },
            "type": "scatterternary"
           }
          ],
          "surface": [
           {
            "colorbar": {
             "outlinewidth": 0,
             "ticks": ""
            },
            "colorscale": [
             [
              0,
              "#0d0887"
             ],
             [
              0.1111111111111111,
              "#46039f"
             ],
             [
              0.2222222222222222,
              "#7201a8"
             ],
             [
              0.3333333333333333,
              "#9c179e"
             ],
             [
              0.4444444444444444,
              "#bd3786"
             ],
             [
              0.5555555555555556,
              "#d8576b"
             ],
             [
              0.6666666666666666,
              "#ed7953"
             ],
             [
              0.7777777777777778,
              "#fb9f3a"
             ],
             [
              0.8888888888888888,
              "#fdca26"
             ],
             [
              1,
              "#f0f921"
             ]
            ],
            "type": "surface"
           }
          ],
          "table": [
           {
            "cells": {
             "fill": {
              "color": "#506784"
             },
             "line": {
              "color": "rgb(17,17,17)"
             }
            },
            "header": {
             "fill": {
              "color": "#2a3f5f"
             },
             "line": {
              "color": "rgb(17,17,17)"
             }
            },
            "type": "table"
           }
          ]
         },
         "layout": {
          "annotationdefaults": {
           "arrowcolor": "#f2f5fa",
           "arrowhead": 0,
           "arrowwidth": 1
          },
          "autotypenumbers": "strict",
          "coloraxis": {
           "colorbar": {
            "outlinewidth": 0,
            "ticks": ""
           }
          },
          "colorscale": {
           "diverging": [
            [
             0,
             "#8e0152"
            ],
            [
             0.1,
             "#c51b7d"
            ],
            [
             0.2,
             "#de77ae"
            ],
            [
             0.3,
             "#f1b6da"
            ],
            [
             0.4,
             "#fde0ef"
            ],
            [
             0.5,
             "#f7f7f7"
            ],
            [
             0.6,
             "#e6f5d0"
            ],
            [
             0.7,
             "#b8e186"
            ],
            [
             0.8,
             "#7fbc41"
            ],
            [
             0.9,
             "#4d9221"
            ],
            [
             1,
             "#276419"
            ]
           ],
           "sequential": [
            [
             0,
             "#0d0887"
            ],
            [
             0.1111111111111111,
             "#46039f"
            ],
            [
             0.2222222222222222,
             "#7201a8"
            ],
            [
             0.3333333333333333,
             "#9c179e"
            ],
            [
             0.4444444444444444,
             "#bd3786"
            ],
            [
             0.5555555555555556,
             "#d8576b"
            ],
            [
             0.6666666666666666,
             "#ed7953"
            ],
            [
             0.7777777777777778,
             "#fb9f3a"
            ],
            [
             0.8888888888888888,
             "#fdca26"
            ],
            [
             1,
             "#f0f921"
            ]
           ],
           "sequentialminus": [
            [
             0,
             "#0d0887"
            ],
            [
             0.1111111111111111,
             "#46039f"
            ],
            [
             0.2222222222222222,
             "#7201a8"
            ],
            [
             0.3333333333333333,
             "#9c179e"
            ],
            [
             0.4444444444444444,
             "#bd3786"
            ],
            [
             0.5555555555555556,
             "#d8576b"
            ],
            [
             0.6666666666666666,
             "#ed7953"
            ],
            [
             0.7777777777777778,
             "#fb9f3a"
            ],
            [
             0.8888888888888888,
             "#fdca26"
            ],
            [
             1,
             "#f0f921"
            ]
           ]
          },
          "colorway": [
           "#636efa",
           "#EF553B",
           "#00cc96",
           "#ab63fa",
           "#FFA15A",
           "#19d3f3",
           "#FF6692",
           "#B6E880",
           "#FF97FF",
           "#FECB52"
          ],
          "font": {
           "color": "#f2f5fa"
          },
          "geo": {
           "bgcolor": "rgb(17,17,17)",
           "lakecolor": "rgb(17,17,17)",
           "landcolor": "rgb(17,17,17)",
           "showlakes": true,
           "showland": true,
           "subunitcolor": "#506784"
          },
          "hoverlabel": {
           "align": "left"
          },
          "hovermode": "closest",
          "mapbox": {
           "style": "dark"
          },
          "paper_bgcolor": "rgb(17,17,17)",
          "plot_bgcolor": "rgb(17,17,17)",
          "polar": {
           "angularaxis": {
            "gridcolor": "#506784",
            "linecolor": "#506784",
            "ticks": ""
           },
           "bgcolor": "rgb(17,17,17)",
           "radialaxis": {
            "gridcolor": "#506784",
            "linecolor": "#506784",
            "ticks": ""
           }
          },
          "scene": {
           "xaxis": {
            "backgroundcolor": "rgb(17,17,17)",
            "gridcolor": "#506784",
            "gridwidth": 2,
            "linecolor": "#506784",
            "showbackground": true,
            "ticks": "",
            "zerolinecolor": "#C8D4E3"
           },
           "yaxis": {
            "backgroundcolor": "rgb(17,17,17)",
            "gridcolor": "#506784",
            "gridwidth": 2,
            "linecolor": "#506784",
            "showbackground": true,
            "ticks": "",
            "zerolinecolor": "#C8D4E3"
           },
           "zaxis": {
            "backgroundcolor": "rgb(17,17,17)",
            "gridcolor": "#506784",
            "gridwidth": 2,
            "linecolor": "#506784",
            "showbackground": true,
            "ticks": "",
            "zerolinecolor": "#C8D4E3"
           }
          },
          "shapedefaults": {
           "line": {
            "color": "#f2f5fa"
           }
          },
          "sliderdefaults": {
           "bgcolor": "#C8D4E3",
           "bordercolor": "rgb(17,17,17)",
           "borderwidth": 1,
           "tickwidth": 0
          },
          "ternary": {
           "aaxis": {
            "gridcolor": "#506784",
            "linecolor": "#506784",
            "ticks": ""
           },
           "baxis": {
            "gridcolor": "#506784",
            "linecolor": "#506784",
            "ticks": ""
           },
           "bgcolor": "rgb(17,17,17)",
           "caxis": {
            "gridcolor": "#506784",
            "linecolor": "#506784",
            "ticks": ""
           }
          },
          "title": {
           "x": 0.05
          },
          "updatemenudefaults": {
           "bgcolor": "#506784",
           "borderwidth": 0
          },
          "xaxis": {
           "automargin": true,
           "gridcolor": "#283442",
           "linecolor": "#506784",
           "ticks": "",
           "title": {
            "standoff": 15
           },
           "zerolinecolor": "#283442",
           "zerolinewidth": 2
          },
          "yaxis": {
           "automargin": true,
           "gridcolor": "#283442",
           "linecolor": "#506784",
           "ticks": "",
           "title": {
            "standoff": 15
           },
           "zerolinecolor": "#283442",
           "zerolinewidth": 2
          }
         }
        },
        "title": {
         "text": "Denied Boarding by Airline Carrier"
        },
        "xaxis": {
         "anchor": "y",
         "domain": [
          0,
          1
         ],
         "title": {
          "text": "Total Boardings"
         },
         "type": "log"
        },
        "yaxis": {
         "anchor": "x",
         "domain": [
          0,
          1
         ],
         "title": {
          "text": "Total Passengers Denied Boarding"
         }
        }
       }
      }
     },
     "metadata": {},
     "output_type": "display_data"
    }
   ],
   "source": [
    "fig = px.scatter(denied_boarding.groupby('CARRIER').sum(numeric_only=True).reset_index(), \n",
    "                 x=6, y=\"total_denials\",\n",
    "\t         size=\"perc_denied_boarding\", color=\"CARRIER\",\n",
    "                 hover_name=\"CARRIER\", log_x=True, size_max=60, \n",
    "                 labels={\n",
    "                     \"6\": \"Total Boardings\",\n",
    "                     \"total_denials\": \"Total Passengers Denied Boarding\",\n",
    "                     \"CARRIER\": \"Airline\",\n",
    "                     \"perc_denied_boarding\":\"Percent Denied Boarding\"\n",
    "                 },\n",
    "                title=\"Denied Boarding by Airline Carrier\", \n",
    "                color_discrete_sequence=px.colors.qualitative.Dark24)\n",
    "fig.show()"
   ]
  },
  {
   "cell_type": "code",
   "execution_count": 316,
   "metadata": {},
   "outputs": [
    {
     "data": {
      "application/vnd.plotly.v1+json": {
       "config": {
        "plotlyServerURL": "https://plot.ly"
       },
       "data": [
        {
         "hovertemplate": "<b>%{hovertext}</b><br><br>Airline=Alaska Airlines<br>Total Passengers=%{x}<br>Total Compensation=%{y}<br>Avg. Compensation=%{marker.size}<extra></extra>",
         "hovertext": [
          "Alaska Airlines"
         ],
         "legendgroup": "Alaska Airlines",
         "marker": {
          "color": "#2E91E5",
          "size": [
           0.265
          ],
          "sizemode": "area",
          "sizeref": 0.15501979166666666,
          "symbol": "circle"
         },
         "mode": "markers",
         "name": "Alaska Airlines",
         "orientation": "v",
         "showlegend": true,
         "type": "scatter",
         "x": [
          1644.9375
         ],
         "xaxis": "x",
         "y": [
          215.125
         ],
         "yaxis": "y"
        },
        {
         "hovertemplate": "<b>%{hovertext}</b><br><br>Airline=Allegiant Airlines<br>Total Passengers=%{x}<br>Total Compensation=%{y}<br>Avg. Compensation=%{marker.size}<extra></extra>",
         "hovertext": [
          "Allegiant Airlines"
         ],
         "legendgroup": "Allegiant Airlines",
         "marker": {
          "color": "#E15F99",
          "size": [
           0
          ],
          "sizemode": "area",
          "sizeref": 0.15501979166666666,
          "symbol": "circle"
         },
         "mode": "markers",
         "name": "Allegiant Airlines",
         "orientation": "v",
         "showlegend": true,
         "type": "scatter",
         "x": [
          150.25
         ],
         "xaxis": "x",
         "y": [
          0
         ],
         "yaxis": "y"
        },
        {
         "hovertemplate": "<b>%{hovertext}</b><br><br>Airline=American Airlines<br>Total Passengers=%{x}<br>Total Compensation=%{y}<br>Avg. Compensation=%{marker.size}<extra></extra>",
         "hovertext": [
          "American Airlines"
         ],
         "legendgroup": "American Airlines",
         "marker": {
          "color": "#1CA71C",
          "size": [
           0.2025
          ],
          "sizemode": "area",
          "sizeref": 0.15501979166666666,
          "symbol": "circle"
         },
         "mode": "markers",
         "name": "American Airlines",
         "orientation": "v",
         "showlegend": true,
         "type": "scatter",
         "x": [
          12758.625
         ],
         "xaxis": "x",
         "y": [
          1478.9375
         ],
         "yaxis": "y"
        },
        {
         "hovertemplate": "<b>%{hovertext}</b><br><br>Airline=Delta Air Lines<br>Total Passengers=%{x}<br>Total Compensation=%{y}<br>Avg. Compensation=%{marker.size}<extra></extra>",
         "hovertext": [
          "Delta Air Lines"
         ],
         "legendgroup": "Delta Air Lines",
         "marker": {
          "color": "#FB0D0D",
          "size": [
           166.244375
          ],
          "sizemode": "area",
          "sizeref": 0.15501979166666666,
          "symbol": "circle"
         },
         "mode": "markers",
         "name": "Delta Air Lines",
         "orientation": "v",
         "showlegend": true,
         "type": "scatter",
         "x": [
          15016
         ],
         "xaxis": "x",
         "y": [
          1141185.8125
         ],
         "yaxis": "y"
        },
        {
         "hovertemplate": "<b>%{hovertext}</b><br><br>Airline=Endeavor Air<br>Total Passengers=%{x}<br>Total Compensation=%{y}<br>Avg. Compensation=%{marker.size}<extra></extra>",
         "hovertext": [
          "Endeavor Air"
         ],
         "legendgroup": "Endeavor Air",
         "marker": {
          "color": "#DA16FF",
          "size": [
           174.13125000000002
          ],
          "sizemode": "area",
          "sizeref": 0.15501979166666666,
          "symbol": "circle"
         },
         "mode": "markers",
         "name": "Endeavor Air",
         "orientation": "v",
         "showlegend": true,
         "type": "scatter",
         "x": [
          3429.4375
         ],
         "xaxis": "x",
         "y": [
          367048
         ],
         "yaxis": "y"
        },
        {
         "hovertemplate": "<b>%{hovertext}</b><br><br>Airline=Envoy Air<br>Total Passengers=%{x}<br>Total Compensation=%{y}<br>Avg. Compensation=%{marker.size}<extra></extra>",
         "hovertext": [
          "Envoy Air"
         ],
         "legendgroup": "Envoy Air",
         "marker": {
          "color": "#222A2A",
          "size": [
           0.5175000000000001
          ],
          "sizemode": "area",
          "sizeref": 0.15501979166666666,
          "symbol": "circle"
         },
         "mode": "markers",
         "name": "Envoy Air",
         "orientation": "v",
         "showlegend": true,
         "type": "scatter",
         "x": [
          2326.5625
         ],
         "xaxis": "x",
         "y": [
          661.9375
         ],
         "yaxis": "y"
        },
        {
         "hovertemplate": "<b>%{hovertext}</b><br><br>Airline=ExpressJet Airlines<br>Total Passengers=%{x}<br>Total Compensation=%{y}<br>Avg. Compensation=%{marker.size}<extra></extra>",
         "hovertext": [
          "ExpressJet Airlines"
         ],
         "legendgroup": "ExpressJet Airlines",
         "marker": {
          "color": "#B68100",
          "size": [
           0
          ],
          "sizemode": "area",
          "sizeref": 0.15501979166666666,
          "symbol": "circle"
         },
         "mode": "markers",
         "name": "ExpressJet Airlines",
         "orientation": "v",
         "showlegend": true,
         "type": "scatter",
         "x": [
          1273.1818181818182
         ],
         "xaxis": "x",
         "y": [
          0
         ],
         "yaxis": "y"
        },
        {
         "hovertemplate": "<b>%{hovertext}</b><br><br>Airline=Frontier Airlines<br>Total Passengers=%{x}<br>Total Compensation=%{y}<br>Avg. Compensation=%{marker.size}<extra></extra>",
         "hovertext": [
          "Frontier Airlines"
         ],
         "legendgroup": "Frontier Airlines",
         "marker": {
          "color": "#750D86",
          "size": [
           2.4625
          ],
          "sizemode": "area",
          "sizeref": 0.15501979166666666,
          "symbol": "circle"
         },
         "mode": "markers",
         "name": "Frontier Airlines",
         "orientation": "v",
         "showlegend": true,
         "type": "scatter",
         "x": [
          845.1875
         ],
         "xaxis": "x",
         "y": [
          1922.8125
         ],
         "yaxis": "y"
        },
        {
         "hovertemplate": "<b>%{hovertext}</b><br><br>Airline=Hawaiian Airlines<br>Total Passengers=%{x}<br>Total Compensation=%{y}<br>Avg. Compensation=%{marker.size}<extra></extra>",
         "hovertext": [
          "Hawaiian Airlines"
         ],
         "legendgroup": "Hawaiian Airlines",
         "marker": {
          "color": "#EB663B",
          "size": [
           2.59125
          ],
          "sizemode": "area",
          "sizeref": 0.15501979166666666,
          "symbol": "circle"
         },
         "mode": "markers",
         "name": "Hawaiian Airlines",
         "orientation": "v",
         "showlegend": true,
         "type": "scatter",
         "x": [
          97.4375
         ],
         "xaxis": "x",
         "y": [
          312.5
         ],
         "yaxis": "y"
        },
        {
         "hovertemplate": "<b>%{hovertext}</b><br><br>Airline=Horizon Air<br>Total Passengers=%{x}<br>Total Compensation=%{y}<br>Avg. Compensation=%{marker.size}<extra></extra>",
         "hovertext": [
          "Horizon Air"
         ],
         "legendgroup": "Horizon Air",
         "marker": {
          "color": "#511CFB",
          "size": [
           0.6525
          ],
          "sizemode": "area",
          "sizeref": 0.15501979166666666,
          "symbol": "circle"
         },
         "mode": "markers",
         "name": "Horizon Air",
         "orientation": "v",
         "showlegend": true,
         "type": "scatter",
         "x": [
          462.25
         ],
         "xaxis": "x",
         "y": [
          299
         ],
         "yaxis": "y"
        },
        {
         "hovertemplate": "<b>%{hovertext}</b><br><br>Airline=JetBlue Airways<br>Total Passengers=%{x}<br>Total Compensation=%{y}<br>Avg. Compensation=%{marker.size}<extra></extra>",
         "hovertext": [
          "JetBlue Airways"
         ],
         "legendgroup": "JetBlue Airways",
         "marker": {
          "color": "#00A08B",
          "size": [
           558.07125
          ],
          "sizemode": "area",
          "sizeref": 0.15501979166666666,
          "symbol": "circle"
         },
         "mode": "markers",
         "name": "JetBlue Airways",
         "orientation": "v",
         "showlegend": true,
         "type": "scatter",
         "x": [
          496.4375
         ],
         "xaxis": "x",
         "y": [
          272791.8125
         ],
         "yaxis": "y"
        },
        {
         "hovertemplate": "<b>%{hovertext}</b><br><br>Airline=Mesa Airlines<br>Total Passengers=%{x}<br>Total Compensation=%{y}<br>Avg. Compensation=%{marker.size}<extra></extra>",
         "hovertext": [
          "Mesa Airlines"
         ],
         "legendgroup": "Mesa Airlines",
         "marker": {
          "color": "#FB00D1",
          "size": [
           0.22125
          ],
          "sizemode": "area",
          "sizeref": 0.15501979166666666,
          "symbol": "circle"
         },
         "mode": "markers",
         "name": "Mesa Airlines",
         "orientation": "v",
         "showlegend": true,
         "type": "scatter",
         "x": [
          1435.75
         ],
         "xaxis": "x",
         "y": [
          180.9375
         ],
         "yaxis": "y"
        },
        {
         "hovertemplate": "<b>%{hovertext}</b><br><br>Airline=PSA Airlines<br>Total Passengers=%{x}<br>Total Compensation=%{y}<br>Avg. Compensation=%{marker.size}<extra></extra>",
         "hovertext": [
          "PSA Airlines"
         ],
         "legendgroup": "PSA Airlines",
         "marker": {
          "color": "#FC0080",
          "size": [
           0.265625
          ],
          "sizemode": "area",
          "sizeref": 0.15501979166666666,
          "symbol": "circle"
         },
         "mode": "markers",
         "name": "PSA Airlines",
         "orientation": "v",
         "showlegend": true,
         "type": "scatter",
         "x": [
          1897.5625
         ],
         "xaxis": "x",
         "y": [
          444.8125
         ],
         "yaxis": "y"
        },
        {
         "hovertemplate": "<b>%{hovertext}</b><br><br>Airline=Republic Airline<br>Total Passengers=%{x}<br>Total Compensation=%{y}<br>Avg. Compensation=%{marker.size}<extra></extra>",
         "hovertext": [
          "Republic Airline"
         ],
         "legendgroup": "Republic Airline",
         "marker": {
          "color": "#B2828D",
          "size": [
           77.84375
          ],
          "sizemode": "area",
          "sizeref": 0.15501979166666666,
          "symbol": "circle"
         },
         "mode": "markers",
         "name": "Republic Airline",
         "orientation": "v",
         "showlegend": true,
         "type": "scatter",
         "x": [
          2965.75
         ],
         "xaxis": "x",
         "y": [
          261681
         ],
         "yaxis": "y"
        },
        {
         "hovertemplate": "<b>%{hovertext}</b><br><br>Airline=SkyWest Airlines<br>Total Passengers=%{x}<br>Total Compensation=%{y}<br>Avg. Compensation=%{marker.size}<extra></extra>",
         "hovertext": [
          "SkyWest Airlines"
         ],
         "legendgroup": "SkyWest Airlines",
         "marker": {
          "color": "#6C7C32",
          "size": [
           78.9175
          ],
          "sizemode": "area",
          "sizeref": 0.15501979166666666,
          "symbol": "circle"
         },
         "mode": "markers",
         "name": "SkyWest Airlines",
         "orientation": "v",
         "showlegend": true,
         "type": "scatter",
         "x": [
          7228
         ],
         "xaxis": "x",
         "y": [
          494963.125
         ],
         "yaxis": "y"
        },
        {
         "hovertemplate": "<b>%{hovertext}</b><br><br>Airline=Southwest Airlines<br>Total Passengers=%{x}<br>Total Compensation=%{y}<br>Avg. Compensation=%{marker.size}<extra></extra>",
         "hovertext": [
          "Southwest Airlines"
         ],
         "legendgroup": "Southwest Airlines",
         "marker": {
          "color": "#778AAE",
          "size": [
           0
          ],
          "sizemode": "area",
          "sizeref": 0.15501979166666666,
          "symbol": "circle"
         },
         "mode": "markers",
         "name": "Southwest Airlines",
         "orientation": "v",
         "showlegend": true,
         "type": "scatter",
         "x": [
          5522.25
         ],
         "xaxis": "x",
         "y": [
          0
         ],
         "yaxis": "y"
        },
        {
         "hovertemplate": "<b>%{hovertext}</b><br><br>Airline=Spirit Airlines<br>Total Passengers=%{x}<br>Total Compensation=%{y}<br>Avg. Compensation=%{marker.size}<extra></extra>",
         "hovertext": [
          "Spirit Airlines"
         ],
         "legendgroup": "Spirit Airlines",
         "marker": {
          "color": "#862A16",
          "size": [
           0
          ],
          "sizemode": "area",
          "sizeref": 0.15501979166666666,
          "symbol": "circle"
         },
         "mode": "markers",
         "name": "Spirit Airlines",
         "orientation": "v",
         "showlegend": true,
         "type": "scatter",
         "x": [
          3569.6875
         ],
         "xaxis": "x",
         "y": [
          0
         ],
         "yaxis": "y"
        },
        {
         "hovertemplate": "<b>%{hovertext}</b><br><br>Airline=United Air Lines<br>Total Passengers=%{x}<br>Total Compensation=%{y}<br>Avg. Compensation=%{marker.size}<extra></extra>",
         "hovertext": [
          "United Air Lines"
         ],
         "legendgroup": "United Air Lines",
         "marker": {
          "color": "#A777F1",
          "size": [
           0.00875
          ],
          "sizemode": "area",
          "sizeref": 0.15501979166666666,
          "symbol": "circle"
         },
         "mode": "markers",
         "name": "United Air Lines",
         "orientation": "v",
         "showlegend": true,
         "type": "scatter",
         "x": [
          5085.75
         ],
         "xaxis": "x",
         "y": [
          69.4375
         ],
         "yaxis": "y"
        },
        {
         "hovertemplate": "<b>%{hovertext}</b><br><br>Airline=Virgin America <br>Total Passengers=%{x}<br>Total Compensation=%{y}<br>Avg. Compensation=%{marker.size}<extra></extra>",
         "hovertext": [
          "Virgin America "
         ],
         "legendgroup": "Virgin America ",
         "marker": {
          "color": "#620042",
          "size": [
           460.67
          ],
          "sizemode": "area",
          "sizeref": 0.15501979166666666,
          "symbol": "circle"
         },
         "mode": "markers",
         "name": "Virgin America ",
         "orientation": "v",
         "showlegend": true,
         "type": "scatter",
         "x": [
          89
         ],
         "xaxis": "x",
         "y": [
          41000
         ],
         "yaxis": "y"
        }
       ],
       "layout": {
        "legend": {
         "itemsizing": "constant",
         "title": {
          "text": "Airline"
         },
         "tracegroupgap": 0
        },
        "template": {
         "data": {
          "bar": [
           {
            "error_x": {
             "color": "#f2f5fa"
            },
            "error_y": {
             "color": "#f2f5fa"
            },
            "marker": {
             "line": {
              "color": "rgb(17,17,17)",
              "width": 0.5
             },
             "pattern": {
              "fillmode": "overlay",
              "size": 10,
              "solidity": 0.2
             }
            },
            "type": "bar"
           }
          ],
          "barpolar": [
           {
            "marker": {
             "line": {
              "color": "rgb(17,17,17)",
              "width": 0.5
             },
             "pattern": {
              "fillmode": "overlay",
              "size": 10,
              "solidity": 0.2
             }
            },
            "type": "barpolar"
           }
          ],
          "carpet": [
           {
            "aaxis": {
             "endlinecolor": "#A2B1C6",
             "gridcolor": "#506784",
             "linecolor": "#506784",
             "minorgridcolor": "#506784",
             "startlinecolor": "#A2B1C6"
            },
            "baxis": {
             "endlinecolor": "#A2B1C6",
             "gridcolor": "#506784",
             "linecolor": "#506784",
             "minorgridcolor": "#506784",
             "startlinecolor": "#A2B1C6"
            },
            "type": "carpet"
           }
          ],
          "choropleth": [
           {
            "colorbar": {
             "outlinewidth": 0,
             "ticks": ""
            },
            "type": "choropleth"
           }
          ],
          "contour": [
           {
            "colorbar": {
             "outlinewidth": 0,
             "ticks": ""
            },
            "colorscale": [
             [
              0,
              "#0d0887"
             ],
             [
              0.1111111111111111,
              "#46039f"
             ],
             [
              0.2222222222222222,
              "#7201a8"
             ],
             [
              0.3333333333333333,
              "#9c179e"
             ],
             [
              0.4444444444444444,
              "#bd3786"
             ],
             [
              0.5555555555555556,
              "#d8576b"
             ],
             [
              0.6666666666666666,
              "#ed7953"
             ],
             [
              0.7777777777777778,
              "#fb9f3a"
             ],
             [
              0.8888888888888888,
              "#fdca26"
             ],
             [
              1,
              "#f0f921"
             ]
            ],
            "type": "contour"
           }
          ],
          "contourcarpet": [
           {
            "colorbar": {
             "outlinewidth": 0,
             "ticks": ""
            },
            "type": "contourcarpet"
           }
          ],
          "heatmap": [
           {
            "colorbar": {
             "outlinewidth": 0,
             "ticks": ""
            },
            "colorscale": [
             [
              0,
              "#0d0887"
             ],
             [
              0.1111111111111111,
              "#46039f"
             ],
             [
              0.2222222222222222,
              "#7201a8"
             ],
             [
              0.3333333333333333,
              "#9c179e"
             ],
             [
              0.4444444444444444,
              "#bd3786"
             ],
             [
              0.5555555555555556,
              "#d8576b"
             ],
             [
              0.6666666666666666,
              "#ed7953"
             ],
             [
              0.7777777777777778,
              "#fb9f3a"
             ],
             [
              0.8888888888888888,
              "#fdca26"
             ],
             [
              1,
              "#f0f921"
             ]
            ],
            "type": "heatmap"
           }
          ],
          "heatmapgl": [
           {
            "colorbar": {
             "outlinewidth": 0,
             "ticks": ""
            },
            "colorscale": [
             [
              0,
              "#0d0887"
             ],
             [
              0.1111111111111111,
              "#46039f"
             ],
             [
              0.2222222222222222,
              "#7201a8"
             ],
             [
              0.3333333333333333,
              "#9c179e"
             ],
             [
              0.4444444444444444,
              "#bd3786"
             ],
             [
              0.5555555555555556,
              "#d8576b"
             ],
             [
              0.6666666666666666,
              "#ed7953"
             ],
             [
              0.7777777777777778,
              "#fb9f3a"
             ],
             [
              0.8888888888888888,
              "#fdca26"
             ],
             [
              1,
              "#f0f921"
             ]
            ],
            "type": "heatmapgl"
           }
          ],
          "histogram": [
           {
            "marker": {
             "pattern": {
              "fillmode": "overlay",
              "size": 10,
              "solidity": 0.2
             }
            },
            "type": "histogram"
           }
          ],
          "histogram2d": [
           {
            "colorbar": {
             "outlinewidth": 0,
             "ticks": ""
            },
            "colorscale": [
             [
              0,
              "#0d0887"
             ],
             [
              0.1111111111111111,
              "#46039f"
             ],
             [
              0.2222222222222222,
              "#7201a8"
             ],
             [
              0.3333333333333333,
              "#9c179e"
             ],
             [
              0.4444444444444444,
              "#bd3786"
             ],
             [
              0.5555555555555556,
              "#d8576b"
             ],
             [
              0.6666666666666666,
              "#ed7953"
             ],
             [
              0.7777777777777778,
              "#fb9f3a"
             ],
             [
              0.8888888888888888,
              "#fdca26"
             ],
             [
              1,
              "#f0f921"
             ]
            ],
            "type": "histogram2d"
           }
          ],
          "histogram2dcontour": [
           {
            "colorbar": {
             "outlinewidth": 0,
             "ticks": ""
            },
            "colorscale": [
             [
              0,
              "#0d0887"
             ],
             [
              0.1111111111111111,
              "#46039f"
             ],
             [
              0.2222222222222222,
              "#7201a8"
             ],
             [
              0.3333333333333333,
              "#9c179e"
             ],
             [
              0.4444444444444444,
              "#bd3786"
             ],
             [
              0.5555555555555556,
              "#d8576b"
             ],
             [
              0.6666666666666666,
              "#ed7953"
             ],
             [
              0.7777777777777778,
              "#fb9f3a"
             ],
             [
              0.8888888888888888,
              "#fdca26"
             ],
             [
              1,
              "#f0f921"
             ]
            ],
            "type": "histogram2dcontour"
           }
          ],
          "mesh3d": [
           {
            "colorbar": {
             "outlinewidth": 0,
             "ticks": ""
            },
            "type": "mesh3d"
           }
          ],
          "parcoords": [
           {
            "line": {
             "colorbar": {
              "outlinewidth": 0,
              "ticks": ""
             }
            },
            "type": "parcoords"
           }
          ],
          "pie": [
           {
            "automargin": true,
            "type": "pie"
           }
          ],
          "scatter": [
           {
            "marker": {
             "line": {
              "color": "#283442"
             }
            },
            "type": "scatter"
           }
          ],
          "scatter3d": [
           {
            "line": {
             "colorbar": {
              "outlinewidth": 0,
              "ticks": ""
             }
            },
            "marker": {
             "colorbar": {
              "outlinewidth": 0,
              "ticks": ""
             }
            },
            "type": "scatter3d"
           }
          ],
          "scattercarpet": [
           {
            "marker": {
             "colorbar": {
              "outlinewidth": 0,
              "ticks": ""
             }
            },
            "type": "scattercarpet"
           }
          ],
          "scattergeo": [
           {
            "marker": {
             "colorbar": {
              "outlinewidth": 0,
              "ticks": ""
             }
            },
            "type": "scattergeo"
           }
          ],
          "scattergl": [
           {
            "marker": {
             "line": {
              "color": "#283442"
             }
            },
            "type": "scattergl"
           }
          ],
          "scattermapbox": [
           {
            "marker": {
             "colorbar": {
              "outlinewidth": 0,
              "ticks": ""
             }
            },
            "type": "scattermapbox"
           }
          ],
          "scatterpolar": [
           {
            "marker": {
             "colorbar": {
              "outlinewidth": 0,
              "ticks": ""
             }
            },
            "type": "scatterpolar"
           }
          ],
          "scatterpolargl": [
           {
            "marker": {
             "colorbar": {
              "outlinewidth": 0,
              "ticks": ""
             }
            },
            "type": "scatterpolargl"
           }
          ],
          "scatterternary": [
           {
            "marker": {
             "colorbar": {
              "outlinewidth": 0,
              "ticks": ""
             }
            },
            "type": "scatterternary"
           }
          ],
          "surface": [
           {
            "colorbar": {
             "outlinewidth": 0,
             "ticks": ""
            },
            "colorscale": [
             [
              0,
              "#0d0887"
             ],
             [
              0.1111111111111111,
              "#46039f"
             ],
             [
              0.2222222222222222,
              "#7201a8"
             ],
             [
              0.3333333333333333,
              "#9c179e"
             ],
             [
              0.4444444444444444,
              "#bd3786"
             ],
             [
              0.5555555555555556,
              "#d8576b"
             ],
             [
              0.6666666666666666,
              "#ed7953"
             ],
             [
              0.7777777777777778,
              "#fb9f3a"
             ],
             [
              0.8888888888888888,
              "#fdca26"
             ],
             [
              1,
              "#f0f921"
             ]
            ],
            "type": "surface"
           }
          ],
          "table": [
           {
            "cells": {
             "fill": {
              "color": "#506784"
             },
             "line": {
              "color": "rgb(17,17,17)"
             }
            },
            "header": {
             "fill": {
              "color": "#2a3f5f"
             },
             "line": {
              "color": "rgb(17,17,17)"
             }
            },
            "type": "table"
           }
          ]
         },
         "layout": {
          "annotationdefaults": {
           "arrowcolor": "#f2f5fa",
           "arrowhead": 0,
           "arrowwidth": 1
          },
          "autotypenumbers": "strict",
          "coloraxis": {
           "colorbar": {
            "outlinewidth": 0,
            "ticks": ""
           }
          },
          "colorscale": {
           "diverging": [
            [
             0,
             "#8e0152"
            ],
            [
             0.1,
             "#c51b7d"
            ],
            [
             0.2,
             "#de77ae"
            ],
            [
             0.3,
             "#f1b6da"
            ],
            [
             0.4,
             "#fde0ef"
            ],
            [
             0.5,
             "#f7f7f7"
            ],
            [
             0.6,
             "#e6f5d0"
            ],
            [
             0.7,
             "#b8e186"
            ],
            [
             0.8,
             "#7fbc41"
            ],
            [
             0.9,
             "#4d9221"
            ],
            [
             1,
             "#276419"
            ]
           ],
           "sequential": [
            [
             0,
             "#0d0887"
            ],
            [
             0.1111111111111111,
             "#46039f"
            ],
            [
             0.2222222222222222,
             "#7201a8"
            ],
            [
             0.3333333333333333,
             "#9c179e"
            ],
            [
             0.4444444444444444,
             "#bd3786"
            ],
            [
             0.5555555555555556,
             "#d8576b"
            ],
            [
             0.6666666666666666,
             "#ed7953"
            ],
            [
             0.7777777777777778,
             "#fb9f3a"
            ],
            [
             0.8888888888888888,
             "#fdca26"
            ],
            [
             1,
             "#f0f921"
            ]
           ],
           "sequentialminus": [
            [
             0,
             "#0d0887"
            ],
            [
             0.1111111111111111,
             "#46039f"
            ],
            [
             0.2222222222222222,
             "#7201a8"
            ],
            [
             0.3333333333333333,
             "#9c179e"
            ],
            [
             0.4444444444444444,
             "#bd3786"
            ],
            [
             0.5555555555555556,
             "#d8576b"
            ],
            [
             0.6666666666666666,
             "#ed7953"
            ],
            [
             0.7777777777777778,
             "#fb9f3a"
            ],
            [
             0.8888888888888888,
             "#fdca26"
            ],
            [
             1,
             "#f0f921"
            ]
           ]
          },
          "colorway": [
           "#636efa",
           "#EF553B",
           "#00cc96",
           "#ab63fa",
           "#FFA15A",
           "#19d3f3",
           "#FF6692",
           "#B6E880",
           "#FF97FF",
           "#FECB52"
          ],
          "font": {
           "color": "#f2f5fa"
          },
          "geo": {
           "bgcolor": "rgb(17,17,17)",
           "lakecolor": "rgb(17,17,17)",
           "landcolor": "rgb(17,17,17)",
           "showlakes": true,
           "showland": true,
           "subunitcolor": "#506784"
          },
          "hoverlabel": {
           "align": "left"
          },
          "hovermode": "closest",
          "mapbox": {
           "style": "dark"
          },
          "paper_bgcolor": "rgb(17,17,17)",
          "plot_bgcolor": "rgb(17,17,17)",
          "polar": {
           "angularaxis": {
            "gridcolor": "#506784",
            "linecolor": "#506784",
            "ticks": ""
           },
           "bgcolor": "rgb(17,17,17)",
           "radialaxis": {
            "gridcolor": "#506784",
            "linecolor": "#506784",
            "ticks": ""
           }
          },
          "scene": {
           "xaxis": {
            "backgroundcolor": "rgb(17,17,17)",
            "gridcolor": "#506784",
            "gridwidth": 2,
            "linecolor": "#506784",
            "showbackground": true,
            "ticks": "",
            "zerolinecolor": "#C8D4E3"
           },
           "yaxis": {
            "backgroundcolor": "rgb(17,17,17)",
            "gridcolor": "#506784",
            "gridwidth": 2,
            "linecolor": "#506784",
            "showbackground": true,
            "ticks": "",
            "zerolinecolor": "#C8D4E3"
           },
           "zaxis": {
            "backgroundcolor": "rgb(17,17,17)",
            "gridcolor": "#506784",
            "gridwidth": 2,
            "linecolor": "#506784",
            "showbackground": true,
            "ticks": "",
            "zerolinecolor": "#C8D4E3"
           }
          },
          "shapedefaults": {
           "line": {
            "color": "#f2f5fa"
           }
          },
          "sliderdefaults": {
           "bgcolor": "#C8D4E3",
           "bordercolor": "rgb(17,17,17)",
           "borderwidth": 1,
           "tickwidth": 0
          },
          "ternary": {
           "aaxis": {
            "gridcolor": "#506784",
            "linecolor": "#506784",
            "ticks": ""
           },
           "baxis": {
            "gridcolor": "#506784",
            "linecolor": "#506784",
            "ticks": ""
           },
           "bgcolor": "rgb(17,17,17)",
           "caxis": {
            "gridcolor": "#506784",
            "linecolor": "#506784",
            "ticks": ""
           }
          },
          "title": {
           "x": 0.05
          },
          "updatemenudefaults": {
           "bgcolor": "#506784",
           "borderwidth": 0
          },
          "xaxis": {
           "automargin": true,
           "gridcolor": "#283442",
           "linecolor": "#506784",
           "ticks": "",
           "title": {
            "standoff": 15
           },
           "zerolinecolor": "#283442",
           "zerolinewidth": 2
          },
          "yaxis": {
           "automargin": true,
           "gridcolor": "#283442",
           "linecolor": "#506784",
           "ticks": "",
           "title": {
            "standoff": 15
           },
           "zerolinecolor": "#283442",
           "zerolinewidth": 2
          }
         }
        },
        "title": {
         "text": "Compensation of Passengers who Voluntarily Gave up their Seat"
        },
        "xaxis": {
         "anchor": "y",
         "domain": [
          0,
          1
         ],
         "title": {
          "text": "Total Passengers"
         },
         "type": "log"
        },
        "yaxis": {
         "anchor": "x",
         "domain": [
          0,
          1
         ],
         "title": {
          "text": "Total Compensation"
         }
        }
       }
      }
     },
     "metadata": {},
     "output_type": "display_data"
    }
   ],
   "source": [
    "def db_plot_comp_voluntary_by_carrier():\n",
    "    fig = px.scatter(denied_boarding.groupby('CARRIER').mean(numeric_only=True).reset_index(), \n",
    "                 x=5, y=7,size=\"cash_per_vol_denial\", color=\"CARRIER\",\n",
    "                 hover_name=\"CARRIER\", log_x=True, size_max=60, \n",
    "                 labels={\n",
    "                     \"5\": \"Total Passengers\",\n",
    "                     \"7\": \"Total Compensation\",\n",
    "                     \"CARRIER\": \"Airline\",\n",
    "                     \"cash_per_vol_denial\":\"Avg. Compensation\"\n",
    "                 },\n",
    "                title=\"Compensation of Passengers who Voluntarily Gave up their Seat\", \n",
    "                color_discrete_sequence=px.colors.qualitative.Dark24)\n",
    "    return(fig)\n",
    "\n",
    "db_plot_comp_voluntary_by_carrier()"
   ]
  },
  {
   "cell_type": "code",
   "execution_count": 317,
   "metadata": {},
   "outputs": [],
   "source": [
    "import pandas as pd\n",
    "import plotly.express as px \n",
    "import plotly.io as pio\n",
    "import plotly.graph_objects as go\n",
    "pio.templates.default = \"plotly_dark\"\n",
    "\n",
    "\n",
    "def db_plot_perc_denied_over_time():\n",
    "    denied_boarding = pd.read_csv(\"C:\\\\Users\\\\franc\\\\beat_the_crowd\\\\beat_the_crowd\\\\Analysis\\\\clean_data\\\\denied_boarding.csv\")\n",
    "    fig = px.area(denied_boarding.groupby('date').mean(numeric_only = True).reset_index().rename(columns = {'perc_denied_boarding_involuntary':\"Involuntary\", \"perc_denied_boarding_voluntary\":\"Voluntary\"}), \n",
    "              x=\"date\", y=[\"Voluntary\",\"Involuntary\"], \n",
    "                labels={\n",
    "                    \"date\": \"Year\",\n",
    "                     \"value\":\"Percent of Passengers Denied Boarding\", \n",
    "                     \"variable\":\"Denial Type\"\n",
    "                 },\n",
    "                title=\"Percent of Passengers Denied Boarding over Time\", \n",
    "                color_discrete_sequence=px.colors.qualitative.Dark24)\n",
    "    fig.update_xaxes(tickangle = 45)\n",
    "    return(fig)\n",
    "\n",
    "def db_plot_perc_denied_by_carrier():\n",
    "    denied_boarding = pd.read_csv(\"C:\\\\Users\\\\franc\\\\beat_the_crowd\\\\beat_the_crowd\\\\Analysis\\\\clean_data\\\\denied_boarding.csv\")\n",
    "    fig = px.bar(denied_boarding.groupby('CARRIER').mean(numeric_only =True).reset_index().sort_values(\"perc_denied_boarding\", ascending=False).\n",
    "             rename(columns = {\n",
    "    \"perc_denied_boarding_voluntary\":\"Voluntary\",\n",
    "    \"perc_denied_boarding_involuntary\":\"Involuntary\"\n",
    "    }),\n",
    "             x=\"CARRIER\", y=[\"Voluntary\",\n",
    "                             \"Involuntary\"],\n",
    "             labels = {\n",
    "                 \"CARRIER\":\"Airline Carrier\", \n",
    "                 \"variable\":\"Denial Type\",\n",
    "                 \"value\":\"Percent of Passengers Denied Boarding\"\n",
    "             },\n",
    "                title=\"Percentage of Passengers Denied Boarding by Airline Carrier\", \n",
    "                color_discrete_sequence=px.colors.qualitative.Dark24)\n",
    "    fig.update_xaxes(tickangle = 45)\n",
    "    return(fig)\n",
    "\n",
    "def db_plot_total_denied_by_carrier():\n",
    "    denied_boarding = pd.read_csv(\"C:\\\\Users\\\\franc\\\\beat_the_crowd\\\\beat_the_crowd\\\\Analysis\\\\clean_data\\\\denied_boarding.csv\")\n",
    "    fig = px.scatter(denied_boarding.groupby('CARRIER').sum(numeric_only=True).reset_index(), \n",
    "                 x=6, y=\"total_denials\",\n",
    "\t         size=\"perc_denied_boarding\", color=\"CARRIER\",\n",
    "                 hover_name=\"CARRIER\", log_x=True, size_max=60, \n",
    "                 labels={\n",
    "                     \"6\": \"Total Boardings\",\n",
    "                     \"total_denials\": \"Total Passengers Denied Boarding\",\n",
    "                     \"CARRIER\": \"Airline\",\n",
    "                     \"perc_denied_boarding\":\"Percent Denied Boarding\"\n",
    "                 },\n",
    "                title=\"Denied Boarding by Airline Carrier\", \n",
    "                color_discrete_sequence=px.colors.qualitative.Dark24)\n",
    "    return(fig)\n",
    "\n",
    "def db_plot_denial_type_by_carrier():\n",
    "    denied_boarding = pd.read_csv(\"C:\\\\Users\\\\franc\\\\beat_the_crowd\\\\beat_the_crowd\\\\Analysis\\\\clean_data\\\\denied_boarding.csv\")\n",
    "    denied_boarding_reshape = pd.melt(denied_boarding.rename(columns = {\n",
    "        1:'Involuntary - Received Compensation', \n",
    "        2:'Involuntary - No Compensation', \n",
    "        5:'Voluntary - Received Compensation'\n",
    "        }), \n",
    "                                      id_vars = ['CARRIER', 'year', 'quarter'], \n",
    "                                      value_vars=['Involuntary - Received Compensation', \n",
    "                                                  'Involuntary - No Compensation',\n",
    "                                                  'Voluntary - Received Compensation'\n",
    "                                                  ])\n",
    "    \n",
    "    df = denied_boarding_reshape[['CARRIER', 'variable','value']].set_index(['CARRIER', 'variable'])['value']\n",
    "    \n",
    "    # create a figure for each category\n",
    "    figs = {\n",
    "        c: px.pie(df.loc[c].reset_index(), values=\"value\", names=\"variable\", \n",
    "                  labels = {\n",
    "                     'value':'Total Passengers', \n",
    "                     'variable':'Denial Type'\n",
    "                 }, \n",
    "            color_discrete_sequence=px.colors.qualitative.Dark24).update_traces(\n",
    "            name=c, visible=False, \n",
    "        )\n",
    "        for c in df.index.get_level_values(\"CARRIER\").unique()\n",
    "    }\n",
    "    \n",
    "    # integrate figures per category into one figure\n",
    "    defaultcat = df.index.get_level_values(\"CARRIER\").unique()[0]\n",
    "    fig = figs[defaultcat].update_traces(visible=True)\n",
    "    for k in figs.keys():\n",
    "        if k != defaultcat:\n",
    "            fig.add_traces(figs[k].data)\n",
    "    \n",
    "    # finally build dropdown menu\n",
    "    fig.update_layout(\n",
    "        updatemenus=[\n",
    "            {\n",
    "                \"buttons\": [\n",
    "                    {\n",
    "                        \"label\": k,\n",
    "                        \"method\": \"update\",\n",
    "                        # list comprehension for which traces are visible\n",
    "                        \"args\": [{\"visible\": [kk == k for kk in figs.keys()]},\n",
    "                                 {\"title\":go.layout.xaxis.Title(\n",
    "                text=f\"Denied Boardings by Airline Carrier <br><sup>{k} </sup>\"\n",
    "                )}],\n",
    "                    }\n",
    "                    for k in figs.keys()\n",
    "                ]\n",
    "            }\n",
    "        ]\n",
    "    )\n",
    "    \n",
    "    return(fig)\n",
    "\n",
    "\n",
    "def db_plot_denied_compensation_reason():\n",
    "    denied_boarding = pd.read_csv(\"C:\\\\Users\\\\franc\\\\beat_the_crowd\\\\beat_the_crowd\\\\Analysis\\\\clean_data\\\\denied_boarding.csv\")\n",
    "    denied_boarding_reshape = pd.melt(denied_boarding[denied_boarding[2]>0], \n",
    "                                  id_vars = ['CARRIER', 'year', 'quarter'], \n",
    "                                  value_vars=['2(a)','2(b)','2(c)'])\n",
    "\n",
    "    df = denied_boarding_reshape[['CARRIER', 'variable','value']].set_index(['CARRIER', 'variable'])['value']\n",
    "\n",
    "    # create a figure for each category\n",
    "    figs = {\n",
    "    c: px.pie(df.loc[c].reset_index(), values=\"value\", names=\"variable\", \n",
    "              labels = {\n",
    "                 'value':'Total Passengers', \n",
    "                 'variable':'Denial Type'\n",
    "             },  category_orders={\"variable\":['2(a)','2(b)','2(c)']},\n",
    "        color_discrete_sequence=px.colors.qualitative.Dark24,\n",
    "        title = \"Involuntary Denials: Reason for Denied Compensation by Airline\").update_traces(\n",
    "        name=c, visible=False, \n",
    "    )\n",
    "    for c in df.index.get_level_values(\"CARRIER\").unique()\n",
    "    }\n",
    "\n",
    "    # integrate figures per category into one figure\n",
    "    defaultcat = df.index.get_level_values(\"CARRIER\").unique()[0]\n",
    "    fig = figs[defaultcat].update_traces(visible=True)\n",
    "    for k in figs.keys():\n",
    "        if k != defaultcat:\n",
    "            fig.add_traces(figs[k].data)\n",
    "        \n",
    "            fig.add_annotation(text='2(a): Passenger did not comply fully with carrier contract', \n",
    "                               y = 0, x = -.3,\n",
    "                showarrow=False,\n",
    "                font = dict(size = 10),\n",
    "                yshift=10)\n",
    "            fig.add_annotation(text='2(b): Substitution of an aircraft of lesser capacity or due to weight/balance restrictions on an aircraft with a designed passenger capacity of 60 or fewer seats', \n",
    "                               y = -0.1, x = -.3,\n",
    "                showarrow=False,\n",
    "                font = dict(size = 10),\n",
    "                yshift=10)\n",
    "            fig.add_annotation(text=\"2(c): Carrier arranged comparable air tansfer arriving no later than 1 hour past passengers' original arrival time\", \n",
    "                               y = -0.2, x = -.3,\n",
    "                showarrow=False,\n",
    "                font = dict(size = 10),\n",
    "                yshift=10)\n",
    "\n",
    "# finally build dropdown menu\n",
    "    fig.update_layout(\n",
    "    updatemenus=[\n",
    "        {\n",
    "            \"buttons\": [\n",
    "                {\n",
    "                    \"label\": k,\n",
    "                    \"method\": \"update\",\n",
    "                    # list comprehension for which traces are visible\n",
    "                    \"args\": [{\"visible\": [kk == k for kk in figs.keys()]},\n",
    "                             {\"title\":go.layout.xaxis.Title(\n",
    "            text=f\"Reason for Denied Compensation by Airline <br><sup>{k} </sup>\"\n",
    "            )}],\n",
    "                }\n",
    "                for k in figs.keys()\n",
    "            ]\n",
    "        }\n",
    "    ]\n",
    ")\n",
    "    return(fig)\n",
    "\n",
    "def db_plot_comp_voluntary_by_carrier():\n",
    "    denied_boarding = pd.read_csv(\"C:\\\\Users\\\\franc\\\\beat_the_crowd\\\\beat_the_crowd\\\\Analysis\\\\clean_data\\\\denied_boarding.csv\")\n",
    "    fig = px.scatter(denied_boarding.groupby('CARRIER').mean(numeric_only=True).reset_index(), \n",
    "                 x=5, y=7,size=\"cash_per_vol_denial\", color=\"CARRIER\",\n",
    "                 hover_name=\"CARRIER\", log_x=True, size_max=60, \n",
    "                 labels={\n",
    "                     \"5\": \"Total Passengers\",\n",
    "                     \"7\": \"Total Compensation\",\n",
    "                     \"CARRIER\": \"Airline\",\n",
    "                     \"cash_per_vol_denial\":\"Avg. Compensation\"\n",
    "                 },\n",
    "                title=\"Compensation of Passengers who Voluntarily Gave up their Seat\", \n",
    "                color_discrete_sequence=px.colors.qualitative.Dark24)\n",
    "    return(fig)"
   ]
  },
  {
   "cell_type": "code",
   "execution_count": 318,
   "metadata": {},
   "outputs": [
    {
     "ename": "ValueError",
     "evalue": "Value of 'x' is not the name of a column in 'data_frame'. Expected one of ['CARRIER', '1(a)', '1(b)', '2(a)', '2(b)', '2(c)', '3', '4', '5', '6', '7', 'year', '1', '2', 'perc_denied_boarding', 'perc_denied_boarding_involuntary', 'perc_denied_boarding_voluntary', 'total_denials', 'cash_per_vol_denial'] but received: 5",
     "output_type": "error",
     "traceback": [
      "\u001b[1;31m---------------------------------------------------------------------------\u001b[0m",
      "\u001b[1;31mValueError\u001b[0m                                Traceback (most recent call last)",
      "Cell \u001b[1;32mIn[318], line 1\u001b[0m\n\u001b[1;32m----> 1\u001b[0m db_plot_comp_voluntary_by_carrier()\n",
      "Cell \u001b[1;32mIn[317], line 183\u001b[0m, in \u001b[0;36mdb_plot_comp_voluntary_by_carrier\u001b[1;34m()\u001b[0m\n\u001b[0;32m    181\u001b[0m \u001b[39mdef\u001b[39;00m \u001b[39mdb_plot_comp_voluntary_by_carrier\u001b[39m():\n\u001b[0;32m    182\u001b[0m     denied_boarding \u001b[39m=\u001b[39m pd\u001b[39m.\u001b[39mread_csv(\u001b[39m\"\u001b[39m\u001b[39mC:\u001b[39m\u001b[39m\\\\\u001b[39;00m\u001b[39mUsers\u001b[39m\u001b[39m\\\\\u001b[39;00m\u001b[39mfranc\u001b[39m\u001b[39m\\\\\u001b[39;00m\u001b[39mbeat_the_crowd\u001b[39m\u001b[39m\\\\\u001b[39;00m\u001b[39mbeat_the_crowd\u001b[39m\u001b[39m\\\\\u001b[39;00m\u001b[39mAnalysis\u001b[39m\u001b[39m\\\\\u001b[39;00m\u001b[39mclean_data\u001b[39m\u001b[39m\\\\\u001b[39;00m\u001b[39mdenied_boarding.csv\u001b[39m\u001b[39m\"\u001b[39m)\n\u001b[1;32m--> 183\u001b[0m     fig \u001b[39m=\u001b[39m px\u001b[39m.\u001b[39;49mscatter(denied_boarding\u001b[39m.\u001b[39;49mgroupby(\u001b[39m'\u001b[39;49m\u001b[39mCARRIER\u001b[39;49m\u001b[39m'\u001b[39;49m)\u001b[39m.\u001b[39;49mmean(numeric_only\u001b[39m=\u001b[39;49m\u001b[39mTrue\u001b[39;49;00m)\u001b[39m.\u001b[39;49mreset_index(), \n\u001b[0;32m    184\u001b[0m                  x\u001b[39m=\u001b[39;49m\u001b[39m5\u001b[39;49m, y\u001b[39m=\u001b[39;49m\u001b[39m7\u001b[39;49m,size\u001b[39m=\u001b[39;49m\u001b[39m\"\u001b[39;49m\u001b[39mcash_per_vol_denial\u001b[39;49m\u001b[39m\"\u001b[39;49m, color\u001b[39m=\u001b[39;49m\u001b[39m\"\u001b[39;49m\u001b[39mCARRIER\u001b[39;49m\u001b[39m\"\u001b[39;49m,\n\u001b[0;32m    185\u001b[0m                  hover_name\u001b[39m=\u001b[39;49m\u001b[39m\"\u001b[39;49m\u001b[39mCARRIER\u001b[39;49m\u001b[39m\"\u001b[39;49m, log_x\u001b[39m=\u001b[39;49m\u001b[39mTrue\u001b[39;49;00m, size_max\u001b[39m=\u001b[39;49m\u001b[39m60\u001b[39;49m, \n\u001b[0;32m    186\u001b[0m                  labels\u001b[39m=\u001b[39;49m{\n\u001b[0;32m    187\u001b[0m                      \u001b[39m\"\u001b[39;49m\u001b[39m5\u001b[39;49m\u001b[39m\"\u001b[39;49m: \u001b[39m\"\u001b[39;49m\u001b[39mTotal Passengers\u001b[39;49m\u001b[39m\"\u001b[39;49m,\n\u001b[0;32m    188\u001b[0m                      \u001b[39m\"\u001b[39;49m\u001b[39m7\u001b[39;49m\u001b[39m\"\u001b[39;49m: \u001b[39m\"\u001b[39;49m\u001b[39mTotal Compensation\u001b[39;49m\u001b[39m\"\u001b[39;49m,\n\u001b[0;32m    189\u001b[0m                      \u001b[39m\"\u001b[39;49m\u001b[39mCARRIER\u001b[39;49m\u001b[39m\"\u001b[39;49m: \u001b[39m\"\u001b[39;49m\u001b[39mAirline\u001b[39;49m\u001b[39m\"\u001b[39;49m,\n\u001b[0;32m    190\u001b[0m                      \u001b[39m\"\u001b[39;49m\u001b[39mcash_per_vol_denial\u001b[39;49m\u001b[39m\"\u001b[39;49m:\u001b[39m\"\u001b[39;49m\u001b[39mAvg. Compensation\u001b[39;49m\u001b[39m\"\u001b[39;49m\n\u001b[0;32m    191\u001b[0m                  },\n\u001b[0;32m    192\u001b[0m                 title\u001b[39m=\u001b[39;49m\u001b[39m\"\u001b[39;49m\u001b[39mCompensation of Passengers who Voluntarily Gave up their Seat\u001b[39;49m\u001b[39m\"\u001b[39;49m, \n\u001b[0;32m    193\u001b[0m                 color_discrete_sequence\u001b[39m=\u001b[39;49mpx\u001b[39m.\u001b[39;49mcolors\u001b[39m.\u001b[39;49mqualitative\u001b[39m.\u001b[39;49mDark24)\n\u001b[0;32m    194\u001b[0m     \u001b[39mreturn\u001b[39;00m(fig)\n",
      "File \u001b[1;32mc:\\Users\\franc\\AppData\\Local\\Programs\\Python\\Python311\\Lib\\site-packages\\plotly\\express\\_chart_types.py:66\u001b[0m, in \u001b[0;36mscatter\u001b[1;34m(data_frame, x, y, color, symbol, size, hover_name, hover_data, custom_data, text, facet_row, facet_col, facet_col_wrap, facet_row_spacing, facet_col_spacing, error_x, error_x_minus, error_y, error_y_minus, animation_frame, animation_group, category_orders, labels, orientation, color_discrete_sequence, color_discrete_map, color_continuous_scale, range_color, color_continuous_midpoint, symbol_sequence, symbol_map, opacity, size_max, marginal_x, marginal_y, trendline, trendline_options, trendline_color_override, trendline_scope, log_x, log_y, range_x, range_y, render_mode, title, template, width, height)\u001b[0m\n\u001b[0;32m     12\u001b[0m \u001b[39mdef\u001b[39;00m \u001b[39mscatter\u001b[39m(\n\u001b[0;32m     13\u001b[0m     data_frame\u001b[39m=\u001b[39m\u001b[39mNone\u001b[39;00m,\n\u001b[0;32m     14\u001b[0m     x\u001b[39m=\u001b[39m\u001b[39mNone\u001b[39;00m,\n\u001b[1;32m   (...)\u001b[0m\n\u001b[0;32m     60\u001b[0m     height\u001b[39m=\u001b[39m\u001b[39mNone\u001b[39;00m,\n\u001b[0;32m     61\u001b[0m ) \u001b[39m-\u001b[39m\u001b[39m>\u001b[39m go\u001b[39m.\u001b[39mFigure:\n\u001b[0;32m     62\u001b[0m \u001b[39m    \u001b[39m\u001b[39m\"\"\"\u001b[39;00m\n\u001b[0;32m     63\u001b[0m \u001b[39m    In a scatter plot, each row of `data_frame` is represented by a symbol\u001b[39;00m\n\u001b[0;32m     64\u001b[0m \u001b[39m    mark in 2D space.\u001b[39;00m\n\u001b[0;32m     65\u001b[0m \u001b[39m    \"\"\"\u001b[39;00m\n\u001b[1;32m---> 66\u001b[0m     \u001b[39mreturn\u001b[39;00m make_figure(args\u001b[39m=\u001b[39;49m\u001b[39mlocals\u001b[39;49m(), constructor\u001b[39m=\u001b[39;49mgo\u001b[39m.\u001b[39;49mScatter)\n",
      "File \u001b[1;32mc:\\Users\\franc\\AppData\\Local\\Programs\\Python\\Python311\\Lib\\site-packages\\plotly\\express\\_core.py:1991\u001b[0m, in \u001b[0;36mmake_figure\u001b[1;34m(args, constructor, trace_patch, layout_patch)\u001b[0m\n\u001b[0;32m   1988\u001b[0m layout_patch \u001b[39m=\u001b[39m layout_patch \u001b[39mor\u001b[39;00m {}\n\u001b[0;32m   1989\u001b[0m apply_default_cascade(args)\n\u001b[1;32m-> 1991\u001b[0m args \u001b[39m=\u001b[39m build_dataframe(args, constructor)\n\u001b[0;32m   1992\u001b[0m \u001b[39mif\u001b[39;00m constructor \u001b[39min\u001b[39;00m [go\u001b[39m.\u001b[39mTreemap, go\u001b[39m.\u001b[39mSunburst, go\u001b[39m.\u001b[39mIcicle] \u001b[39mand\u001b[39;00m args[\u001b[39m\"\u001b[39m\u001b[39mpath\u001b[39m\u001b[39m\"\u001b[39m] \u001b[39mis\u001b[39;00m \u001b[39mnot\u001b[39;00m \u001b[39mNone\u001b[39;00m:\n\u001b[0;32m   1993\u001b[0m     args \u001b[39m=\u001b[39m process_dataframe_hierarchy(args)\n",
      "File \u001b[1;32mc:\\Users\\franc\\AppData\\Local\\Programs\\Python\\Python311\\Lib\\site-packages\\plotly\\express\\_core.py:1406\u001b[0m, in \u001b[0;36mbuild_dataframe\u001b[1;34m(args, constructor)\u001b[0m\n\u001b[0;32m   1403\u001b[0m     args[\u001b[39m\"\u001b[39m\u001b[39mcolor\u001b[39m\u001b[39m\"\u001b[39m] \u001b[39m=\u001b[39m \u001b[39mNone\u001b[39;00m\n\u001b[0;32m   1404\u001b[0m \u001b[39m# now that things have been prepped, we do the systematic rewriting of `args`\u001b[39;00m\n\u001b[1;32m-> 1406\u001b[0m df_output, wide_id_vars \u001b[39m=\u001b[39m process_args_into_dataframe(\n\u001b[0;32m   1407\u001b[0m     args, wide_mode, var_name, value_name\n\u001b[0;32m   1408\u001b[0m )\n\u001b[0;32m   1410\u001b[0m \u001b[39m# now that `df_output` exists and `args` contains only references, we complete\u001b[39;00m\n\u001b[0;32m   1411\u001b[0m \u001b[39m# the special-case and wide-mode handling by further rewriting args and/or mutating\u001b[39;00m\n\u001b[0;32m   1412\u001b[0m \u001b[39m# df_output\u001b[39;00m\n\u001b[0;32m   1414\u001b[0m count_name \u001b[39m=\u001b[39m _escape_col_name(df_output, \u001b[39m\"\u001b[39m\u001b[39mcount\u001b[39m\u001b[39m\"\u001b[39m, [var_name, value_name])\n",
      "File \u001b[1;32mc:\\Users\\franc\\AppData\\Local\\Programs\\Python\\Python311\\Lib\\site-packages\\plotly\\express\\_core.py:1208\u001b[0m, in \u001b[0;36mprocess_args_into_dataframe\u001b[1;34m(args, wide_mode, var_name, value_name)\u001b[0m\n\u001b[0;32m   1206\u001b[0m         \u001b[39mif\u001b[39;00m argument \u001b[39m==\u001b[39m \u001b[39m\"\u001b[39m\u001b[39mindex\u001b[39m\u001b[39m\"\u001b[39m:\n\u001b[0;32m   1207\u001b[0m             err_msg \u001b[39m+\u001b[39m\u001b[39m=\u001b[39m \u001b[39m\"\u001b[39m\u001b[39m\\n\u001b[39;00m\u001b[39m To use the index, pass it in directly as `df.index`.\u001b[39m\u001b[39m\"\u001b[39m\n\u001b[1;32m-> 1208\u001b[0m         \u001b[39mraise\u001b[39;00m \u001b[39mValueError\u001b[39;00m(err_msg)\n\u001b[0;32m   1209\u001b[0m \u001b[39melif\u001b[39;00m length \u001b[39mand\u001b[39;00m \u001b[39mlen\u001b[39m(df_input[argument]) \u001b[39m!=\u001b[39m length:\n\u001b[0;32m   1210\u001b[0m     \u001b[39mraise\u001b[39;00m \u001b[39mValueError\u001b[39;00m(\n\u001b[0;32m   1211\u001b[0m         \u001b[39m\"\u001b[39m\u001b[39mAll arguments should have the same length. \u001b[39m\u001b[39m\"\u001b[39m\n\u001b[0;32m   1212\u001b[0m         \u001b[39m\"\u001b[39m\u001b[39mThe length of column argument `df[\u001b[39m\u001b[39m%s\u001b[39;00m\u001b[39m]` is \u001b[39m\u001b[39m%d\u001b[39;00m\u001b[39m, whereas the \u001b[39m\u001b[39m\"\u001b[39m\n\u001b[1;32m   (...)\u001b[0m\n\u001b[0;32m   1219\u001b[0m         )\n\u001b[0;32m   1220\u001b[0m     )\n",
      "\u001b[1;31mValueError\u001b[0m: Value of 'x' is not the name of a column in 'data_frame'. Expected one of ['CARRIER', '1(a)', '1(b)', '2(a)', '2(b)', '2(c)', '3', '4', '5', '6', '7', 'year', '1', '2', 'perc_denied_boarding', 'perc_denied_boarding_involuntary', 'perc_denied_boarding_voluntary', 'total_denials', 'cash_per_vol_denial'] but received: 5"
     ]
    }
   ],
   "source": [
    "db_plot_comp_voluntary_by_carrier()"
   ]
  },
  {
   "cell_type": "code",
   "execution_count": 290,
   "metadata": {},
   "outputs": [
    {
     "data": {
      "application/vnd.plotly.v1+json": {
       "config": {
        "plotlyServerURL": "https://plot.ly"
       },
       "data": [
        {
         "domain": {
          "x": [
           0,
           1
          ],
          "y": [
           0,
           1
          ]
         },
         "hovertemplate": "Denial Type=%{label}<br>Total Passengers=%{value}<extra></extra>",
         "labels": [
          "Involuntary - Received Compensation",
          "Involuntary - Received Compensation",
          "Involuntary - Received Compensation",
          "Involuntary - Received Compensation",
          "Involuntary - Received Compensation",
          "Involuntary - Received Compensation",
          "Involuntary - Received Compensation",
          "Involuntary - Received Compensation",
          "Involuntary - Received Compensation",
          "Involuntary - Received Compensation",
          "Involuntary - Received Compensation",
          "Involuntary - Received Compensation",
          "Involuntary - Received Compensation",
          "Involuntary - Received Compensation",
          "Involuntary - Received Compensation",
          "Involuntary - Received Compensation",
          "Involuntary - No Compensation",
          "Involuntary - No Compensation",
          "Involuntary - No Compensation",
          "Involuntary - No Compensation",
          "Involuntary - No Compensation",
          "Involuntary - No Compensation",
          "Involuntary - No Compensation",
          "Involuntary - No Compensation",
          "Involuntary - No Compensation",
          "Involuntary - No Compensation",
          "Involuntary - No Compensation",
          "Involuntary - No Compensation",
          "Involuntary - No Compensation",
          "Involuntary - No Compensation",
          "Involuntary - No Compensation",
          "Involuntary - No Compensation",
          "Voluntary - Received Compensation",
          "Voluntary - Received Compensation",
          "Voluntary - Received Compensation",
          "Voluntary - Received Compensation",
          "Voluntary - Received Compensation",
          "Voluntary - Received Compensation",
          "Voluntary - Received Compensation",
          "Voluntary - Received Compensation",
          "Voluntary - Received Compensation",
          "Voluntary - Received Compensation",
          "Voluntary - Received Compensation",
          "Voluntary - Received Compensation",
          "Voluntary - Received Compensation",
          "Voluntary - Received Compensation",
          "Voluntary - Received Compensation",
          "Voluntary - Received Compensation"
         ],
         "legendgroup": "",
         "name": "Alaska Airlines",
         "showlegend": true,
         "type": "pie",
         "values": [
          99,
          237,
          121,
          56,
          107,
          107,
          65,
          60,
          24,
          0,
          0,
          0,
          1,
          16,
          17,
          37,
          21,
          89,
          71,
          49,
          51,
          48,
          27,
          48,
          6,
          0,
          0,
          0,
          1,
          17,
          15,
          14,
          1206,
          2795,
          2494,
          2226,
          2498,
          3188,
          2730,
          3147,
          1515,
          43,
          0,
          0,
          117,
          915,
          1059,
          2386
         ],
         "visible": true
        },
        {
         "domain": {
          "x": [
           0,
           1
          ],
          "y": [
           0,
           1
          ]
         },
         "hovertemplate": "Denial Type=%{label}<br>Total Passengers=%{value}<extra></extra>",
         "labels": [
          "Involuntary - Received Compensation",
          "Involuntary - Received Compensation",
          "Involuntary - Received Compensation",
          "Involuntary - Received Compensation",
          "Involuntary - Received Compensation",
          "Involuntary - Received Compensation",
          "Involuntary - Received Compensation",
          "Involuntary - Received Compensation",
          "Involuntary - Received Compensation",
          "Involuntary - Received Compensation",
          "Involuntary - Received Compensation",
          "Involuntary - Received Compensation",
          "Involuntary - Received Compensation",
          "Involuntary - Received Compensation",
          "Involuntary - Received Compensation",
          "Involuntary - Received Compensation",
          "Involuntary - No Compensation",
          "Involuntary - No Compensation",
          "Involuntary - No Compensation",
          "Involuntary - No Compensation",
          "Involuntary - No Compensation",
          "Involuntary - No Compensation",
          "Involuntary - No Compensation",
          "Involuntary - No Compensation",
          "Involuntary - No Compensation",
          "Involuntary - No Compensation",
          "Involuntary - No Compensation",
          "Involuntary - No Compensation",
          "Involuntary - No Compensation",
          "Involuntary - No Compensation",
          "Involuntary - No Compensation",
          "Involuntary - No Compensation",
          "Voluntary - Received Compensation",
          "Voluntary - Received Compensation",
          "Voluntary - Received Compensation",
          "Voluntary - Received Compensation",
          "Voluntary - Received Compensation",
          "Voluntary - Received Compensation",
          "Voluntary - Received Compensation",
          "Voluntary - Received Compensation",
          "Voluntary - Received Compensation",
          "Voluntary - Received Compensation",
          "Voluntary - Received Compensation",
          "Voluntary - Received Compensation",
          "Voluntary - Received Compensation",
          "Voluntary - Received Compensation",
          "Voluntary - Received Compensation",
          "Voluntary - Received Compensation"
         ],
         "legendgroup": "",
         "name": "Allegiant Airlines",
         "showlegend": true,
         "type": "pie",
         "values": [
          0,
          0,
          0,
          0,
          0,
          0,
          0,
          0,
          0,
          0,
          0,
          0,
          0,
          0,
          0,
          0,
          58,
          0,
          78,
          66,
          510,
          123,
          2,
          2,
          0,
          0,
          0,
          0,
          0,
          0,
          0,
          0,
          0,
          216,
          141,
          46,
          34,
          25,
          135,
          347,
          272,
          15,
          11,
          6,
          3,
          203,
          519,
          431
         ],
         "visible": false
        },
        {
         "domain": {
          "x": [
           0,
           1
          ],
          "y": [
           0,
           1
          ]
         },
         "hovertemplate": "Denial Type=%{label}<br>Total Passengers=%{value}<extra></extra>",
         "labels": [
          "Involuntary - Received Compensation",
          "Involuntary - Received Compensation",
          "Involuntary - Received Compensation",
          "Involuntary - Received Compensation",
          "Involuntary - Received Compensation",
          "Involuntary - Received Compensation",
          "Involuntary - Received Compensation",
          "Involuntary - Received Compensation",
          "Involuntary - Received Compensation",
          "Involuntary - Received Compensation",
          "Involuntary - Received Compensation",
          "Involuntary - Received Compensation",
          "Involuntary - Received Compensation",
          "Involuntary - Received Compensation",
          "Involuntary - Received Compensation",
          "Involuntary - Received Compensation",
          "Involuntary - No Compensation",
          "Involuntary - No Compensation",
          "Involuntary - No Compensation",
          "Involuntary - No Compensation",
          "Involuntary - No Compensation",
          "Involuntary - No Compensation",
          "Involuntary - No Compensation",
          "Involuntary - No Compensation",
          "Involuntary - No Compensation",
          "Involuntary - No Compensation",
          "Involuntary - No Compensation",
          "Involuntary - No Compensation",
          "Involuntary - No Compensation",
          "Involuntary - No Compensation",
          "Involuntary - No Compensation",
          "Involuntary - No Compensation",
          "Voluntary - Received Compensation",
          "Voluntary - Received Compensation",
          "Voluntary - Received Compensation",
          "Voluntary - Received Compensation",
          "Voluntary - Received Compensation",
          "Voluntary - Received Compensation",
          "Voluntary - Received Compensation",
          "Voluntary - Received Compensation",
          "Voluntary - Received Compensation",
          "Voluntary - Received Compensation",
          "Voluntary - Received Compensation",
          "Voluntary - Received Compensation",
          "Voluntary - Received Compensation",
          "Voluntary - Received Compensation",
          "Voluntary - Received Compensation",
          "Voluntary - Received Compensation"
         ],
         "legendgroup": "",
         "name": "American Airlines",
         "showlegend": true,
         "type": "pie",
         "values": [
          304,
          96,
          142,
          860,
          980,
          1271,
          853,
          486,
          206,
          79,
          572,
          8,
          73,
          355,
          407,
          978,
          179,
          99,
          221,
          713,
          744,
          2027,
          1037,
          585,
          259,
          6,
          66,
          20,
          7,
          53,
          73,
          193,
          15658,
          12751,
          12697,
          20168,
          28362,
          41562,
          25733,
          15503,
          6127,
          647,
          2899,
          591,
          1453,
          5192,
          6008,
          8787
         ],
         "visible": false
        },
        {
         "domain": {
          "x": [
           0,
           1
          ],
          "y": [
           0,
           1
          ]
         },
         "hovertemplate": "Denial Type=%{label}<br>Total Passengers=%{value}<extra></extra>",
         "labels": [
          "Involuntary - Received Compensation",
          "Involuntary - Received Compensation",
          "Involuntary - Received Compensation",
          "Involuntary - Received Compensation",
          "Involuntary - Received Compensation",
          "Involuntary - Received Compensation",
          "Involuntary - Received Compensation",
          "Involuntary - Received Compensation",
          "Involuntary - Received Compensation",
          "Involuntary - Received Compensation",
          "Involuntary - Received Compensation",
          "Involuntary - Received Compensation",
          "Involuntary - Received Compensation",
          "Involuntary - Received Compensation",
          "Involuntary - Received Compensation",
          "Involuntary - Received Compensation",
          "Involuntary - No Compensation",
          "Involuntary - No Compensation",
          "Involuntary - No Compensation",
          "Involuntary - No Compensation",
          "Involuntary - No Compensation",
          "Involuntary - No Compensation",
          "Involuntary - No Compensation",
          "Involuntary - No Compensation",
          "Involuntary - No Compensation",
          "Involuntary - No Compensation",
          "Involuntary - No Compensation",
          "Involuntary - No Compensation",
          "Involuntary - No Compensation",
          "Involuntary - No Compensation",
          "Involuntary - No Compensation",
          "Involuntary - No Compensation",
          "Voluntary - Received Compensation",
          "Voluntary - Received Compensation",
          "Voluntary - Received Compensation",
          "Voluntary - Received Compensation",
          "Voluntary - Received Compensation",
          "Voluntary - Received Compensation",
          "Voluntary - Received Compensation",
          "Voluntary - Received Compensation",
          "Voluntary - Received Compensation",
          "Voluntary - Received Compensation",
          "Voluntary - Received Compensation",
          "Voluntary - Received Compensation",
          "Voluntary - Received Compensation",
          "Voluntary - Received Compensation",
          "Voluntary - Received Compensation",
          "Voluntary - Received Compensation"
         ],
         "legendgroup": "",
         "name": "Delta Air Lines",
         "showlegend": true,
         "type": "pie",
         "values": [
          6,
          4,
          0,
          0,
          1,
          0,
          1,
          0,
          0,
          0,
          0,
          0,
          0,
          0,
          0,
          0,
          7,
          5,
          0,
          0,
          0,
          0,
          2,
          0,
          0,
          0,
          0,
          0,
          0,
          0,
          0,
          0,
          23777,
          17602,
          17722,
          22605,
          28276,
          32820,
          24642,
          26246,
          16399,
          1546,
          634,
          570,
          1386,
          3231,
          12292,
          10508
         ],
         "visible": false
        },
        {
         "domain": {
          "x": [
           0,
           1
          ],
          "y": [
           0,
           1
          ]
         },
         "hovertemplate": "Denial Type=%{label}<br>Total Passengers=%{value}<extra></extra>",
         "labels": [
          "Involuntary - Received Compensation",
          "Involuntary - Received Compensation",
          "Involuntary - Received Compensation",
          "Involuntary - Received Compensation",
          "Involuntary - Received Compensation",
          "Involuntary - Received Compensation",
          "Involuntary - Received Compensation",
          "Involuntary - Received Compensation",
          "Involuntary - Received Compensation",
          "Involuntary - Received Compensation",
          "Involuntary - Received Compensation",
          "Involuntary - Received Compensation",
          "Involuntary - Received Compensation",
          "Involuntary - Received Compensation",
          "Involuntary - Received Compensation",
          "Involuntary - Received Compensation",
          "Involuntary - No Compensation",
          "Involuntary - No Compensation",
          "Involuntary - No Compensation",
          "Involuntary - No Compensation",
          "Involuntary - No Compensation",
          "Involuntary - No Compensation",
          "Involuntary - No Compensation",
          "Involuntary - No Compensation",
          "Involuntary - No Compensation",
          "Involuntary - No Compensation",
          "Involuntary - No Compensation",
          "Involuntary - No Compensation",
          "Involuntary - No Compensation",
          "Involuntary - No Compensation",
          "Involuntary - No Compensation",
          "Involuntary - No Compensation",
          "Voluntary - Received Compensation",
          "Voluntary - Received Compensation",
          "Voluntary - Received Compensation",
          "Voluntary - Received Compensation",
          "Voluntary - Received Compensation",
          "Voluntary - Received Compensation",
          "Voluntary - Received Compensation",
          "Voluntary - Received Compensation",
          "Voluntary - Received Compensation",
          "Voluntary - Received Compensation",
          "Voluntary - Received Compensation",
          "Voluntary - Received Compensation",
          "Voluntary - Received Compensation",
          "Voluntary - Received Compensation",
          "Voluntary - Received Compensation",
          "Voluntary - Received Compensation"
         ],
         "legendgroup": "",
         "name": "Endeavor Air",
         "showlegend": true,
         "type": "pie",
         "values": [
          1,
          0,
          0,
          0,
          0,
          0,
          0,
          0,
          0,
          0,
          0,
          0,
          0,
          0,
          0,
          0,
          3,
          1,
          0,
          2,
          0,
          0,
          0,
          0,
          0,
          0,
          0,
          0,
          0,
          0,
          0,
          0,
          3117,
          4100,
          5131,
          4559,
          4432,
          8011,
          6451,
          6772,
          3775,
          277,
          77,
          233,
          385,
          1181,
          3642,
          2728
         ],
         "visible": false
        },
        {
         "domain": {
          "x": [
           0,
           1
          ],
          "y": [
           0,
           1
          ]
         },
         "hovertemplate": "Denial Type=%{label}<br>Total Passengers=%{value}<extra></extra>",
         "labels": [
          "Involuntary - Received Compensation",
          "Involuntary - Received Compensation",
          "Involuntary - Received Compensation",
          "Involuntary - Received Compensation",
          "Involuntary - Received Compensation",
          "Involuntary - Received Compensation",
          "Involuntary - Received Compensation",
          "Involuntary - Received Compensation",
          "Involuntary - Received Compensation",
          "Involuntary - Received Compensation",
          "Involuntary - Received Compensation",
          "Involuntary - Received Compensation",
          "Involuntary - Received Compensation",
          "Involuntary - Received Compensation",
          "Involuntary - Received Compensation",
          "Involuntary - Received Compensation",
          "Involuntary - No Compensation",
          "Involuntary - No Compensation",
          "Involuntary - No Compensation",
          "Involuntary - No Compensation",
          "Involuntary - No Compensation",
          "Involuntary - No Compensation",
          "Involuntary - No Compensation",
          "Involuntary - No Compensation",
          "Involuntary - No Compensation",
          "Involuntary - No Compensation",
          "Involuntary - No Compensation",
          "Involuntary - No Compensation",
          "Involuntary - No Compensation",
          "Involuntary - No Compensation",
          "Involuntary - No Compensation",
          "Involuntary - No Compensation",
          "Voluntary - Received Compensation",
          "Voluntary - Received Compensation",
          "Voluntary - Received Compensation",
          "Voluntary - Received Compensation",
          "Voluntary - Received Compensation",
          "Voluntary - Received Compensation",
          "Voluntary - Received Compensation",
          "Voluntary - Received Compensation",
          "Voluntary - Received Compensation",
          "Voluntary - Received Compensation",
          "Voluntary - Received Compensation",
          "Voluntary - Received Compensation",
          "Voluntary - Received Compensation",
          "Voluntary - Received Compensation",
          "Voluntary - Received Compensation",
          "Voluntary - Received Compensation"
         ],
         "legendgroup": "",
         "name": "Envoy Air",
         "showlegend": true,
         "type": "pie",
         "values": [
          22,
          27,
          41,
          77,
          105,
          101,
          138,
          69,
          40,
          22,
          79,
          16,
          23,
          65,
          61,
          124,
          37,
          34,
          120,
          376,
          385,
          436,
          423,
          475,
          241,
          4,
          53,
          14,
          9,
          50,
          15,
          41,
          3839,
          4273,
          3437,
          3104,
          3807,
          4439,
          3286,
          2427,
          1895,
          190,
          747,
          408,
          849,
          1422,
          1150,
          1952
         ],
         "visible": false
        },
        {
         "domain": {
          "x": [
           0,
           1
          ],
          "y": [
           0,
           1
          ]
         },
         "hovertemplate": "Denial Type=%{label}<br>Total Passengers=%{value}<extra></extra>",
         "labels": [
          "Involuntary - Received Compensation",
          "Involuntary - Received Compensation",
          "Involuntary - Received Compensation",
          "Involuntary - Received Compensation",
          "Involuntary - Received Compensation",
          "Involuntary - Received Compensation",
          "Involuntary - Received Compensation",
          "Involuntary - Received Compensation",
          "Involuntary - Received Compensation",
          "Involuntary - Received Compensation",
          "Involuntary - Received Compensation",
          "Involuntary - No Compensation",
          "Involuntary - No Compensation",
          "Involuntary - No Compensation",
          "Involuntary - No Compensation",
          "Involuntary - No Compensation",
          "Involuntary - No Compensation",
          "Involuntary - No Compensation",
          "Involuntary - No Compensation",
          "Involuntary - No Compensation",
          "Involuntary - No Compensation",
          "Involuntary - No Compensation",
          "Voluntary - Received Compensation",
          "Voluntary - Received Compensation",
          "Voluntary - Received Compensation",
          "Voluntary - Received Compensation",
          "Voluntary - Received Compensation",
          "Voluntary - Received Compensation",
          "Voluntary - Received Compensation",
          "Voluntary - Received Compensation",
          "Voluntary - Received Compensation",
          "Voluntary - Received Compensation",
          "Voluntary - Received Compensation"
         ],
         "legendgroup": "",
         "name": "ExpressJet Airlines",
         "showlegend": true,
         "type": "pie",
         "values": [
          3,
          7,
          1,
          9,
          0,
          1,
          0,
          1,
          0,
          0,
          0,
          0,
          5,
          2,
          13,
          1,
          0,
          0,
          0,
          0,
          0,
          0,
          2230,
          2225,
          1866,
          1658,
          1470,
          1522,
          1358,
          990,
          669,
          5,
          12
         ],
         "visible": false
        },
        {
         "domain": {
          "x": [
           0,
           1
          ],
          "y": [
           0,
           1
          ]
         },
         "hovertemplate": "Denial Type=%{label}<br>Total Passengers=%{value}<extra></extra>",
         "labels": [
          "Involuntary - Received Compensation",
          "Involuntary - Received Compensation",
          "Involuntary - Received Compensation",
          "Involuntary - Received Compensation",
          "Involuntary - Received Compensation",
          "Involuntary - Received Compensation",
          "Involuntary - Received Compensation",
          "Involuntary - Received Compensation",
          "Involuntary - Received Compensation",
          "Involuntary - Received Compensation",
          "Involuntary - Received Compensation",
          "Involuntary - Received Compensation",
          "Involuntary - Received Compensation",
          "Involuntary - Received Compensation",
          "Involuntary - Received Compensation",
          "Involuntary - Received Compensation",
          "Involuntary - No Compensation",
          "Involuntary - No Compensation",
          "Involuntary - No Compensation",
          "Involuntary - No Compensation",
          "Involuntary - No Compensation",
          "Involuntary - No Compensation",
          "Involuntary - No Compensation",
          "Involuntary - No Compensation",
          "Involuntary - No Compensation",
          "Involuntary - No Compensation",
          "Involuntary - No Compensation",
          "Involuntary - No Compensation",
          "Involuntary - No Compensation",
          "Involuntary - No Compensation",
          "Involuntary - No Compensation",
          "Involuntary - No Compensation",
          "Voluntary - Received Compensation",
          "Voluntary - Received Compensation",
          "Voluntary - Received Compensation",
          "Voluntary - Received Compensation",
          "Voluntary - Received Compensation",
          "Voluntary - Received Compensation",
          "Voluntary - Received Compensation",
          "Voluntary - Received Compensation",
          "Voluntary - Received Compensation",
          "Voluntary - Received Compensation",
          "Voluntary - Received Compensation",
          "Voluntary - Received Compensation",
          "Voluntary - Received Compensation",
          "Voluntary - Received Compensation",
          "Voluntary - Received Compensation",
          "Voluntary - Received Compensation"
         ],
         "legendgroup": "",
         "name": "Frontier Airlines",
         "showlegend": true,
         "type": "pie",
         "values": [
          98,
          161,
          169,
          101,
          81,
          96,
          118,
          145,
          58,
          40,
          54,
          43,
          129,
          198,
          421,
          646,
          90,
          94,
          350,
          156,
          87,
          88,
          112,
          104,
          38,
          5,
          10,
          8,
          94,
          136,
          198,
          241,
          949,
          991,
          1790,
          895,
          587,
          838,
          893,
          821,
          481,
          170,
          256,
          167,
          626,
          886,
          1489,
          1684
         ],
         "visible": false
        },
        {
         "domain": {
          "x": [
           0,
           1
          ],
          "y": [
           0,
           1
          ]
         },
         "hovertemplate": "Denial Type=%{label}<br>Total Passengers=%{value}<extra></extra>",
         "labels": [
          "Involuntary - Received Compensation",
          "Involuntary - Received Compensation",
          "Involuntary - Received Compensation",
          "Involuntary - Received Compensation",
          "Involuntary - Received Compensation",
          "Involuntary - Received Compensation",
          "Involuntary - Received Compensation",
          "Involuntary - Received Compensation",
          "Involuntary - Received Compensation",
          "Involuntary - Received Compensation",
          "Involuntary - Received Compensation",
          "Involuntary - Received Compensation",
          "Involuntary - Received Compensation",
          "Involuntary - Received Compensation",
          "Involuntary - Received Compensation",
          "Involuntary - Received Compensation",
          "Involuntary - No Compensation",
          "Involuntary - No Compensation",
          "Involuntary - No Compensation",
          "Involuntary - No Compensation",
          "Involuntary - No Compensation",
          "Involuntary - No Compensation",
          "Involuntary - No Compensation",
          "Involuntary - No Compensation",
          "Involuntary - No Compensation",
          "Involuntary - No Compensation",
          "Involuntary - No Compensation",
          "Involuntary - No Compensation",
          "Involuntary - No Compensation",
          "Involuntary - No Compensation",
          "Involuntary - No Compensation",
          "Involuntary - No Compensation",
          "Voluntary - Received Compensation",
          "Voluntary - Received Compensation",
          "Voluntary - Received Compensation",
          "Voluntary - Received Compensation",
          "Voluntary - Received Compensation",
          "Voluntary - Received Compensation",
          "Voluntary - Received Compensation",
          "Voluntary - Received Compensation",
          "Voluntary - Received Compensation",
          "Voluntary - Received Compensation",
          "Voluntary - Received Compensation",
          "Voluntary - Received Compensation",
          "Voluntary - Received Compensation",
          "Voluntary - Received Compensation",
          "Voluntary - Received Compensation",
          "Voluntary - Received Compensation"
         ],
         "legendgroup": "",
         "name": "Hawaiian Airlines",
         "showlegend": true,
         "type": "pie",
         "values": [
          2,
          2,
          3,
          5,
          0,
          0,
          0,
          0,
          1,
          0,
          0,
          0,
          0,
          0,
          0,
          0,
          0,
          0,
          null,
          1,
          0,
          0,
          0,
          0,
          0,
          0,
          0,
          0,
          0,
          0,
          0,
          0,
          160,
          345,
          274,
          326,
          72,
          39,
          34,
          101,
          125,
          30,
          14,
          8,
          3,
          10,
          2,
          16
         ],
         "visible": false
        },
        {
         "domain": {
          "x": [
           0,
           1
          ],
          "y": [
           0,
           1
          ]
         },
         "hovertemplate": "Denial Type=%{label}<br>Total Passengers=%{value}<extra></extra>",
         "labels": [
          "Involuntary - Received Compensation",
          "Involuntary - Received Compensation",
          "Involuntary - Received Compensation",
          "Involuntary - Received Compensation",
          "Involuntary - Received Compensation",
          "Involuntary - Received Compensation",
          "Involuntary - Received Compensation",
          "Involuntary - Received Compensation",
          "Involuntary - Received Compensation",
          "Involuntary - Received Compensation",
          "Involuntary - Received Compensation",
          "Involuntary - Received Compensation",
          "Involuntary - Received Compensation",
          "Involuntary - Received Compensation",
          "Involuntary - Received Compensation",
          "Involuntary - Received Compensation",
          "Involuntary - No Compensation",
          "Involuntary - No Compensation",
          "Involuntary - No Compensation",
          "Involuntary - No Compensation",
          "Involuntary - No Compensation",
          "Involuntary - No Compensation",
          "Involuntary - No Compensation",
          "Involuntary - No Compensation",
          "Involuntary - No Compensation",
          "Involuntary - No Compensation",
          "Involuntary - No Compensation",
          "Involuntary - No Compensation",
          "Involuntary - No Compensation",
          "Involuntary - No Compensation",
          "Involuntary - No Compensation",
          "Involuntary - No Compensation",
          "Voluntary - Received Compensation",
          "Voluntary - Received Compensation",
          "Voluntary - Received Compensation",
          "Voluntary - Received Compensation",
          "Voluntary - Received Compensation",
          "Voluntary - Received Compensation",
          "Voluntary - Received Compensation",
          "Voluntary - Received Compensation",
          "Voluntary - Received Compensation",
          "Voluntary - Received Compensation",
          "Voluntary - Received Compensation",
          "Voluntary - Received Compensation",
          "Voluntary - Received Compensation",
          "Voluntary - Received Compensation",
          "Voluntary - Received Compensation",
          "Voluntary - Received Compensation"
         ],
         "legendgroup": "",
         "name": "JetBlue Airways",
         "showlegend": true,
         "type": "pie",
         "values": [
          7,
          8,
          7,
          13,
          23,
          5,
          7,
          12,
          0,
          0,
          0,
          0,
          2,
          1,
          24,
          16,
          0,
          1,
          0,
          0,
          0,
          2,
          1,
          4,
          2,
          0,
          0,
          0,
          14,
          2,
          0,
          0,
          844,
          557,
          612,
          487,
          721,
          641,
          785,
          637,
          250,
          29,
          9,
          62,
          81,
          463,
          901,
          864
         ],
         "visible": false
        },
        {
         "domain": {
          "x": [
           0,
           1
          ],
          "y": [
           0,
           1
          ]
         },
         "hovertemplate": "Denial Type=%{label}<br>Total Passengers=%{value}<extra></extra>",
         "labels": [
          "Involuntary - Received Compensation",
          "Involuntary - Received Compensation",
          "Involuntary - Received Compensation",
          "Involuntary - Received Compensation",
          "Involuntary - Received Compensation",
          "Involuntary - Received Compensation",
          "Involuntary - Received Compensation",
          "Involuntary - Received Compensation",
          "Involuntary - Received Compensation",
          "Involuntary - Received Compensation",
          "Involuntary - Received Compensation",
          "Involuntary - Received Compensation",
          "Involuntary - Received Compensation",
          "Involuntary - Received Compensation",
          "Involuntary - Received Compensation",
          "Involuntary - Received Compensation",
          "Involuntary - No Compensation",
          "Involuntary - No Compensation",
          "Involuntary - No Compensation",
          "Involuntary - No Compensation",
          "Involuntary - No Compensation",
          "Involuntary - No Compensation",
          "Involuntary - No Compensation",
          "Involuntary - No Compensation",
          "Involuntary - No Compensation",
          "Involuntary - No Compensation",
          "Involuntary - No Compensation",
          "Involuntary - No Compensation",
          "Involuntary - No Compensation",
          "Involuntary - No Compensation",
          "Involuntary - No Compensation",
          "Involuntary - No Compensation",
          "Voluntary - Received Compensation",
          "Voluntary - Received Compensation",
          "Voluntary - Received Compensation",
          "Voluntary - Received Compensation",
          "Voluntary - Received Compensation",
          "Voluntary - Received Compensation",
          "Voluntary - Received Compensation",
          "Voluntary - Received Compensation",
          "Voluntary - Received Compensation",
          "Voluntary - Received Compensation",
          "Voluntary - Received Compensation",
          "Voluntary - Received Compensation",
          "Voluntary - Received Compensation",
          "Voluntary - Received Compensation",
          "Voluntary - Received Compensation",
          "Voluntary - Received Compensation"
         ],
         "legendgroup": "",
         "name": "Mesa Airlines",
         "showlegend": true,
         "type": "pie",
         "values": [
          7,
          7,
          5,
          15,
          24,
          21,
          16,
          33,
          10,
          12,
          12,
          1,
          6,
          32,
          21,
          33,
          40,
          3,
          46,
          86,
          461,
          293,
          72,
          69,
          8,
          0,
          0,
          2,
          0,
          8,
          5,
          14,
          2413,
          1722,
          2581,
          2047,
          3864,
          2836,
          1861,
          1428,
          962,
          95,
          226,
          170,
          359,
          808,
          873,
          727
         ],
         "visible": false
        },
        {
         "domain": {
          "x": [
           0,
           1
          ],
          "y": [
           0,
           1
          ]
         },
         "hovertemplate": "Denial Type=%{label}<br>Total Passengers=%{value}<extra></extra>",
         "labels": [
          "Involuntary - Received Compensation",
          "Involuntary - Received Compensation",
          "Involuntary - Received Compensation",
          "Involuntary - Received Compensation",
          "Involuntary - Received Compensation",
          "Involuntary - Received Compensation",
          "Involuntary - Received Compensation",
          "Involuntary - Received Compensation",
          "Involuntary - Received Compensation",
          "Involuntary - Received Compensation",
          "Involuntary - Received Compensation",
          "Involuntary - Received Compensation",
          "Involuntary - Received Compensation",
          "Involuntary - Received Compensation",
          "Involuntary - Received Compensation",
          "Involuntary - Received Compensation",
          "Involuntary - No Compensation",
          "Involuntary - No Compensation",
          "Involuntary - No Compensation",
          "Involuntary - No Compensation",
          "Involuntary - No Compensation",
          "Involuntary - No Compensation",
          "Involuntary - No Compensation",
          "Involuntary - No Compensation",
          "Involuntary - No Compensation",
          "Involuntary - No Compensation",
          "Involuntary - No Compensation",
          "Involuntary - No Compensation",
          "Involuntary - No Compensation",
          "Involuntary - No Compensation",
          "Involuntary - No Compensation",
          "Involuntary - No Compensation",
          "Voluntary - Received Compensation",
          "Voluntary - Received Compensation",
          "Voluntary - Received Compensation",
          "Voluntary - Received Compensation",
          "Voluntary - Received Compensation",
          "Voluntary - Received Compensation",
          "Voluntary - Received Compensation",
          "Voluntary - Received Compensation",
          "Voluntary - Received Compensation",
          "Voluntary - Received Compensation",
          "Voluntary - Received Compensation",
          "Voluntary - Received Compensation",
          "Voluntary - Received Compensation",
          "Voluntary - Received Compensation",
          "Voluntary - Received Compensation",
          "Voluntary - Received Compensation"
         ],
         "legendgroup": "",
         "name": "PSA Airlines",
         "showlegend": true,
         "type": "pie",
         "values": [
          16,
          20,
          24,
          75,
          76,
          120,
          159,
          89,
          86,
          39,
          72,
          6,
          8,
          71,
          75,
          87,
          6,
          12,
          18,
          138,
          191,
          367,
          180,
          370,
          118,
          0,
          1,
          13,
          0,
          44,
          94,
          75,
          2416,
          2554,
          2006,
          2356,
          3166,
          4264,
          3027,
          2683,
          1291,
          226,
          625,
          360,
          599,
          1342,
          1830,
          1616
         ],
         "visible": false
        },
        {
         "domain": {
          "x": [
           0,
           1
          ],
          "y": [
           0,
           1
          ]
         },
         "hovertemplate": "Denial Type=%{label}<br>Total Passengers=%{value}<extra></extra>",
         "labels": [
          "Involuntary - Received Compensation",
          "Involuntary - Received Compensation",
          "Involuntary - Received Compensation",
          "Involuntary - Received Compensation",
          "Involuntary - Received Compensation",
          "Involuntary - Received Compensation",
          "Involuntary - Received Compensation",
          "Involuntary - Received Compensation",
          "Involuntary - Received Compensation",
          "Involuntary - Received Compensation",
          "Involuntary - Received Compensation",
          "Involuntary - Received Compensation",
          "Involuntary - Received Compensation",
          "Involuntary - Received Compensation",
          "Involuntary - Received Compensation",
          "Involuntary - Received Compensation",
          "Involuntary - No Compensation",
          "Involuntary - No Compensation",
          "Involuntary - No Compensation",
          "Involuntary - No Compensation",
          "Involuntary - No Compensation",
          "Involuntary - No Compensation",
          "Involuntary - No Compensation",
          "Involuntary - No Compensation",
          "Involuntary - No Compensation",
          "Involuntary - No Compensation",
          "Involuntary - No Compensation",
          "Involuntary - No Compensation",
          "Involuntary - No Compensation",
          "Involuntary - No Compensation",
          "Involuntary - No Compensation",
          "Involuntary - No Compensation",
          "Voluntary - Received Compensation",
          "Voluntary - Received Compensation",
          "Voluntary - Received Compensation",
          "Voluntary - Received Compensation",
          "Voluntary - Received Compensation",
          "Voluntary - Received Compensation",
          "Voluntary - Received Compensation",
          "Voluntary - Received Compensation",
          "Voluntary - Received Compensation",
          "Voluntary - Received Compensation",
          "Voluntary - Received Compensation",
          "Voluntary - Received Compensation",
          "Voluntary - Received Compensation",
          "Voluntary - Received Compensation",
          "Voluntary - Received Compensation",
          "Voluntary - Received Compensation"
         ],
         "legendgroup": "",
         "name": "Republic Airline",
         "showlegend": true,
         "type": "pie",
         "values": [
          24,
          18,
          29,
          89,
          68,
          123,
          110,
          78,
          58,
          19,
          49,
          3,
          31,
          87,
          112,
          100,
          8,
          12,
          2,
          14,
          12,
          39,
          109,
          42,
          27,
          2,
          13,
          18,
          0,
          24,
          66,
          1,
          2613,
          3876,
          4954,
          4275,
          3713,
          6321,
          5378,
          3532,
          1101,
          81,
          303,
          217,
          766,
          2855,
          5164,
          2303
         ],
         "visible": false
        },
        {
         "domain": {
          "x": [
           0,
           1
          ],
          "y": [
           0,
           1
          ]
         },
         "hovertemplate": "Denial Type=%{label}<br>Total Passengers=%{value}<extra></extra>",
         "labels": [
          "Involuntary - Received Compensation",
          "Involuntary - Received Compensation",
          "Involuntary - Received Compensation",
          "Involuntary - Received Compensation",
          "Involuntary - Received Compensation",
          "Involuntary - Received Compensation",
          "Involuntary - Received Compensation",
          "Involuntary - Received Compensation",
          "Involuntary - Received Compensation",
          "Involuntary - Received Compensation",
          "Involuntary - Received Compensation",
          "Involuntary - Received Compensation",
          "Involuntary - Received Compensation",
          "Involuntary - Received Compensation",
          "Involuntary - Received Compensation",
          "Involuntary - Received Compensation",
          "Involuntary - No Compensation",
          "Involuntary - No Compensation",
          "Involuntary - No Compensation",
          "Involuntary - No Compensation",
          "Involuntary - No Compensation",
          "Involuntary - No Compensation",
          "Involuntary - No Compensation",
          "Involuntary - No Compensation",
          "Involuntary - No Compensation",
          "Involuntary - No Compensation",
          "Involuntary - No Compensation",
          "Involuntary - No Compensation",
          "Involuntary - No Compensation",
          "Involuntary - No Compensation",
          "Involuntary - No Compensation",
          "Involuntary - No Compensation",
          "Voluntary - Received Compensation",
          "Voluntary - Received Compensation",
          "Voluntary - Received Compensation",
          "Voluntary - Received Compensation",
          "Voluntary - Received Compensation",
          "Voluntary - Received Compensation",
          "Voluntary - Received Compensation",
          "Voluntary - Received Compensation",
          "Voluntary - Received Compensation",
          "Voluntary - Received Compensation",
          "Voluntary - Received Compensation",
          "Voluntary - Received Compensation",
          "Voluntary - Received Compensation",
          "Voluntary - Received Compensation",
          "Voluntary - Received Compensation",
          "Voluntary - Received Compensation"
         ],
         "legendgroup": "",
         "name": "SkyWest Airlines",
         "showlegend": true,
         "type": "pie",
         "values": [
          29,
          112,
          70,
          56,
          82,
          85,
          65,
          40,
          59,
          32,
          31,
          5,
          26,
          84,
          31,
          128,
          59,
          94,
          25,
          104,
          151,
          128,
          138,
          76,
          152,
          4,
          2,
          0,
          0,
          2,
          6,
          32,
          7816,
          7413,
          7264,
          5977,
          7163,
          17228,
          14794,
          13524,
          9991,
          464,
          1069,
          720,
          2295,
          3592,
          6743,
          9595
         ],
         "visible": false
        },
        {
         "domain": {
          "x": [
           0,
           1
          ],
          "y": [
           0,
           1
          ]
         },
         "hovertemplate": "Denial Type=%{label}<br>Total Passengers=%{value}<extra></extra>",
         "labels": [
          "Involuntary - Received Compensation",
          "Involuntary - Received Compensation",
          "Involuntary - Received Compensation",
          "Involuntary - Received Compensation",
          "Involuntary - Received Compensation",
          "Involuntary - Received Compensation",
          "Involuntary - Received Compensation",
          "Involuntary - Received Compensation",
          "Involuntary - Received Compensation",
          "Involuntary - Received Compensation",
          "Involuntary - Received Compensation",
          "Involuntary - Received Compensation",
          "Involuntary - Received Compensation",
          "Involuntary - Received Compensation",
          "Involuntary - Received Compensation",
          "Involuntary - Received Compensation",
          "Involuntary - No Compensation",
          "Involuntary - No Compensation",
          "Involuntary - No Compensation",
          "Involuntary - No Compensation",
          "Involuntary - No Compensation",
          "Involuntary - No Compensation",
          "Involuntary - No Compensation",
          "Involuntary - No Compensation",
          "Involuntary - No Compensation",
          "Involuntary - No Compensation",
          "Involuntary - No Compensation",
          "Involuntary - No Compensation",
          "Involuntary - No Compensation",
          "Involuntary - No Compensation",
          "Involuntary - No Compensation",
          "Involuntary - No Compensation",
          "Voluntary - Received Compensation",
          "Voluntary - Received Compensation",
          "Voluntary - Received Compensation",
          "Voluntary - Received Compensation",
          "Voluntary - Received Compensation",
          "Voluntary - Received Compensation",
          "Voluntary - Received Compensation",
          "Voluntary - Received Compensation",
          "Voluntary - Received Compensation",
          "Voluntary - Received Compensation",
          "Voluntary - Received Compensation",
          "Voluntary - Received Compensation",
          "Voluntary - Received Compensation",
          "Voluntary - Received Compensation",
          "Voluntary - Received Compensation",
          "Voluntary - Received Compensation"
         ],
         "legendgroup": "",
         "name": "Southwest Airlines",
         "showlegend": true,
         "type": "pie",
         "values": [
          669,
          376,
          967,
          411,
          1594,
          931,
          314,
          269,
          112,
          110,
          148,
          28,
          192,
          1314,
          1207,
          1304,
          0,
          0,
          0,
          0,
          0,
          0,
          0,
          0,
          0,
          0,
          0,
          0,
          0,
          0,
          0,
          0,
          4325,
          6039,
          6570,
          4688,
          9996,
          12368,
          4806,
          4339,
          2355,
          1108,
          937,
          487,
          1439,
          9008,
          10242,
          9649
         ],
         "visible": false
        },
        {
         "domain": {
          "x": [
           0,
           1
          ],
          "y": [
           0,
           1
          ]
         },
         "hovertemplate": "Denial Type=%{label}<br>Total Passengers=%{value}<extra></extra>",
         "labels": [
          "Involuntary - Received Compensation",
          "Involuntary - Received Compensation",
          "Involuntary - Received Compensation",
          "Involuntary - Received Compensation",
          "Involuntary - Received Compensation",
          "Involuntary - Received Compensation",
          "Involuntary - Received Compensation",
          "Involuntary - Received Compensation",
          "Involuntary - Received Compensation",
          "Involuntary - Received Compensation",
          "Involuntary - Received Compensation",
          "Involuntary - Received Compensation",
          "Involuntary - Received Compensation",
          "Involuntary - Received Compensation",
          "Involuntary - Received Compensation",
          "Involuntary - Received Compensation",
          "Involuntary - No Compensation",
          "Involuntary - No Compensation",
          "Involuntary - No Compensation",
          "Involuntary - No Compensation",
          "Involuntary - No Compensation",
          "Involuntary - No Compensation",
          "Involuntary - No Compensation",
          "Involuntary - No Compensation",
          "Involuntary - No Compensation",
          "Involuntary - No Compensation",
          "Involuntary - No Compensation",
          "Involuntary - No Compensation",
          "Involuntary - No Compensation",
          "Involuntary - No Compensation",
          "Involuntary - No Compensation",
          "Involuntary - No Compensation",
          "Voluntary - Received Compensation",
          "Voluntary - Received Compensation",
          "Voluntary - Received Compensation",
          "Voluntary - Received Compensation",
          "Voluntary - Received Compensation",
          "Voluntary - Received Compensation",
          "Voluntary - Received Compensation",
          "Voluntary - Received Compensation",
          "Voluntary - Received Compensation",
          "Voluntary - Received Compensation",
          "Voluntary - Received Compensation",
          "Voluntary - Received Compensation",
          "Voluntary - Received Compensation",
          "Voluntary - Received Compensation",
          "Voluntary - Received Compensation",
          "Voluntary - Received Compensation"
         ],
         "legendgroup": "",
         "name": "Spirit Airlines",
         "showlegend": true,
         "type": "pie",
         "values": [
          745,
          413,
          163,
          43,
          26,
          144,
          43,
          91,
          28,
          2,
          0,
          12,
          35,
          30,
          50,
          89,
          129,
          35,
          1,
          0,
          20,
          5,
          21,
          30,
          36,
          0,
          0,
          87,
          76,
          55,
          34,
          5,
          5477,
          4852,
          5718,
          5417,
          6768,
          5642,
          4656,
          5575,
          3585,
          80,
          227,
          685,
          1683,
          3131,
          1766,
          1853
         ],
         "visible": false
        },
        {
         "domain": {
          "x": [
           0,
           1
          ],
          "y": [
           0,
           1
          ]
         },
         "hovertemplate": "Denial Type=%{label}<br>Total Passengers=%{value}<extra></extra>",
         "labels": [
          "Involuntary - Received Compensation",
          "Involuntary - Received Compensation",
          "Involuntary - Received Compensation",
          "Involuntary - Received Compensation",
          "Involuntary - Received Compensation",
          "Involuntary - Received Compensation",
          "Involuntary - Received Compensation",
          "Involuntary - Received Compensation",
          "Involuntary - Received Compensation",
          "Involuntary - Received Compensation",
          "Involuntary - Received Compensation",
          "Involuntary - Received Compensation",
          "Involuntary - Received Compensation",
          "Involuntary - Received Compensation",
          "Involuntary - Received Compensation",
          "Involuntary - Received Compensation",
          "Involuntary - No Compensation",
          "Involuntary - No Compensation",
          "Involuntary - No Compensation",
          "Involuntary - No Compensation",
          "Involuntary - No Compensation",
          "Involuntary - No Compensation",
          "Involuntary - No Compensation",
          "Involuntary - No Compensation",
          "Involuntary - No Compensation",
          "Involuntary - No Compensation",
          "Involuntary - No Compensation",
          "Involuntary - No Compensation",
          "Involuntary - No Compensation",
          "Involuntary - No Compensation",
          "Involuntary - No Compensation",
          "Involuntary - No Compensation",
          "Voluntary - Received Compensation",
          "Voluntary - Received Compensation",
          "Voluntary - Received Compensation",
          "Voluntary - Received Compensation",
          "Voluntary - Received Compensation",
          "Voluntary - Received Compensation",
          "Voluntary - Received Compensation",
          "Voluntary - Received Compensation",
          "Voluntary - Received Compensation",
          "Voluntary - Received Compensation",
          "Voluntary - Received Compensation",
          "Voluntary - Received Compensation",
          "Voluntary - Received Compensation",
          "Voluntary - Received Compensation",
          "Voluntary - Received Compensation",
          "Voluntary - Received Compensation"
         ],
         "legendgroup": "",
         "name": "United Air Lines",
         "showlegend": true,
         "type": "pie",
         "values": [
          11,
          8,
          15,
          8,
          7,
          7,
          5,
          10,
          0,
          0,
          8,
          5,
          0,
          1,
          6,
          12,
          16,
          9,
          11,
          15,
          10,
          21,
          2,
          3,
          7,
          0,
          0,
          0,
          0,
          4,
          0,
          4,
          8214,
          8615,
          11339,
          7556,
          8856,
          11394,
          9110,
          5668,
          2842,
          8,
          76,
          289,
          591,
          1341,
          2864,
          2609
         ],
         "visible": false
        },
        {
         "domain": {
          "x": [
           0,
           1
          ],
          "y": [
           0,
           1
          ]
         },
         "hovertemplate": "Denial Type=%{label}<br>Total Passengers=%{value}<extra></extra>",
         "labels": [
          "Involuntary - Received Compensation",
          "Involuntary - No Compensation",
          "Voluntary - Received Compensation"
         ],
         "legendgroup": "",
         "name": "Virgin America ",
         "showlegend": true,
         "type": "pie",
         "values": [
          18,
          4,
          89
         ],
         "visible": false
        },
        {
         "domain": {
          "x": [
           0,
           1
          ],
          "y": [
           0,
           1
          ]
         },
         "hovertemplate": "Denial Type=%{label}<br>Total Passengers=%{value}<extra></extra>",
         "labels": [
          "Involuntary - Received Compensation",
          "Involuntary - Received Compensation",
          "Involuntary - Received Compensation",
          "Involuntary - Received Compensation",
          "Involuntary - No Compensation",
          "Involuntary - No Compensation",
          "Involuntary - No Compensation",
          "Involuntary - No Compensation",
          "Voluntary - Received Compensation",
          "Voluntary - Received Compensation",
          "Voluntary - Received Compensation",
          "Voluntary - Received Compensation"
         ],
         "legendgroup": "",
         "name": "Horizon Air",
         "showlegend": true,
         "type": "pie",
         "values": [
          15,
          57,
          50,
          38,
          0,
          0,
          0,
          0,
          126,
          706,
          459,
          558
         ],
         "visible": false
        }
       ],
       "layout": {
        "legend": {
         "tracegroupgap": 0
        },
        "margin": {
         "t": 60
        },
        "piecolorway": [
         "#2E91E5",
         "#E15F99",
         "#1CA71C",
         "#FB0D0D",
         "#DA16FF",
         "#222A2A",
         "#B68100",
         "#750D86",
         "#EB663B",
         "#511CFB",
         "#00A08B",
         "#FB00D1",
         "#FC0080",
         "#B2828D",
         "#6C7C32",
         "#778AAE",
         "#862A16",
         "#A777F1",
         "#620042",
         "#1616A7",
         "#DA60CA",
         "#6C4516",
         "#0D2A63",
         "#AF0038"
        ],
        "template": {
         "data": {
          "bar": [
           {
            "error_x": {
             "color": "#f2f5fa"
            },
            "error_y": {
             "color": "#f2f5fa"
            },
            "marker": {
             "line": {
              "color": "rgb(17,17,17)",
              "width": 0.5
             },
             "pattern": {
              "fillmode": "overlay",
              "size": 10,
              "solidity": 0.2
             }
            },
            "type": "bar"
           }
          ],
          "barpolar": [
           {
            "marker": {
             "line": {
              "color": "rgb(17,17,17)",
              "width": 0.5
             },
             "pattern": {
              "fillmode": "overlay",
              "size": 10,
              "solidity": 0.2
             }
            },
            "type": "barpolar"
           }
          ],
          "carpet": [
           {
            "aaxis": {
             "endlinecolor": "#A2B1C6",
             "gridcolor": "#506784",
             "linecolor": "#506784",
             "minorgridcolor": "#506784",
             "startlinecolor": "#A2B1C6"
            },
            "baxis": {
             "endlinecolor": "#A2B1C6",
             "gridcolor": "#506784",
             "linecolor": "#506784",
             "minorgridcolor": "#506784",
             "startlinecolor": "#A2B1C6"
            },
            "type": "carpet"
           }
          ],
          "choropleth": [
           {
            "colorbar": {
             "outlinewidth": 0,
             "ticks": ""
            },
            "type": "choropleth"
           }
          ],
          "contour": [
           {
            "colorbar": {
             "outlinewidth": 0,
             "ticks": ""
            },
            "colorscale": [
             [
              0,
              "#0d0887"
             ],
             [
              0.1111111111111111,
              "#46039f"
             ],
             [
              0.2222222222222222,
              "#7201a8"
             ],
             [
              0.3333333333333333,
              "#9c179e"
             ],
             [
              0.4444444444444444,
              "#bd3786"
             ],
             [
              0.5555555555555556,
              "#d8576b"
             ],
             [
              0.6666666666666666,
              "#ed7953"
             ],
             [
              0.7777777777777778,
              "#fb9f3a"
             ],
             [
              0.8888888888888888,
              "#fdca26"
             ],
             [
              1,
              "#f0f921"
             ]
            ],
            "type": "contour"
           }
          ],
          "contourcarpet": [
           {
            "colorbar": {
             "outlinewidth": 0,
             "ticks": ""
            },
            "type": "contourcarpet"
           }
          ],
          "heatmap": [
           {
            "colorbar": {
             "outlinewidth": 0,
             "ticks": ""
            },
            "colorscale": [
             [
              0,
              "#0d0887"
             ],
             [
              0.1111111111111111,
              "#46039f"
             ],
             [
              0.2222222222222222,
              "#7201a8"
             ],
             [
              0.3333333333333333,
              "#9c179e"
             ],
             [
              0.4444444444444444,
              "#bd3786"
             ],
             [
              0.5555555555555556,
              "#d8576b"
             ],
             [
              0.6666666666666666,
              "#ed7953"
             ],
             [
              0.7777777777777778,
              "#fb9f3a"
             ],
             [
              0.8888888888888888,
              "#fdca26"
             ],
             [
              1,
              "#f0f921"
             ]
            ],
            "type": "heatmap"
           }
          ],
          "heatmapgl": [
           {
            "colorbar": {
             "outlinewidth": 0,
             "ticks": ""
            },
            "colorscale": [
             [
              0,
              "#0d0887"
             ],
             [
              0.1111111111111111,
              "#46039f"
             ],
             [
              0.2222222222222222,
              "#7201a8"
             ],
             [
              0.3333333333333333,
              "#9c179e"
             ],
             [
              0.4444444444444444,
              "#bd3786"
             ],
             [
              0.5555555555555556,
              "#d8576b"
             ],
             [
              0.6666666666666666,
              "#ed7953"
             ],
             [
              0.7777777777777778,
              "#fb9f3a"
             ],
             [
              0.8888888888888888,
              "#fdca26"
             ],
             [
              1,
              "#f0f921"
             ]
            ],
            "type": "heatmapgl"
           }
          ],
          "histogram": [
           {
            "marker": {
             "pattern": {
              "fillmode": "overlay",
              "size": 10,
              "solidity": 0.2
             }
            },
            "type": "histogram"
           }
          ],
          "histogram2d": [
           {
            "colorbar": {
             "outlinewidth": 0,
             "ticks": ""
            },
            "colorscale": [
             [
              0,
              "#0d0887"
             ],
             [
              0.1111111111111111,
              "#46039f"
             ],
             [
              0.2222222222222222,
              "#7201a8"
             ],
             [
              0.3333333333333333,
              "#9c179e"
             ],
             [
              0.4444444444444444,
              "#bd3786"
             ],
             [
              0.5555555555555556,
              "#d8576b"
             ],
             [
              0.6666666666666666,
              "#ed7953"
             ],
             [
              0.7777777777777778,
              "#fb9f3a"
             ],
             [
              0.8888888888888888,
              "#fdca26"
             ],
             [
              1,
              "#f0f921"
             ]
            ],
            "type": "histogram2d"
           }
          ],
          "histogram2dcontour": [
           {
            "colorbar": {
             "outlinewidth": 0,
             "ticks": ""
            },
            "colorscale": [
             [
              0,
              "#0d0887"
             ],
             [
              0.1111111111111111,
              "#46039f"
             ],
             [
              0.2222222222222222,
              "#7201a8"
             ],
             [
              0.3333333333333333,
              "#9c179e"
             ],
             [
              0.4444444444444444,
              "#bd3786"
             ],
             [
              0.5555555555555556,
              "#d8576b"
             ],
             [
              0.6666666666666666,
              "#ed7953"
             ],
             [
              0.7777777777777778,
              "#fb9f3a"
             ],
             [
              0.8888888888888888,
              "#fdca26"
             ],
             [
              1,
              "#f0f921"
             ]
            ],
            "type": "histogram2dcontour"
           }
          ],
          "mesh3d": [
           {
            "colorbar": {
             "outlinewidth": 0,
             "ticks": ""
            },
            "type": "mesh3d"
           }
          ],
          "parcoords": [
           {
            "line": {
             "colorbar": {
              "outlinewidth": 0,
              "ticks": ""
             }
            },
            "type": "parcoords"
           }
          ],
          "pie": [
           {
            "automargin": true,
            "type": "pie"
           }
          ],
          "scatter": [
           {
            "marker": {
             "line": {
              "color": "#283442"
             }
            },
            "type": "scatter"
           }
          ],
          "scatter3d": [
           {
            "line": {
             "colorbar": {
              "outlinewidth": 0,
              "ticks": ""
             }
            },
            "marker": {
             "colorbar": {
              "outlinewidth": 0,
              "ticks": ""
             }
            },
            "type": "scatter3d"
           }
          ],
          "scattercarpet": [
           {
            "marker": {
             "colorbar": {
              "outlinewidth": 0,
              "ticks": ""
             }
            },
            "type": "scattercarpet"
           }
          ],
          "scattergeo": [
           {
            "marker": {
             "colorbar": {
              "outlinewidth": 0,
              "ticks": ""
             }
            },
            "type": "scattergeo"
           }
          ],
          "scattergl": [
           {
            "marker": {
             "line": {
              "color": "#283442"
             }
            },
            "type": "scattergl"
           }
          ],
          "scattermapbox": [
           {
            "marker": {
             "colorbar": {
              "outlinewidth": 0,
              "ticks": ""
             }
            },
            "type": "scattermapbox"
           }
          ],
          "scatterpolar": [
           {
            "marker": {
             "colorbar": {
              "outlinewidth": 0,
              "ticks": ""
             }
            },
            "type": "scatterpolar"
           }
          ],
          "scatterpolargl": [
           {
            "marker": {
             "colorbar": {
              "outlinewidth": 0,
              "ticks": ""
             }
            },
            "type": "scatterpolargl"
           }
          ],
          "scatterternary": [
           {
            "marker": {
             "colorbar": {
              "outlinewidth": 0,
              "ticks": ""
             }
            },
            "type": "scatterternary"
           }
          ],
          "surface": [
           {
            "colorbar": {
             "outlinewidth": 0,
             "ticks": ""
            },
            "colorscale": [
             [
              0,
              "#0d0887"
             ],
             [
              0.1111111111111111,
              "#46039f"
             ],
             [
              0.2222222222222222,
              "#7201a8"
             ],
             [
              0.3333333333333333,
              "#9c179e"
             ],
             [
              0.4444444444444444,
              "#bd3786"
             ],
             [
              0.5555555555555556,
              "#d8576b"
             ],
             [
              0.6666666666666666,
              "#ed7953"
             ],
             [
              0.7777777777777778,
              "#fb9f3a"
             ],
             [
              0.8888888888888888,
              "#fdca26"
             ],
             [
              1,
              "#f0f921"
             ]
            ],
            "type": "surface"
           }
          ],
          "table": [
           {
            "cells": {
             "fill": {
              "color": "#506784"
             },
             "line": {
              "color": "rgb(17,17,17)"
             }
            },
            "header": {
             "fill": {
              "color": "#2a3f5f"
             },
             "line": {
              "color": "rgb(17,17,17)"
             }
            },
            "type": "table"
           }
          ]
         },
         "layout": {
          "annotationdefaults": {
           "arrowcolor": "#f2f5fa",
           "arrowhead": 0,
           "arrowwidth": 1
          },
          "autotypenumbers": "strict",
          "coloraxis": {
           "colorbar": {
            "outlinewidth": 0,
            "ticks": ""
           }
          },
          "colorscale": {
           "diverging": [
            [
             0,
             "#8e0152"
            ],
            [
             0.1,
             "#c51b7d"
            ],
            [
             0.2,
             "#de77ae"
            ],
            [
             0.3,
             "#f1b6da"
            ],
            [
             0.4,
             "#fde0ef"
            ],
            [
             0.5,
             "#f7f7f7"
            ],
            [
             0.6,
             "#e6f5d0"
            ],
            [
             0.7,
             "#b8e186"
            ],
            [
             0.8,
             "#7fbc41"
            ],
            [
             0.9,
             "#4d9221"
            ],
            [
             1,
             "#276419"
            ]
           ],
           "sequential": [
            [
             0,
             "#0d0887"
            ],
            [
             0.1111111111111111,
             "#46039f"
            ],
            [
             0.2222222222222222,
             "#7201a8"
            ],
            [
             0.3333333333333333,
             "#9c179e"
            ],
            [
             0.4444444444444444,
             "#bd3786"
            ],
            [
             0.5555555555555556,
             "#d8576b"
            ],
            [
             0.6666666666666666,
             "#ed7953"
            ],
            [
             0.7777777777777778,
             "#fb9f3a"
            ],
            [
             0.8888888888888888,
             "#fdca26"
            ],
            [
             1,
             "#f0f921"
            ]
           ],
           "sequentialminus": [
            [
             0,
             "#0d0887"
            ],
            [
             0.1111111111111111,
             "#46039f"
            ],
            [
             0.2222222222222222,
             "#7201a8"
            ],
            [
             0.3333333333333333,
             "#9c179e"
            ],
            [
             0.4444444444444444,
             "#bd3786"
            ],
            [
             0.5555555555555556,
             "#d8576b"
            ],
            [
             0.6666666666666666,
             "#ed7953"
            ],
            [
             0.7777777777777778,
             "#fb9f3a"
            ],
            [
             0.8888888888888888,
             "#fdca26"
            ],
            [
             1,
             "#f0f921"
            ]
           ]
          },
          "colorway": [
           "#636efa",
           "#EF553B",
           "#00cc96",
           "#ab63fa",
           "#FFA15A",
           "#19d3f3",
           "#FF6692",
           "#B6E880",
           "#FF97FF",
           "#FECB52"
          ],
          "font": {
           "color": "#f2f5fa"
          },
          "geo": {
           "bgcolor": "rgb(17,17,17)",
           "lakecolor": "rgb(17,17,17)",
           "landcolor": "rgb(17,17,17)",
           "showlakes": true,
           "showland": true,
           "subunitcolor": "#506784"
          },
          "hoverlabel": {
           "align": "left"
          },
          "hovermode": "closest",
          "mapbox": {
           "style": "dark"
          },
          "paper_bgcolor": "rgb(17,17,17)",
          "plot_bgcolor": "rgb(17,17,17)",
          "polar": {
           "angularaxis": {
            "gridcolor": "#506784",
            "linecolor": "#506784",
            "ticks": ""
           },
           "bgcolor": "rgb(17,17,17)",
           "radialaxis": {
            "gridcolor": "#506784",
            "linecolor": "#506784",
            "ticks": ""
           }
          },
          "scene": {
           "xaxis": {
            "backgroundcolor": "rgb(17,17,17)",
            "gridcolor": "#506784",
            "gridwidth": 2,
            "linecolor": "#506784",
            "showbackground": true,
            "ticks": "",
            "zerolinecolor": "#C8D4E3"
           },
           "yaxis": {
            "backgroundcolor": "rgb(17,17,17)",
            "gridcolor": "#506784",
            "gridwidth": 2,
            "linecolor": "#506784",
            "showbackground": true,
            "ticks": "",
            "zerolinecolor": "#C8D4E3"
           },
           "zaxis": {
            "backgroundcolor": "rgb(17,17,17)",
            "gridcolor": "#506784",
            "gridwidth": 2,
            "linecolor": "#506784",
            "showbackground": true,
            "ticks": "",
            "zerolinecolor": "#C8D4E3"
           }
          },
          "shapedefaults": {
           "line": {
            "color": "#f2f5fa"
           }
          },
          "sliderdefaults": {
           "bgcolor": "#C8D4E3",
           "bordercolor": "rgb(17,17,17)",
           "borderwidth": 1,
           "tickwidth": 0
          },
          "ternary": {
           "aaxis": {
            "gridcolor": "#506784",
            "linecolor": "#506784",
            "ticks": ""
           },
           "baxis": {
            "gridcolor": "#506784",
            "linecolor": "#506784",
            "ticks": ""
           },
           "bgcolor": "rgb(17,17,17)",
           "caxis": {
            "gridcolor": "#506784",
            "linecolor": "#506784",
            "ticks": ""
           }
          },
          "title": {
           "x": 0.05
          },
          "updatemenudefaults": {
           "bgcolor": "#506784",
           "borderwidth": 0
          },
          "xaxis": {
           "automargin": true,
           "gridcolor": "#283442",
           "linecolor": "#506784",
           "ticks": "",
           "title": {
            "standoff": 15
           },
           "zerolinecolor": "#283442",
           "zerolinewidth": 2
          },
          "yaxis": {
           "automargin": true,
           "gridcolor": "#283442",
           "linecolor": "#506784",
           "ticks": "",
           "title": {
            "standoff": 15
           },
           "zerolinecolor": "#283442",
           "zerolinewidth": 2
          }
         }
        },
        "updatemenus": [
         {
          "buttons": [
           {
            "args": [
             {
              "visible": [
               true,
               false,
               false,
               false,
               false,
               false,
               false,
               false,
               false,
               false,
               false,
               false,
               false,
               false,
               false,
               false,
               false,
               false,
               false
              ]
             },
             {
              "title": {
               "text": "Denied Boardings by Airline Carrier (2018-2021) <br><sup>Alaska Airlines </sup>"
              }
             }
            ],
            "label": "Alaska Airlines",
            "method": "update"
           },
           {
            "args": [
             {
              "visible": [
               false,
               true,
               false,
               false,
               false,
               false,
               false,
               false,
               false,
               false,
               false,
               false,
               false,
               false,
               false,
               false,
               false,
               false,
               false
              ]
             },
             {
              "title": {
               "text": "Denied Boardings by Airline Carrier (2018-2021) <br><sup>Allegiant Airlines </sup>"
              }
             }
            ],
            "label": "Allegiant Airlines",
            "method": "update"
           },
           {
            "args": [
             {
              "visible": [
               false,
               false,
               true,
               false,
               false,
               false,
               false,
               false,
               false,
               false,
               false,
               false,
               false,
               false,
               false,
               false,
               false,
               false,
               false
              ]
             },
             {
              "title": {
               "text": "Denied Boardings by Airline Carrier (2018-2021) <br><sup>American Airlines </sup>"
              }
             }
            ],
            "label": "American Airlines",
            "method": "update"
           },
           {
            "args": [
             {
              "visible": [
               false,
               false,
               false,
               true,
               false,
               false,
               false,
               false,
               false,
               false,
               false,
               false,
               false,
               false,
               false,
               false,
               false,
               false,
               false
              ]
             },
             {
              "title": {
               "text": "Denied Boardings by Airline Carrier (2018-2021) <br><sup>Delta Air Lines </sup>"
              }
             }
            ],
            "label": "Delta Air Lines",
            "method": "update"
           },
           {
            "args": [
             {
              "visible": [
               false,
               false,
               false,
               false,
               true,
               false,
               false,
               false,
               false,
               false,
               false,
               false,
               false,
               false,
               false,
               false,
               false,
               false,
               false
              ]
             },
             {
              "title": {
               "text": "Denied Boardings by Airline Carrier (2018-2021) <br><sup>Endeavor Air </sup>"
              }
             }
            ],
            "label": "Endeavor Air",
            "method": "update"
           },
           {
            "args": [
             {
              "visible": [
               false,
               false,
               false,
               false,
               false,
               true,
               false,
               false,
               false,
               false,
               false,
               false,
               false,
               false,
               false,
               false,
               false,
               false,
               false
              ]
             },
             {
              "title": {
               "text": "Denied Boardings by Airline Carrier (2018-2021) <br><sup>Envoy Air </sup>"
              }
             }
            ],
            "label": "Envoy Air",
            "method": "update"
           },
           {
            "args": [
             {
              "visible": [
               false,
               false,
               false,
               false,
               false,
               false,
               true,
               false,
               false,
               false,
               false,
               false,
               false,
               false,
               false,
               false,
               false,
               false,
               false
              ]
             },
             {
              "title": {
               "text": "Denied Boardings by Airline Carrier (2018-2021) <br><sup>ExpressJet Airlines </sup>"
              }
             }
            ],
            "label": "ExpressJet Airlines",
            "method": "update"
           },
           {
            "args": [
             {
              "visible": [
               false,
               false,
               false,
               false,
               false,
               false,
               false,
               true,
               false,
               false,
               false,
               false,
               false,
               false,
               false,
               false,
               false,
               false,
               false
              ]
             },
             {
              "title": {
               "text": "Denied Boardings by Airline Carrier (2018-2021) <br><sup>Frontier Airlines </sup>"
              }
             }
            ],
            "label": "Frontier Airlines",
            "method": "update"
           },
           {
            "args": [
             {
              "visible": [
               false,
               false,
               false,
               false,
               false,
               false,
               false,
               false,
               true,
               false,
               false,
               false,
               false,
               false,
               false,
               false,
               false,
               false,
               false
              ]
             },
             {
              "title": {
               "text": "Denied Boardings by Airline Carrier (2018-2021) <br><sup>Hawaiian Airlines </sup>"
              }
             }
            ],
            "label": "Hawaiian Airlines",
            "method": "update"
           },
           {
            "args": [
             {
              "visible": [
               false,
               false,
               false,
               false,
               false,
               false,
               false,
               false,
               false,
               true,
               false,
               false,
               false,
               false,
               false,
               false,
               false,
               false,
               false
              ]
             },
             {
              "title": {
               "text": "Denied Boardings by Airline Carrier (2018-2021) <br><sup>JetBlue Airways </sup>"
              }
             }
            ],
            "label": "JetBlue Airways",
            "method": "update"
           },
           {
            "args": [
             {
              "visible": [
               false,
               false,
               false,
               false,
               false,
               false,
               false,
               false,
               false,
               false,
               true,
               false,
               false,
               false,
               false,
               false,
               false,
               false,
               false
              ]
             },
             {
              "title": {
               "text": "Denied Boardings by Airline Carrier (2018-2021) <br><sup>Mesa Airlines </sup>"
              }
             }
            ],
            "label": "Mesa Airlines",
            "method": "update"
           },
           {
            "args": [
             {
              "visible": [
               false,
               false,
               false,
               false,
               false,
               false,
               false,
               false,
               false,
               false,
               false,
               true,
               false,
               false,
               false,
               false,
               false,
               false,
               false
              ]
             },
             {
              "title": {
               "text": "Denied Boardings by Airline Carrier (2018-2021) <br><sup>PSA Airlines </sup>"
              }
             }
            ],
            "label": "PSA Airlines",
            "method": "update"
           },
           {
            "args": [
             {
              "visible": [
               false,
               false,
               false,
               false,
               false,
               false,
               false,
               false,
               false,
               false,
               false,
               false,
               true,
               false,
               false,
               false,
               false,
               false,
               false
              ]
             },
             {
              "title": {
               "text": "Denied Boardings by Airline Carrier (2018-2021) <br><sup>Republic Airline </sup>"
              }
             }
            ],
            "label": "Republic Airline",
            "method": "update"
           },
           {
            "args": [
             {
              "visible": [
               false,
               false,
               false,
               false,
               false,
               false,
               false,
               false,
               false,
               false,
               false,
               false,
               false,
               true,
               false,
               false,
               false,
               false,
               false
              ]
             },
             {
              "title": {
               "text": "Denied Boardings by Airline Carrier (2018-2021) <br><sup>SkyWest Airlines </sup>"
              }
             }
            ],
            "label": "SkyWest Airlines",
            "method": "update"
           },
           {
            "args": [
             {
              "visible": [
               false,
               false,
               false,
               false,
               false,
               false,
               false,
               false,
               false,
               false,
               false,
               false,
               false,
               false,
               true,
               false,
               false,
               false,
               false
              ]
             },
             {
              "title": {
               "text": "Denied Boardings by Airline Carrier (2018-2021) <br><sup>Southwest Airlines </sup>"
              }
             }
            ],
            "label": "Southwest Airlines",
            "method": "update"
           },
           {
            "args": [
             {
              "visible": [
               false,
               false,
               false,
               false,
               false,
               false,
               false,
               false,
               false,
               false,
               false,
               false,
               false,
               false,
               false,
               true,
               false,
               false,
               false
              ]
             },
             {
              "title": {
               "text": "Denied Boardings by Airline Carrier (2018-2021) <br><sup>Spirit Airlines </sup>"
              }
             }
            ],
            "label": "Spirit Airlines",
            "method": "update"
           },
           {
            "args": [
             {
              "visible": [
               false,
               false,
               false,
               false,
               false,
               false,
               false,
               false,
               false,
               false,
               false,
               false,
               false,
               false,
               false,
               false,
               true,
               false,
               false
              ]
             },
             {
              "title": {
               "text": "Denied Boardings by Airline Carrier (2018-2021) <br><sup>United Air Lines </sup>"
              }
             }
            ],
            "label": "United Air Lines",
            "method": "update"
           },
           {
            "args": [
             {
              "visible": [
               false,
               false,
               false,
               false,
               false,
               false,
               false,
               false,
               false,
               false,
               false,
               false,
               false,
               false,
               false,
               false,
               false,
               true,
               false
              ]
             },
             {
              "title": {
               "text": "Denied Boardings by Airline Carrier (2018-2021) <br><sup>Virgin America  </sup>"
              }
             }
            ],
            "label": "Virgin America ",
            "method": "update"
           },
           {
            "args": [
             {
              "visible": [
               false,
               false,
               false,
               false,
               false,
               false,
               false,
               false,
               false,
               false,
               false,
               false,
               false,
               false,
               false,
               false,
               false,
               false,
               true
              ]
             },
             {
              "title": {
               "text": "Denied Boardings by Airline Carrier (2018-2021) <br><sup>Horizon Air </sup>"
              }
             }
            ],
            "label": "Horizon Air",
            "method": "update"
           }
          ]
         }
        ]
       }
      }
     },
     "metadata": {},
     "output_type": "display_data"
    }
   ],
   "source": [
    "denied_boarding_reshape = pd.melt(denied_boarding.rename(columns = {\n",
    "    1:'Involuntary - Received Compensation', \n",
    "    2:'Involuntary - No Compensation', \n",
    "    5:'Voluntary - Received Compensation'\n",
    "    }), \n",
    "                                  id_vars = ['CARRIER', 'year', 'quarter'], \n",
    "                                  value_vars=['Involuntary - Received Compensation', \n",
    "                                              'Involuntary - No Compensation',\n",
    "                                              'Voluntary - Received Compensation'\n",
    "                                              ])\n",
    "\n",
    "df = denied_boarding_reshape[['CARRIER', 'variable','value']].set_index(['CARRIER', 'variable'])['value']\n",
    "\n",
    "# create a figure for each category\n",
    "figs = {\n",
    "    c: px.pie(df.loc[c].reset_index(), values=\"value\", names=\"variable\", \n",
    "              labels = {\n",
    "                 'value':'Total Passengers', \n",
    "                 'variable':'Denial Type'\n",
    "             }, \n",
    "        color_discrete_sequence=px.colors.qualitative.Dark24).update_traces(\n",
    "        name=c, visible=False, \n",
    "    )\n",
    "    for c in df.index.get_level_values(\"CARRIER\").unique()\n",
    "}\n",
    "\n",
    "# integrate figures per category into one figure\n",
    "defaultcat = df.index.get_level_values(\"CARRIER\").unique()[0]\n",
    "fig = figs[defaultcat].update_traces(visible=True)\n",
    "for k in figs.keys():\n",
    "    if k != defaultcat:\n",
    "        fig.add_traces(figs[k].data)\n",
    "\n",
    "# finally build dropdown menu\n",
    "fig.update_layout(\n",
    "    updatemenus=[\n",
    "        {\n",
    "            \"buttons\": [\n",
    "                {\n",
    "                    \"label\": k,\n",
    "                    \"method\": \"update\",\n",
    "                    # list comprehension for which traces are visible\n",
    "                    \"args\": [{\"visible\": [kk == k for kk in figs.keys()]},\n",
    "                             {\"title\":go.layout.xaxis.Title(\n",
    "            text=f\"Denied Boardings by Airline Carrier (2018-2021) <br><sup>{k} </sup>\"\n",
    "            )}],\n",
    "                }\n",
    "                for k in figs.keys()\n",
    "            ]\n",
    "        }\n",
    "    ]\n",
    ")\n"
   ]
  },
  {
   "cell_type": "code",
   "execution_count": 296,
   "metadata": {},
   "outputs": [
    {
     "data": {
      "application/vnd.plotly.v1+json": {
       "config": {
        "plotlyServerURL": "https://plot.ly"
       },
       "data": [
        {
         "direction": "clockwise",
         "domain": {
          "x": [
           0,
           1
          ],
          "y": [
           0,
           1
          ]
         },
         "hovertemplate": "Denial Type=%{label}<br>Total Passengers=%{value}<extra></extra>",
         "labels": [
          "2(a)",
          "2(a)",
          "2(a)",
          "2(a)",
          "2(a)",
          "2(a)",
          "2(a)",
          "2(a)",
          "2(a)",
          "2(a)",
          "2(a)",
          "2(a)",
          "2(a)",
          "2(b)",
          "2(b)",
          "2(b)",
          "2(b)",
          "2(b)",
          "2(b)",
          "2(b)",
          "2(b)",
          "2(b)",
          "2(b)",
          "2(b)",
          "2(b)",
          "2(b)",
          "2(c)",
          "2(c)",
          "2(c)",
          "2(c)",
          "2(c)",
          "2(c)",
          "2(c)",
          "2(c)",
          "2(c)",
          "2(c)",
          "2(c)",
          "2(c)",
          "2(c)"
         ],
         "legendgroup": "",
         "name": "Alaska Airlines",
         "showlegend": true,
         "sort": false,
         "type": "pie",
         "values": [
          0,
          0,
          0,
          0,
          0,
          0,
          0,
          0,
          0,
          0,
          0,
          0,
          0,
          17,
          87,
          65,
          42,
          44,
          36,
          16,
          36,
          3,
          1,
          17,
          15,
          14,
          4,
          2,
          6,
          7,
          7,
          12,
          11,
          12,
          3,
          0,
          0,
          0,
          0
         ],
         "visible": true
        },
        {
         "direction": "clockwise",
         "domain": {
          "x": [
           0,
           1
          ],
          "y": [
           0,
           1
          ]
         },
         "hovertemplate": "Denial Type=%{label}<br>Total Passengers=%{value}<extra></extra>",
         "labels": [
          "2(a)",
          "2(a)",
          "2(a)",
          "2(a)",
          "2(a)",
          "2(a)",
          "2(a)",
          "2(b)",
          "2(b)",
          "2(b)",
          "2(b)",
          "2(b)",
          "2(b)",
          "2(b)",
          "2(c)",
          "2(c)",
          "2(c)",
          "2(c)",
          "2(c)",
          "2(c)",
          "2(c)"
         ],
         "legendgroup": "",
         "name": "Allegiant Airlines",
         "showlegend": true,
         "sort": false,
         "type": "pie",
         "values": [
          0,
          0,
          0,
          0,
          0,
          0,
          0,
          0,
          10,
          1,
          434,
          123,
          2,
          2,
          58,
          68,
          65,
          76,
          0,
          0,
          0
         ],
         "visible": false
        },
        {
         "direction": "clockwise",
         "domain": {
          "x": [
           0,
           1
          ],
          "y": [
           0,
           1
          ]
         },
         "hovertemplate": "Denial Type=%{label}<br>Total Passengers=%{value}<extra></extra>",
         "labels": [
          "2(a)",
          "2(a)",
          "2(a)",
          "2(a)",
          "2(a)",
          "2(a)",
          "2(a)",
          "2(a)",
          "2(a)",
          "2(a)",
          "2(a)",
          "2(a)",
          "2(a)",
          "2(a)",
          "2(a)",
          "2(a)",
          "2(b)",
          "2(b)",
          "2(b)",
          "2(b)",
          "2(b)",
          "2(b)",
          "2(b)",
          "2(b)",
          "2(b)",
          "2(b)",
          "2(b)",
          "2(b)",
          "2(b)",
          "2(b)",
          "2(b)",
          "2(b)",
          "2(c)",
          "2(c)",
          "2(c)",
          "2(c)",
          "2(c)",
          "2(c)",
          "2(c)",
          "2(c)",
          "2(c)",
          "2(c)",
          "2(c)",
          "2(c)",
          "2(c)",
          "2(c)",
          "2(c)",
          "2(c)"
         ],
         "legendgroup": "",
         "name": "American Airlines",
         "showlegend": true,
         "sort": false,
         "type": "pie",
         "values": [
          0,
          0,
          0,
          0,
          0,
          0,
          0,
          0,
          0,
          0,
          0,
          0,
          0,
          0,
          0,
          1,
          177,
          98,
          173,
          713,
          727,
          1999,
          997,
          554,
          256,
          6,
          65,
          20,
          7,
          53,
          62,
          180,
          2,
          1,
          48,
          0,
          17,
          28,
          40,
          31,
          3,
          0,
          1,
          0,
          0,
          0,
          11,
          12
         ],
         "visible": false
        },
        {
         "direction": "clockwise",
         "domain": {
          "x": [
           0,
           1
          ],
          "y": [
           0,
           1
          ]
         },
         "hovertemplate": "Denial Type=%{label}<br>Total Passengers=%{value}<extra></extra>",
         "labels": [
          "2(a)",
          "2(a)",
          "2(a)",
          "2(b)",
          "2(b)",
          "2(b)",
          "2(c)",
          "2(c)",
          "2(c)"
         ],
         "legendgroup": "",
         "name": "Delta Air Lines",
         "showlegend": true,
         "sort": false,
         "type": "pie",
         "values": [
          0,
          0,
          0,
          6,
          4,
          0,
          1,
          1,
          2
         ],
         "visible": false
        },
        {
         "direction": "clockwise",
         "domain": {
          "x": [
           0,
           1
          ],
          "y": [
           0,
           1
          ]
         },
         "hovertemplate": "Denial Type=%{label}<br>Total Passengers=%{value}<extra></extra>",
         "labels": [
          "2(a)",
          "2(a)",
          "2(a)",
          "2(b)",
          "2(b)",
          "2(b)",
          "2(c)",
          "2(c)",
          "2(c)"
         ],
         "legendgroup": "",
         "name": "Endeavor Air",
         "showlegend": true,
         "sort": false,
         "type": "pie",
         "values": [
          0,
          0,
          0,
          1,
          0,
          0,
          2,
          1,
          2
         ],
         "visible": false
        },
        {
         "direction": "clockwise",
         "domain": {
          "x": [
           0,
           1
          ],
          "y": [
           0,
           1
          ]
         },
         "hovertemplate": "Denial Type=%{label}<br>Total Passengers=%{value}<extra></extra>",
         "labels": [
          "2(a)",
          "2(a)",
          "2(a)",
          "2(a)",
          "2(a)",
          "2(a)",
          "2(a)",
          "2(a)",
          "2(a)",
          "2(a)",
          "2(a)",
          "2(a)",
          "2(a)",
          "2(a)",
          "2(a)",
          "2(a)",
          "2(b)",
          "2(b)",
          "2(b)",
          "2(b)",
          "2(b)",
          "2(b)",
          "2(b)",
          "2(b)",
          "2(b)",
          "2(b)",
          "2(b)",
          "2(b)",
          "2(b)",
          "2(b)",
          "2(b)",
          "2(b)",
          "2(c)",
          "2(c)",
          "2(c)",
          "2(c)",
          "2(c)",
          "2(c)",
          "2(c)",
          "2(c)",
          "2(c)",
          "2(c)",
          "2(c)",
          "2(c)",
          "2(c)",
          "2(c)",
          "2(c)",
          "2(c)"
         ],
         "legendgroup": "",
         "name": "Envoy Air",
         "showlegend": true,
         "sort": false,
         "type": "pie",
         "values": [
          0,
          0,
          0,
          0,
          0,
          0,
          0,
          0,
          0,
          0,
          0,
          0,
          0,
          1,
          0,
          0,
          37,
          34,
          120,
          376,
          385,
          428,
          423,
          475,
          241,
          4,
          53,
          14,
          9,
          49,
          13,
          38,
          0,
          0,
          0,
          0,
          0,
          8,
          0,
          0,
          0,
          0,
          0,
          0,
          0,
          0,
          2,
          3
         ],
         "visible": false
        },
        {
         "direction": "clockwise",
         "domain": {
          "x": [
           0,
           1
          ],
          "y": [
           0,
           1
          ]
         },
         "hovertemplate": "Denial Type=%{label}<br>Total Passengers=%{value}<extra></extra>",
         "labels": [
          "2(a)",
          "2(a)",
          "2(a)",
          "2(a)",
          "2(a)",
          "2(a)",
          "2(a)",
          "2(a)",
          "2(a)",
          "2(a)",
          "2(a)",
          "2(a)",
          "2(a)",
          "2(a)",
          "2(a)",
          "2(a)",
          "2(b)",
          "2(b)",
          "2(b)",
          "2(b)",
          "2(b)",
          "2(b)",
          "2(b)",
          "2(b)",
          "2(b)",
          "2(b)",
          "2(b)",
          "2(b)",
          "2(b)",
          "2(b)",
          "2(b)",
          "2(b)",
          "2(c)",
          "2(c)",
          "2(c)",
          "2(c)",
          "2(c)",
          "2(c)",
          "2(c)",
          "2(c)",
          "2(c)",
          "2(c)",
          "2(c)",
          "2(c)",
          "2(c)",
          "2(c)",
          "2(c)",
          "2(c)"
         ],
         "legendgroup": "",
         "name": "Frontier Airlines",
         "showlegend": true,
         "sort": false,
         "type": "pie",
         "values": [
          0,
          0,
          0,
          0,
          0,
          0,
          0,
          0,
          0,
          0,
          1,
          0,
          12,
          6,
          12,
          29,
          78,
          80,
          328,
          138,
          73,
          82,
          99,
          83,
          26,
          0,
          0,
          0,
          82,
          130,
          186,
          212,
          12,
          14,
          22,
          18,
          14,
          6,
          13,
          21,
          12,
          5,
          9,
          8,
          0,
          0,
          0,
          0
         ],
         "visible": false
        },
        {
         "direction": "clockwise",
         "domain": {
          "x": [
           0,
           1
          ],
          "y": [
           0,
           1
          ]
         },
         "hovertemplate": "Denial Type=%{label}<br>Total Passengers=%{value}<extra></extra>",
         "labels": [
          "2(a)",
          "2(a)",
          "2(a)",
          "2(a)",
          "2(a)",
          "2(a)",
          "2(a)",
          "2(a)",
          "2(a)",
          "2(a)",
          "2(a)",
          "2(a)",
          "2(a)",
          "2(b)",
          "2(b)",
          "2(b)",
          "2(b)",
          "2(b)",
          "2(b)",
          "2(b)",
          "2(b)",
          "2(b)",
          "2(b)",
          "2(b)",
          "2(b)",
          "2(b)",
          "2(c)",
          "2(c)",
          "2(c)",
          "2(c)",
          "2(c)",
          "2(c)",
          "2(c)",
          "2(c)",
          "2(c)",
          "2(c)",
          "2(c)",
          "2(c)",
          "2(c)"
         ],
         "legendgroup": "",
         "name": "Mesa Airlines",
         "showlegend": true,
         "sort": false,
         "type": "pie",
         "values": [
          0,
          0,
          0,
          0,
          0,
          0,
          0,
          0,
          0,
          0,
          0,
          0,
          0,
          40,
          3,
          46,
          86,
          461,
          293,
          72,
          69,
          8,
          2,
          8,
          5,
          12,
          0,
          0,
          0,
          0,
          0,
          0,
          0,
          0,
          0,
          0,
          0,
          0,
          2
         ],
         "visible": false
        },
        {
         "direction": "clockwise",
         "domain": {
          "x": [
           0,
           1
          ],
          "y": [
           0,
           1
          ]
         },
         "hovertemplate": "Denial Type=%{label}<br>Total Passengers=%{value}<extra></extra>",
         "labels": [
          "2(a)",
          "2(a)",
          "2(a)",
          "2(a)",
          "2(a)",
          "2(a)",
          "2(a)",
          "2(a)",
          "2(a)",
          "2(a)",
          "2(a)",
          "2(a)",
          "2(a)",
          "2(a)",
          "2(b)",
          "2(b)",
          "2(b)",
          "2(b)",
          "2(b)",
          "2(b)",
          "2(b)",
          "2(b)",
          "2(b)",
          "2(b)",
          "2(b)",
          "2(b)",
          "2(b)",
          "2(b)",
          "2(c)",
          "2(c)",
          "2(c)",
          "2(c)",
          "2(c)",
          "2(c)",
          "2(c)",
          "2(c)",
          "2(c)",
          "2(c)",
          "2(c)",
          "2(c)",
          "2(c)",
          "2(c)"
         ],
         "legendgroup": "",
         "name": "PSA Airlines",
         "showlegend": true,
         "sort": false,
         "type": "pie",
         "values": [
          0,
          0,
          0,
          0,
          0,
          0,
          0,
          0,
          0,
          0,
          0,
          4,
          1,
          1,
          6,
          12,
          18,
          138,
          184,
          367,
          180,
          370,
          118,
          1,
          13,
          40,
          93,
          74,
          0,
          0,
          0,
          0,
          7,
          0,
          0,
          0,
          0,
          0,
          0,
          0,
          0,
          0
         ],
         "visible": false
        },
        {
         "direction": "clockwise",
         "domain": {
          "x": [
           0,
           1
          ],
          "y": [
           0,
           1
          ]
         },
         "hovertemplate": "Denial Type=%{label}<br>Total Passengers=%{value}<extra></extra>",
         "labels": [
          "2(a)",
          "2(a)",
          "2(a)",
          "2(a)",
          "2(a)",
          "2(a)",
          "2(a)",
          "2(a)",
          "2(a)",
          "2(a)",
          "2(a)",
          "2(a)",
          "2(a)",
          "2(a)",
          "2(a)",
          "2(b)",
          "2(b)",
          "2(b)",
          "2(b)",
          "2(b)",
          "2(b)",
          "2(b)",
          "2(b)",
          "2(b)",
          "2(b)",
          "2(b)",
          "2(b)",
          "2(b)",
          "2(b)",
          "2(b)",
          "2(c)",
          "2(c)",
          "2(c)",
          "2(c)",
          "2(c)",
          "2(c)",
          "2(c)",
          "2(c)",
          "2(c)",
          "2(c)",
          "2(c)",
          "2(c)",
          "2(c)",
          "2(c)",
          "2(c)"
         ],
         "legendgroup": "",
         "name": "Republic Airline",
         "showlegend": true,
         "sort": false,
         "type": "pie",
         "values": [
          0,
          0,
          0,
          0,
          0,
          0,
          0,
          0,
          0,
          0,
          0,
          0,
          0,
          0,
          1,
          8,
          12,
          2,
          14,
          12,
          39,
          109,
          42,
          27,
          2,
          13,
          18,
          24,
          63,
          0,
          0,
          0,
          0,
          0,
          0,
          0,
          0,
          0,
          0,
          0,
          0,
          0,
          0,
          3,
          0
         ],
         "visible": false
        },
        {
         "direction": "clockwise",
         "domain": {
          "x": [
           0,
           1
          ],
          "y": [
           0,
           1
          ]
         },
         "hovertemplate": "Denial Type=%{label}<br>Total Passengers=%{value}<extra></extra>",
         "labels": [
          "2(a)",
          "2(a)",
          "2(a)",
          "2(a)",
          "2(a)",
          "2(a)",
          "2(a)",
          "2(a)",
          "2(a)",
          "2(a)",
          "2(a)",
          "2(a)",
          "2(a)",
          "2(a)",
          "2(b)",
          "2(b)",
          "2(b)",
          "2(b)",
          "2(b)",
          "2(b)",
          "2(b)",
          "2(b)",
          "2(b)",
          "2(b)",
          "2(b)",
          "2(b)",
          "2(b)",
          "2(b)",
          "2(c)",
          "2(c)",
          "2(c)",
          "2(c)",
          "2(c)",
          "2(c)",
          "2(c)",
          "2(c)",
          "2(c)",
          "2(c)",
          "2(c)",
          "2(c)",
          "2(c)",
          "2(c)"
         ],
         "legendgroup": "",
         "name": "SkyWest Airlines",
         "showlegend": true,
         "sort": false,
         "type": "pie",
         "values": [
          1,
          0,
          0,
          0,
          1,
          0,
          0,
          0,
          0,
          0,
          0,
          0,
          0,
          2,
          54,
          92,
          22,
          104,
          150,
          124,
          136,
          76,
          151,
          0,
          2,
          2,
          6,
          30,
          4,
          2,
          3,
          0,
          0,
          4,
          2,
          0,
          1,
          4,
          0,
          0,
          0,
          0
         ],
         "visible": false
        },
        {
         "direction": "clockwise",
         "domain": {
          "x": [
           0,
           1
          ],
          "y": [
           0,
           1
          ]
         },
         "hovertemplate": "Denial Type=%{label}<br>Total Passengers=%{value}<extra></extra>",
         "labels": [
          "2(a)",
          "2(a)",
          "2(a)",
          "2(a)",
          "2(a)",
          "2(a)",
          "2(a)",
          "2(a)",
          "2(a)",
          "2(a)",
          "2(a)",
          "2(a)",
          "2(a)",
          "2(b)",
          "2(b)",
          "2(b)",
          "2(b)",
          "2(b)",
          "2(b)",
          "2(b)",
          "2(b)",
          "2(b)",
          "2(b)",
          "2(b)",
          "2(b)",
          "2(b)",
          "2(c)",
          "2(c)",
          "2(c)",
          "2(c)",
          "2(c)",
          "2(c)",
          "2(c)",
          "2(c)",
          "2(c)",
          "2(c)",
          "2(c)",
          "2(c)",
          "2(c)"
         ],
         "legendgroup": "",
         "name": "Spirit Airlines",
         "showlegend": true,
         "sort": false,
         "type": "pie",
         "values": [
          0,
          0,
          1,
          0,
          0,
          1,
          1,
          2,
          0,
          0,
          0,
          0,
          0,
          129,
          35,
          0,
          20,
          5,
          20,
          29,
          34,
          87,
          76,
          50,
          34,
          5,
          0,
          0,
          0,
          0,
          0,
          0,
          0,
          0,
          0,
          0,
          5,
          0,
          0
         ],
         "visible": false
        },
        {
         "direction": "clockwise",
         "domain": {
          "x": [
           0,
           1
          ],
          "y": [
           0,
           1
          ]
         },
         "hovertemplate": "Denial Type=%{label}<br>Total Passengers=%{value}<extra></extra>",
         "labels": [
          "2(a)",
          "2(a)",
          "2(a)",
          "2(a)",
          "2(a)",
          "2(a)",
          "2(a)",
          "2(a)",
          "2(a)",
          "2(a)",
          "2(a)",
          "2(b)",
          "2(b)",
          "2(b)",
          "2(b)",
          "2(b)",
          "2(b)",
          "2(b)",
          "2(b)",
          "2(b)",
          "2(b)",
          "2(b)",
          "2(c)",
          "2(c)",
          "2(c)",
          "2(c)",
          "2(c)",
          "2(c)",
          "2(c)",
          "2(c)",
          "2(c)",
          "2(c)",
          "2(c)"
         ],
         "legendgroup": "",
         "name": "United Air Lines",
         "showlegend": true,
         "sort": false,
         "type": "pie",
         "values": [
          0,
          2,
          0,
          0,
          0,
          0,
          0,
          0,
          0,
          0,
          1,
          16,
          3,
          8,
          2,
          0,
          12,
          0,
          0,
          0,
          4,
          3,
          0,
          4,
          3,
          13,
          10,
          9,
          2,
          3,
          7,
          0,
          0
         ],
         "visible": false
        },
        {
         "direction": "clockwise",
         "domain": {
          "x": [
           0,
           1
          ],
          "y": [
           0,
           1
          ]
         },
         "hovertemplate": "Denial Type=%{label}<br>Total Passengers=%{value}<extra></extra>",
         "labels": [
          "2(a)",
          "2(b)",
          "2(c)"
         ],
         "legendgroup": "",
         "name": "Virgin America ",
         "showlegend": true,
         "sort": false,
         "type": "pie",
         "values": [
          0,
          4,
          0
         ],
         "visible": false
        },
        {
         "direction": "clockwise",
         "domain": {
          "x": [
           0,
           1
          ],
          "y": [
           0,
           1
          ]
         },
         "hovertemplate": "Denial Type=%{label}<br>Total Passengers=%{value}<extra></extra>",
         "labels": [
          "2(a)",
          "2(a)",
          "2(a)",
          "2(a)",
          "2(b)",
          "2(b)",
          "2(b)",
          "2(b)",
          "2(c)",
          "2(c)",
          "2(c)",
          "2(c)"
         ],
         "legendgroup": "",
         "name": "ExpressJet Airlines",
         "showlegend": true,
         "sort": false,
         "type": "pie",
         "values": [
          0,
          0,
          0,
          1,
          5,
          2,
          13,
          0,
          0,
          0,
          0,
          0
         ],
         "visible": false
        },
        {
         "direction": "clockwise",
         "domain": {
          "x": [
           0,
           1
          ],
          "y": [
           0,
           1
          ]
         },
         "hovertemplate": "Denial Type=%{label}<br>Total Passengers=%{value}<extra></extra>",
         "labels": [
          "2(a)",
          "2(a)",
          "2(a)",
          "2(a)",
          "2(a)",
          "2(a)",
          "2(a)",
          "2(b)",
          "2(b)",
          "2(b)",
          "2(b)",
          "2(b)",
          "2(b)",
          "2(b)",
          "2(c)",
          "2(c)",
          "2(c)",
          "2(c)",
          "2(c)",
          "2(c)",
          "2(c)"
         ],
         "legendgroup": "",
         "name": "JetBlue Airways",
         "showlegend": true,
         "sort": false,
         "type": "pie",
         "values": [
          0,
          0,
          0,
          0,
          0,
          2,
          0,
          1,
          2,
          1,
          4,
          2,
          12,
          2,
          0,
          0,
          0,
          0,
          0,
          0,
          0
         ],
         "visible": false
        },
        {
         "direction": "clockwise",
         "domain": {
          "x": [
           0,
           1
          ],
          "y": [
           0,
           1
          ]
         },
         "hovertemplate": "Denial Type=%{label}<br>Total Passengers=%{value}<extra></extra>",
         "labels": [
          "2(a)",
          "2(b)",
          "2(c)"
         ],
         "legendgroup": "",
         "name": "Hawaiian Airlines",
         "showlegend": true,
         "sort": false,
         "type": "pie",
         "values": [
          0,
          1,
          0
         ],
         "visible": false
        }
       ],
       "layout": {
        "annotations": [
         {
          "font": {
           "size": 10
          },
          "showarrow": false,
          "text": "2(a): Passenger did not comply fully with carrier contract",
          "x": -0.3,
          "y": 0,
          "yshift": 10
         },
         {
          "font": {
           "size": 10
          },
          "showarrow": false,
          "text": "2(b): Substitution of an aircraft of lesser capacity or due to weight/balance restrictions on an aircraft with a designed passenger capacity of 60 or fewer seats",
          "x": -0.3,
          "y": -0.1,
          "yshift": 10
         },
         {
          "font": {
           "size": 10
          },
          "showarrow": false,
          "text": "2(c): Carrier arranged comparable air tansfer arriving no later than 1 hour past passengers' original arrival time",
          "x": -0.3,
          "y": -0.2,
          "yshift": 10
         },
         {
          "font": {
           "size": 10
          },
          "showarrow": false,
          "text": "2(a): Passenger did not comply fully with carrier contract",
          "x": -0.3,
          "y": 0,
          "yshift": 10
         },
         {
          "font": {
           "size": 10
          },
          "showarrow": false,
          "text": "2(b): Substitution of an aircraft of lesser capacity or due to weight/balance restrictions on an aircraft with a designed passenger capacity of 60 or fewer seats",
          "x": -0.3,
          "y": -0.1,
          "yshift": 10
         },
         {
          "font": {
           "size": 10
          },
          "showarrow": false,
          "text": "2(c): Carrier arranged comparable air tansfer arriving no later than 1 hour past passengers' original arrival time",
          "x": -0.3,
          "y": -0.2,
          "yshift": 10
         },
         {
          "font": {
           "size": 10
          },
          "showarrow": false,
          "text": "2(a): Passenger did not comply fully with carrier contract",
          "x": -0.3,
          "y": 0,
          "yshift": 10
         },
         {
          "font": {
           "size": 10
          },
          "showarrow": false,
          "text": "2(b): Substitution of an aircraft of lesser capacity or due to weight/balance restrictions on an aircraft with a designed passenger capacity of 60 or fewer seats",
          "x": -0.3,
          "y": -0.1,
          "yshift": 10
         },
         {
          "font": {
           "size": 10
          },
          "showarrow": false,
          "text": "2(c): Carrier arranged comparable air tansfer arriving no later than 1 hour past passengers' original arrival time",
          "x": -0.3,
          "y": -0.2,
          "yshift": 10
         },
         {
          "font": {
           "size": 10
          },
          "showarrow": false,
          "text": "2(a): Passenger did not comply fully with carrier contract",
          "x": -0.3,
          "y": 0,
          "yshift": 10
         },
         {
          "font": {
           "size": 10
          },
          "showarrow": false,
          "text": "2(b): Substitution of an aircraft of lesser capacity or due to weight/balance restrictions on an aircraft with a designed passenger capacity of 60 or fewer seats",
          "x": -0.3,
          "y": -0.1,
          "yshift": 10
         },
         {
          "font": {
           "size": 10
          },
          "showarrow": false,
          "text": "2(c): Carrier arranged comparable air tansfer arriving no later than 1 hour past passengers' original arrival time",
          "x": -0.3,
          "y": -0.2,
          "yshift": 10
         },
         {
          "font": {
           "size": 10
          },
          "showarrow": false,
          "text": "2(a): Passenger did not comply fully with carrier contract",
          "x": -0.3,
          "y": 0,
          "yshift": 10
         },
         {
          "font": {
           "size": 10
          },
          "showarrow": false,
          "text": "2(b): Substitution of an aircraft of lesser capacity or due to weight/balance restrictions on an aircraft with a designed passenger capacity of 60 or fewer seats",
          "x": -0.3,
          "y": -0.1,
          "yshift": 10
         },
         {
          "font": {
           "size": 10
          },
          "showarrow": false,
          "text": "2(c): Carrier arranged comparable air tansfer arriving no later than 1 hour past passengers' original arrival time",
          "x": -0.3,
          "y": -0.2,
          "yshift": 10
         },
         {
          "font": {
           "size": 10
          },
          "showarrow": false,
          "text": "2(a): Passenger did not comply fully with carrier contract",
          "x": -0.3,
          "y": 0,
          "yshift": 10
         },
         {
          "font": {
           "size": 10
          },
          "showarrow": false,
          "text": "2(b): Substitution of an aircraft of lesser capacity or due to weight/balance restrictions on an aircraft with a designed passenger capacity of 60 or fewer seats",
          "x": -0.3,
          "y": -0.1,
          "yshift": 10
         },
         {
          "font": {
           "size": 10
          },
          "showarrow": false,
          "text": "2(c): Carrier arranged comparable air tansfer arriving no later than 1 hour past passengers' original arrival time",
          "x": -0.3,
          "y": -0.2,
          "yshift": 10
         },
         {
          "font": {
           "size": 10
          },
          "showarrow": false,
          "text": "2(a): Passenger did not comply fully with carrier contract",
          "x": -0.3,
          "y": 0,
          "yshift": 10
         },
         {
          "font": {
           "size": 10
          },
          "showarrow": false,
          "text": "2(b): Substitution of an aircraft of lesser capacity or due to weight/balance restrictions on an aircraft with a designed passenger capacity of 60 or fewer seats",
          "x": -0.3,
          "y": -0.1,
          "yshift": 10
         },
         {
          "font": {
           "size": 10
          },
          "showarrow": false,
          "text": "2(c): Carrier arranged comparable air tansfer arriving no later than 1 hour past passengers' original arrival time",
          "x": -0.3,
          "y": -0.2,
          "yshift": 10
         },
         {
          "font": {
           "size": 10
          },
          "showarrow": false,
          "text": "2(a): Passenger did not comply fully with carrier contract",
          "x": -0.3,
          "y": 0,
          "yshift": 10
         },
         {
          "font": {
           "size": 10
          },
          "showarrow": false,
          "text": "2(b): Substitution of an aircraft of lesser capacity or due to weight/balance restrictions on an aircraft with a designed passenger capacity of 60 or fewer seats",
          "x": -0.3,
          "y": -0.1,
          "yshift": 10
         },
         {
          "font": {
           "size": 10
          },
          "showarrow": false,
          "text": "2(c): Carrier arranged comparable air tansfer arriving no later than 1 hour past passengers' original arrival time",
          "x": -0.3,
          "y": -0.2,
          "yshift": 10
         },
         {
          "font": {
           "size": 10
          },
          "showarrow": false,
          "text": "2(a): Passenger did not comply fully with carrier contract",
          "x": -0.3,
          "y": 0,
          "yshift": 10
         },
         {
          "font": {
           "size": 10
          },
          "showarrow": false,
          "text": "2(b): Substitution of an aircraft of lesser capacity or due to weight/balance restrictions on an aircraft with a designed passenger capacity of 60 or fewer seats",
          "x": -0.3,
          "y": -0.1,
          "yshift": 10
         },
         {
          "font": {
           "size": 10
          },
          "showarrow": false,
          "text": "2(c): Carrier arranged comparable air tansfer arriving no later than 1 hour past passengers' original arrival time",
          "x": -0.3,
          "y": -0.2,
          "yshift": 10
         },
         {
          "font": {
           "size": 10
          },
          "showarrow": false,
          "text": "2(a): Passenger did not comply fully with carrier contract",
          "x": -0.3,
          "y": 0,
          "yshift": 10
         },
         {
          "font": {
           "size": 10
          },
          "showarrow": false,
          "text": "2(b): Substitution of an aircraft of lesser capacity or due to weight/balance restrictions on an aircraft with a designed passenger capacity of 60 or fewer seats",
          "x": -0.3,
          "y": -0.1,
          "yshift": 10
         },
         {
          "font": {
           "size": 10
          },
          "showarrow": false,
          "text": "2(c): Carrier arranged comparable air tansfer arriving no later than 1 hour past passengers' original arrival time",
          "x": -0.3,
          "y": -0.2,
          "yshift": 10
         },
         {
          "font": {
           "size": 10
          },
          "showarrow": false,
          "text": "2(a): Passenger did not comply fully with carrier contract",
          "x": -0.3,
          "y": 0,
          "yshift": 10
         },
         {
          "font": {
           "size": 10
          },
          "showarrow": false,
          "text": "2(b): Substitution of an aircraft of lesser capacity or due to weight/balance restrictions on an aircraft with a designed passenger capacity of 60 or fewer seats",
          "x": -0.3,
          "y": -0.1,
          "yshift": 10
         },
         {
          "font": {
           "size": 10
          },
          "showarrow": false,
          "text": "2(c): Carrier arranged comparable air tansfer arriving no later than 1 hour past passengers' original arrival time",
          "x": -0.3,
          "y": -0.2,
          "yshift": 10
         },
         {
          "font": {
           "size": 10
          },
          "showarrow": false,
          "text": "2(a): Passenger did not comply fully with carrier contract",
          "x": -0.3,
          "y": 0,
          "yshift": 10
         },
         {
          "font": {
           "size": 10
          },
          "showarrow": false,
          "text": "2(b): Substitution of an aircraft of lesser capacity or due to weight/balance restrictions on an aircraft with a designed passenger capacity of 60 or fewer seats",
          "x": -0.3,
          "y": -0.1,
          "yshift": 10
         },
         {
          "font": {
           "size": 10
          },
          "showarrow": false,
          "text": "2(c): Carrier arranged comparable air tansfer arriving no later than 1 hour past passengers' original arrival time",
          "x": -0.3,
          "y": -0.2,
          "yshift": 10
         },
         {
          "font": {
           "size": 10
          },
          "showarrow": false,
          "text": "2(a): Passenger did not comply fully with carrier contract",
          "x": -0.3,
          "y": 0,
          "yshift": 10
         },
         {
          "font": {
           "size": 10
          },
          "showarrow": false,
          "text": "2(b): Substitution of an aircraft of lesser capacity or due to weight/balance restrictions on an aircraft with a designed passenger capacity of 60 or fewer seats",
          "x": -0.3,
          "y": -0.1,
          "yshift": 10
         },
         {
          "font": {
           "size": 10
          },
          "showarrow": false,
          "text": "2(c): Carrier arranged comparable air tansfer arriving no later than 1 hour past passengers' original arrival time",
          "x": -0.3,
          "y": -0.2,
          "yshift": 10
         },
         {
          "font": {
           "size": 10
          },
          "showarrow": false,
          "text": "2(a): Passenger did not comply fully with carrier contract",
          "x": -0.3,
          "y": 0,
          "yshift": 10
         },
         {
          "font": {
           "size": 10
          },
          "showarrow": false,
          "text": "2(b): Substitution of an aircraft of lesser capacity or due to weight/balance restrictions on an aircraft with a designed passenger capacity of 60 or fewer seats",
          "x": -0.3,
          "y": -0.1,
          "yshift": 10
         },
         {
          "font": {
           "size": 10
          },
          "showarrow": false,
          "text": "2(c): Carrier arranged comparable air tansfer arriving no later than 1 hour past passengers' original arrival time",
          "x": -0.3,
          "y": -0.2,
          "yshift": 10
         },
         {
          "font": {
           "size": 10
          },
          "showarrow": false,
          "text": "2(a): Passenger did not comply fully with carrier contract",
          "x": -0.3,
          "y": 0,
          "yshift": 10
         },
         {
          "font": {
           "size": 10
          },
          "showarrow": false,
          "text": "2(b): Substitution of an aircraft of lesser capacity or due to weight/balance restrictions on an aircraft with a designed passenger capacity of 60 or fewer seats",
          "x": -0.3,
          "y": -0.1,
          "yshift": 10
         },
         {
          "font": {
           "size": 10
          },
          "showarrow": false,
          "text": "2(c): Carrier arranged comparable air tansfer arriving no later than 1 hour past passengers' original arrival time",
          "x": -0.3,
          "y": -0.2,
          "yshift": 10
         },
         {
          "font": {
           "size": 10
          },
          "showarrow": false,
          "text": "2(a): Passenger did not comply fully with carrier contract",
          "x": -0.3,
          "y": 0,
          "yshift": 10
         },
         {
          "font": {
           "size": 10
          },
          "showarrow": false,
          "text": "2(b): Substitution of an aircraft of lesser capacity or due to weight/balance restrictions on an aircraft with a designed passenger capacity of 60 or fewer seats",
          "x": -0.3,
          "y": -0.1,
          "yshift": 10
         },
         {
          "font": {
           "size": 10
          },
          "showarrow": false,
          "text": "2(c): Carrier arranged comparable air tansfer arriving no later than 1 hour past passengers' original arrival time",
          "x": -0.3,
          "y": -0.2,
          "yshift": 10
         }
        ],
        "legend": {
         "tracegroupgap": 0
        },
        "piecolorway": [
         "#2E91E5",
         "#E15F99",
         "#1CA71C",
         "#FB0D0D",
         "#DA16FF",
         "#222A2A",
         "#B68100",
         "#750D86",
         "#EB663B",
         "#511CFB",
         "#00A08B",
         "#FB00D1",
         "#FC0080",
         "#B2828D",
         "#6C7C32",
         "#778AAE",
         "#862A16",
         "#A777F1",
         "#620042",
         "#1616A7",
         "#DA60CA",
         "#6C4516",
         "#0D2A63",
         "#AF0038"
        ],
        "template": {
         "data": {
          "bar": [
           {
            "error_x": {
             "color": "#f2f5fa"
            },
            "error_y": {
             "color": "#f2f5fa"
            },
            "marker": {
             "line": {
              "color": "rgb(17,17,17)",
              "width": 0.5
             },
             "pattern": {
              "fillmode": "overlay",
              "size": 10,
              "solidity": 0.2
             }
            },
            "type": "bar"
           }
          ],
          "barpolar": [
           {
            "marker": {
             "line": {
              "color": "rgb(17,17,17)",
              "width": 0.5
             },
             "pattern": {
              "fillmode": "overlay",
              "size": 10,
              "solidity": 0.2
             }
            },
            "type": "barpolar"
           }
          ],
          "carpet": [
           {
            "aaxis": {
             "endlinecolor": "#A2B1C6",
             "gridcolor": "#506784",
             "linecolor": "#506784",
             "minorgridcolor": "#506784",
             "startlinecolor": "#A2B1C6"
            },
            "baxis": {
             "endlinecolor": "#A2B1C6",
             "gridcolor": "#506784",
             "linecolor": "#506784",
             "minorgridcolor": "#506784",
             "startlinecolor": "#A2B1C6"
            },
            "type": "carpet"
           }
          ],
          "choropleth": [
           {
            "colorbar": {
             "outlinewidth": 0,
             "ticks": ""
            },
            "type": "choropleth"
           }
          ],
          "contour": [
           {
            "colorbar": {
             "outlinewidth": 0,
             "ticks": ""
            },
            "colorscale": [
             [
              0,
              "#0d0887"
             ],
             [
              0.1111111111111111,
              "#46039f"
             ],
             [
              0.2222222222222222,
              "#7201a8"
             ],
             [
              0.3333333333333333,
              "#9c179e"
             ],
             [
              0.4444444444444444,
              "#bd3786"
             ],
             [
              0.5555555555555556,
              "#d8576b"
             ],
             [
              0.6666666666666666,
              "#ed7953"
             ],
             [
              0.7777777777777778,
              "#fb9f3a"
             ],
             [
              0.8888888888888888,
              "#fdca26"
             ],
             [
              1,
              "#f0f921"
             ]
            ],
            "type": "contour"
           }
          ],
          "contourcarpet": [
           {
            "colorbar": {
             "outlinewidth": 0,
             "ticks": ""
            },
            "type": "contourcarpet"
           }
          ],
          "heatmap": [
           {
            "colorbar": {
             "outlinewidth": 0,
             "ticks": ""
            },
            "colorscale": [
             [
              0,
              "#0d0887"
             ],
             [
              0.1111111111111111,
              "#46039f"
             ],
             [
              0.2222222222222222,
              "#7201a8"
             ],
             [
              0.3333333333333333,
              "#9c179e"
             ],
             [
              0.4444444444444444,
              "#bd3786"
             ],
             [
              0.5555555555555556,
              "#d8576b"
             ],
             [
              0.6666666666666666,
              "#ed7953"
             ],
             [
              0.7777777777777778,
              "#fb9f3a"
             ],
             [
              0.8888888888888888,
              "#fdca26"
             ],
             [
              1,
              "#f0f921"
             ]
            ],
            "type": "heatmap"
           }
          ],
          "heatmapgl": [
           {
            "colorbar": {
             "outlinewidth": 0,
             "ticks": ""
            },
            "colorscale": [
             [
              0,
              "#0d0887"
             ],
             [
              0.1111111111111111,
              "#46039f"
             ],
             [
              0.2222222222222222,
              "#7201a8"
             ],
             [
              0.3333333333333333,
              "#9c179e"
             ],
             [
              0.4444444444444444,
              "#bd3786"
             ],
             [
              0.5555555555555556,
              "#d8576b"
             ],
             [
              0.6666666666666666,
              "#ed7953"
             ],
             [
              0.7777777777777778,
              "#fb9f3a"
             ],
             [
              0.8888888888888888,
              "#fdca26"
             ],
             [
              1,
              "#f0f921"
             ]
            ],
            "type": "heatmapgl"
           }
          ],
          "histogram": [
           {
            "marker": {
             "pattern": {
              "fillmode": "overlay",
              "size": 10,
              "solidity": 0.2
             }
            },
            "type": "histogram"
           }
          ],
          "histogram2d": [
           {
            "colorbar": {
             "outlinewidth": 0,
             "ticks": ""
            },
            "colorscale": [
             [
              0,
              "#0d0887"
             ],
             [
              0.1111111111111111,
              "#46039f"
             ],
             [
              0.2222222222222222,
              "#7201a8"
             ],
             [
              0.3333333333333333,
              "#9c179e"
             ],
             [
              0.4444444444444444,
              "#bd3786"
             ],
             [
              0.5555555555555556,
              "#d8576b"
             ],
             [
              0.6666666666666666,
              "#ed7953"
             ],
             [
              0.7777777777777778,
              "#fb9f3a"
             ],
             [
              0.8888888888888888,
              "#fdca26"
             ],
             [
              1,
              "#f0f921"
             ]
            ],
            "type": "histogram2d"
           }
          ],
          "histogram2dcontour": [
           {
            "colorbar": {
             "outlinewidth": 0,
             "ticks": ""
            },
            "colorscale": [
             [
              0,
              "#0d0887"
             ],
             [
              0.1111111111111111,
              "#46039f"
             ],
             [
              0.2222222222222222,
              "#7201a8"
             ],
             [
              0.3333333333333333,
              "#9c179e"
             ],
             [
              0.4444444444444444,
              "#bd3786"
             ],
             [
              0.5555555555555556,
              "#d8576b"
             ],
             [
              0.6666666666666666,
              "#ed7953"
             ],
             [
              0.7777777777777778,
              "#fb9f3a"
             ],
             [
              0.8888888888888888,
              "#fdca26"
             ],
             [
              1,
              "#f0f921"
             ]
            ],
            "type": "histogram2dcontour"
           }
          ],
          "mesh3d": [
           {
            "colorbar": {
             "outlinewidth": 0,
             "ticks": ""
            },
            "type": "mesh3d"
           }
          ],
          "parcoords": [
           {
            "line": {
             "colorbar": {
              "outlinewidth": 0,
              "ticks": ""
             }
            },
            "type": "parcoords"
           }
          ],
          "pie": [
           {
            "automargin": true,
            "type": "pie"
           }
          ],
          "scatter": [
           {
            "marker": {
             "line": {
              "color": "#283442"
             }
            },
            "type": "scatter"
           }
          ],
          "scatter3d": [
           {
            "line": {
             "colorbar": {
              "outlinewidth": 0,
              "ticks": ""
             }
            },
            "marker": {
             "colorbar": {
              "outlinewidth": 0,
              "ticks": ""
             }
            },
            "type": "scatter3d"
           }
          ],
          "scattercarpet": [
           {
            "marker": {
             "colorbar": {
              "outlinewidth": 0,
              "ticks": ""
             }
            },
            "type": "scattercarpet"
           }
          ],
          "scattergeo": [
           {
            "marker": {
             "colorbar": {
              "outlinewidth": 0,
              "ticks": ""
             }
            },
            "type": "scattergeo"
           }
          ],
          "scattergl": [
           {
            "marker": {
             "line": {
              "color": "#283442"
             }
            },
            "type": "scattergl"
           }
          ],
          "scattermapbox": [
           {
            "marker": {
             "colorbar": {
              "outlinewidth": 0,
              "ticks": ""
             }
            },
            "type": "scattermapbox"
           }
          ],
          "scatterpolar": [
           {
            "marker": {
             "colorbar": {
              "outlinewidth": 0,
              "ticks": ""
             }
            },
            "type": "scatterpolar"
           }
          ],
          "scatterpolargl": [
           {
            "marker": {
             "colorbar": {
              "outlinewidth": 0,
              "ticks": ""
             }
            },
            "type": "scatterpolargl"
           }
          ],
          "scatterternary": [
           {
            "marker": {
             "colorbar": {
              "outlinewidth": 0,
              "ticks": ""
             }
            },
            "type": "scatterternary"
           }
          ],
          "surface": [
           {
            "colorbar": {
             "outlinewidth": 0,
             "ticks": ""
            },
            "colorscale": [
             [
              0,
              "#0d0887"
             ],
             [
              0.1111111111111111,
              "#46039f"
             ],
             [
              0.2222222222222222,
              "#7201a8"
             ],
             [
              0.3333333333333333,
              "#9c179e"
             ],
             [
              0.4444444444444444,
              "#bd3786"
             ],
             [
              0.5555555555555556,
              "#d8576b"
             ],
             [
              0.6666666666666666,
              "#ed7953"
             ],
             [
              0.7777777777777778,
              "#fb9f3a"
             ],
             [
              0.8888888888888888,
              "#fdca26"
             ],
             [
              1,
              "#f0f921"
             ]
            ],
            "type": "surface"
           }
          ],
          "table": [
           {
            "cells": {
             "fill": {
              "color": "#506784"
             },
             "line": {
              "color": "rgb(17,17,17)"
             }
            },
            "header": {
             "fill": {
              "color": "#2a3f5f"
             },
             "line": {
              "color": "rgb(17,17,17)"
             }
            },
            "type": "table"
           }
          ]
         },
         "layout": {
          "annotationdefaults": {
           "arrowcolor": "#f2f5fa",
           "arrowhead": 0,
           "arrowwidth": 1
          },
          "autotypenumbers": "strict",
          "coloraxis": {
           "colorbar": {
            "outlinewidth": 0,
            "ticks": ""
           }
          },
          "colorscale": {
           "diverging": [
            [
             0,
             "#8e0152"
            ],
            [
             0.1,
             "#c51b7d"
            ],
            [
             0.2,
             "#de77ae"
            ],
            [
             0.3,
             "#f1b6da"
            ],
            [
             0.4,
             "#fde0ef"
            ],
            [
             0.5,
             "#f7f7f7"
            ],
            [
             0.6,
             "#e6f5d0"
            ],
            [
             0.7,
             "#b8e186"
            ],
            [
             0.8,
             "#7fbc41"
            ],
            [
             0.9,
             "#4d9221"
            ],
            [
             1,
             "#276419"
            ]
           ],
           "sequential": [
            [
             0,
             "#0d0887"
            ],
            [
             0.1111111111111111,
             "#46039f"
            ],
            [
             0.2222222222222222,
             "#7201a8"
            ],
            [
             0.3333333333333333,
             "#9c179e"
            ],
            [
             0.4444444444444444,
             "#bd3786"
            ],
            [
             0.5555555555555556,
             "#d8576b"
            ],
            [
             0.6666666666666666,
             "#ed7953"
            ],
            [
             0.7777777777777778,
             "#fb9f3a"
            ],
            [
             0.8888888888888888,
             "#fdca26"
            ],
            [
             1,
             "#f0f921"
            ]
           ],
           "sequentialminus": [
            [
             0,
             "#0d0887"
            ],
            [
             0.1111111111111111,
             "#46039f"
            ],
            [
             0.2222222222222222,
             "#7201a8"
            ],
            [
             0.3333333333333333,
             "#9c179e"
            ],
            [
             0.4444444444444444,
             "#bd3786"
            ],
            [
             0.5555555555555556,
             "#d8576b"
            ],
            [
             0.6666666666666666,
             "#ed7953"
            ],
            [
             0.7777777777777778,
             "#fb9f3a"
            ],
            [
             0.8888888888888888,
             "#fdca26"
            ],
            [
             1,
             "#f0f921"
            ]
           ]
          },
          "colorway": [
           "#636efa",
           "#EF553B",
           "#00cc96",
           "#ab63fa",
           "#FFA15A",
           "#19d3f3",
           "#FF6692",
           "#B6E880",
           "#FF97FF",
           "#FECB52"
          ],
          "font": {
           "color": "#f2f5fa"
          },
          "geo": {
           "bgcolor": "rgb(17,17,17)",
           "lakecolor": "rgb(17,17,17)",
           "landcolor": "rgb(17,17,17)",
           "showlakes": true,
           "showland": true,
           "subunitcolor": "#506784"
          },
          "hoverlabel": {
           "align": "left"
          },
          "hovermode": "closest",
          "mapbox": {
           "style": "dark"
          },
          "paper_bgcolor": "rgb(17,17,17)",
          "plot_bgcolor": "rgb(17,17,17)",
          "polar": {
           "angularaxis": {
            "gridcolor": "#506784",
            "linecolor": "#506784",
            "ticks": ""
           },
           "bgcolor": "rgb(17,17,17)",
           "radialaxis": {
            "gridcolor": "#506784",
            "linecolor": "#506784",
            "ticks": ""
           }
          },
          "scene": {
           "xaxis": {
            "backgroundcolor": "rgb(17,17,17)",
            "gridcolor": "#506784",
            "gridwidth": 2,
            "linecolor": "#506784",
            "showbackground": true,
            "ticks": "",
            "zerolinecolor": "#C8D4E3"
           },
           "yaxis": {
            "backgroundcolor": "rgb(17,17,17)",
            "gridcolor": "#506784",
            "gridwidth": 2,
            "linecolor": "#506784",
            "showbackground": true,
            "ticks": "",
            "zerolinecolor": "#C8D4E3"
           },
           "zaxis": {
            "backgroundcolor": "rgb(17,17,17)",
            "gridcolor": "#506784",
            "gridwidth": 2,
            "linecolor": "#506784",
            "showbackground": true,
            "ticks": "",
            "zerolinecolor": "#C8D4E3"
           }
          },
          "shapedefaults": {
           "line": {
            "color": "#f2f5fa"
           }
          },
          "sliderdefaults": {
           "bgcolor": "#C8D4E3",
           "bordercolor": "rgb(17,17,17)",
           "borderwidth": 1,
           "tickwidth": 0
          },
          "ternary": {
           "aaxis": {
            "gridcolor": "#506784",
            "linecolor": "#506784",
            "ticks": ""
           },
           "baxis": {
            "gridcolor": "#506784",
            "linecolor": "#506784",
            "ticks": ""
           },
           "bgcolor": "rgb(17,17,17)",
           "caxis": {
            "gridcolor": "#506784",
            "linecolor": "#506784",
            "ticks": ""
           }
          },
          "title": {
           "x": 0.05
          },
          "updatemenudefaults": {
           "bgcolor": "#506784",
           "borderwidth": 0
          },
          "xaxis": {
           "automargin": true,
           "gridcolor": "#283442",
           "linecolor": "#506784",
           "ticks": "",
           "title": {
            "standoff": 15
           },
           "zerolinecolor": "#283442",
           "zerolinewidth": 2
          },
          "yaxis": {
           "automargin": true,
           "gridcolor": "#283442",
           "linecolor": "#506784",
           "ticks": "",
           "title": {
            "standoff": 15
           },
           "zerolinecolor": "#283442",
           "zerolinewidth": 2
          }
         }
        },
        "title": {
         "text": "Involuntary Denials: Reason for Denied Compensation by Airline"
        },
        "updatemenus": [
         {
          "buttons": [
           {
            "args": [
             {
              "visible": [
               true,
               false,
               false,
               false,
               false,
               false,
               false,
               false,
               false,
               false,
               false,
               false,
               false,
               false,
               false,
               false,
               false
              ]
             },
             {
              "title": {
               "text": "Reason for Denied Compensation by Airline <br><sup>Alaska Airlines </sup>"
              }
             }
            ],
            "label": "Alaska Airlines",
            "method": "update"
           },
           {
            "args": [
             {
              "visible": [
               false,
               true,
               false,
               false,
               false,
               false,
               false,
               false,
               false,
               false,
               false,
               false,
               false,
               false,
               false,
               false,
               false
              ]
             },
             {
              "title": {
               "text": "Reason for Denied Compensation by Airline <br><sup>Allegiant Airlines </sup>"
              }
             }
            ],
            "label": "Allegiant Airlines",
            "method": "update"
           },
           {
            "args": [
             {
              "visible": [
               false,
               false,
               true,
               false,
               false,
               false,
               false,
               false,
               false,
               false,
               false,
               false,
               false,
               false,
               false,
               false,
               false
              ]
             },
             {
              "title": {
               "text": "Reason for Denied Compensation by Airline <br><sup>American Airlines </sup>"
              }
             }
            ],
            "label": "American Airlines",
            "method": "update"
           },
           {
            "args": [
             {
              "visible": [
               false,
               false,
               false,
               true,
               false,
               false,
               false,
               false,
               false,
               false,
               false,
               false,
               false,
               false,
               false,
               false,
               false
              ]
             },
             {
              "title": {
               "text": "Reason for Denied Compensation by Airline <br><sup>Delta Air Lines </sup>"
              }
             }
            ],
            "label": "Delta Air Lines",
            "method": "update"
           },
           {
            "args": [
             {
              "visible": [
               false,
               false,
               false,
               false,
               true,
               false,
               false,
               false,
               false,
               false,
               false,
               false,
               false,
               false,
               false,
               false,
               false
              ]
             },
             {
              "title": {
               "text": "Reason for Denied Compensation by Airline <br><sup>Endeavor Air </sup>"
              }
             }
            ],
            "label": "Endeavor Air",
            "method": "update"
           },
           {
            "args": [
             {
              "visible": [
               false,
               false,
               false,
               false,
               false,
               true,
               false,
               false,
               false,
               false,
               false,
               false,
               false,
               false,
               false,
               false,
               false
              ]
             },
             {
              "title": {
               "text": "Reason for Denied Compensation by Airline <br><sup>Envoy Air </sup>"
              }
             }
            ],
            "label": "Envoy Air",
            "method": "update"
           },
           {
            "args": [
             {
              "visible": [
               false,
               false,
               false,
               false,
               false,
               false,
               true,
               false,
               false,
               false,
               false,
               false,
               false,
               false,
               false,
               false,
               false
              ]
             },
             {
              "title": {
               "text": "Reason for Denied Compensation by Airline <br><sup>Frontier Airlines </sup>"
              }
             }
            ],
            "label": "Frontier Airlines",
            "method": "update"
           },
           {
            "args": [
             {
              "visible": [
               false,
               false,
               false,
               false,
               false,
               false,
               false,
               true,
               false,
               false,
               false,
               false,
               false,
               false,
               false,
               false,
               false
              ]
             },
             {
              "title": {
               "text": "Reason for Denied Compensation by Airline <br><sup>Mesa Airlines </sup>"
              }
             }
            ],
            "label": "Mesa Airlines",
            "method": "update"
           },
           {
            "args": [
             {
              "visible": [
               false,
               false,
               false,
               false,
               false,
               false,
               false,
               false,
               true,
               false,
               false,
               false,
               false,
               false,
               false,
               false,
               false
              ]
             },
             {
              "title": {
               "text": "Reason for Denied Compensation by Airline <br><sup>PSA Airlines </sup>"
              }
             }
            ],
            "label": "PSA Airlines",
            "method": "update"
           },
           {
            "args": [
             {
              "visible": [
               false,
               false,
               false,
               false,
               false,
               false,
               false,
               false,
               false,
               true,
               false,
               false,
               false,
               false,
               false,
               false,
               false
              ]
             },
             {
              "title": {
               "text": "Reason for Denied Compensation by Airline <br><sup>Republic Airline </sup>"
              }
             }
            ],
            "label": "Republic Airline",
            "method": "update"
           },
           {
            "args": [
             {
              "visible": [
               false,
               false,
               false,
               false,
               false,
               false,
               false,
               false,
               false,
               false,
               true,
               false,
               false,
               false,
               false,
               false,
               false
              ]
             },
             {
              "title": {
               "text": "Reason for Denied Compensation by Airline <br><sup>SkyWest Airlines </sup>"
              }
             }
            ],
            "label": "SkyWest Airlines",
            "method": "update"
           },
           {
            "args": [
             {
              "visible": [
               false,
               false,
               false,
               false,
               false,
               false,
               false,
               false,
               false,
               false,
               false,
               true,
               false,
               false,
               false,
               false,
               false
              ]
             },
             {
              "title": {
               "text": "Reason for Denied Compensation by Airline <br><sup>Spirit Airlines </sup>"
              }
             }
            ],
            "label": "Spirit Airlines",
            "method": "update"
           },
           {
            "args": [
             {
              "visible": [
               false,
               false,
               false,
               false,
               false,
               false,
               false,
               false,
               false,
               false,
               false,
               false,
               true,
               false,
               false,
               false,
               false
              ]
             },
             {
              "title": {
               "text": "Reason for Denied Compensation by Airline <br><sup>United Air Lines </sup>"
              }
             }
            ],
            "label": "United Air Lines",
            "method": "update"
           },
           {
            "args": [
             {
              "visible": [
               false,
               false,
               false,
               false,
               false,
               false,
               false,
               false,
               false,
               false,
               false,
               false,
               false,
               true,
               false,
               false,
               false
              ]
             },
             {
              "title": {
               "text": "Reason for Denied Compensation by Airline <br><sup>Virgin America  </sup>"
              }
             }
            ],
            "label": "Virgin America ",
            "method": "update"
           },
           {
            "args": [
             {
              "visible": [
               false,
               false,
               false,
               false,
               false,
               false,
               false,
               false,
               false,
               false,
               false,
               false,
               false,
               false,
               true,
               false,
               false
              ]
             },
             {
              "title": {
               "text": "Reason for Denied Compensation by Airline <br><sup>ExpressJet Airlines </sup>"
              }
             }
            ],
            "label": "ExpressJet Airlines",
            "method": "update"
           },
           {
            "args": [
             {
              "visible": [
               false,
               false,
               false,
               false,
               false,
               false,
               false,
               false,
               false,
               false,
               false,
               false,
               false,
               false,
               false,
               true,
               false
              ]
             },
             {
              "title": {
               "text": "Reason for Denied Compensation by Airline <br><sup>JetBlue Airways </sup>"
              }
             }
            ],
            "label": "JetBlue Airways",
            "method": "update"
           },
           {
            "args": [
             {
              "visible": [
               false,
               false,
               false,
               false,
               false,
               false,
               false,
               false,
               false,
               false,
               false,
               false,
               false,
               false,
               false,
               false,
               true
              ]
             },
             {
              "title": {
               "text": "Reason for Denied Compensation by Airline <br><sup>Hawaiian Airlines </sup>"
              }
             }
            ],
            "label": "Hawaiian Airlines",
            "method": "update"
           }
          ]
         }
        ]
       }
      }
     },
     "metadata": {},
     "output_type": "display_data"
    }
   ],
   "source": [
    "\n",
    "denied_boarding_reshape = pd.melt(denied_boarding[denied_boarding[2]>0], \n",
    "                                  id_vars = ['CARRIER', 'year', 'quarter'], \n",
    "                                  value_vars=['2(a)','2(b)','2(c)'])\n",
    "\n",
    "df = denied_boarding_reshape[['CARRIER', 'variable','value']].set_index(['CARRIER', 'variable'])['value']\n",
    "\n",
    "# create a figure for each category\n",
    "figs = {\n",
    "    c: px.pie(df.loc[c].reset_index(), values=\"value\", names=\"variable\", \n",
    "              labels = {\n",
    "                 'value':'Total Passengers', \n",
    "                 'variable':'Denial Type'\n",
    "             },  category_orders={\"variable\":['2(a)','2(b)','2(c)']},\n",
    "        color_discrete_sequence=px.colors.qualitative.Dark24,\n",
    "        title = \"Involuntary Denials: Reason for Denied Compensation by Airline\").update_traces(\n",
    "        name=c, visible=False, \n",
    "    )\n",
    "    for c in df.index.get_level_values(\"CARRIER\").unique()\n",
    "}\n",
    "\n",
    "# integrate figures per category into one figure\n",
    "defaultcat = df.index.get_level_values(\"CARRIER\").unique()[0]\n",
    "fig = figs[defaultcat].update_traces(visible=True)\n",
    "for k in figs.keys():\n",
    "    if k != defaultcat:\n",
    "        fig.add_traces(figs[k].data)\n",
    "        \n",
    "        fig.add_annotation(text='2(a): Passenger did not comply fully with carrier contract', \n",
    "                           y = 0, x = -.3,\n",
    "            showarrow=False,\n",
    "            font = dict(size = 10),\n",
    "            yshift=10)\n",
    "        fig.add_annotation(text='2(b): Substitution of an aircraft of lesser capacity or due to weight/balance restrictions on an aircraft with a designed passenger capacity of 60 or fewer seats', \n",
    "                           y = -0.1, x = -.3,\n",
    "            showarrow=False,\n",
    "            font = dict(size = 10),\n",
    "            yshift=10)\n",
    "        fig.add_annotation(text=\"2(c): Carrier arranged comparable air tansfer arriving no later than 1 hour past passengers' original arrival time\", \n",
    "                           y = -0.2, x = -.3,\n",
    "            showarrow=False,\n",
    "            font = dict(size = 10),\n",
    "            yshift=10)\n",
    "\n",
    "# finally build dropdown menu\n",
    "fig.update_layout(\n",
    "    updatemenus=[\n",
    "        {\n",
    "            \"buttons\": [\n",
    "                {\n",
    "                    \"label\": k,\n",
    "                    \"method\": \"update\",\n",
    "                    # list comprehension for which traces are visible\n",
    "                    \"args\": [{\"visible\": [kk == k for kk in figs.keys()]},\n",
    "                             {\"title\":go.layout.xaxis.Title(\n",
    "            text=f\"Reason for Denied Compensation by Airline <br><sup>{k} </sup>\"\n",
    "            )}],\n",
    "                }\n",
    "                for k in figs.keys()\n",
    "            ]\n",
    "        }\n",
    "    ]\n",
    ")\n"
   ]
  },
  {
   "cell_type": "code",
   "execution_count": 306,
   "metadata": {},
   "outputs": [
    {
     "data": {
      "application/vnd.plotly.v1+json": {
       "config": {
        "plotlyServerURL": "https://plot.ly"
       },
       "data": [
        {
         "hovertemplate": "<b>%{hovertext}</b><br><br>Airline=Alaska Airlines<br>Total Passengers=%{x}<br>Total Compensation=%{y}<br>Avg. Compensation=%{marker.size}<extra></extra>",
         "hovertext": [
          "Alaska Airlines"
         ],
         "legendgroup": "Alaska Airlines",
         "marker": {
          "color": "#2E91E5",
          "size": [
           0.265
          ],
          "sizemode": "area",
          "sizeref": 0.15501979166666666,
          "symbol": "circle"
         },
         "mode": "markers",
         "name": "Alaska Airlines",
         "orientation": "v",
         "showlegend": true,
         "type": "scatter",
         "x": [
          1644.9375
         ],
         "xaxis": "x",
         "y": [
          215.125
         ],
         "yaxis": "y"
        },
        {
         "hovertemplate": "<b>%{hovertext}</b><br><br>Airline=Allegiant Airlines<br>Total Passengers=%{x}<br>Total Compensation=%{y}<br>Avg. Compensation=%{marker.size}<extra></extra>",
         "hovertext": [
          "Allegiant Airlines"
         ],
         "legendgroup": "Allegiant Airlines",
         "marker": {
          "color": "#E15F99",
          "size": [
           0
          ],
          "sizemode": "area",
          "sizeref": 0.15501979166666666,
          "symbol": "circle"
         },
         "mode": "markers",
         "name": "Allegiant Airlines",
         "orientation": "v",
         "showlegend": true,
         "type": "scatter",
         "x": [
          150.25
         ],
         "xaxis": "x",
         "y": [
          0
         ],
         "yaxis": "y"
        },
        {
         "hovertemplate": "<b>%{hovertext}</b><br><br>Airline=American Airlines<br>Total Passengers=%{x}<br>Total Compensation=%{y}<br>Avg. Compensation=%{marker.size}<extra></extra>",
         "hovertext": [
          "American Airlines"
         ],
         "legendgroup": "American Airlines",
         "marker": {
          "color": "#1CA71C",
          "size": [
           0.2025
          ],
          "sizemode": "area",
          "sizeref": 0.15501979166666666,
          "symbol": "circle"
         },
         "mode": "markers",
         "name": "American Airlines",
         "orientation": "v",
         "showlegend": true,
         "type": "scatter",
         "x": [
          12758.625
         ],
         "xaxis": "x",
         "y": [
          1478.9375
         ],
         "yaxis": "y"
        },
        {
         "hovertemplate": "<b>%{hovertext}</b><br><br>Airline=Delta Air Lines<br>Total Passengers=%{x}<br>Total Compensation=%{y}<br>Avg. Compensation=%{marker.size}<extra></extra>",
         "hovertext": [
          "Delta Air Lines"
         ],
         "legendgroup": "Delta Air Lines",
         "marker": {
          "color": "#FB0D0D",
          "size": [
           166.244375
          ],
          "sizemode": "area",
          "sizeref": 0.15501979166666666,
          "symbol": "circle"
         },
         "mode": "markers",
         "name": "Delta Air Lines",
         "orientation": "v",
         "showlegend": true,
         "type": "scatter",
         "x": [
          15016
         ],
         "xaxis": "x",
         "y": [
          1141185.8125
         ],
         "yaxis": "y"
        },
        {
         "hovertemplate": "<b>%{hovertext}</b><br><br>Airline=Endeavor Air<br>Total Passengers=%{x}<br>Total Compensation=%{y}<br>Avg. Compensation=%{marker.size}<extra></extra>",
         "hovertext": [
          "Endeavor Air"
         ],
         "legendgroup": "Endeavor Air",
         "marker": {
          "color": "#DA16FF",
          "size": [
           174.13125000000002
          ],
          "sizemode": "area",
          "sizeref": 0.15501979166666666,
          "symbol": "circle"
         },
         "mode": "markers",
         "name": "Endeavor Air",
         "orientation": "v",
         "showlegend": true,
         "type": "scatter",
         "x": [
          3429.4375
         ],
         "xaxis": "x",
         "y": [
          367048
         ],
         "yaxis": "y"
        },
        {
         "hovertemplate": "<b>%{hovertext}</b><br><br>Airline=Envoy Air<br>Total Passengers=%{x}<br>Total Compensation=%{y}<br>Avg. Compensation=%{marker.size}<extra></extra>",
         "hovertext": [
          "Envoy Air"
         ],
         "legendgroup": "Envoy Air",
         "marker": {
          "color": "#222A2A",
          "size": [
           0.5175000000000001
          ],
          "sizemode": "area",
          "sizeref": 0.15501979166666666,
          "symbol": "circle"
         },
         "mode": "markers",
         "name": "Envoy Air",
         "orientation": "v",
         "showlegend": true,
         "type": "scatter",
         "x": [
          2326.5625
         ],
         "xaxis": "x",
         "y": [
          661.9375
         ],
         "yaxis": "y"
        },
        {
         "hovertemplate": "<b>%{hovertext}</b><br><br>Airline=ExpressJet Airlines<br>Total Passengers=%{x}<br>Total Compensation=%{y}<br>Avg. Compensation=%{marker.size}<extra></extra>",
         "hovertext": [
          "ExpressJet Airlines"
         ],
         "legendgroup": "ExpressJet Airlines",
         "marker": {
          "color": "#B68100",
          "size": [
           0
          ],
          "sizemode": "area",
          "sizeref": 0.15501979166666666,
          "symbol": "circle"
         },
         "mode": "markers",
         "name": "ExpressJet Airlines",
         "orientation": "v",
         "showlegend": true,
         "type": "scatter",
         "x": [
          1273.1818181818182
         ],
         "xaxis": "x",
         "y": [
          0
         ],
         "yaxis": "y"
        },
        {
         "hovertemplate": "<b>%{hovertext}</b><br><br>Airline=Frontier Airlines<br>Total Passengers=%{x}<br>Total Compensation=%{y}<br>Avg. Compensation=%{marker.size}<extra></extra>",
         "hovertext": [
          "Frontier Airlines"
         ],
         "legendgroup": "Frontier Airlines",
         "marker": {
          "color": "#750D86",
          "size": [
           2.4625
          ],
          "sizemode": "area",
          "sizeref": 0.15501979166666666,
          "symbol": "circle"
         },
         "mode": "markers",
         "name": "Frontier Airlines",
         "orientation": "v",
         "showlegend": true,
         "type": "scatter",
         "x": [
          845.1875
         ],
         "xaxis": "x",
         "y": [
          1922.8125
         ],
         "yaxis": "y"
        },
        {
         "hovertemplate": "<b>%{hovertext}</b><br><br>Airline=Hawaiian Airlines<br>Total Passengers=%{x}<br>Total Compensation=%{y}<br>Avg. Compensation=%{marker.size}<extra></extra>",
         "hovertext": [
          "Hawaiian Airlines"
         ],
         "legendgroup": "Hawaiian Airlines",
         "marker": {
          "color": "#EB663B",
          "size": [
           2.59125
          ],
          "sizemode": "area",
          "sizeref": 0.15501979166666666,
          "symbol": "circle"
         },
         "mode": "markers",
         "name": "Hawaiian Airlines",
         "orientation": "v",
         "showlegend": true,
         "type": "scatter",
         "x": [
          97.4375
         ],
         "xaxis": "x",
         "y": [
          312.5
         ],
         "yaxis": "y"
        },
        {
         "hovertemplate": "<b>%{hovertext}</b><br><br>Airline=Horizon Air<br>Total Passengers=%{x}<br>Total Compensation=%{y}<br>Avg. Compensation=%{marker.size}<extra></extra>",
         "hovertext": [
          "Horizon Air"
         ],
         "legendgroup": "Horizon Air",
         "marker": {
          "color": "#511CFB",
          "size": [
           0.6525
          ],
          "sizemode": "area",
          "sizeref": 0.15501979166666666,
          "symbol": "circle"
         },
         "mode": "markers",
         "name": "Horizon Air",
         "orientation": "v",
         "showlegend": true,
         "type": "scatter",
         "x": [
          462.25
         ],
         "xaxis": "x",
         "y": [
          299
         ],
         "yaxis": "y"
        },
        {
         "hovertemplate": "<b>%{hovertext}</b><br><br>Airline=JetBlue Airways<br>Total Passengers=%{x}<br>Total Compensation=%{y}<br>Avg. Compensation=%{marker.size}<extra></extra>",
         "hovertext": [
          "JetBlue Airways"
         ],
         "legendgroup": "JetBlue Airways",
         "marker": {
          "color": "#00A08B",
          "size": [
           558.07125
          ],
          "sizemode": "area",
          "sizeref": 0.15501979166666666,
          "symbol": "circle"
         },
         "mode": "markers",
         "name": "JetBlue Airways",
         "orientation": "v",
         "showlegend": true,
         "type": "scatter",
         "x": [
          496.4375
         ],
         "xaxis": "x",
         "y": [
          272791.8125
         ],
         "yaxis": "y"
        },
        {
         "hovertemplate": "<b>%{hovertext}</b><br><br>Airline=Mesa Airlines<br>Total Passengers=%{x}<br>Total Compensation=%{y}<br>Avg. Compensation=%{marker.size}<extra></extra>",
         "hovertext": [
          "Mesa Airlines"
         ],
         "legendgroup": "Mesa Airlines",
         "marker": {
          "color": "#FB00D1",
          "size": [
           0.22125
          ],
          "sizemode": "area",
          "sizeref": 0.15501979166666666,
          "symbol": "circle"
         },
         "mode": "markers",
         "name": "Mesa Airlines",
         "orientation": "v",
         "showlegend": true,
         "type": "scatter",
         "x": [
          1435.75
         ],
         "xaxis": "x",
         "y": [
          180.9375
         ],
         "yaxis": "y"
        },
        {
         "hovertemplate": "<b>%{hovertext}</b><br><br>Airline=PSA Airlines<br>Total Passengers=%{x}<br>Total Compensation=%{y}<br>Avg. Compensation=%{marker.size}<extra></extra>",
         "hovertext": [
          "PSA Airlines"
         ],
         "legendgroup": "PSA Airlines",
         "marker": {
          "color": "#FC0080",
          "size": [
           0.265625
          ],
          "sizemode": "area",
          "sizeref": 0.15501979166666666,
          "symbol": "circle"
         },
         "mode": "markers",
         "name": "PSA Airlines",
         "orientation": "v",
         "showlegend": true,
         "type": "scatter",
         "x": [
          1897.5625
         ],
         "xaxis": "x",
         "y": [
          444.8125
         ],
         "yaxis": "y"
        },
        {
         "hovertemplate": "<b>%{hovertext}</b><br><br>Airline=Republic Airline<br>Total Passengers=%{x}<br>Total Compensation=%{y}<br>Avg. Compensation=%{marker.size}<extra></extra>",
         "hovertext": [
          "Republic Airline"
         ],
         "legendgroup": "Republic Airline",
         "marker": {
          "color": "#B2828D",
          "size": [
           77.84375
          ],
          "sizemode": "area",
          "sizeref": 0.15501979166666666,
          "symbol": "circle"
         },
         "mode": "markers",
         "name": "Republic Airline",
         "orientation": "v",
         "showlegend": true,
         "type": "scatter",
         "x": [
          2965.75
         ],
         "xaxis": "x",
         "y": [
          261681
         ],
         "yaxis": "y"
        },
        {
         "hovertemplate": "<b>%{hovertext}</b><br><br>Airline=SkyWest Airlines<br>Total Passengers=%{x}<br>Total Compensation=%{y}<br>Avg. Compensation=%{marker.size}<extra></extra>",
         "hovertext": [
          "SkyWest Airlines"
         ],
         "legendgroup": "SkyWest Airlines",
         "marker": {
          "color": "#6C7C32",
          "size": [
           78.9175
          ],
          "sizemode": "area",
          "sizeref": 0.15501979166666666,
          "symbol": "circle"
         },
         "mode": "markers",
         "name": "SkyWest Airlines",
         "orientation": "v",
         "showlegend": true,
         "type": "scatter",
         "x": [
          7228
         ],
         "xaxis": "x",
         "y": [
          494963.125
         ],
         "yaxis": "y"
        },
        {
         "hovertemplate": "<b>%{hovertext}</b><br><br>Airline=Southwest Airlines<br>Total Passengers=%{x}<br>Total Compensation=%{y}<br>Avg. Compensation=%{marker.size}<extra></extra>",
         "hovertext": [
          "Southwest Airlines"
         ],
         "legendgroup": "Southwest Airlines",
         "marker": {
          "color": "#778AAE",
          "size": [
           0
          ],
          "sizemode": "area",
          "sizeref": 0.15501979166666666,
          "symbol": "circle"
         },
         "mode": "markers",
         "name": "Southwest Airlines",
         "orientation": "v",
         "showlegend": true,
         "type": "scatter",
         "x": [
          5522.25
         ],
         "xaxis": "x",
         "y": [
          0
         ],
         "yaxis": "y"
        },
        {
         "hovertemplate": "<b>%{hovertext}</b><br><br>Airline=Spirit Airlines<br>Total Passengers=%{x}<br>Total Compensation=%{y}<br>Avg. Compensation=%{marker.size}<extra></extra>",
         "hovertext": [
          "Spirit Airlines"
         ],
         "legendgroup": "Spirit Airlines",
         "marker": {
          "color": "#862A16",
          "size": [
           0
          ],
          "sizemode": "area",
          "sizeref": 0.15501979166666666,
          "symbol": "circle"
         },
         "mode": "markers",
         "name": "Spirit Airlines",
         "orientation": "v",
         "showlegend": true,
         "type": "scatter",
         "x": [
          3569.6875
         ],
         "xaxis": "x",
         "y": [
          0
         ],
         "yaxis": "y"
        },
        {
         "hovertemplate": "<b>%{hovertext}</b><br><br>Airline=United Air Lines<br>Total Passengers=%{x}<br>Total Compensation=%{y}<br>Avg. Compensation=%{marker.size}<extra></extra>",
         "hovertext": [
          "United Air Lines"
         ],
         "legendgroup": "United Air Lines",
         "marker": {
          "color": "#A777F1",
          "size": [
           0.00875
          ],
          "sizemode": "area",
          "sizeref": 0.15501979166666666,
          "symbol": "circle"
         },
         "mode": "markers",
         "name": "United Air Lines",
         "orientation": "v",
         "showlegend": true,
         "type": "scatter",
         "x": [
          5085.75
         ],
         "xaxis": "x",
         "y": [
          69.4375
         ],
         "yaxis": "y"
        },
        {
         "hovertemplate": "<b>%{hovertext}</b><br><br>Airline=Virgin America <br>Total Passengers=%{x}<br>Total Compensation=%{y}<br>Avg. Compensation=%{marker.size}<extra></extra>",
         "hovertext": [
          "Virgin America "
         ],
         "legendgroup": "Virgin America ",
         "marker": {
          "color": "#620042",
          "size": [
           460.67
          ],
          "sizemode": "area",
          "sizeref": 0.15501979166666666,
          "symbol": "circle"
         },
         "mode": "markers",
         "name": "Virgin America ",
         "orientation": "v",
         "showlegend": true,
         "type": "scatter",
         "x": [
          89
         ],
         "xaxis": "x",
         "y": [
          41000
         ],
         "yaxis": "y"
        }
       ],
       "layout": {
        "legend": {
         "itemsizing": "constant",
         "title": {
          "text": "Airline"
         },
         "tracegroupgap": 0
        },
        "template": {
         "data": {
          "bar": [
           {
            "error_x": {
             "color": "#f2f5fa"
            },
            "error_y": {
             "color": "#f2f5fa"
            },
            "marker": {
             "line": {
              "color": "rgb(17,17,17)",
              "width": 0.5
             },
             "pattern": {
              "fillmode": "overlay",
              "size": 10,
              "solidity": 0.2
             }
            },
            "type": "bar"
           }
          ],
          "barpolar": [
           {
            "marker": {
             "line": {
              "color": "rgb(17,17,17)",
              "width": 0.5
             },
             "pattern": {
              "fillmode": "overlay",
              "size": 10,
              "solidity": 0.2
             }
            },
            "type": "barpolar"
           }
          ],
          "carpet": [
           {
            "aaxis": {
             "endlinecolor": "#A2B1C6",
             "gridcolor": "#506784",
             "linecolor": "#506784",
             "minorgridcolor": "#506784",
             "startlinecolor": "#A2B1C6"
            },
            "baxis": {
             "endlinecolor": "#A2B1C6",
             "gridcolor": "#506784",
             "linecolor": "#506784",
             "minorgridcolor": "#506784",
             "startlinecolor": "#A2B1C6"
            },
            "type": "carpet"
           }
          ],
          "choropleth": [
           {
            "colorbar": {
             "outlinewidth": 0,
             "ticks": ""
            },
            "type": "choropleth"
           }
          ],
          "contour": [
           {
            "colorbar": {
             "outlinewidth": 0,
             "ticks": ""
            },
            "colorscale": [
             [
              0,
              "#0d0887"
             ],
             [
              0.1111111111111111,
              "#46039f"
             ],
             [
              0.2222222222222222,
              "#7201a8"
             ],
             [
              0.3333333333333333,
              "#9c179e"
             ],
             [
              0.4444444444444444,
              "#bd3786"
             ],
             [
              0.5555555555555556,
              "#d8576b"
             ],
             [
              0.6666666666666666,
              "#ed7953"
             ],
             [
              0.7777777777777778,
              "#fb9f3a"
             ],
             [
              0.8888888888888888,
              "#fdca26"
             ],
             [
              1,
              "#f0f921"
             ]
            ],
            "type": "contour"
           }
          ],
          "contourcarpet": [
           {
            "colorbar": {
             "outlinewidth": 0,
             "ticks": ""
            },
            "type": "contourcarpet"
           }
          ],
          "heatmap": [
           {
            "colorbar": {
             "outlinewidth": 0,
             "ticks": ""
            },
            "colorscale": [
             [
              0,
              "#0d0887"
             ],
             [
              0.1111111111111111,
              "#46039f"
             ],
             [
              0.2222222222222222,
              "#7201a8"
             ],
             [
              0.3333333333333333,
              "#9c179e"
             ],
             [
              0.4444444444444444,
              "#bd3786"
             ],
             [
              0.5555555555555556,
              "#d8576b"
             ],
             [
              0.6666666666666666,
              "#ed7953"
             ],
             [
              0.7777777777777778,
              "#fb9f3a"
             ],
             [
              0.8888888888888888,
              "#fdca26"
             ],
             [
              1,
              "#f0f921"
             ]
            ],
            "type": "heatmap"
           }
          ],
          "heatmapgl": [
           {
            "colorbar": {
             "outlinewidth": 0,
             "ticks": ""
            },
            "colorscale": [
             [
              0,
              "#0d0887"
             ],
             [
              0.1111111111111111,
              "#46039f"
             ],
             [
              0.2222222222222222,
              "#7201a8"
             ],
             [
              0.3333333333333333,
              "#9c179e"
             ],
             [
              0.4444444444444444,
              "#bd3786"
             ],
             [
              0.5555555555555556,
              "#d8576b"
             ],
             [
              0.6666666666666666,
              "#ed7953"
             ],
             [
              0.7777777777777778,
              "#fb9f3a"
             ],
             [
              0.8888888888888888,
              "#fdca26"
             ],
             [
              1,
              "#f0f921"
             ]
            ],
            "type": "heatmapgl"
           }
          ],
          "histogram": [
           {
            "marker": {
             "pattern": {
              "fillmode": "overlay",
              "size": 10,
              "solidity": 0.2
             }
            },
            "type": "histogram"
           }
          ],
          "histogram2d": [
           {
            "colorbar": {
             "outlinewidth": 0,
             "ticks": ""
            },
            "colorscale": [
             [
              0,
              "#0d0887"
             ],
             [
              0.1111111111111111,
              "#46039f"
             ],
             [
              0.2222222222222222,
              "#7201a8"
             ],
             [
              0.3333333333333333,
              "#9c179e"
             ],
             [
              0.4444444444444444,
              "#bd3786"
             ],
             [
              0.5555555555555556,
              "#d8576b"
             ],
             [
              0.6666666666666666,
              "#ed7953"
             ],
             [
              0.7777777777777778,
              "#fb9f3a"
             ],
             [
              0.8888888888888888,
              "#fdca26"
             ],
             [
              1,
              "#f0f921"
             ]
            ],
            "type": "histogram2d"
           }
          ],
          "histogram2dcontour": [
           {
            "colorbar": {
             "outlinewidth": 0,
             "ticks": ""
            },
            "colorscale": [
             [
              0,
              "#0d0887"
             ],
             [
              0.1111111111111111,
              "#46039f"
             ],
             [
              0.2222222222222222,
              "#7201a8"
             ],
             [
              0.3333333333333333,
              "#9c179e"
             ],
             [
              0.4444444444444444,
              "#bd3786"
             ],
             [
              0.5555555555555556,
              "#d8576b"
             ],
             [
              0.6666666666666666,
              "#ed7953"
             ],
             [
              0.7777777777777778,
              "#fb9f3a"
             ],
             [
              0.8888888888888888,
              "#fdca26"
             ],
             [
              1,
              "#f0f921"
             ]
            ],
            "type": "histogram2dcontour"
           }
          ],
          "mesh3d": [
           {
            "colorbar": {
             "outlinewidth": 0,
             "ticks": ""
            },
            "type": "mesh3d"
           }
          ],
          "parcoords": [
           {
            "line": {
             "colorbar": {
              "outlinewidth": 0,
              "ticks": ""
             }
            },
            "type": "parcoords"
           }
          ],
          "pie": [
           {
            "automargin": true,
            "type": "pie"
           }
          ],
          "scatter": [
           {
            "marker": {
             "line": {
              "color": "#283442"
             }
            },
            "type": "scatter"
           }
          ],
          "scatter3d": [
           {
            "line": {
             "colorbar": {
              "outlinewidth": 0,
              "ticks": ""
             }
            },
            "marker": {
             "colorbar": {
              "outlinewidth": 0,
              "ticks": ""
             }
            },
            "type": "scatter3d"
           }
          ],
          "scattercarpet": [
           {
            "marker": {
             "colorbar": {
              "outlinewidth": 0,
              "ticks": ""
             }
            },
            "type": "scattercarpet"
           }
          ],
          "scattergeo": [
           {
            "marker": {
             "colorbar": {
              "outlinewidth": 0,
              "ticks": ""
             }
            },
            "type": "scattergeo"
           }
          ],
          "scattergl": [
           {
            "marker": {
             "line": {
              "color": "#283442"
             }
            },
            "type": "scattergl"
           }
          ],
          "scattermapbox": [
           {
            "marker": {
             "colorbar": {
              "outlinewidth": 0,
              "ticks": ""
             }
            },
            "type": "scattermapbox"
           }
          ],
          "scatterpolar": [
           {
            "marker": {
             "colorbar": {
              "outlinewidth": 0,
              "ticks": ""
             }
            },
            "type": "scatterpolar"
           }
          ],
          "scatterpolargl": [
           {
            "marker": {
             "colorbar": {
              "outlinewidth": 0,
              "ticks": ""
             }
            },
            "type": "scatterpolargl"
           }
          ],
          "scatterternary": [
           {
            "marker": {
             "colorbar": {
              "outlinewidth": 0,
              "ticks": ""
             }
            },
            "type": "scatterternary"
           }
          ],
          "surface": [
           {
            "colorbar": {
             "outlinewidth": 0,
             "ticks": ""
            },
            "colorscale": [
             [
              0,
              "#0d0887"
             ],
             [
              0.1111111111111111,
              "#46039f"
             ],
             [
              0.2222222222222222,
              "#7201a8"
             ],
             [
              0.3333333333333333,
              "#9c179e"
             ],
             [
              0.4444444444444444,
              "#bd3786"
             ],
             [
              0.5555555555555556,
              "#d8576b"
             ],
             [
              0.6666666666666666,
              "#ed7953"
             ],
             [
              0.7777777777777778,
              "#fb9f3a"
             ],
             [
              0.8888888888888888,
              "#fdca26"
             ],
             [
              1,
              "#f0f921"
             ]
            ],
            "type": "surface"
           }
          ],
          "table": [
           {
            "cells": {
             "fill": {
              "color": "#506784"
             },
             "line": {
              "color": "rgb(17,17,17)"
             }
            },
            "header": {
             "fill": {
              "color": "#2a3f5f"
             },
             "line": {
              "color": "rgb(17,17,17)"
             }
            },
            "type": "table"
           }
          ]
         },
         "layout": {
          "annotationdefaults": {
           "arrowcolor": "#f2f5fa",
           "arrowhead": 0,
           "arrowwidth": 1
          },
          "autotypenumbers": "strict",
          "coloraxis": {
           "colorbar": {
            "outlinewidth": 0,
            "ticks": ""
           }
          },
          "colorscale": {
           "diverging": [
            [
             0,
             "#8e0152"
            ],
            [
             0.1,
             "#c51b7d"
            ],
            [
             0.2,
             "#de77ae"
            ],
            [
             0.3,
             "#f1b6da"
            ],
            [
             0.4,
             "#fde0ef"
            ],
            [
             0.5,
             "#f7f7f7"
            ],
            [
             0.6,
             "#e6f5d0"
            ],
            [
             0.7,
             "#b8e186"
            ],
            [
             0.8,
             "#7fbc41"
            ],
            [
             0.9,
             "#4d9221"
            ],
            [
             1,
             "#276419"
            ]
           ],
           "sequential": [
            [
             0,
             "#0d0887"
            ],
            [
             0.1111111111111111,
             "#46039f"
            ],
            [
             0.2222222222222222,
             "#7201a8"
            ],
            [
             0.3333333333333333,
             "#9c179e"
            ],
            [
             0.4444444444444444,
             "#bd3786"
            ],
            [
             0.5555555555555556,
             "#d8576b"
            ],
            [
             0.6666666666666666,
             "#ed7953"
            ],
            [
             0.7777777777777778,
             "#fb9f3a"
            ],
            [
             0.8888888888888888,
             "#fdca26"
            ],
            [
             1,
             "#f0f921"
            ]
           ],
           "sequentialminus": [
            [
             0,
             "#0d0887"
            ],
            [
             0.1111111111111111,
             "#46039f"
            ],
            [
             0.2222222222222222,
             "#7201a8"
            ],
            [
             0.3333333333333333,
             "#9c179e"
            ],
            [
             0.4444444444444444,
             "#bd3786"
            ],
            [
             0.5555555555555556,
             "#d8576b"
            ],
            [
             0.6666666666666666,
             "#ed7953"
            ],
            [
             0.7777777777777778,
             "#fb9f3a"
            ],
            [
             0.8888888888888888,
             "#fdca26"
            ],
            [
             1,
             "#f0f921"
            ]
           ]
          },
          "colorway": [
           "#636efa",
           "#EF553B",
           "#00cc96",
           "#ab63fa",
           "#FFA15A",
           "#19d3f3",
           "#FF6692",
           "#B6E880",
           "#FF97FF",
           "#FECB52"
          ],
          "font": {
           "color": "#f2f5fa"
          },
          "geo": {
           "bgcolor": "rgb(17,17,17)",
           "lakecolor": "rgb(17,17,17)",
           "landcolor": "rgb(17,17,17)",
           "showlakes": true,
           "showland": true,
           "subunitcolor": "#506784"
          },
          "hoverlabel": {
           "align": "left"
          },
          "hovermode": "closest",
          "mapbox": {
           "style": "dark"
          },
          "paper_bgcolor": "rgb(17,17,17)",
          "plot_bgcolor": "rgb(17,17,17)",
          "polar": {
           "angularaxis": {
            "gridcolor": "#506784",
            "linecolor": "#506784",
            "ticks": ""
           },
           "bgcolor": "rgb(17,17,17)",
           "radialaxis": {
            "gridcolor": "#506784",
            "linecolor": "#506784",
            "ticks": ""
           }
          },
          "scene": {
           "xaxis": {
            "backgroundcolor": "rgb(17,17,17)",
            "gridcolor": "#506784",
            "gridwidth": 2,
            "linecolor": "#506784",
            "showbackground": true,
            "ticks": "",
            "zerolinecolor": "#C8D4E3"
           },
           "yaxis": {
            "backgroundcolor": "rgb(17,17,17)",
            "gridcolor": "#506784",
            "gridwidth": 2,
            "linecolor": "#506784",
            "showbackground": true,
            "ticks": "",
            "zerolinecolor": "#C8D4E3"
           },
           "zaxis": {
            "backgroundcolor": "rgb(17,17,17)",
            "gridcolor": "#506784",
            "gridwidth": 2,
            "linecolor": "#506784",
            "showbackground": true,
            "ticks": "",
            "zerolinecolor": "#C8D4E3"
           }
          },
          "shapedefaults": {
           "line": {
            "color": "#f2f5fa"
           }
          },
          "sliderdefaults": {
           "bgcolor": "#C8D4E3",
           "bordercolor": "rgb(17,17,17)",
           "borderwidth": 1,
           "tickwidth": 0
          },
          "ternary": {
           "aaxis": {
            "gridcolor": "#506784",
            "linecolor": "#506784",
            "ticks": ""
           },
           "baxis": {
            "gridcolor": "#506784",
            "linecolor": "#506784",
            "ticks": ""
           },
           "bgcolor": "rgb(17,17,17)",
           "caxis": {
            "gridcolor": "#506784",
            "linecolor": "#506784",
            "ticks": ""
           }
          },
          "title": {
           "x": 0.05
          },
          "updatemenudefaults": {
           "bgcolor": "#506784",
           "borderwidth": 0
          },
          "xaxis": {
           "automargin": true,
           "gridcolor": "#283442",
           "linecolor": "#506784",
           "ticks": "",
           "title": {
            "standoff": 15
           },
           "zerolinecolor": "#283442",
           "zerolinewidth": 2
          },
          "yaxis": {
           "automargin": true,
           "gridcolor": "#283442",
           "linecolor": "#506784",
           "ticks": "",
           "title": {
            "standoff": 15
           },
           "zerolinecolor": "#283442",
           "zerolinewidth": 2
          }
         }
        },
        "title": {
         "text": "Compensation of Passengers who Voluntarily Gave up their Seat (2018-2021)"
        },
        "xaxis": {
         "anchor": "y",
         "domain": [
          0,
          1
         ],
         "title": {
          "text": "Total Passengers"
         },
         "type": "log"
        },
        "yaxis": {
         "anchor": "x",
         "domain": [
          0,
          1
         ],
         "title": {
          "text": "Total Compensation"
         }
        }
       }
      }
     },
     "metadata": {},
     "output_type": "display_data"
    }
   ],
   "source": [
    "fig = px.scatter(denied_boarding.groupby('CARRIER').mean(numeric_only=True).reset_index(), \n",
    "                 x=5, y=7,\n",
    "\t         size=\"cash_per_vol_denial\", color=\"CARRIER\",\n",
    "                 hover_name=\"CARRIER\", log_x=True, size_max=60, \n",
    "                 labels={\n",
    "                     \"5\": \"Total Passengers\",\n",
    "                     \"7\": \"Total Compensation\",\n",
    "                     \"CARRIER\": \"Airline\",\n",
    "                     \"cash_per_vol_denial\":\"Avg. Compensation\"\n",
    "                 },\n",
    "                title=\"Compensation of Passengers who Voluntarily Gave up their Seat (2018-2021)\", \n",
    "                color_discrete_sequence=px.colors.qualitative.Dark24)\n",
    "fig.show()"
   ]
  }
 ],
 "metadata": {
  "kernelspec": {
   "display_name": "Python 3",
   "language": "python",
   "name": "python3"
  },
  "language_info": {
   "codemirror_mode": {
    "name": "ipython",
    "version": 3
   },
   "file_extension": ".py",
   "mimetype": "text/x-python",
   "name": "python",
   "nbconvert_exporter": "python",
   "pygments_lexer": "ipython3",
   "version": "3.11.1"
  },
  "orig_nbformat": 4,
  "vscode": {
   "interpreter": {
    "hash": "591ed7012085eff02a86d7432cc370b9336280d1c9affe09e30a9ff9e2048ad0"
   }
  }
 },
 "nbformat": 4,
 "nbformat_minor": 2
}
