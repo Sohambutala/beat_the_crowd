{
 "cells": [
  {
   "cell_type": "code",
   "execution_count": 76,
   "id": "772a6569",
   "metadata": {},
   "outputs": [],
   "source": [
    "'''\n",
    "Code to extract the airport names and codes from the html text\n",
    "'''\n",
    "from bs4 import BeautifulSoup\n",
    "import pandas as pd\n",
    "\n",
    "df=pd.DataFrame(columns=['Airport_name','Airport_code'])\n",
    "\n",
    "\n",
    "with open('reference_data/airports_list.txt', 'r') as f:\n",
    "        for html_tag in f:\n",
    "            soup = BeautifulSoup(html_tag, 'html.parser')\n",
    "            #print(soup)\n",
    "            option_value_text = soup.option['value']\n",
    "            airport_name= soup.text.replace(\"\\n\", \"\")\n",
    "            df.loc[len(df)] = [airport_name, option_value_text]\n",
    "            \n",
    "            \n",
    "#df.to_csv('airport_codes_reference.csv',index=False)"
   ]
  },
  {
   "cell_type": "code",
   "execution_count": 74,
   "id": "d6bf06c2",
   "metadata": {},
   "outputs": [],
   "source": [
    "from bs4 import BeautifulSoup\n",
    "import pandas as pd\n",
    "\n",
    "df=pd.DataFrame(columns=['Carrier_name','Carrier_code'])\n",
    "\n",
    "\n",
    "with open('reference_data/carriers_list.txt', 'r') as f:\n",
    "        for html_tag in f:\n",
    "            soup = BeautifulSoup(html_tag, 'html.parser')\n",
    "            option_value_text = soup.option['value']\n",
    "            Carrier_name= soup.text.replace(\"\\n\", \"\")\n",
    "            df.loc[len(df)] = [Carrier_name, option_value_text]\n",
    "            \n",
    "#df.to_csv('airport_carrier_codes_reference.csv',index=False)"
   ]
  },
  {
   "cell_type": "code",
   "execution_count": 77,
   "id": "06f5d3bf",
   "metadata": {},
   "outputs": [
    {
     "data": {
      "text/html": [
       "<div>\n",
       "<style scoped>\n",
       "    .dataframe tbody tr th:only-of-type {\n",
       "        vertical-align: middle;\n",
       "    }\n",
       "\n",
       "    .dataframe tbody tr th {\n",
       "        vertical-align: top;\n",
       "    }\n",
       "\n",
       "    .dataframe thead th {\n",
       "        text-align: right;\n",
       "    }\n",
       "</style>\n",
       "<table border=\"1\" class=\"dataframe\">\n",
       "  <thead>\n",
       "    <tr style=\"text-align: right;\">\n",
       "      <th></th>\n",
       "      <th>Airport_name</th>\n",
       "      <th>Airport_code</th>\n",
       "    </tr>\n",
       "  </thead>\n",
       "  <tbody>\n",
       "    <tr>\n",
       "      <th>0</th>\n",
       "      <td>Aberdeen, SD: Aberdeen Regional (ABR)</td>\n",
       "      <td>ABR</td>\n",
       "    </tr>\n",
       "    <tr>\n",
       "      <th>1</th>\n",
       "      <td>Abilene, TX: Abilene Regional (ABI)</td>\n",
       "      <td>ABI</td>\n",
       "    </tr>\n",
       "    <tr>\n",
       "      <th>2</th>\n",
       "      <td>Adak Island, AK: Adak (ADK)</td>\n",
       "      <td>ADK</td>\n",
       "    </tr>\n",
       "    <tr>\n",
       "      <th>3</th>\n",
       "      <td>Aguadilla, PR: Rafael Hernandez (BQN)</td>\n",
       "      <td>BQN</td>\n",
       "    </tr>\n",
       "    <tr>\n",
       "      <th>4</th>\n",
       "      <td>Akron, OH: Akron-Canton Regional (CAK)</td>\n",
       "      <td>CAK</td>\n",
       "    </tr>\n",
       "    <tr>\n",
       "      <th>...</th>\n",
       "      <td>...</td>\n",
       "      <td>...</td>\n",
       "    </tr>\n",
       "    <tr>\n",
       "      <th>451</th>\n",
       "      <td>Yakima, WA: Yakima Air Terminal/McAllister Fie...</td>\n",
       "      <td>YKM</td>\n",
       "    </tr>\n",
       "    <tr>\n",
       "      <th>452</th>\n",
       "      <td>Yakutat, AK: Yakutat Airport (YAK)</td>\n",
       "      <td>YAK</td>\n",
       "    </tr>\n",
       "    <tr>\n",
       "      <th>453</th>\n",
       "      <td>Yap, Federated States of Micronesia: Yap Inter...</td>\n",
       "      <td>YAP</td>\n",
       "    </tr>\n",
       "    <tr>\n",
       "      <th>454</th>\n",
       "      <td>Youngstown/Warren, OH: Youngstown-Warren Regio...</td>\n",
       "      <td>YNG</td>\n",
       "    </tr>\n",
       "    <tr>\n",
       "      <th>455</th>\n",
       "      <td>Yuma, AZ: Yuma MCAS/Yuma International (YUM)</td>\n",
       "      <td>YUM</td>\n",
       "    </tr>\n",
       "  </tbody>\n",
       "</table>\n",
       "<p>456 rows × 2 columns</p>\n",
       "</div>"
      ],
      "text/plain": [
       "                                          Airport_name Airport_code\n",
       "0                Aberdeen, SD: Aberdeen Regional (ABR)          ABR\n",
       "1                  Abilene, TX: Abilene Regional (ABI)          ABI\n",
       "2                          Adak Island, AK: Adak (ADK)          ADK\n",
       "3                Aguadilla, PR: Rafael Hernandez (BQN)          BQN\n",
       "4               Akron, OH: Akron-Canton Regional (CAK)          CAK\n",
       "..                                                 ...          ...\n",
       "451  Yakima, WA: Yakima Air Terminal/McAllister Fie...          YKM\n",
       "452                 Yakutat, AK: Yakutat Airport (YAK)          YAK\n",
       "453  Yap, Federated States of Micronesia: Yap Inter...          YAP\n",
       "454  Youngstown/Warren, OH: Youngstown-Warren Regio...          YNG\n",
       "455       Yuma, AZ: Yuma MCAS/Yuma International (YUM)          YUM\n",
       "\n",
       "[456 rows x 2 columns]"
      ]
     },
     "execution_count": 77,
     "metadata": {},
     "output_type": "execute_result"
    }
   ],
   "source": [
    "df"
   ]
  },
  {
   "cell_type": "code",
   "execution_count": 92,
   "id": "2f7ab326",
   "metadata": {},
   "outputs": [
    {
     "data": {
      "text/plain": [
       "1    ABI\n",
       "Name: Airport_code, dtype: object"
      ]
     },
     "execution_count": 92,
     "metadata": {},
     "output_type": "execute_result"
    }
   ],
   "source": [
    "df[df['Airport_name']=='Abilene, TX: Abilene Regional (ABI)']['Airport_code']"
   ]
  },
  {
   "cell_type": "code",
   "execution_count": null,
   "id": "32d4ca44",
   "metadata": {},
   "outputs": [],
   "source": []
  }
 ],
 "metadata": {
  "kernelspec": {
   "display_name": "Python 3 (ipykernel)",
   "language": "python",
   "name": "python3"
  },
  "language_info": {
   "codemirror_mode": {
    "name": "ipython",
    "version": 3
   },
   "file_extension": ".py",
   "mimetype": "text/x-python",
   "name": "python",
   "nbconvert_exporter": "python",
   "pygments_lexer": "ipython3",
   "version": "3.10.9"
  }
 },
 "nbformat": 4,
 "nbformat_minor": 5
}
