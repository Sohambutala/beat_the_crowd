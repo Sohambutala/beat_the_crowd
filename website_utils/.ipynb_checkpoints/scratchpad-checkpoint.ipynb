{
 "cells": [
  {
   "cell_type": "code",
   "execution_count": 68,
   "id": "ca487b43",
   "metadata": {},
   "outputs": [],
   "source": [
    "'''\n",
    "Code to extract the airport names and codes from the html text\n",
    "'''\n",
    "from bs4 import BeautifulSoup\n",
    "import pandas as pd\n",
    "\n",
    "df=pd.DataFrame(columns=['Airport_name','Airport_code'])\n",
    "\n",
    "\n",
    "with open('airports_list.txt', 'r') as f:\n",
    "        for html_tag in f:\n",
    "            soup = BeautifulSoup(html_tag, 'html.parser')\n",
    "            #print(soup)\n",
    "            option_value_text = soup.option['value']\n",
    "            airport_name= soup.text.replace(\"\\n\", \"\")\n",
    "            df.loc[len(df)] = [airport_name, option_value_text]\n",
    "            \n",
    "            \n",
    "df.to_csv('airport_codes_reference.csv',index=False)"
   ]
  },
  {
   "cell_type": "code",
   "execution_count": null,
   "id": "ffebf361",
   "metadata": {},
   "outputs": [],
   "source": [
    "from bs4 import BeautifulSoup\n",
    "import pandas as pd\n",
    "\n",
    "df=pd.DataFrame(columns=['Carrier_name','Carrier_code'])\n",
    "\n",
    "\n",
    "with open('carriers_list.txt', 'r') as f:\n",
    "        for html_tag in f:\n",
    "            soup = BeautifulSoup(html_tag, 'html.parser')\n",
    "            option_value_text = soup.option['value']\n",
    "            Carrier_name= soup.text.replace(\"\\n\", \"\")\n",
    "            df.loc[len(df)] = [Carrier_name, option_value_text]\n",
    "            \n",
    "df.to_csv('airport_carrier_codes_reference.csv',index=False)"
   ]
  }
 ],
 "metadata": {
  "kernelspec": {
   "display_name": "Python 3 (ipykernel)",
   "language": "python",
   "name": "python3"
  },
  "language_info": {
   "codemirror_mode": {
    "name": "ipython",
    "version": 3
   },
   "file_extension": ".py",
   "mimetype": "text/x-python",
   "name": "python",
   "nbconvert_exporter": "python",
   "pygments_lexer": "ipython3",
   "version": "3.10.9"
  }
 },
 "nbformat": 4,
 "nbformat_minor": 5
}
